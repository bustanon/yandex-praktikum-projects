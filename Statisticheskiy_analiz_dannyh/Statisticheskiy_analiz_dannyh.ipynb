{
 "cells": [
  {
   "cell_type": "markdown",
   "metadata": {},
   "source": [
    "# Определение перспективного тарифа для телеком компании "
   ]
  },
  {
   "cell_type": "markdown",
   "metadata": {},
   "source": [
    "В распоряжении данные 500 пользователей: кто они, откуда, каким тарифом пользуются, сколько звонков и сообщений каждый отправил за 2018 год. Нужно проанализировать поведение клиентов и сделать вывод — какой тариф лучше."
   ]
  },
  {
   "cell_type": "markdown",
   "metadata": {},
   "source": [
    "## Шаг 1.  Общая информация"
   ]
  },
  {
   "cell_type": "code",
   "execution_count": 1,
   "metadata": {},
   "outputs": [],
   "source": [
    "import pandas as pd\n",
    "import numpy as np\n",
    "import matplotlib.pyplot as plt\n",
    "from scipy import stats as st\n",
    "import math"
   ]
  },
  {
   "cell_type": "code",
   "execution_count": 2,
   "metadata": {},
   "outputs": [],
   "source": [
    "users = pd.read_csv('/datasets/users.csv')\n",
    "tariffs = pd.read_csv('/datasets/tariffs.csv')\n",
    "messages = pd.read_csv('/datasets/messages.csv')\n",
    "internet = pd.read_csv('/datasets/internet.csv')\n",
    "calls = pd.read_csv('/datasets/calls.csv')"
   ]
  },
  {
   "cell_type": "code",
   "execution_count": 3,
   "metadata": {
    "scrolled": false
   },
   "outputs": [
    {
     "name": "stdout",
     "output_type": "stream",
     "text": [
      "\u001b[1mВывод метода info() для таблицы users\u001b[0m\n",
      "<class 'pandas.core.frame.DataFrame'>\n",
      "RangeIndex: 500 entries, 0 to 499\n",
      "Data columns (total 8 columns):\n",
      "user_id       500 non-null int64\n",
      "age           500 non-null int64\n",
      "churn_date    38 non-null object\n",
      "city          500 non-null object\n",
      "first_name    500 non-null object\n",
      "last_name     500 non-null object\n",
      "reg_date      500 non-null object\n",
      "tariff        500 non-null object\n",
      "dtypes: int64(2), object(6)\n",
      "memory usage: 31.4+ KB\n",
      "\u001b[1mВывод метода info() для таблицы messages\u001b[0m\n",
      "<class 'pandas.core.frame.DataFrame'>\n",
      "RangeIndex: 123036 entries, 0 to 123035\n",
      "Data columns (total 3 columns):\n",
      "id              123036 non-null object\n",
      "message_date    123036 non-null object\n",
      "user_id         123036 non-null int64\n",
      "dtypes: int64(1), object(2)\n",
      "memory usage: 2.8+ MB\n",
      "\u001b[1mВывод метода info() для таблицы internet\u001b[0m\n",
      "<class 'pandas.core.frame.DataFrame'>\n",
      "RangeIndex: 149396 entries, 0 to 149395\n",
      "Data columns (total 5 columns):\n",
      "Unnamed: 0      149396 non-null int64\n",
      "id              149396 non-null object\n",
      "mb_used         149396 non-null float64\n",
      "session_date    149396 non-null object\n",
      "user_id         149396 non-null int64\n",
      "dtypes: float64(1), int64(2), object(2)\n",
      "memory usage: 5.7+ MB\n",
      "\u001b[1mВывод метода info() для таблицы calls\u001b[0m\n",
      "<class 'pandas.core.frame.DataFrame'>\n",
      "RangeIndex: 202607 entries, 0 to 202606\n",
      "Data columns (total 4 columns):\n",
      "id           202607 non-null object\n",
      "call_date    202607 non-null object\n",
      "duration     202607 non-null float64\n",
      "user_id      202607 non-null int64\n",
      "dtypes: float64(1), int64(1), object(2)\n",
      "memory usage: 6.2+ MB\n"
     ]
    }
   ],
   "source": [
    "print ('\\033[1m' + 'Вывод метода info() для таблицы users' + '\\033[0m')\n",
    "users.info()\n",
    "print ('\\033[1m' + 'Вывод метода info() для таблицы messages' + '\\033[0m')\n",
    "messages.info()\n",
    "print ('\\033[1m' + 'Вывод метода info() для таблицы internet' + '\\033[0m')\n",
    "internet.info()\n",
    "print ('\\033[1m' + 'Вывод метода info() для таблицы calls' + '\\033[0m')\n",
    "calls.info()"
   ]
  },
  {
   "cell_type": "code",
   "execution_count": 4,
   "metadata": {},
   "outputs": [
    {
     "data": {
      "text/html": [
       "<div>\n",
       "<style scoped>\n",
       "    .dataframe tbody tr th:only-of-type {\n",
       "        vertical-align: middle;\n",
       "    }\n",
       "\n",
       "    .dataframe tbody tr th {\n",
       "        vertical-align: top;\n",
       "    }\n",
       "\n",
       "    .dataframe thead th {\n",
       "        text-align: right;\n",
       "    }\n",
       "</style>\n",
       "<table border=\"1\" class=\"dataframe\">\n",
       "  <thead>\n",
       "    <tr style=\"text-align: right;\">\n",
       "      <th></th>\n",
       "      <th>duration</th>\n",
       "      <th>user_id</th>\n",
       "    </tr>\n",
       "  </thead>\n",
       "  <tbody>\n",
       "    <tr>\n",
       "      <td>count</td>\n",
       "      <td>202607.000000</td>\n",
       "      <td>202607.000000</td>\n",
       "    </tr>\n",
       "    <tr>\n",
       "      <td>mean</td>\n",
       "      <td>6.755887</td>\n",
       "      <td>1253.940619</td>\n",
       "    </tr>\n",
       "    <tr>\n",
       "      <td>std</td>\n",
       "      <td>5.843365</td>\n",
       "      <td>144.722751</td>\n",
       "    </tr>\n",
       "    <tr>\n",
       "      <td>min</td>\n",
       "      <td>0.000000</td>\n",
       "      <td>1000.000000</td>\n",
       "    </tr>\n",
       "    <tr>\n",
       "      <td>25%</td>\n",
       "      <td>1.300000</td>\n",
       "      <td>1126.000000</td>\n",
       "    </tr>\n",
       "    <tr>\n",
       "      <td>50%</td>\n",
       "      <td>6.000000</td>\n",
       "      <td>1260.000000</td>\n",
       "    </tr>\n",
       "    <tr>\n",
       "      <td>75%</td>\n",
       "      <td>10.700000</td>\n",
       "      <td>1379.000000</td>\n",
       "    </tr>\n",
       "    <tr>\n",
       "      <td>max</td>\n",
       "      <td>38.000000</td>\n",
       "      <td>1499.000000</td>\n",
       "    </tr>\n",
       "  </tbody>\n",
       "</table>\n",
       "</div>"
      ],
      "text/plain": [
       "            duration        user_id\n",
       "count  202607.000000  202607.000000\n",
       "mean        6.755887    1253.940619\n",
       "std         5.843365     144.722751\n",
       "min         0.000000    1000.000000\n",
       "25%         1.300000    1126.000000\n",
       "50%         6.000000    1260.000000\n",
       "75%        10.700000    1379.000000\n",
       "max        38.000000    1499.000000"
      ]
     },
     "execution_count": 4,
     "metadata": {},
     "output_type": "execute_result"
    }
   ],
   "source": [
    "calls.describe()"
   ]
  },
  {
   "cell_type": "code",
   "execution_count": 5,
   "metadata": {},
   "outputs": [
    {
     "data": {
      "text/html": [
       "<div>\n",
       "<style scoped>\n",
       "    .dataframe tbody tr th:only-of-type {\n",
       "        vertical-align: middle;\n",
       "    }\n",
       "\n",
       "    .dataframe tbody tr th {\n",
       "        vertical-align: top;\n",
       "    }\n",
       "\n",
       "    .dataframe thead th {\n",
       "        text-align: right;\n",
       "    }\n",
       "</style>\n",
       "<table border=\"1\" class=\"dataframe\">\n",
       "  <thead>\n",
       "    <tr style=\"text-align: right;\">\n",
       "      <th></th>\n",
       "      <th>user_id</th>\n",
       "      <th>age</th>\n",
       "    </tr>\n",
       "  </thead>\n",
       "  <tbody>\n",
       "    <tr>\n",
       "      <td>count</td>\n",
       "      <td>500.000000</td>\n",
       "      <td>500.00000</td>\n",
       "    </tr>\n",
       "    <tr>\n",
       "      <td>mean</td>\n",
       "      <td>1249.500000</td>\n",
       "      <td>46.58800</td>\n",
       "    </tr>\n",
       "    <tr>\n",
       "      <td>std</td>\n",
       "      <td>144.481833</td>\n",
       "      <td>16.66763</td>\n",
       "    </tr>\n",
       "    <tr>\n",
       "      <td>min</td>\n",
       "      <td>1000.000000</td>\n",
       "      <td>18.00000</td>\n",
       "    </tr>\n",
       "    <tr>\n",
       "      <td>25%</td>\n",
       "      <td>1124.750000</td>\n",
       "      <td>32.00000</td>\n",
       "    </tr>\n",
       "    <tr>\n",
       "      <td>50%</td>\n",
       "      <td>1249.500000</td>\n",
       "      <td>46.00000</td>\n",
       "    </tr>\n",
       "    <tr>\n",
       "      <td>75%</td>\n",
       "      <td>1374.250000</td>\n",
       "      <td>62.00000</td>\n",
       "    </tr>\n",
       "    <tr>\n",
       "      <td>max</td>\n",
       "      <td>1499.000000</td>\n",
       "      <td>75.00000</td>\n",
       "    </tr>\n",
       "  </tbody>\n",
       "</table>\n",
       "</div>"
      ],
      "text/plain": [
       "           user_id        age\n",
       "count   500.000000  500.00000\n",
       "mean   1249.500000   46.58800\n",
       "std     144.481833   16.66763\n",
       "min    1000.000000   18.00000\n",
       "25%    1124.750000   32.00000\n",
       "50%    1249.500000   46.00000\n",
       "75%    1374.250000   62.00000\n",
       "max    1499.000000   75.00000"
      ]
     },
     "execution_count": 5,
     "metadata": {},
     "output_type": "execute_result"
    }
   ],
   "source": [
    "users.describe()"
   ]
  },
  {
   "cell_type": "code",
   "execution_count": 6,
   "metadata": {},
   "outputs": [
    {
     "data": {
      "text/html": [
       "<div>\n",
       "<style scoped>\n",
       "    .dataframe tbody tr th:only-of-type {\n",
       "        vertical-align: middle;\n",
       "    }\n",
       "\n",
       "    .dataframe tbody tr th {\n",
       "        vertical-align: top;\n",
       "    }\n",
       "\n",
       "    .dataframe thead th {\n",
       "        text-align: right;\n",
       "    }\n",
       "</style>\n",
       "<table border=\"1\" class=\"dataframe\">\n",
       "  <thead>\n",
       "    <tr style=\"text-align: right;\">\n",
       "      <th></th>\n",
       "      <th>Unnamed: 0</th>\n",
       "      <th>mb_used</th>\n",
       "      <th>user_id</th>\n",
       "    </tr>\n",
       "  </thead>\n",
       "  <tbody>\n",
       "    <tr>\n",
       "      <td>count</td>\n",
       "      <td>149396.000000</td>\n",
       "      <td>149396.000000</td>\n",
       "      <td>149396.000000</td>\n",
       "    </tr>\n",
       "    <tr>\n",
       "      <td>mean</td>\n",
       "      <td>74697.500000</td>\n",
       "      <td>370.192426</td>\n",
       "      <td>1252.099842</td>\n",
       "    </tr>\n",
       "    <tr>\n",
       "      <td>std</td>\n",
       "      <td>43127.054745</td>\n",
       "      <td>278.300951</td>\n",
       "      <td>144.050823</td>\n",
       "    </tr>\n",
       "    <tr>\n",
       "      <td>min</td>\n",
       "      <td>0.000000</td>\n",
       "      <td>0.000000</td>\n",
       "      <td>1000.000000</td>\n",
       "    </tr>\n",
       "    <tr>\n",
       "      <td>25%</td>\n",
       "      <td>37348.750000</td>\n",
       "      <td>138.187500</td>\n",
       "      <td>1130.000000</td>\n",
       "    </tr>\n",
       "    <tr>\n",
       "      <td>50%</td>\n",
       "      <td>74697.500000</td>\n",
       "      <td>348.015000</td>\n",
       "      <td>1251.000000</td>\n",
       "    </tr>\n",
       "    <tr>\n",
       "      <td>75%</td>\n",
       "      <td>112046.250000</td>\n",
       "      <td>559.552500</td>\n",
       "      <td>1380.000000</td>\n",
       "    </tr>\n",
       "    <tr>\n",
       "      <td>max</td>\n",
       "      <td>149395.000000</td>\n",
       "      <td>1724.830000</td>\n",
       "      <td>1499.000000</td>\n",
       "    </tr>\n",
       "  </tbody>\n",
       "</table>\n",
       "</div>"
      ],
      "text/plain": [
       "          Unnamed: 0        mb_used        user_id\n",
       "count  149396.000000  149396.000000  149396.000000\n",
       "mean    74697.500000     370.192426    1252.099842\n",
       "std     43127.054745     278.300951     144.050823\n",
       "min         0.000000       0.000000    1000.000000\n",
       "25%     37348.750000     138.187500    1130.000000\n",
       "50%     74697.500000     348.015000    1251.000000\n",
       "75%    112046.250000     559.552500    1380.000000\n",
       "max    149395.000000    1724.830000    1499.000000"
      ]
     },
     "execution_count": 6,
     "metadata": {},
     "output_type": "execute_result"
    }
   ],
   "source": [
    "internet.describe()"
   ]
  },
  {
   "cell_type": "markdown",
   "metadata": {},
   "source": [
    "### Вывод\n",
    "Представлено 5 таблиц, пропуски в данных имеются только в одной таблице, убирать которые необязательно, т.к. этот столбец не используется в дальнейшем анализе."
   ]
  },
  {
   "cell_type": "markdown",
   "metadata": {},
   "source": [
    "## Шаг 2. Подготовка данных"
   ]
  },
  {
   "cell_type": "code",
   "execution_count": 7,
   "metadata": {},
   "outputs": [],
   "source": [
    "internet.drop('Unnamed: 0', axis = 1, inplace = True)"
   ]
  },
  {
   "cell_type": "code",
   "execution_count": 8,
   "metadata": {},
   "outputs": [
    {
     "name": "stdout",
     "output_type": "stream",
     "text": [
      "0\n",
      "0\n",
      "0\n",
      "0\n",
      "0\n"
     ]
    }
   ],
   "source": [
    "print(users.duplicated().sum())\n",
    "print(tariffs.duplicated().sum())\n",
    "print(messages.duplicated().sum())\n",
    "print(internet.duplicated().sum())\n",
    "print(calls.duplicated().sum())"
   ]
  },
  {
   "cell_type": "code",
   "execution_count": 9,
   "metadata": {},
   "outputs": [],
   "source": [
    "tariffs = tariffs.rename(columns ={'tariff_name' : 'tariff'})"
   ]
  },
  {
   "cell_type": "code",
   "execution_count": 10,
   "metadata": {},
   "outputs": [],
   "source": [
    "calls['duration'] = calls['duration'].apply(np.ceil)\n",
    "calls['duration'] = calls['duration'].astype('int64')\n",
    "internet['mb_used'] = internet['mb_used'].apply(np.ceil)\n",
    "internet['mb_used'] = internet['mb_used'].astype('int64')\n",
    "calls['user_id'] = calls['user_id'].astype('int64')\n",
    "internet['user_id'] = internet['user_id'].astype('int64')\n",
    "messages['user_id'] = messages['user_id'].astype('int64')"
   ]
  },
  {
   "cell_type": "markdown",
   "metadata": {},
   "source": [
    "### Вывод\n",
    "Удален неизвестный столбец в таблице интернет, переименован столбце в таблице тарифов для дальнейшего объединения таблиц, значения длительности звонков и использованного трафика округлены в большую сторону для более правильных расчетов. Звонки, длительностью 0 секунд оставлены в таблице, т.к. для дальнейшего анализа дохода нужна суммарная длительность звонков для пользователя, а не их количество и удаление этих звонков никак на него не повлияет"
   ]
  },
  {
   "cell_type": "code",
   "execution_count": 11,
   "metadata": {},
   "outputs": [
    {
     "name": "stdout",
     "output_type": "stream",
     "text": [
      "<class 'pandas.core.frame.DataFrame'>\n",
      "RangeIndex: 202607 entries, 0 to 202606\n",
      "Data columns (total 4 columns):\n",
      "id           202607 non-null object\n",
      "call_date    202607 non-null object\n",
      "duration     202607 non-null int64\n",
      "user_id      202607 non-null int64\n",
      "dtypes: int64(2), object(2)\n",
      "memory usage: 6.2+ MB\n"
     ]
    }
   ],
   "source": [
    "calls.info()"
   ]
  },
  {
   "cell_type": "code",
   "execution_count": 12,
   "metadata": {},
   "outputs": [
    {
     "data": {
      "text/html": [
       "<div>\n",
       "<style scoped>\n",
       "    .dataframe tbody tr th:only-of-type {\n",
       "        vertical-align: middle;\n",
       "    }\n",
       "\n",
       "    .dataframe tbody tr th {\n",
       "        vertical-align: top;\n",
       "    }\n",
       "\n",
       "    .dataframe thead th {\n",
       "        text-align: right;\n",
       "    }\n",
       "</style>\n",
       "<table border=\"1\" class=\"dataframe\">\n",
       "  <thead>\n",
       "    <tr style=\"text-align: right;\">\n",
       "      <th></th>\n",
       "      <th>user_id</th>\n",
       "      <th>month</th>\n",
       "      <th>count</th>\n",
       "      <th>sum</th>\n",
       "    </tr>\n",
       "  </thead>\n",
       "  <tbody>\n",
       "    <tr>\n",
       "      <td>0</td>\n",
       "      <td>1000</td>\n",
       "      <td>5</td>\n",
       "      <td>22</td>\n",
       "      <td>159</td>\n",
       "    </tr>\n",
       "    <tr>\n",
       "      <td>1</td>\n",
       "      <td>1000</td>\n",
       "      <td>6</td>\n",
       "      <td>43</td>\n",
       "      <td>172</td>\n",
       "    </tr>\n",
       "    <tr>\n",
       "      <td>2</td>\n",
       "      <td>1000</td>\n",
       "      <td>7</td>\n",
       "      <td>47</td>\n",
       "      <td>340</td>\n",
       "    </tr>\n",
       "    <tr>\n",
       "      <td>3</td>\n",
       "      <td>1000</td>\n",
       "      <td>8</td>\n",
       "      <td>52</td>\n",
       "      <td>408</td>\n",
       "    </tr>\n",
       "    <tr>\n",
       "      <td>4</td>\n",
       "      <td>1000</td>\n",
       "      <td>9</td>\n",
       "      <td>58</td>\n",
       "      <td>466</td>\n",
       "    </tr>\n",
       "    <tr>\n",
       "      <td>...</td>\n",
       "      <td>...</td>\n",
       "      <td>...</td>\n",
       "      <td>...</td>\n",
       "      <td>...</td>\n",
       "    </tr>\n",
       "    <tr>\n",
       "      <td>3169</td>\n",
       "      <td>1498</td>\n",
       "      <td>10</td>\n",
       "      <td>41</td>\n",
       "      <td>247</td>\n",
       "    </tr>\n",
       "    <tr>\n",
       "      <td>3170</td>\n",
       "      <td>1499</td>\n",
       "      <td>9</td>\n",
       "      <td>9</td>\n",
       "      <td>70</td>\n",
       "    </tr>\n",
       "    <tr>\n",
       "      <td>3171</td>\n",
       "      <td>1499</td>\n",
       "      <td>10</td>\n",
       "      <td>68</td>\n",
       "      <td>449</td>\n",
       "    </tr>\n",
       "    <tr>\n",
       "      <td>3172</td>\n",
       "      <td>1499</td>\n",
       "      <td>11</td>\n",
       "      <td>74</td>\n",
       "      <td>612</td>\n",
       "    </tr>\n",
       "    <tr>\n",
       "      <td>3173</td>\n",
       "      <td>1499</td>\n",
       "      <td>12</td>\n",
       "      <td>69</td>\n",
       "      <td>492</td>\n",
       "    </tr>\n",
       "  </tbody>\n",
       "</table>\n",
       "<p>3174 rows × 4 columns</p>\n",
       "</div>"
      ],
      "text/plain": [
       "      user_id  month  count  sum\n",
       "0        1000      5     22  159\n",
       "1        1000      6     43  172\n",
       "2        1000      7     47  340\n",
       "3        1000      8     52  408\n",
       "4        1000      9     58  466\n",
       "...       ...    ...    ...  ...\n",
       "3169     1498     10     41  247\n",
       "3170     1499      9      9   70\n",
       "3171     1499     10     68  449\n",
       "3172     1499     11     74  612\n",
       "3173     1499     12     69  492\n",
       "\n",
       "[3174 rows x 4 columns]"
      ]
     },
     "metadata": {},
     "output_type": "display_data"
    }
   ],
   "source": [
    "calls['call_date'] = pd.to_datetime(calls['call_date'], format ='%Y-%m-%d')\n",
    "calls['month'] = calls['call_date'].dt.month\n",
    "calls_pivot = calls.pivot_table(index = ('user_id', 'month'), values = 'duration', aggfunc = ('sum','count')).reset_index()\n",
    "display(calls_pivot)\n",
    "calls_pivot = calls_pivot.rename(columns = {'sum' : 'calls_duration', 'count' : 'calls_quantity'})"
   ]
  },
  {
   "cell_type": "code",
   "execution_count": 13,
   "metadata": {},
   "outputs": [
    {
     "data": {
      "text/html": [
       "<div>\n",
       "<style scoped>\n",
       "    .dataframe tbody tr th:only-of-type {\n",
       "        vertical-align: middle;\n",
       "    }\n",
       "\n",
       "    .dataframe tbody tr th {\n",
       "        vertical-align: top;\n",
       "    }\n",
       "\n",
       "    .dataframe thead th {\n",
       "        text-align: right;\n",
       "    }\n",
       "</style>\n",
       "<table border=\"1\" class=\"dataframe\">\n",
       "  <thead>\n",
       "    <tr style=\"text-align: right;\">\n",
       "      <th></th>\n",
       "      <th>user_id</th>\n",
       "      <th>month</th>\n",
       "      <th>message_date</th>\n",
       "    </tr>\n",
       "  </thead>\n",
       "  <tbody>\n",
       "    <tr>\n",
       "      <td>0</td>\n",
       "      <td>1000</td>\n",
       "      <td>5</td>\n",
       "      <td>22</td>\n",
       "    </tr>\n",
       "    <tr>\n",
       "      <td>1</td>\n",
       "      <td>1000</td>\n",
       "      <td>6</td>\n",
       "      <td>60</td>\n",
       "    </tr>\n",
       "    <tr>\n",
       "      <td>2</td>\n",
       "      <td>1000</td>\n",
       "      <td>7</td>\n",
       "      <td>75</td>\n",
       "    </tr>\n",
       "    <tr>\n",
       "      <td>3</td>\n",
       "      <td>1000</td>\n",
       "      <td>8</td>\n",
       "      <td>81</td>\n",
       "    </tr>\n",
       "    <tr>\n",
       "      <td>4</td>\n",
       "      <td>1000</td>\n",
       "      <td>9</td>\n",
       "      <td>57</td>\n",
       "    </tr>\n",
       "    <tr>\n",
       "      <td>...</td>\n",
       "      <td>...</td>\n",
       "      <td>...</td>\n",
       "      <td>...</td>\n",
       "    </tr>\n",
       "    <tr>\n",
       "      <td>2712</td>\n",
       "      <td>1498</td>\n",
       "      <td>10</td>\n",
       "      <td>42</td>\n",
       "    </tr>\n",
       "    <tr>\n",
       "      <td>2713</td>\n",
       "      <td>1499</td>\n",
       "      <td>9</td>\n",
       "      <td>11</td>\n",
       "    </tr>\n",
       "    <tr>\n",
       "      <td>2714</td>\n",
       "      <td>1499</td>\n",
       "      <td>10</td>\n",
       "      <td>48</td>\n",
       "    </tr>\n",
       "    <tr>\n",
       "      <td>2715</td>\n",
       "      <td>1499</td>\n",
       "      <td>11</td>\n",
       "      <td>59</td>\n",
       "    </tr>\n",
       "    <tr>\n",
       "      <td>2716</td>\n",
       "      <td>1499</td>\n",
       "      <td>12</td>\n",
       "      <td>66</td>\n",
       "    </tr>\n",
       "  </tbody>\n",
       "</table>\n",
       "<p>2717 rows × 3 columns</p>\n",
       "</div>"
      ],
      "text/plain": [
       "      user_id  month  message_date\n",
       "0        1000      5            22\n",
       "1        1000      6            60\n",
       "2        1000      7            75\n",
       "3        1000      8            81\n",
       "4        1000      9            57\n",
       "...       ...    ...           ...\n",
       "2712     1498     10            42\n",
       "2713     1499      9            11\n",
       "2714     1499     10            48\n",
       "2715     1499     11            59\n",
       "2716     1499     12            66\n",
       "\n",
       "[2717 rows x 3 columns]"
      ]
     },
     "metadata": {},
     "output_type": "display_data"
    }
   ],
   "source": [
    "messages['message_date'] = pd.to_datetime(messages['message_date'], format ='%Y-%m-%d')\n",
    "messages['month'] = messages['message_date'].dt.month\n",
    "messages_pivot = messages.pivot_table(index = ('user_id', 'month'), values = 'message_date', aggfunc ='count').reset_index()\n",
    "display(messages_pivot)\n",
    "messages_pivot = messages_pivot.rename(columns = {'message_date' : 'message_quantity'})"
   ]
  },
  {
   "cell_type": "code",
   "execution_count": 14,
   "metadata": {},
   "outputs": [
    {
     "data": {
      "text/html": [
       "<div>\n",
       "<style scoped>\n",
       "    .dataframe tbody tr th:only-of-type {\n",
       "        vertical-align: middle;\n",
       "    }\n",
       "\n",
       "    .dataframe tbody tr th {\n",
       "        vertical-align: top;\n",
       "    }\n",
       "\n",
       "    .dataframe thead th {\n",
       "        text-align: right;\n",
       "    }\n",
       "</style>\n",
       "<table border=\"1\" class=\"dataframe\">\n",
       "  <thead>\n",
       "    <tr style=\"text-align: right;\">\n",
       "      <th></th>\n",
       "      <th>user_id</th>\n",
       "      <th>month</th>\n",
       "      <th>mb_used</th>\n",
       "    </tr>\n",
       "  </thead>\n",
       "  <tbody>\n",
       "    <tr>\n",
       "      <td>0</td>\n",
       "      <td>1000</td>\n",
       "      <td>5</td>\n",
       "      <td>2256</td>\n",
       "    </tr>\n",
       "    <tr>\n",
       "      <td>1</td>\n",
       "      <td>1000</td>\n",
       "      <td>6</td>\n",
       "      <td>23257</td>\n",
       "    </tr>\n",
       "    <tr>\n",
       "      <td>2</td>\n",
       "      <td>1000</td>\n",
       "      <td>7</td>\n",
       "      <td>14016</td>\n",
       "    </tr>\n",
       "    <tr>\n",
       "      <td>3</td>\n",
       "      <td>1000</td>\n",
       "      <td>8</td>\n",
       "      <td>14070</td>\n",
       "    </tr>\n",
       "    <tr>\n",
       "      <td>4</td>\n",
       "      <td>1000</td>\n",
       "      <td>9</td>\n",
       "      <td>14581</td>\n",
       "    </tr>\n",
       "    <tr>\n",
       "      <td>...</td>\n",
       "      <td>...</td>\n",
       "      <td>...</td>\n",
       "      <td>...</td>\n",
       "    </tr>\n",
       "    <tr>\n",
       "      <td>3198</td>\n",
       "      <td>1498</td>\n",
       "      <td>10</td>\n",
       "      <td>20604</td>\n",
       "    </tr>\n",
       "    <tr>\n",
       "      <td>3199</td>\n",
       "      <td>1499</td>\n",
       "      <td>9</td>\n",
       "      <td>1848</td>\n",
       "    </tr>\n",
       "    <tr>\n",
       "      <td>3200</td>\n",
       "      <td>1499</td>\n",
       "      <td>10</td>\n",
       "      <td>17809</td>\n",
       "    </tr>\n",
       "    <tr>\n",
       "      <td>3201</td>\n",
       "      <td>1499</td>\n",
       "      <td>11</td>\n",
       "      <td>17984</td>\n",
       "    </tr>\n",
       "    <tr>\n",
       "      <td>3202</td>\n",
       "      <td>1499</td>\n",
       "      <td>12</td>\n",
       "      <td>13077</td>\n",
       "    </tr>\n",
       "  </tbody>\n",
       "</table>\n",
       "<p>3203 rows × 3 columns</p>\n",
       "</div>"
      ],
      "text/plain": [
       "      user_id  month  mb_used\n",
       "0        1000      5     2256\n",
       "1        1000      6    23257\n",
       "2        1000      7    14016\n",
       "3        1000      8    14070\n",
       "4        1000      9    14581\n",
       "...       ...    ...      ...\n",
       "3198     1498     10    20604\n",
       "3199     1499      9     1848\n",
       "3200     1499     10    17809\n",
       "3201     1499     11    17984\n",
       "3202     1499     12    13077\n",
       "\n",
       "[3203 rows x 3 columns]"
      ]
     },
     "metadata": {},
     "output_type": "display_data"
    }
   ],
   "source": [
    "internet['session_date'] = pd.to_datetime(internet['session_date'], format ='%Y-%m-%d')\n",
    "internet['month'] = internet['session_date'].dt.month\n",
    "internet_pivot = internet.pivot_table(index = ('user_id', 'month'), values = 'mb_used', aggfunc ='sum').reset_index()\n",
    "display(internet_pivot)"
   ]
  },
  {
   "cell_type": "code",
   "execution_count": 15,
   "metadata": {},
   "outputs": [
    {
     "name": "stdout",
     "output_type": "stream",
     "text": [
      "<class 'pandas.core.frame.DataFrame'>\n",
      "RangeIndex: 3203 entries, 0 to 3202\n",
      "Data columns (total 3 columns):\n",
      "user_id    3203 non-null int64\n",
      "month      3203 non-null int64\n",
      "mb_used    3203 non-null int64\n",
      "dtypes: int64(3)\n",
      "memory usage: 75.2 KB\n",
      "<class 'pandas.core.frame.DataFrame'>\n",
      "RangeIndex: 2717 entries, 0 to 2716\n",
      "Data columns (total 3 columns):\n",
      "user_id             2717 non-null int64\n",
      "month               2717 non-null int64\n",
      "message_quantity    2717 non-null int64\n",
      "dtypes: int64(3)\n",
      "memory usage: 63.8 KB\n",
      "<class 'pandas.core.frame.DataFrame'>\n",
      "RangeIndex: 3174 entries, 0 to 3173\n",
      "Data columns (total 4 columns):\n",
      "user_id           3174 non-null int64\n",
      "month             3174 non-null int64\n",
      "calls_quantity    3174 non-null int64\n",
      "calls_duration    3174 non-null int64\n",
      "dtypes: int64(4)\n",
      "memory usage: 99.3 KB\n"
     ]
    }
   ],
   "source": [
    "internet_pivot.info()\n",
    "messages_pivot.info()\n",
    "calls_pivot.info()"
   ]
  },
  {
   "cell_type": "code",
   "execution_count": 16,
   "metadata": {},
   "outputs": [],
   "source": [
    "it_1 = calls_pivot.merge(internet_pivot, on =['user_id', 'month'], how = 'outer')"
   ]
  },
  {
   "cell_type": "code",
   "execution_count": 17,
   "metadata": {},
   "outputs": [],
   "source": [
    "it_2 = it_1.merge(messages_pivot, on =['user_id', 'month'], how = 'outer')"
   ]
  },
  {
   "cell_type": "code",
   "execution_count": 18,
   "metadata": {},
   "outputs": [],
   "source": [
    "it_3 = it_2.merge(users, on ='user_id', how = 'outer')"
   ]
  },
  {
   "cell_type": "code",
   "execution_count": 19,
   "metadata": {},
   "outputs": [],
   "source": [
    "data = it_3.merge(tariffs, on = 'tariff', how ='outer')"
   ]
  },
  {
   "cell_type": "code",
   "execution_count": 20,
   "metadata": {},
   "outputs": [
    {
     "data": {
      "text/plain": [
       "0       22\n",
       "1       60\n",
       "2       75\n",
       "3       81\n",
       "4       57\n",
       "        ..\n",
       "3211    32\n",
       "3212    21\n",
       "3213    20\n",
       "3214    35\n",
       "3215     0\n",
       "Name: message_quantity, Length: 3216, dtype: int64"
      ]
     },
     "execution_count": 20,
     "metadata": {},
     "output_type": "execute_result"
    }
   ],
   "source": [
    "data['calls_duration'].fillna(0, inplace =True)\n",
    "data['mb_used'].fillna(0, inplace =True)\n",
    "data['message_quantity'].fillna(0, inplace =True)\n",
    "data['calls_duration'] = data['calls_duration'].apply(np.ceil)\n",
    "data['calls_duration'] = data['calls_duration'].astype('int64')\n",
    "data['mb_used'] = data['mb_used'].apply(np.ceil)\n",
    "data['mb_used'] = data['mb_used'].astype('int64')\n",
    "data['message_quantity'].astype('int64')"
   ]
  },
  {
   "cell_type": "code",
   "execution_count": 21,
   "metadata": {},
   "outputs": [],
   "source": [
    "data['month'].fillna(12, inplace = True) # 2 пользователя, которые подключились и прекратили пользоваться тарифом в декабре, не совершив каких-либо действий."
   ]
  },
  {
   "cell_type": "code",
   "execution_count": 22,
   "metadata": {},
   "outputs": [],
   "source": [
    "data['gain'] = (data['rub_monthly_fee'] + \n",
    "                    np.where(data['calls_duration']-data['minutes_included']>0, (data['calls_duration']-data['minutes_included'])*data['rub_per_minute'], 0) + \n",
    "                    np.where(data['message_quantity']-data['messages_included']>0, (data['message_quantity']-data['messages_included'])*data['rub_per_message'], 0) + \n",
    "                    np.where(data['mb_used']-data['mb_per_month_included']>0, ((data['mb_used']-data['mb_per_month_included'])/1024)*data['rub_per_gb'], 0)\n",
    "                   )"
   ]
  },
  {
   "cell_type": "code",
   "execution_count": 23,
   "metadata": {
    "scrolled": false
   },
   "outputs": [
    {
     "data": {
      "text/html": [
       "<div>\n",
       "<style scoped>\n",
       "    .dataframe tbody tr th:only-of-type {\n",
       "        vertical-align: middle;\n",
       "    }\n",
       "\n",
       "    .dataframe tbody tr th {\n",
       "        vertical-align: top;\n",
       "    }\n",
       "\n",
       "    .dataframe thead th {\n",
       "        text-align: right;\n",
       "    }\n",
       "</style>\n",
       "<table border=\"1\" class=\"dataframe\">\n",
       "  <thead>\n",
       "    <tr style=\"text-align: right;\">\n",
       "      <th></th>\n",
       "      <th>user_id</th>\n",
       "      <th>month</th>\n",
       "      <th>calls_quantity</th>\n",
       "      <th>calls_duration</th>\n",
       "      <th>mb_used</th>\n",
       "      <th>message_quantity</th>\n",
       "      <th>age</th>\n",
       "      <th>churn_date</th>\n",
       "      <th>city</th>\n",
       "      <th>first_name</th>\n",
       "      <th>...</th>\n",
       "      <th>reg_date</th>\n",
       "      <th>tariff</th>\n",
       "      <th>messages_included</th>\n",
       "      <th>mb_per_month_included</th>\n",
       "      <th>minutes_included</th>\n",
       "      <th>rub_monthly_fee</th>\n",
       "      <th>rub_per_gb</th>\n",
       "      <th>rub_per_message</th>\n",
       "      <th>rub_per_minute</th>\n",
       "      <th>gain</th>\n",
       "    </tr>\n",
       "  </thead>\n",
       "  <tbody>\n",
       "    <tr>\n",
       "      <td>0</td>\n",
       "      <td>1000</td>\n",
       "      <td>5.0</td>\n",
       "      <td>22.0</td>\n",
       "      <td>159</td>\n",
       "      <td>2256</td>\n",
       "      <td>22.0</td>\n",
       "      <td>52</td>\n",
       "      <td>NaN</td>\n",
       "      <td>Краснодар</td>\n",
       "      <td>Рафаил</td>\n",
       "      <td>...</td>\n",
       "      <td>2018-05-25</td>\n",
       "      <td>ultra</td>\n",
       "      <td>1000</td>\n",
       "      <td>30720</td>\n",
       "      <td>3000</td>\n",
       "      <td>1950</td>\n",
       "      <td>150</td>\n",
       "      <td>1</td>\n",
       "      <td>1</td>\n",
       "      <td>1950.0</td>\n",
       "    </tr>\n",
       "    <tr>\n",
       "      <td>1</td>\n",
       "      <td>1000</td>\n",
       "      <td>6.0</td>\n",
       "      <td>43.0</td>\n",
       "      <td>172</td>\n",
       "      <td>23257</td>\n",
       "      <td>60.0</td>\n",
       "      <td>52</td>\n",
       "      <td>NaN</td>\n",
       "      <td>Краснодар</td>\n",
       "      <td>Рафаил</td>\n",
       "      <td>...</td>\n",
       "      <td>2018-05-25</td>\n",
       "      <td>ultra</td>\n",
       "      <td>1000</td>\n",
       "      <td>30720</td>\n",
       "      <td>3000</td>\n",
       "      <td>1950</td>\n",
       "      <td>150</td>\n",
       "      <td>1</td>\n",
       "      <td>1</td>\n",
       "      <td>1950.0</td>\n",
       "    </tr>\n",
       "    <tr>\n",
       "      <td>2</td>\n",
       "      <td>1000</td>\n",
       "      <td>7.0</td>\n",
       "      <td>47.0</td>\n",
       "      <td>340</td>\n",
       "      <td>14016</td>\n",
       "      <td>75.0</td>\n",
       "      <td>52</td>\n",
       "      <td>NaN</td>\n",
       "      <td>Краснодар</td>\n",
       "      <td>Рафаил</td>\n",
       "      <td>...</td>\n",
       "      <td>2018-05-25</td>\n",
       "      <td>ultra</td>\n",
       "      <td>1000</td>\n",
       "      <td>30720</td>\n",
       "      <td>3000</td>\n",
       "      <td>1950</td>\n",
       "      <td>150</td>\n",
       "      <td>1</td>\n",
       "      <td>1</td>\n",
       "      <td>1950.0</td>\n",
       "    </tr>\n",
       "    <tr>\n",
       "      <td>3</td>\n",
       "      <td>1000</td>\n",
       "      <td>8.0</td>\n",
       "      <td>52.0</td>\n",
       "      <td>408</td>\n",
       "      <td>14070</td>\n",
       "      <td>81.0</td>\n",
       "      <td>52</td>\n",
       "      <td>NaN</td>\n",
       "      <td>Краснодар</td>\n",
       "      <td>Рафаил</td>\n",
       "      <td>...</td>\n",
       "      <td>2018-05-25</td>\n",
       "      <td>ultra</td>\n",
       "      <td>1000</td>\n",
       "      <td>30720</td>\n",
       "      <td>3000</td>\n",
       "      <td>1950</td>\n",
       "      <td>150</td>\n",
       "      <td>1</td>\n",
       "      <td>1</td>\n",
       "      <td>1950.0</td>\n",
       "    </tr>\n",
       "    <tr>\n",
       "      <td>4</td>\n",
       "      <td>1000</td>\n",
       "      <td>9.0</td>\n",
       "      <td>58.0</td>\n",
       "      <td>466</td>\n",
       "      <td>14581</td>\n",
       "      <td>57.0</td>\n",
       "      <td>52</td>\n",
       "      <td>NaN</td>\n",
       "      <td>Краснодар</td>\n",
       "      <td>Рафаил</td>\n",
       "      <td>...</td>\n",
       "      <td>2018-05-25</td>\n",
       "      <td>ultra</td>\n",
       "      <td>1000</td>\n",
       "      <td>30720</td>\n",
       "      <td>3000</td>\n",
       "      <td>1950</td>\n",
       "      <td>150</td>\n",
       "      <td>1</td>\n",
       "      <td>1</td>\n",
       "      <td>1950.0</td>\n",
       "    </tr>\n",
       "  </tbody>\n",
       "</table>\n",
       "<p>5 rows × 21 columns</p>\n",
       "</div>"
      ],
      "text/plain": [
       "   user_id  month  calls_quantity  calls_duration  mb_used  message_quantity  \\\n",
       "0     1000    5.0            22.0             159     2256              22.0   \n",
       "1     1000    6.0            43.0             172    23257              60.0   \n",
       "2     1000    7.0            47.0             340    14016              75.0   \n",
       "3     1000    8.0            52.0             408    14070              81.0   \n",
       "4     1000    9.0            58.0             466    14581              57.0   \n",
       "\n",
       "   age churn_date       city first_name  ...    reg_date tariff  \\\n",
       "0   52        NaN  Краснодар     Рафаил  ...  2018-05-25  ultra   \n",
       "1   52        NaN  Краснодар     Рафаил  ...  2018-05-25  ultra   \n",
       "2   52        NaN  Краснодар     Рафаил  ...  2018-05-25  ultra   \n",
       "3   52        NaN  Краснодар     Рафаил  ...  2018-05-25  ultra   \n",
       "4   52        NaN  Краснодар     Рафаил  ...  2018-05-25  ultra   \n",
       "\n",
       "  messages_included  mb_per_month_included  minutes_included  rub_monthly_fee  \\\n",
       "0              1000                  30720              3000             1950   \n",
       "1              1000                  30720              3000             1950   \n",
       "2              1000                  30720              3000             1950   \n",
       "3              1000                  30720              3000             1950   \n",
       "4              1000                  30720              3000             1950   \n",
       "\n",
       "   rub_per_gb  rub_per_message  rub_per_minute    gain  \n",
       "0         150                1               1  1950.0  \n",
       "1         150                1               1  1950.0  \n",
       "2         150                1               1  1950.0  \n",
       "3         150                1               1  1950.0  \n",
       "4         150                1               1  1950.0  \n",
       "\n",
       "[5 rows x 21 columns]"
      ]
     },
     "metadata": {},
     "output_type": "display_data"
    }
   ],
   "source": [
    "display(data.head())"
   ]
  },
  {
   "cell_type": "markdown",
   "metadata": {},
   "source": [
    "### Вывод\n",
    "Искомые значения рассчитаны и добавлены в соединенную таблицу"
   ]
  },
  {
   "cell_type": "markdown",
   "metadata": {},
   "source": [
    "## Шаг 3. Анализ данных\n"
   ]
  },
  {
   "cell_type": "code",
   "execution_count": 24,
   "metadata": {
    "scrolled": true
   },
   "outputs": [
    {
     "data": {
      "text/html": [
       "<div>\n",
       "<style scoped>\n",
       "    .dataframe tbody tr th:only-of-type {\n",
       "        vertical-align: middle;\n",
       "    }\n",
       "\n",
       "    .dataframe tbody tr th {\n",
       "        vertical-align: top;\n",
       "    }\n",
       "\n",
       "    .dataframe thead th {\n",
       "        text-align: right;\n",
       "    }\n",
       "</style>\n",
       "<table border=\"1\" class=\"dataframe\">\n",
       "  <thead>\n",
       "    <tr style=\"text-align: right;\">\n",
       "      <th></th>\n",
       "      <th>calls_duration</th>\n",
       "      <th>mb_used</th>\n",
       "      <th>message_quantity</th>\n",
       "    </tr>\n",
       "  </thead>\n",
       "  <tbody>\n",
       "    <tr>\n",
       "      <td>count</td>\n",
       "      <td>3216.000000</td>\n",
       "      <td>3216.000000</td>\n",
       "      <td>3216.000000</td>\n",
       "    </tr>\n",
       "    <tr>\n",
       "      <td>mean</td>\n",
       "      <td>450.964241</td>\n",
       "      <td>17216.871580</td>\n",
       "      <td>38.257463</td>\n",
       "    </tr>\n",
       "    <tr>\n",
       "      <td>std</td>\n",
       "      <td>242.096312</td>\n",
       "      <td>7588.071848</td>\n",
       "      <td>36.149684</td>\n",
       "    </tr>\n",
       "    <tr>\n",
       "      <td>min</td>\n",
       "      <td>0.000000</td>\n",
       "      <td>0.000000</td>\n",
       "      <td>0.000000</td>\n",
       "    </tr>\n",
       "    <tr>\n",
       "      <td>25%</td>\n",
       "      <td>282.000000</td>\n",
       "      <td>12496.250000</td>\n",
       "      <td>9.000000</td>\n",
       "    </tr>\n",
       "    <tr>\n",
       "      <td>50%</td>\n",
       "      <td>443.000000</td>\n",
       "      <td>16962.000000</td>\n",
       "      <td>30.000000</td>\n",
       "    </tr>\n",
       "    <tr>\n",
       "      <td>75%</td>\n",
       "      <td>589.000000</td>\n",
       "      <td>21446.000000</td>\n",
       "      <td>57.000000</td>\n",
       "    </tr>\n",
       "    <tr>\n",
       "      <td>max</td>\n",
       "      <td>1673.000000</td>\n",
       "      <td>49789.000000</td>\n",
       "      <td>224.000000</td>\n",
       "    </tr>\n",
       "  </tbody>\n",
       "</table>\n",
       "</div>"
      ],
      "text/plain": [
       "       calls_duration       mb_used  message_quantity\n",
       "count     3216.000000   3216.000000       3216.000000\n",
       "mean       450.964241  17216.871580         38.257463\n",
       "std        242.096312   7588.071848         36.149684\n",
       "min          0.000000      0.000000          0.000000\n",
       "25%        282.000000  12496.250000          9.000000\n",
       "50%        443.000000  16962.000000         30.000000\n",
       "75%        589.000000  21446.000000         57.000000\n",
       "max       1673.000000  49789.000000        224.000000"
      ]
     },
     "execution_count": 24,
     "metadata": {},
     "output_type": "execute_result"
    }
   ],
   "source": [
    "data[['calls_duration', 'mb_used', 'message_quantity']].describe()"
   ]
  },
  {
   "cell_type": "code",
   "execution_count": 25,
   "metadata": {},
   "outputs": [
    {
     "data": {
      "text/html": [
       "<div>\n",
       "<style scoped>\n",
       "    .dataframe tbody tr th:only-of-type {\n",
       "        vertical-align: middle;\n",
       "    }\n",
       "\n",
       "    .dataframe tbody tr th {\n",
       "        vertical-align: top;\n",
       "    }\n",
       "\n",
       "    .dataframe thead th {\n",
       "        text-align: right;\n",
       "    }\n",
       "</style>\n",
       "<table border=\"1\" class=\"dataframe\">\n",
       "  <thead>\n",
       "    <tr style=\"text-align: right;\">\n",
       "      <th></th>\n",
       "      <th>tariff</th>\n",
       "      <th>month</th>\n",
       "      <th>calls_duration</th>\n",
       "      <th>gain</th>\n",
       "      <th>mb_used</th>\n",
       "      <th>message_quantity</th>\n",
       "    </tr>\n",
       "  </thead>\n",
       "  <tbody>\n",
       "    <tr>\n",
       "      <td>0</td>\n",
       "      <td>smart</td>\n",
       "      <td>1.0</td>\n",
       "      <td>203.852941</td>\n",
       "      <td>702.556296</td>\n",
       "      <td>8524.441176</td>\n",
       "      <td>18.235294</td>\n",
       "    </tr>\n",
       "    <tr>\n",
       "      <td>1</td>\n",
       "      <td>smart</td>\n",
       "      <td>2.0</td>\n",
       "      <td>298.689655</td>\n",
       "      <td>804.337689</td>\n",
       "      <td>11611.396552</td>\n",
       "      <td>24.086207</td>\n",
       "    </tr>\n",
       "    <tr>\n",
       "      <td>2</td>\n",
       "      <td>smart</td>\n",
       "      <td>3.0</td>\n",
       "      <td>390.051948</td>\n",
       "      <td>1118.382508</td>\n",
       "      <td>15123.857143</td>\n",
       "      <td>31.857143</td>\n",
       "    </tr>\n",
       "    <tr>\n",
       "      <td>3</td>\n",
       "      <td>smart</td>\n",
       "      <td>4.0</td>\n",
       "      <td>367.133929</td>\n",
       "      <td>922.340472</td>\n",
       "      <td>13479.482143</td>\n",
       "      <td>30.741071</td>\n",
       "    </tr>\n",
       "    <tr>\n",
       "      <td>4</td>\n",
       "      <td>smart</td>\n",
       "      <td>5.0</td>\n",
       "      <td>387.361702</td>\n",
       "      <td>1146.921930</td>\n",
       "      <td>15825.198582</td>\n",
       "      <td>33.773050</td>\n",
       "    </tr>\n",
       "    <tr>\n",
       "      <td>5</td>\n",
       "      <td>smart</td>\n",
       "      <td>6.0</td>\n",
       "      <td>395.640244</td>\n",
       "      <td>1149.579697</td>\n",
       "      <td>15814.768293</td>\n",
       "      <td>33.402439</td>\n",
       "    </tr>\n",
       "    <tr>\n",
       "      <td>6</td>\n",
       "      <td>smart</td>\n",
       "      <td>7.0</td>\n",
       "      <td>408.353234</td>\n",
       "      <td>1168.063666</td>\n",
       "      <td>15763.512438</td>\n",
       "      <td>33.751244</td>\n",
       "    </tr>\n",
       "    <tr>\n",
       "      <td>7</td>\n",
       "      <td>smart</td>\n",
       "      <td>8.0</td>\n",
       "      <td>421.468085</td>\n",
       "      <td>1258.498005</td>\n",
       "      <td>16632.174468</td>\n",
       "      <td>33.638298</td>\n",
       "    </tr>\n",
       "    <tr>\n",
       "      <td>8</td>\n",
       "      <td>smart</td>\n",
       "      <td>9.0</td>\n",
       "      <td>428.611538</td>\n",
       "      <td>1199.072506</td>\n",
       "      <td>16324.526923</td>\n",
       "      <td>33.638462</td>\n",
       "    </tr>\n",
       "    <tr>\n",
       "      <td>9</td>\n",
       "      <td>smart</td>\n",
       "      <td>10.0</td>\n",
       "      <td>426.136054</td>\n",
       "      <td>1304.842315</td>\n",
       "      <td>16778.564626</td>\n",
       "      <td>33.765306</td>\n",
       "    </tr>\n",
       "    <tr>\n",
       "      <td>10</td>\n",
       "      <td>smart</td>\n",
       "      <td>11.0</td>\n",
       "      <td>435.265823</td>\n",
       "      <td>1283.362812</td>\n",
       "      <td>16917.531646</td>\n",
       "      <td>34.075949</td>\n",
       "    </tr>\n",
       "    <tr>\n",
       "      <td>11</td>\n",
       "      <td>smart</td>\n",
       "      <td>12.0</td>\n",
       "      <td>477.144970</td>\n",
       "      <td>1503.046875</td>\n",
       "      <td>18083.174556</td>\n",
       "      <td>35.887574</td>\n",
       "    </tr>\n",
       "    <tr>\n",
       "      <td>12</td>\n",
       "      <td>ultra</td>\n",
       "      <td>1.0</td>\n",
       "      <td>428.111111</td>\n",
       "      <td>1950.000000</td>\n",
       "      <td>13153.555556</td>\n",
       "      <td>33.777778</td>\n",
       "    </tr>\n",
       "    <tr>\n",
       "      <td>13</td>\n",
       "      <td>ultra</td>\n",
       "      <td>2.0</td>\n",
       "      <td>297.125000</td>\n",
       "      <td>1973.046875</td>\n",
       "      <td>11786.958333</td>\n",
       "      <td>21.958333</td>\n",
       "    </tr>\n",
       "    <tr>\n",
       "      <td>14</td>\n",
       "      <td>ultra</td>\n",
       "      <td>3.0</td>\n",
       "      <td>489.648649</td>\n",
       "      <td>2004.171505</td>\n",
       "      <td>17551.972973</td>\n",
       "      <td>32.297297</td>\n",
       "    </tr>\n",
       "    <tr>\n",
       "      <td>15</td>\n",
       "      <td>ultra</td>\n",
       "      <td>4.0</td>\n",
       "      <td>458.018182</td>\n",
       "      <td>1995.431463</td>\n",
       "      <td>16843.800000</td>\n",
       "      <td>31.563636</td>\n",
       "    </tr>\n",
       "    <tr>\n",
       "      <td>16</td>\n",
       "      <td>ultra</td>\n",
       "      <td>5.0</td>\n",
       "      <td>510.328358</td>\n",
       "      <td>2054.965893</td>\n",
       "      <td>19381.194030</td>\n",
       "      <td>37.850746</td>\n",
       "    </tr>\n",
       "    <tr>\n",
       "      <td>17</td>\n",
       "      <td>ultra</td>\n",
       "      <td>6.0</td>\n",
       "      <td>479.702381</td>\n",
       "      <td>2032.060896</td>\n",
       "      <td>18942.238095</td>\n",
       "      <td>41.726190</td>\n",
       "    </tr>\n",
       "    <tr>\n",
       "      <td>18</td>\n",
       "      <td>ultra</td>\n",
       "      <td>7.0</td>\n",
       "      <td>545.791209</td>\n",
       "      <td>2108.502533</td>\n",
       "      <td>20514.648352</td>\n",
       "      <td>49.846154</td>\n",
       "    </tr>\n",
       "    <tr>\n",
       "      <td>19</td>\n",
       "      <td>ultra</td>\n",
       "      <td>8.0</td>\n",
       "      <td>510.775701</td>\n",
       "      <td>2071.152161</td>\n",
       "      <td>19594.065421</td>\n",
       "      <td>48.439252</td>\n",
       "    </tr>\n",
       "    <tr>\n",
       "      <td>20</td>\n",
       "      <td>ultra</td>\n",
       "      <td>9.0</td>\n",
       "      <td>539.443478</td>\n",
       "      <td>2013.725798</td>\n",
       "      <td>19222.208696</td>\n",
       "      <td>52.286957</td>\n",
       "    </tr>\n",
       "    <tr>\n",
       "      <td>21</td>\n",
       "      <td>ultra</td>\n",
       "      <td>10.0</td>\n",
       "      <td>558.081301</td>\n",
       "      <td>2056.918112</td>\n",
       "      <td>20063.869919</td>\n",
       "      <td>58.430894</td>\n",
       "    </tr>\n",
       "    <tr>\n",
       "      <td>22</td>\n",
       "      <td>ultra</td>\n",
       "      <td>11.0</td>\n",
       "      <td>541.380597</td>\n",
       "      <td>2080.786497</td>\n",
       "      <td>19805.313433</td>\n",
       "      <td>55.791045</td>\n",
       "    </tr>\n",
       "    <tr>\n",
       "      <td>23</td>\n",
       "      <td>ultra</td>\n",
       "      <td>12.0</td>\n",
       "      <td>588.571429</td>\n",
       "      <td>2124.987095</td>\n",
       "      <td>21657.778571</td>\n",
       "      <td>60.178571</td>\n",
       "    </tr>\n",
       "  </tbody>\n",
       "</table>\n",
       "</div>"
      ],
      "text/plain": [
       "   tariff  month  calls_duration         gain       mb_used  message_quantity\n",
       "0   smart    1.0      203.852941   702.556296   8524.441176         18.235294\n",
       "1   smart    2.0      298.689655   804.337689  11611.396552         24.086207\n",
       "2   smart    3.0      390.051948  1118.382508  15123.857143         31.857143\n",
       "3   smart    4.0      367.133929   922.340472  13479.482143         30.741071\n",
       "4   smart    5.0      387.361702  1146.921930  15825.198582         33.773050\n",
       "5   smart    6.0      395.640244  1149.579697  15814.768293         33.402439\n",
       "6   smart    7.0      408.353234  1168.063666  15763.512438         33.751244\n",
       "7   smart    8.0      421.468085  1258.498005  16632.174468         33.638298\n",
       "8   smart    9.0      428.611538  1199.072506  16324.526923         33.638462\n",
       "9   smart   10.0      426.136054  1304.842315  16778.564626         33.765306\n",
       "10  smart   11.0      435.265823  1283.362812  16917.531646         34.075949\n",
       "11  smart   12.0      477.144970  1503.046875  18083.174556         35.887574\n",
       "12  ultra    1.0      428.111111  1950.000000  13153.555556         33.777778\n",
       "13  ultra    2.0      297.125000  1973.046875  11786.958333         21.958333\n",
       "14  ultra    3.0      489.648649  2004.171505  17551.972973         32.297297\n",
       "15  ultra    4.0      458.018182  1995.431463  16843.800000         31.563636\n",
       "16  ultra    5.0      510.328358  2054.965893  19381.194030         37.850746\n",
       "17  ultra    6.0      479.702381  2032.060896  18942.238095         41.726190\n",
       "18  ultra    7.0      545.791209  2108.502533  20514.648352         49.846154\n",
       "19  ultra    8.0      510.775701  2071.152161  19594.065421         48.439252\n",
       "20  ultra    9.0      539.443478  2013.725798  19222.208696         52.286957\n",
       "21  ultra   10.0      558.081301  2056.918112  20063.869919         58.430894\n",
       "22  ultra   11.0      541.380597  2080.786497  19805.313433         55.791045\n",
       "23  ultra   12.0      588.571429  2124.987095  21657.778571         60.178571"
      ]
     },
     "metadata": {},
     "output_type": "display_data"
    }
   ],
   "source": [
    "data_pivot = data.pivot_table(index = ['tariff', 'month'], values = ('calls_duration', 'message_quantity', 'mb_used', 'gain')).reset_index()\n",
    "display(data_pivot)"
   ]
  },
  {
   "cell_type": "code",
   "execution_count": 26,
   "metadata": {},
   "outputs": [
    {
     "name": "stdout",
     "output_type": "stream",
     "text": [
      "calls_duration        441.111980\n",
      "mb_used             16641.509663\n",
      "message_quantity       37.541620\n",
      "dtype: float64\n"
     ]
    }
   ],
   "source": [
    "print(data_pivot[['calls_duration','mb_used','message_quantity']].mean())"
   ]
  },
  {
   "cell_type": "markdown",
   "metadata": {},
   "source": [
    "### Вывод\n",
    "По анализу среднего объема пользования услуг наблюдается небольшой тренд на увеличение количества к декабрю, что может быть связано с увеличением числа пользователей."
   ]
  },
  {
   "cell_type": "code",
   "execution_count": 27,
   "metadata": {},
   "outputs": [],
   "source": [
    "data_smart = data.query('tariff == \"smart\"')\n",
    "data_ultra = data.query('tariff == \"ultra\"')"
   ]
  },
  {
   "cell_type": "code",
   "execution_count": 28,
   "metadata": {},
   "outputs": [],
   "source": [
    "def stat(data, column):\n",
    "    mean = data[column].mean()\n",
    "    print('среднее', mean)\n",
    "    variance = np.var(data[column])\n",
    "    print('дисперсия =', variance)\n",
    "    standard_dev = np.std(data[column], ddof = 1)\n",
    "    print('стандартное отклонение =', standard_dev)\n",
    "    data[column].hist(bins = 20)"
   ]
  },
  {
   "cell_type": "code",
   "execution_count": 29,
   "metadata": {},
   "outputs": [
    {
     "name": "stdout",
     "output_type": "stream",
     "text": [
      "среднее 417.747533632287\n",
      "дисперсия = 36265.12415310985\n",
      "стандартное отклонение = 190.4767540579285\n"
     ]
    },
    {
     "data": {
      "image/png": "[encoded data removed]",
      "text/plain": [
       "<Figure size 432x288 with 1 Axes>"
      ]
     },
     "metadata": {
      "needs_background": "light"
     },
     "output_type": "display_data"
    }
   ],
   "source": [
    "stat(data_smart, 'calls_duration')\n",
    "plt.title('Распределение по длительности совершенных звонков')\n",
    "plt.xlabel('Длительность, минуты')\n",
    "plt.ylabel('Частота')\n",
    "plt.show()"
   ]
  },
  {
   "cell_type": "code",
   "execution_count": 30,
   "metadata": {},
   "outputs": [
    {
     "name": "stdout",
     "output_type": "stream",
     "text": [
      "среднее 33.36905829596412\n",
      "дисперсия = 796.5978766916688\n",
      "стандартное отклонение = 28.230395954185852\n"
     ]
    },
    {
     "data": {
      "image/png": "[encoded data removed]",
      "text/plain": [
       "<Figure size 432x288 with 1 Axes>"
      ]
     },
     "metadata": {
      "needs_background": "light"
     },
     "output_type": "display_data"
    }
   ],
   "source": [
    "stat(data_smart, 'message_quantity')\n",
    "plt.title('Распределение по числу использованных смс')\n",
    "plt.xlabel('Количество смс')\n",
    "plt.ylabel('Частота')\n",
    "plt.show()"
   ]
  },
  {
   "cell_type": "code",
   "execution_count": 31,
   "metadata": {},
   "outputs": [
    {
     "name": "stdout",
     "output_type": "stream",
     "text": [
      "среднее 16221.910762331838\n",
      "дисперсия = 34632985.84629673\n",
      "стандартное отклонение = 5886.299627158955\n"
     ]
    },
    {
     "data": {
      "image/png": "[encoded data removed]",
      "text/plain": [
       "<Figure size 432x288 with 1 Axes>"
      ]
     },
     "metadata": {
      "needs_background": "light"
     },
     "output_type": "display_data"
    }
   ],
   "source": [
    "stat(data_smart, 'mb_used')\n",
    "plt.title('Распределение пользователей по использованию интернета')\n",
    "plt.xlabel('Использовано интернет-трафика, мб')\n",
    "plt.ylabel('Частота')\n",
    "plt.show()"
   ]
  },
  {
   "cell_type": "code",
   "execution_count": 32,
   "metadata": {},
   "outputs": [
    {
     "name": "stdout",
     "output_type": "stream",
     "text": [
      "среднее 526.0892494929006\n",
      "дисперсия = 100950.00623331097\n",
      "стандартное отклонение = 317.8875485911392\n"
     ]
    },
    {
     "data": {
      "image/png": "[encoded data removed]",
      "text/plain": [
       "<Figure size 432x288 with 1 Axes>"
      ]
     },
     "metadata": {
      "needs_background": "light"
     },
     "output_type": "display_data"
    }
   ],
   "source": [
    "stat(data_ultra, 'calls_duration')\n",
    "plt.title('Распределение по длительности совершенных звонков')\n",
    "plt.xlabel('Длительность, минуты')\n",
    "plt.ylabel('Частота')\n",
    "plt.show()"
   ]
  },
  {
   "cell_type": "code",
   "execution_count": 33,
   "metadata": {},
   "outputs": [
    {
     "name": "stdout",
     "output_type": "stream",
     "text": [
      "среднее 49.31338742393509\n",
      "дисперсия = 2283.0995570851965\n",
      "стандартное отклонение = 47.80603962530092\n"
     ]
    },
    {
     "data": {
      "image/png": "[encoded data removed]",
      "text/plain": [
       "<Figure size 432x288 with 1 Axes>"
      ]
     },
     "metadata": {
      "needs_background": "light"
     },
     "output_type": "display_data"
    }
   ],
   "source": [
    "stat(data_ultra, 'message_quantity')\n",
    "plt.title('Распределение по числу использованных смс')\n",
    "plt.xlabel('Количество смс')\n",
    "plt.ylabel('Частота')\n",
    "plt.show()"
   ]
  },
  {
   "cell_type": "code",
   "execution_count": 34,
   "metadata": {
    "scrolled": false
   },
   "outputs": [
    {
     "name": "stdout",
     "output_type": "stream",
     "text": [
      "среднее 19467.137931034482\n",
      "дисперсия = 102113595.65034623\n",
      "стандартное отклонение = 10110.255401095066\n"
     ]
    },
    {
     "data": {
      "image/png": "[encoded data removed]",
      "text/plain": [
       "<Figure size 432x288 with 1 Axes>"
      ]
     },
     "metadata": {
      "needs_background": "light"
     },
     "output_type": "display_data"
    }
   ],
   "source": [
    "stat(data_ultra, 'mb_used')\n",
    "plt.title('Распределение пользователей по использованию интернета')\n",
    "plt.xlabel('Использовано интернет-трафика, мб')\n",
    "plt.ylabel('Частота')\n",
    "plt.show()"
   ]
  },
  {
   "cell_type": "markdown",
   "metadata": {},
   "source": [
    "### Вывод\n",
    "Представленые распределения не являются нормальными. У распределений наблюдается разная степень смещенности вправо, т.е число событий больше среднего значения меньше числа событий не превышающих его. Распределения для длительности звонков и использования интернета для тарифа smart имеют наибольшее смещение вправо и напоминают нормальные распределения, Распределения звонков и использования интернета для тарифа ultra, разница числа событий проявляется нагляднее, для сообщений у обоих распредений среднее значение близко к минимальному и большая часть абонентов использует минимальное значение смс. Распределения имеют вполне ожидаемый вид, например количество смс отправляемых в наше время, для большинства абонентов ожидаемо мало. "
   ]
  },
  {
   "cell_type": "markdown",
   "metadata": {},
   "source": [
    "## Шаг 4. Проверьте гипотезы"
   ]
  },
  {
   "cell_type": "code",
   "execution_count": 35,
   "metadata": {},
   "outputs": [
    {
     "name": "stdout",
     "output_type": "stream",
     "text": [
      "среднее 1233.0430318105382\n",
      "дисперсия = 620105.4559088424\n",
      "стандартное отклонение = 787.6443708027176\n"
     ]
    },
    {
     "data": {
      "image/png": "[encoded data removed]",
      "text/plain": [
       "<Figure size 432x288 with 1 Axes>"
      ]
     },
     "metadata": {
      "needs_background": "light"
     },
     "output_type": "display_data"
    }
   ],
   "source": [
    "stat(data_smart, 'gain')\n",
    "plt.title('Распределение абонентов по выручке в месяц')\n",
    "plt.xlabel('Выручка, ₽')\n",
    "plt.ylabel('Частота')\n",
    "plt.show()"
   ]
  },
  {
   "cell_type": "code",
   "execution_count": 36,
   "metadata": {},
   "outputs": [
    {
     "name": "stdout",
     "output_type": "stream",
     "text": [
      "среднее 2060.417871688007\n",
      "дисперсия = 126708.1514977096\n",
      "стандартное отклонение = 356.14152975322344\n"
     ]
    },
    {
     "data": {
      "image/png": "[encoded data removed]",
      "text/plain": [
       "<Figure size 432x288 with 1 Axes>"
      ]
     },
     "metadata": {
      "needs_background": "light"
     },
     "output_type": "display_data"
    }
   ],
   "source": [
    "stat(data_ultra, 'gain')\n",
    "plt.title('Распределение абонентов по выручке в месяц')\n",
    "plt.xlabel('Выручка, ₽')\n",
    "plt.ylabel('Частота')\n",
    "plt.show()"
   ]
  },
  {
   "cell_type": "code",
   "execution_count": 37,
   "metadata": {},
   "outputs": [
    {
     "name": "stdout",
     "output_type": "stream",
     "text": [
      "p-значение: 4.5558131082531575e-215\n",
      "Отвергаем нулевую гипотезу\n"
     ]
    }
   ],
   "source": [
    "alpha =.05\n",
    "statist, pvalue = st.mannwhitneyu(data_smart['gain'], data_ultra['gain'], alternative = 'two-sided')\n",
    "print('p-значение:', pvalue)\n",
    "if (pvalue < alpha):\n",
    "    print(\"Отвергаем нулевую гипотезу\")\n",
    "else:\n",
    "    print(\"Не получилось отвергнуть нулевую гипотезу\")"
   ]
  },
  {
   "cell_type": "code",
   "execution_count": 38,
   "metadata": {},
   "outputs": [],
   "source": [
    "data_Moscow = data.query('city == \"Москва\"')"
   ]
  },
  {
   "cell_type": "code",
   "execution_count": 39,
   "metadata": {},
   "outputs": [],
   "source": [
    "data_regions = data.query('city != \"Москва\"')"
   ]
  },
  {
   "cell_type": "code",
   "execution_count": 40,
   "metadata": {
    "scrolled": false
   },
   "outputs": [
    {
     "name": "stdout",
     "output_type": "stream",
     "text": [
      "среднее 1481.8855588711613\n",
      "дисперсия = 630195.2607344853\n",
      "стандартное отклонение = 794.0008005054386\n"
     ]
    },
    {
     "data": {
      "image/png": "[encoded data removed]",
      "text/plain": [
       "<Figure size 432x288 with 1 Axes>"
      ]
     },
     "metadata": {
      "needs_background": "light"
     },
     "output_type": "display_data"
    }
   ],
   "source": [
    "stat(data_regions, 'gain')\n",
    "plt.title('Распределение абонентов по выручке в месяц')\n",
    "plt.xlabel('Выручка, ₽')\n",
    "plt.ylabel('Частота')\n",
    "plt.show()"
   ]
  },
  {
   "cell_type": "code",
   "execution_count": 41,
   "metadata": {},
   "outputs": [
    {
     "name": "stdout",
     "output_type": "stream",
     "text": [
      "среднее 1507.276761968085\n",
      "дисперсия = 546347.0989109281\n",
      "стандартное отклонение = 739.7585754100788\n"
     ]
    },
    {
     "data": {
      "image/png": "[encoded data removed]",
      "text/plain": [
       "<Figure size 432x288 with 1 Axes>"
      ]
     },
     "metadata": {
      "needs_background": "light"
     },
     "output_type": "display_data"
    }
   ],
   "source": [
    "stat(data_Moscow, 'gain')\n",
    "plt.title('Распределение абонентов по выручке в месяц')\n",
    "plt.xlabel('Выручка, ₽')\n",
    "plt.ylabel('Частота')\n",
    "plt.show()"
   ]
  },
  {
   "cell_type": "code",
   "execution_count": 42,
   "metadata": {
    "scrolled": false
   },
   "outputs": [
    {
     "name": "stdout",
     "output_type": "stream",
     "text": [
      "p-значение: 0.2731140987843754\n",
      "Не получилось отвергнуть нулевую гипотезу\n"
     ]
    }
   ],
   "source": [
    "alpha =.05\n",
    "statist, pvalue = st.mannwhitneyu(data_regions['gain'], data_Moscow['gain'], alternative = 'two-sided')\n",
    "print('p-значение:', pvalue)\n",
    "if (pvalue < alpha):\n",
    "    print(\"Отвергаем нулевую гипотезу\")\n",
    "else:\n",
    "    print(\"Не получилось отвергнуть нулевую гипотезу\")"
   ]
  },
  {
   "cell_type": "markdown",
   "metadata": {},
   "source": [
    "### Вывод\n",
    "Нулевые гипотезы, заданные в этой задаче : 1. Среднее выборки по тарифу smart равно среднему выборки по тарифу ultra. 2. Среднее выборки по абонентам из Москвы равно среднему выборки по абонентам не из Москвы.\n",
    "\n",
    "Альтернативные: 1. Среднее выборки по тарифу smart не равно среднему выборки по тарифу ultra. 2. Среднее выборки по абонентам из Москвы не равно среднему выборки по абонентам не из Москвы. \n",
    "\n",
    "Для проверки данных гипотез использовался критерий Манна — Уитни, т.к. обе выборки не представляют из себя нормального распредения. Интуитивно представлялось, что для первого случая нулевая гипотеза неверная, а для второго наоборот, что и подтвердилось при проверке гипотез."
   ]
  },
  {
   "cell_type": "markdown",
   "metadata": {},
   "source": [
    "## Шаг 5. Общий вывод"
   ]
  },
  {
   "cell_type": "markdown",
   "metadata": {},
   "source": [
    "По итогам исследования можно сделать выводы, о том что в целом количество использованных услуг в обоих тарифах отличается меньше, чем предполагается тарифными планами, по графикам выручки с пользователей видно, что процент людей, превысивших тарифные условия тарифа smart выше чем превысивших условия тарифа ultra. Тем не менее видно что выручки с обоих тарифов не равны между собой, что и подтвердилось проверкой гипотез. Также можно сказать что отличия по количеству использованных услуг в Москве и регионах мало отличаются друг от друга."
   ]
  }
 ],
 "metadata": {
  "kernelspec": {
   "display_name": "Python 3",
   "language": "python",
   "name": "python3"
  },
  "language_info": {
   "codemirror_mode": {
    "name": "ipython",
    "version": 3
   },
   "file_extension": ".py",
   "mimetype": "text/x-python",
   "name": "python",
   "nbconvert_exporter": "python",
   "pygments_lexer": "ipython3",
   "version": "3.7.9"
  },
  "toc": {
   "base_numbering": 1,
   "nav_menu": {},
   "number_sections": false,
   "sideBar": true,
   "skip_h1_title": false,
   "title_cell": "Table of Contents",
   "title_sidebar": "Contents",
   "toc_cell": false,
   "toc_position": {
    "height": "calc(100% - 180px)",
    "left": "10px",
    "top": "150px",
    "width": "289.6px"
   },
   "toc_section_display": true,
   "toc_window_display": false
  }
 },
 "nbformat": 4,
 "nbformat_minor": 2
}
