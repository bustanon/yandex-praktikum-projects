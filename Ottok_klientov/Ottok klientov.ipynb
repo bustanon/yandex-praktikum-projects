
  {
   "cell_type": "markdown",
   "metadata": {},
   "source": [
    "# Отток клиентов банка"
   ]
  },
  {
   "cell_type": "markdown",
   "metadata": {},
   "source": [
    "Из банка стали уходить клиенты. Каждый месяц.\n",
    "\n",
    "Необходимо спрогнозировать, уйдёт клиент из банка в ближайшее время или нет. Имеются исторические данные о поведении клиентов и расторжении договоров с банком. \n",
    "\n",
    "Необходимо построить модель со значением *F1*-меры не меньше 0.59;"
   ]
  },
  {
   "cell_type": "markdown",
   "metadata": {},
   "source": [
    "## Подготовка данных"
   ]
  },
  {
   "cell_type": "code",
   "execution_count": 1,
   "metadata": {},
   "outputs": [],
   "source": [
    "import pandas as pd\n",
    "import numpy as np\n",
    "import matplotlib.pyplot as plt\n",
    "from sklearn.model_selection import train_test_split \n",
    "from sklearn.tree import DecisionTreeClassifier\n",
    "from sklearn.linear_model import LogisticRegression\n",
    "from sklearn.ensemble import RandomForestClassifier\n",
    "from sklearn.metrics import accuracy_score\n",
    "from sklearn.preprocessing import StandardScaler \n",
    "from sklearn.metrics import confusion_matrix\n",
    "from sklearn.metrics import recall_score\n",
    "from sklearn.metrics import precision_score\n",
    "from sklearn.metrics import f1_score\n",
    "from sklearn.utils import shuffle\n",
    "from sklearn.metrics import roc_auc_score\n",
    "from sklearn.metrics import roc_curve"
   ]
  },
  {
   "cell_type": "code",
   "execution_count": 2,
   "metadata": {},
   "outputs": [
    {
     "name": "stdout",
     "output_type": "stream",
     "text": [
      "<class 'pandas.core.frame.DataFrame'>\n",
      "RangeIndex: 10000 entries, 0 to 9999\n",
      "Data columns (total 14 columns):\n",
      "RowNumber          10000 non-null int64\n",
      "CustomerId         10000 non-null int64\n",
      "Surname            10000 non-null object\n",
      "CreditScore        10000 non-null int64\n",
      "Geography          10000 non-null object\n",
      "Gender             10000 non-null object\n",
      "Age                10000 non-null int64\n",
      "Tenure             9091 non-null float64\n",
      "Balance            10000 non-null float64\n",
      "NumOfProducts      10000 non-null int64\n",
      "HasCrCard          10000 non-null int64\n",
      "IsActiveMember     10000 non-null int64\n",
      "EstimatedSalary    10000 non-null float64\n",
      "Exited             10000 non-null int64\n",
      "dtypes: float64(3), int64(8), object(3)\n",
      "memory usage: 1.1+ MB\n"
     ]
    }
   ],
   "source": [
    "data = pd.read_csv('/datasets/Churn.csv')\n",
    "data.info()"
   ]
  },
  {
   "cell_type": "code",
   "execution_count": 3,
   "metadata": {
    "scrolled": true
   },
   "outputs": [
    {
     "data": {
      "text/html": [
       "<div>\n",
       "<style scoped>\n",
       "    .dataframe tbody tr th:only-of-type {\n",
       "        vertical-align: middle;\n",
       "    }\n",
       "\n",
       "    .dataframe tbody tr th {\n",
       "        vertical-align: top;\n",
       "    }\n",
       "\n",
       "    .dataframe thead th {\n",
       "        text-align: right;\n",
       "    }\n",
       "</style>\n",
       "<table border=\"1\" class=\"dataframe\">\n",
       "  <thead>\n",
       "    <tr style=\"text-align: right;\">\n",
       "      <th></th>\n",
       "      <th>RowNumber</th>\n",
       "      <th>CustomerId</th>\n",
       "      <th>Surname</th>\n",
       "      <th>CreditScore</th>\n",
       "      <th>Geography</th>\n",
       "      <th>Gender</th>\n",
       "      <th>Age</th>\n",
       "      <th>Tenure</th>\n",
       "      <th>Balance</th>\n",
       "      <th>NumOfProducts</th>\n",
       "      <th>HasCrCard</th>\n",
       "      <th>IsActiveMember</th>\n",
       "      <th>EstimatedSalary</th>\n",
       "      <th>Exited</th>\n",
       "    </tr>\n",
       "  </thead>\n",
       "  <tbody>\n",
       "    <tr>\n",
       "      <td>0</td>\n",
       "      <td>1</td>\n",
       "      <td>15634602</td>\n",
       "      <td>Hargrave</td>\n",
       "      <td>619</td>\n",
       "      <td>France</td>\n",
       "      <td>Female</td>\n",
       "      <td>42</td>\n",
       "      <td>2.0</td>\n",
       "      <td>0.00</td>\n",
       "      <td>1</td>\n",
       "      <td>1</td>\n",
       "      <td>1</td>\n",
       "      <td>101348.88</td>\n",
       "      <td>1</td>\n",
       "    </tr>\n",
       "    <tr>\n",
       "      <td>1</td>\n",
       "      <td>2</td>\n",
       "      <td>15647311</td>\n",
       "      <td>Hill</td>\n",
       "      <td>608</td>\n",
       "      <td>Spain</td>\n",
       "      <td>Female</td>\n",
       "      <td>41</td>\n",
       "      <td>1.0</td>\n",
       "      <td>83807.86</td>\n",
       "      <td>1</td>\n",
       "      <td>0</td>\n",
       "      <td>1</td>\n",
       "      <td>112542.58</td>\n",
       "      <td>0</td>\n",
       "    </tr>\n",
       "    <tr>\n",
       "      <td>2</td>\n",
       "      <td>3</td>\n",
       "      <td>15619304</td>\n",
       "      <td>Onio</td>\n",
       "      <td>502</td>\n",
       "      <td>France</td>\n",
       "      <td>Female</td>\n",
       "      <td>42</td>\n",
       "      <td>8.0</td>\n",
       "      <td>159660.80</td>\n",
       "      <td>3</td>\n",
       "      <td>1</td>\n",
       "      <td>0</td>\n",
       "      <td>113931.57</td>\n",
       "      <td>1</td>\n",
       "    </tr>\n",
       "    <tr>\n",
       "      <td>3</td>\n",
       "      <td>4</td>\n",
       "      <td>15701354</td>\n",
       "      <td>Boni</td>\n",
       "      <td>699</td>\n",
       "      <td>France</td>\n",
       "      <td>Female</td>\n",
       "      <td>39</td>\n",
       "      <td>1.0</td>\n",
       "      <td>0.00</td>\n",
       "      <td>2</td>\n",
       "      <td>0</td>\n",
       "      <td>0</td>\n",
       "      <td>93826.63</td>\n",
       "      <td>0</td>\n",
       "    </tr>\n",
       "    <tr>\n",
       "      <td>4</td>\n",
       "      <td>5</td>\n",
       "      <td>15737888</td>\n",
       "      <td>Mitchell</td>\n",
       "      <td>850</td>\n",
       "      <td>Spain</td>\n",
       "      <td>Female</td>\n",
       "      <td>43</td>\n",
       "      <td>2.0</td>\n",
       "      <td>125510.82</td>\n",
       "      <td>1</td>\n",
       "      <td>1</td>\n",
       "      <td>1</td>\n",
       "      <td>79084.10</td>\n",
       "      <td>0</td>\n",
       "    </tr>\n",
       "  </tbody>\n",
       "</table>\n",
       "</div>"
      ],
      "text/plain": [
       "   RowNumber  CustomerId   Surname  CreditScore Geography  Gender  Age  \\\n",
       "0          1    15634602  Hargrave          619    France  Female   42   \n",
       "1          2    15647311      Hill          608     Spain  Female   41   \n",
       "2          3    15619304      Onio          502    France  Female   42   \n",
       "3          4    15701354      Boni          699    France  Female   39   \n",
       "4          5    15737888  Mitchell          850     Spain  Female   43   \n",
       "\n",
       "   Tenure    Balance  NumOfProducts  HasCrCard  IsActiveMember  \\\n",
       "0     2.0       0.00              1          1               1   \n",
       "1     1.0   83807.86              1          0               1   \n",
       "2     8.0  159660.80              3          1               0   \n",
       "3     1.0       0.00              2          0               0   \n",
       "4     2.0  125510.82              1          1               1   \n",
       "\n",
       "   EstimatedSalary  Exited  \n",
       "0        101348.88       1  \n",
       "1        112542.58       0  \n",
       "2        113931.57       1  \n",
       "3         93826.63       0  \n",
       "4         79084.10       0  "
      ]
     },
     "metadata": {},
     "output_type": "display_data"
    }
   ],
   "source": [
    "display(data.head())"
   ]
  },
  {
   "cell_type": "code",
   "execution_count": 5,
   "metadata": {},
   "outputs": [
    {
     "name": "stdout",
     "output_type": "stream",
     "text": [
      "1.0     952\n",
      "2.0     950\n",
      "8.0     933\n",
      "3.0     928\n",
      "5.0     927\n",
      "7.0     925\n",
      "4.0     885\n",
      "9.0     882\n",
      "6.0     881\n",
      "10.0    446\n",
      "0.0     382\n",
      "Name: Tenure, dtype: int64\n",
      "0.0     1291\n",
      "1.0      952\n",
      "2.0      950\n",
      "8.0      933\n",
      "3.0      928\n",
      "5.0      927\n",
      "7.0      925\n",
      "4.0      885\n",
      "9.0      882\n",
      "6.0      881\n",
      "10.0     446\n",
      "Name: Tenure, dtype: int64\n"
     ]
    }
   ],
   "source": [
    "print(data['Tenure'].value_counts())\n",
    "data['Tenure'] = data['Tenure'].fillna(0)\n",
    "print(data['Tenure'].value_counts())"
   ]
  },
  {
   "cell_type": "code",
   "execution_count": 6,
   "metadata": {},
   "outputs": [],
   "source": [
    "data = data.drop(['Surname', 'RowNumber', 'CustomerId'], axis = 1)"
   ]
  },
  {
   "cell_type": "code",
   "execution_count": 7,
   "metadata": {},
   "outputs": [],
   "source": [
    "data_ohe = pd.get_dummies(data, drop_first=True)"
   ]
  },
  {
   "cell_type": "code",
   "execution_count": 8,
   "metadata": {
    "scrolled": true
   },
   "outputs": [
    {
     "data": {
      "text/plain": [
       "(10000, 12)"
      ]
     },
     "execution_count": 8,
     "metadata": {},
     "output_type": "execute_result"
    }
   ],
   "source": [
    "data_ohe.shape"
   ]
  },
  {
   "cell_type": "code",
   "execution_count": 9,
   "metadata": {},
   "outputs": [
    {
     "name": "stdout",
     "output_type": "stream",
     "text": [
      "   CreditScore  Age  Tenure   Balance  NumOfProducts  HasCrCard  \\\n",
      "0          619   42     2.0      0.00              1          1   \n",
      "1          608   41     1.0  83807.86              1          0   \n",
      "\n",
      "   IsActiveMember  EstimatedSalary  Exited  Geography_Germany  \\\n",
      "0               1        101348.88       1                  0   \n",
      "1               1        112542.58       0                  0   \n",
      "\n",
      "   Geography_Spain  Gender_Male  \n",
      "0                0            0  \n",
      "1                1            0  \n"
     ]
    }
   ],
   "source": [
    "print(data_ohe.head(2))"
   ]
  },
  {
   "cell_type": "code",
   "execution_count": 10,
   "metadata": {},
   "outputs": [],
   "source": [
    "target = data_ohe['Exited']\n",
    "features = data_ohe.drop('Exited', axis = 1)\n",
    "features_a, features_valid, target_a, target_valid = train_test_split(features, target, test_size=0.2, random_state=12345)\n",
    "features_train, features_test, target_train, target_test = train_test_split(features_a, target_a, test_size=0.25, random_state=12345)"
   ]
  },
  {
   "cell_type": "code",
   "execution_count": 11,
   "metadata": {},
   "outputs": [],
   "source": [
    "pd.options.mode.chained_assignment = None\n",
    "numeric = ['CreditScore', 'Age', 'Tenure', 'Balance', 'NumOfProducts', 'EstimatedSalary']\n",
    "scaler = StandardScaler()\n",
    "scaler.fit(features_train[numeric])\n",
    "features_train[numeric] = scaler.transform(features_train[numeric])\n",
    "features_valid[numeric] = scaler.transform(features_valid[numeric]) \n",
    "features_test[numeric] = scaler.transform(features_test[numeric]) "
   ]
  },
  {
   "cell_type": "code",
   "execution_count": 12,
   "metadata": {
    "scrolled": true
   },
   "outputs": [
    {
     "data": {
      "text/html": [
       "<div>\n",
       "<style scoped>\n",
       "    .dataframe tbody tr th:only-of-type {\n",
       "        vertical-align: middle;\n",
       "    }\n",
       "\n",
       "    .dataframe tbody tr th {\n",
       "        vertical-align: top;\n",
       "    }\n",
       "\n",
       "    .dataframe thead th {\n",
       "        text-align: right;\n",
       "    }\n",
       "</style>\n",
       "<table border=\"1\" class=\"dataframe\">\n",
       "  <thead>\n",
       "    <tr style=\"text-align: right;\">\n",
       "      <th></th>\n",
       "      <th>CreditScore</th>\n",
       "      <th>Age</th>\n",
       "      <th>Tenure</th>\n",
       "      <th>Balance</th>\n",
       "      <th>NumOfProducts</th>\n",
       "      <th>HasCrCard</th>\n",
       "      <th>IsActiveMember</th>\n",
       "      <th>EstimatedSalary</th>\n",
       "      <th>Geography_Germany</th>\n",
       "      <th>Geography_Spain</th>\n",
       "      <th>Gender_Male</th>\n",
       "    </tr>\n",
       "  </thead>\n",
       "  <tbody>\n",
       "    <tr>\n",
       "      <td>492</td>\n",
       "      <td>-0.134048</td>\n",
       "      <td>-0.078068</td>\n",
       "      <td>-0.174142</td>\n",
       "      <td>0.076163</td>\n",
       "      <td>0.816929</td>\n",
       "      <td>0</td>\n",
       "      <td>1</td>\n",
       "      <td>0.331571</td>\n",
       "      <td>0</td>\n",
       "      <td>0</td>\n",
       "      <td>0</td>\n",
       "    </tr>\n",
       "    <tr>\n",
       "      <td>6655</td>\n",
       "      <td>-1.010798</td>\n",
       "      <td>0.494555</td>\n",
       "      <td>-1.451074</td>\n",
       "      <td>0.136391</td>\n",
       "      <td>-0.896909</td>\n",
       "      <td>1</td>\n",
       "      <td>1</td>\n",
       "      <td>-0.727858</td>\n",
       "      <td>0</td>\n",
       "      <td>0</td>\n",
       "      <td>1</td>\n",
       "    </tr>\n",
       "    <tr>\n",
       "      <td>4287</td>\n",
       "      <td>0.639554</td>\n",
       "      <td>1.353490</td>\n",
       "      <td>-1.131841</td>\n",
       "      <td>0.358435</td>\n",
       "      <td>-0.896909</td>\n",
       "      <td>1</td>\n",
       "      <td>1</td>\n",
       "      <td>-0.477006</td>\n",
       "      <td>1</td>\n",
       "      <td>0</td>\n",
       "      <td>1</td>\n",
       "    </tr>\n",
       "    <tr>\n",
       "      <td>42</td>\n",
       "      <td>-0.990168</td>\n",
       "      <td>2.116987</td>\n",
       "      <td>-0.812608</td>\n",
       "      <td>0.651725</td>\n",
       "      <td>-0.896909</td>\n",
       "      <td>1</td>\n",
       "      <td>1</td>\n",
       "      <td>-0.100232</td>\n",
       "      <td>0</td>\n",
       "      <td>0</td>\n",
       "      <td>0</td>\n",
       "    </tr>\n",
       "    <tr>\n",
       "      <td>8178</td>\n",
       "      <td>0.567351</td>\n",
       "      <td>0.685430</td>\n",
       "      <td>0.783558</td>\n",
       "      <td>0.813110</td>\n",
       "      <td>0.816929</td>\n",
       "      <td>1</td>\n",
       "      <td>1</td>\n",
       "      <td>0.801922</td>\n",
       "      <td>0</td>\n",
       "      <td>0</td>\n",
       "      <td>0</td>\n",
       "    </tr>\n",
       "  </tbody>\n",
       "</table>\n",
       "</div>"
      ],
      "text/plain": [
       "      CreditScore       Age    Tenure   Balance  NumOfProducts  HasCrCard  \\\n",
       "492     -0.134048 -0.078068 -0.174142  0.076163       0.816929          0   \n",
       "6655    -1.010798  0.494555 -1.451074  0.136391      -0.896909          1   \n",
       "4287     0.639554  1.353490 -1.131841  0.358435      -0.896909          1   \n",
       "42      -0.990168  2.116987 -0.812608  0.651725      -0.896909          1   \n",
       "8178     0.567351  0.685430  0.783558  0.813110       0.816929          1   \n",
       "\n",
       "      IsActiveMember  EstimatedSalary  Geography_Germany  Geography_Spain  \\\n",
       "492                1         0.331571                  0                0   \n",
       "6655               1        -0.727858                  0                0   \n",
       "4287               1        -0.477006                  1                0   \n",
       "42                 1        -0.100232                  0                0   \n",
       "8178               1         0.801922                  0                0   \n",
       "\n",
       "      Gender_Male  \n",
       "492             0  \n",
       "6655            1  \n",
       "4287            1  \n",
       "42              0  \n",
       "8178            0  "
      ]
     },
     "metadata": {},
     "output_type": "display_data"
    }
   ],
   "source": [
    "display(features_train.head())"
   ]
  },
  {
   "cell_type": "markdown",
   "metadata": {},
   "source": [
    "### Вывод\n",
    "Представленные данные были изучены, обнаружены пропуски в столбце Tenure, предположительно пропуски подразумевали, что клиент новый, поэтому были заменены на 0. Были удалены столбцы Surname, RowNumber, CustomerId, т.к. использовались только для обозначения клиента, а не содержали информацию о нем, и могли снизить качество модели. Для столбцов с нечисленными значениями было проведено прямое кодирование. После этого признаки были масштабированы методом стандартизации.  "
   ]
  },
  {
   "cell_type": "markdown",
   "metadata": {},
   "source": [
    "## Исследование задачи"
   ]
  },
  {
   "cell_type": "code",
   "execution_count": 13,
   "metadata": {
    "scrolled": true
   },
   "outputs": [
    {
     "name": "stdout",
     "output_type": "stream",
     "text": [
      "0    0.7963\n",
      "1    0.2037\n",
      "Name: Exited, dtype: float64\n"
     ]
    },
    {
     "data": {
      "image/png": "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\n",
      "text/plain": [
       "<Figure size 432x288 with 1 Axes>"
      ]
     },
     "metadata": {
      "needs_background": "light"
     },
     "output_type": "display_data"
    }
   ],
   "source": [
    "class_frequency = data['Exited'].value_counts(normalize = True)\n",
    "print(class_frequency)\n",
    "class_frequency.plot(kind = 'bar')\n",
    "plt.xlabel('Ответ')\n",
    "plt.ylabel('Доля ответов')\n",
    "plt.title('Баланс классов')\n",
    "plt.show()"
   ]
  },
  {
   "cell_type": "code",
   "execution_count": 14,
   "metadata": {},
   "outputs": [
    {
     "name": "stdout",
     "output_type": "stream",
     "text": [
      "Accuracy наилучшей модели на валидационной выборке: 0.8525\n",
      "Значение параметра n_estimators для модели с лучшей Accuracy: 121\n"
     ]
    }
   ],
   "source": [
    "best_model = None\n",
    "best_result = 0\n",
    "best_est = 0\n",
    "for est in range(1, 150, 10):\n",
    "    model = RandomForestClassifier(random_state=12345, n_estimators=est) \n",
    "    model.fit(features_train, target_train)\n",
    "    result = model.score(features_valid, target_valid)  \n",
    "    if result > best_result:\n",
    "        best_model = model\n",
    "        best_result = result\n",
    "        best_est = est\n",
    "print('Accuracy наилучшей модели на валидационной выборке:', best_result)\n",
    "print('Значение параметра n_estimators для модели с лучшей Accuracy:', best_est)"
   ]
  },
  {
   "cell_type": "code",
   "execution_count": 15,
   "metadata": {},
   "outputs": [
    {
     "name": "stdout",
     "output_type": "stream",
     "text": [
      "Accuracy наилучшей модели на валидационной выборке: 0.8485\n",
      "Значение параметра max_depth для модели с лучшей Accuracy: 7\n"
     ]
    }
   ],
   "source": [
    "best_model = None\n",
    "best_result = 0\n",
    "best_depth = 0\n",
    "for depth in range(1, 50):\n",
    "    model = DecisionTreeClassifier(random_state=12345, max_depth = depth)\n",
    "    model.fit(features_train, target_train) \n",
    "    result = model.score(features_valid, target_valid) \n",
    "    if result > best_result:\n",
    "        best_model = model\n",
    "        best_result = result\n",
    "        best_depth = depth\n",
    "print('Accuracy наилучшей модели на валидационной выборке:', best_result)\n",
    "print('Значение параметра max_depth для модели с лучшей Accuracy:', best_depth)"
   ]
  },
  {
   "cell_type": "code",
   "execution_count": 16,
   "metadata": {},
   "outputs": [
    {
     "name": "stdout",
     "output_type": "stream",
     "text": [
      "Accuracy модели логистической регрессии на валидационной выборке: 0.7995\n"
     ]
    }
   ],
   "source": [
    "model = LogisticRegression(random_state=12345, solver='liblinear')\n",
    "model.fit(features_train, target_train)\n",
    "result = model.score(features_valid, target_valid)\n",
    "print(\"Accuracy модели логистической регрессии на валидационной выборке:\", result)"
   ]
  },
  {
   "cell_type": "code",
   "execution_count": 17,
   "metadata": {
    "scrolled": true
   },
   "outputs": [
    {
     "name": "stdout",
     "output_type": "stream",
     "text": [
      "0.8525\n"
     ]
    }
   ],
   "source": [
    "model = RandomForestClassifier(random_state=12345, n_estimators=121) \n",
    "model.fit(features_train, target_train)\n",
    "predicted_valid = model.predict(features_valid)\n",
    "accuracy_valid = accuracy_score(target_valid, predicted_valid)\n",
    "print(accuracy_valid) "
   ]
  },
  {
   "cell_type": "code",
   "execution_count": 18,
   "metadata": {
    "scrolled": true
   },
   "outputs": [
    {
     "name": "stdout",
     "output_type": "stream",
     "text": [
      "Accuracy тривиальной модели: 0.7865\n"
     ]
    }
   ],
   "source": [
    "target_pred_constant = pd.Series(0, index = target_valid.index)\n",
    "print(\"Accuracy тривиальной модели:\", accuracy_score(target_valid, target_pred_constant)) "
   ]
  },
  {
   "cell_type": "code",
   "execution_count": 19,
   "metadata": {},
   "outputs": [
    {
     "name": "stdout",
     "output_type": "stream",
     "text": [
      "[[1512   61]\n",
      " [ 234  193]]\n"
     ]
    }
   ],
   "source": [
    "print(confusion_matrix(target_valid, predicted_valid))"
   ]
  },
  {
   "cell_type": "code",
   "execution_count": 20,
   "metadata": {},
   "outputs": [
    {
     "name": "stdout",
     "output_type": "stream",
     "text": [
      "Полнота: 0.4519906323185012\n",
      "Точность: 0.7598425196850394\n"
     ]
    }
   ],
   "source": [
    "print(\"Полнота:\", recall_score(target_valid, predicted_valid))\n",
    "print(\"Точность:\", precision_score(target_valid, predicted_valid))"
   ]
  },
  {
   "cell_type": "code",
   "execution_count": 21,
   "metadata": {},
   "outputs": [
    {
     "name": "stdout",
     "output_type": "stream",
     "text": [
      "F1_score: 0.566813509544787\n"
     ]
    }
   ],
   "source": [
    "print(\"F1_score:\", f1_score(target_valid, predicted_valid))"
   ]
  },
  {
   "cell_type": "markdown",
   "metadata": {},
   "source": [
    "### Вывод\n",
    "По резуьтату исследования на дисбаланс выяснилось что соотношение отрицательных к положительным ответам в тренировочных данных примерно составляет соотношение 4:1. Были исследованы модели без учета дисбаланса, лучшей по значению accuracy оказалась модель случайного леса. Значение accuracy составило 0.8525, что превысило значение accuracy для тривиальной модели(0.7865). В дальнейшем исследовали лучшую модель, в итоге значение метрики f1_score оказалось равным 0,567, что является неплохим результатом, но данный показатель можно улучшить в дальнейшем."
   ]
  },
  {
   "cell_type": "markdown",
   "metadata": {},
   "source": [
    "## Борьба с дисбалансом"
   ]
  },
  {
   "cell_type": "markdown",
   "metadata": {},
   "source": [
    "### Увеличение выборки"
   ]
  },
  {
   "cell_type": "code",
   "execution_count": 22,
   "metadata": {},
   "outputs": [],
   "source": [
    "def upsample(features,target,repeat):\n",
    "    features_zeros = features[target == 0]\n",
    "    features_ones = features[target == 1]\n",
    "    target_zeros = target[target == 0]\n",
    "    target_ones = target[target == 1]\n",
    "    features_upsampled = shuffle(pd.concat([features_zeros] + [features_ones] * repeat), random_state = 12345)\n",
    "    target_upsampled = shuffle(pd.concat([target_zeros] + [target_ones] * repeat), random_state = 12345)\n",
    "    return features_upsampled, target_upsampled\n",
    "features_upsampled, target_upsampled = upsample(features_train, target_train, 4)"
   ]
  },
  {
   "cell_type": "code",
   "execution_count": 23,
   "metadata": {},
   "outputs": [
    {
     "name": "stdout",
     "output_type": "stream",
     "text": [
      "F1_score наилучшей модели на валидационной выборке: 0.6075619295958279\n",
      "Значение параметра n_estimators для модели с лучшим F1_score: 111\n"
     ]
    }
   ],
   "source": [
    "best_model = None\n",
    "best_result = 0\n",
    "best_est = 0\n",
    "for est in range(1, 150, 5):\n",
    "    model = RandomForestClassifier(random_state=12345, n_estimators=est, class_weight = 'balanced') \n",
    "    model.fit(features_upsampled, target_upsampled) \n",
    "    predicted_valid = model.predict(features_valid)\n",
    "    result = f1_score(target_valid, predicted_valid)\n",
    "    if result > best_result:\n",
    "        best_model = model\n",
    "        best_result = result\n",
    "        best_est = est\n",
    "print('F1_score наилучшей модели на валидационной выборке:', best_result)\n",
    "print('Значение параметра n_estimators для модели с лучшим F1_score:', best_est)"
   ]
  },
  {
   "cell_type": "code",
   "execution_count": 24,
   "metadata": {},
   "outputs": [
    {
     "name": "stdout",
     "output_type": "stream",
     "text": [
      "F1_score наилучшей модели на валидационной выборке: 0.5933852140077821\n",
      "Значение параметра max_depth для модели с лучшим F1_score: 6\n"
     ]
    }
   ],
   "source": [
    "best_model = None\n",
    "best_result = 0\n",
    "best_depth = 0\n",
    "for depth in range(1, 50):\n",
    "    model = DecisionTreeClassifier(random_state=12345, max_depth = depth, class_weight = 'balanced')\n",
    "    model.fit(features_upsampled, target_upsampled) \n",
    "    predicted_valid = model.predict(features_valid)\n",
    "    result = f1_score(target_valid, predicted_valid)\n",
    "    if result > best_result:\n",
    "        best_model = model\n",
    "        best_result = result\n",
    "        best_depth = depth\n",
    "print('F1_score наилучшей модели на валидационной выборке:', best_result)\n",
    "print('Значение параметра max_depth для модели с лучшим F1_score:', best_depth)"
   ]
  },
  {
   "cell_type": "code",
   "execution_count": 25,
   "metadata": {},
   "outputs": [
    {
     "name": "stdout",
     "output_type": "stream",
     "text": [
      "F1_score 0.5025295109612141\n",
      "AUC-ROC: 0.7643846466499225\n"
     ]
    }
   ],
   "source": [
    "model = LogisticRegression(random_state=12345, solver='liblinear', class_weight = 'balanced')\n",
    "model.fit(features_upsampled, target_upsampled)\n",
    "predicted_valid = model.predict(features_valid)\n",
    "probabilities_valid = model.predict_proba(features_valid)\n",
    "probabilities_one_valid = probabilities_valid[:, 1]\n",
    "\n",
    "print(\"F1_score\", f1_score(target_valid, predicted_valid))\n",
    "print(\"AUC-ROC:\", roc_auc_score(target_valid, probabilities_one_valid))"
   ]
  },
  {
   "cell_type": "code",
   "execution_count": 26,
   "metadata": {},
   "outputs": [
    {
     "name": "stdout",
     "output_type": "stream",
     "text": [
      "Порог = 0.30 | F1_score = 0.6008\n",
      "Порог = 0.32 | F1_score = 0.6033\n",
      "Порог = 0.34 | F1_score = 0.6044\n",
      "Порог = 0.36 | F1_score = 0.6159\n",
      "Порог = 0.38 | F1_score = 0.6179\n",
      "Порог = 0.40 | F1_score = 0.6156\n",
      "Порог = 0.42 | F1_score = 0.6241\n",
      "Порог = 0.44 | F1_score = 0.6262\n",
      "Порог = 0.46 | F1_score = 0.6119\n",
      "Порог = 0.48 | F1_score = 0.6099\n",
      "Порог = 0.50 | F1_score = 0.6076\n",
      "Порог = 0.52 | F1_score = 0.5898\n",
      "Порог = 0.54 | F1_score = 0.5890\n",
      "Порог = 0.56 | F1_score = 0.5771\n",
      "Порог = 0.58 | F1_score = 0.5739\n",
      "Порог = 0.60 | F1_score = 0.5575\n",
      "Порог = 0.62 | F1_score = 0.5479\n",
      "Порог = 0.64 | F1_score = 0.5147\n",
      "Порог = 0.66 | F1_score = 0.4969\n",
      "Порог = 0.68 | F1_score = 0.4840\n"
     ]
    }
   ],
   "source": [
    "model = RandomForestClassifier(random_state=12345, n_estimators=111, class_weight = 'balanced') \n",
    "model.fit(features_upsampled, target_upsampled)\n",
    "probabilities_valid = model.predict_proba(features_valid)\n",
    "probabilities_one_valid = probabilities_valid[:, 1]\n",
    "\n",
    "for threshold in np.arange(0.3, 0.7, 0.02):\n",
    "    predicted_valid = probabilities_one_valid > threshold \n",
    "    precision = precision_score(target_valid, predicted_valid)\n",
    "    recall = recall_score(target_valid, predicted_valid)\n",
    "    f1 = f1_score(target_valid, predicted_valid)\n",
    "    print(\"Порог = {:.2f} | F1_score = {:.4f}\".format(\n",
    "        threshold, f1))"
   ]
  },
  {
   "cell_type": "code",
   "execution_count": 27,
   "metadata": {},
   "outputs": [
    {
     "name": "stdout",
     "output_type": "stream",
     "text": [
      "F1_score: 0.6261904761904762\n"
     ]
    }
   ],
   "source": [
    "model = RandomForestClassifier(random_state=12345, n_estimators=111, class_weight = 'balanced') \n",
    "model.fit(features_upsampled, target_upsampled)\n",
    "probabilities_valid = model.predict_proba(features_valid)\n",
    "probabilities_one_valid = probabilities_valid[:, 1]\n",
    "predicted_valid = [1 if i >=0.44 else 0 for i in probabilities_one_valid]\n",
    "print(\"F1_score:\", f1_score(target_valid, predicted_valid))"
   ]
  },
  {
   "cell_type": "code",
   "execution_count": 28,
   "metadata": {
    "scrolled": true
   },
   "outputs": [
    {
     "data": {
      "image/png": "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\n",
      "text/plain": [
       "<Figure size 432x288 with 1 Axes>"
      ]
     },
     "metadata": {
      "needs_background": "light"
     },
     "output_type": "display_data"
    },
    {
     "name": "stdout",
     "output_type": "stream",
     "text": [
      "AUC-ROC: 0.8584515335633071\n"
     ]
    }
   ],
   "source": [
    "fpr, tpr, thresholds = roc_curve(target_valid, probabilities_one_valid)\n",
    "plt.figure()\n",
    "plt.plot(fpr, tpr)\n",
    "plt.plot([0, 1], [0, 1], linestyle='--')\n",
    "plt.xlim([0.0, 1.0])\n",
    "plt.ylim([0.0, 1.0])\n",
    "plt.xlabel('False Positive Rate')\n",
    "plt.ylabel('True Positive Rate')\n",
    "plt.title('ROC-кривая')\n",
    "plt.show()\n",
    "print(\"AUC-ROC:\", roc_auc_score(target_valid, probabilities_one_valid))"
   ]
  },
  {
   "cell_type": "markdown",
   "metadata": {},
   "source": [
    "### Уменьшение выборки"
   ]
  },
  {
   "cell_type": "code",
   "execution_count": 29,
   "metadata": {},
   "outputs": [],
   "source": [
    "def downsample(features, target, fraction):\n",
    "    features_zeros = features[target == 0]\n",
    "    features_ones = features[target == 1]\n",
    "    target_zeros = target[target == 0]\n",
    "    target_ones = target[target == 1]\n",
    "\n",
    "    features_downsampled = pd.concat(\n",
    "        [features_zeros.sample(frac=fraction, random_state=12345)] + [features_ones])\n",
    "    target_downsampled = pd.concat(\n",
    "        [target_zeros.sample(frac = fraction, random_state = 12345)] + [target_ones])\n",
    "    \n",
    "    features_downsampled, target_downsampled = shuffle(\n",
    "        features_downsampled, target_downsampled, random_state=12345)\n",
    "    \n",
    "    return features_downsampled, target_downsampled\n",
    "\n",
    "features_downsampled, target_downsampled = downsample(features_train, target_train, 0.25)"
   ]
  },
  {
   "cell_type": "code",
   "execution_count": 30,
   "metadata": {
    "scrolled": true
   },
   "outputs": [
    {
     "name": "stdout",
     "output_type": "stream",
     "text": [
      "F1_score наилучшей модели на валидационной выборке: 0.6142595978062158\n",
      "Значение параметра n_estimators для модели с лучшим F1_score: 46\n"
     ]
    }
   ],
   "source": [
    "best_model = None\n",
    "best_result = 0\n",
    "best_est = 0\n",
    "for est in range(1, 150, 5):\n",
    "    model = RandomForestClassifier(random_state=12345, n_estimators=est, class_weight = 'balanced') \n",
    "    model.fit(features_downsampled, target_downsampled) \n",
    "    predicted_valid = model.predict(features_valid)\n",
    "    result = f1_score(target_valid, predicted_valid)\n",
    "    if result > best_result:\n",
    "        best_model = model\n",
    "        best_result = result\n",
    "        best_est = est\n",
    "print('F1_score наилучшей модели на валидационной выборке:', best_result)\n",
    "print('Значение параметра n_estimators для модели с лучшим F1_score:', best_est)"
   ]
  },
  {
   "cell_type": "code",
   "execution_count": 31,
   "metadata": {
    "scrolled": true
   },
   "outputs": [
    {
     "name": "stdout",
     "output_type": "stream",
     "text": [
      "F1_score наилучшей модели на валидационной выборке: 0.582210242587601\n",
      "Значение параметра max_depth для модели с лучшим F1_score: 7\n"
     ]
    }
   ],
   "source": [
    "best_model = None\n",
    "best_result = 0\n",
    "best_depth = 0\n",
    "for depth in range(1, 20):\n",
    "    model = DecisionTreeClassifier(random_state=12345, max_depth = depth, class_weight = 'balanced')\n",
    "    model.fit(features_downsampled, target_downsampled) \n",
    "    predicted_valid = model.predict(features_valid)\n",
    "    result = f1_score(target_valid, predicted_valid)\n",
    "    if result > best_result:\n",
    "        best_model = model\n",
    "        best_result = result\n",
    "        best_depth = depth\n",
    "print('F1_score наилучшей модели на валидационной выборке:', best_result)\n",
    "print('Значение параметра max_depth для модели с лучшим F1_score:', best_depth)"
   ]
  },
  {
   "cell_type": "code",
   "execution_count": 32,
   "metadata": {},
   "outputs": [
    {
     "name": "stdout",
     "output_type": "stream",
     "text": [
      "Порог = 0.30 | F1_score = 0.4991\n",
      "Порог = 0.32 | F1_score = 0.5075\n",
      "Порог = 0.34 | F1_score = 0.5196\n",
      "Порог = 0.36 | F1_score = 0.5330\n",
      "Порог = 0.38 | F1_score = 0.5486\n",
      "Порог = 0.40 | F1_score = 0.5539\n",
      "Порог = 0.42 | F1_score = 0.5658\n",
      "Порог = 0.44 | F1_score = 0.5759\n",
      "Порог = 0.46 | F1_score = 0.5928\n",
      "Порог = 0.48 | F1_score = 0.6103\n",
      "Порог = 0.50 | F1_score = 0.6143\n",
      "Порог = 0.52 | F1_score = 0.6143\n",
      "Порог = 0.54 | F1_score = 0.6164\n",
      "Порог = 0.56 | F1_score = 0.6255\n",
      "Порог = 0.58 | F1_score = 0.6302\n",
      "Порог = 0.60 | F1_score = 0.6350\n",
      "Порог = 0.62 | F1_score = 0.6173\n",
      "Порог = 0.64 | F1_score = 0.6224\n",
      "Порог = 0.66 | F1_score = 0.6169\n",
      "Порог = 0.68 | F1_score = 0.6010\n"
     ]
    }
   ],
   "source": [
    "model = RandomForestClassifier(random_state=12345, n_estimators=46, class_weight = 'balanced') \n",
    "model.fit(features_downsampled, target_downsampled)\n",
    "probabilities_valid = model.predict_proba(features_valid)\n",
    "probabilities_one_valid = probabilities_valid[:, 1]\n",
    "for threshold in np.arange(0.3, 0.7, 0.02):\n",
    "    predicted_valid = probabilities_one_valid > threshold \n",
    "    precision = precision_score(target_valid, predicted_valid)\n",
    "    recall = recall_score(target_valid, predicted_valid)\n",
    "    f1 = f1_score(target_valid, predicted_valid)\n",
    "    print(\"Порог = {:.2f} | F1_score = {:.4f}\".format(\n",
    "        threshold, f1))"
   ]
  },
  {
   "cell_type": "code",
   "execution_count": 33,
   "metadata": {},
   "outputs": [
    {
     "name": "stdout",
     "output_type": "stream",
     "text": [
      "F1: 0.6349892008639308\n"
     ]
    }
   ],
   "source": [
    "model = RandomForestClassifier(random_state=12345, n_estimators=46, class_weight = 'balanced') \n",
    "model.fit(features_downsampled, target_downsampled)\n",
    "probabilities_valid = model.predict_proba(features_valid)\n",
    "probabilities_one_valid = probabilities_valid[:, 1]\n",
    "predicted_valid = [1 if i >=0.6 else 0 for i in probabilities_one_valid]\n",
    "\n",
    "print(\"F1:\", f1_score(target_valid, predicted_valid))"
   ]
  },
  {
   "cell_type": "code",
   "execution_count": 34,
   "metadata": {},
   "outputs": [
    {
     "data": {
      "image/png": "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\n",
      "text/plain": [
       "<Figure size 432x288 with 1 Axes>"
      ]
     },
     "metadata": {
      "needs_background": "light"
     },
     "output_type": "display_data"
    },
    {
     "name": "stdout",
     "output_type": "stream",
     "text": [
      "AUC-ROC: 0.853848089317538\n"
     ]
    }
   ],
   "source": [
    "fpr, tpr, thresholds = roc_curve(target_valid, probabilities_one_valid)\n",
    "plt.figure()\n",
    "plt.plot(fpr, tpr)\n",
    "plt.plot([0, 1], [0, 1], linestyle='--')\n",
    "plt.xlim([0.0, 1.0])\n",
    "plt.ylim([0.0, 1.0])\n",
    "plt.xlabel('False Positive Rate')\n",
    "plt.ylabel('True Positive Rate')\n",
    "plt.title('ROC-кривая')\n",
    "plt.show()\n",
    "print(\"AUC-ROC:\", roc_auc_score(target_valid, probabilities_one_valid))"
   ]
  },
  {
   "cell_type": "markdown",
   "metadata": {},
   "source": [
    "### Вывод\n",
    "Для борьбы с дисбалансом рассматривалось два случая: увеличение и уменьшение выборки. В обоих случаях были рассмотрены три различных модели, и в обоих случаях лучшей оказалась модель случайного леса. После выбора лучшей модели с учетом взвешивания классов, было применено изменение порога классификации для увеличения значения F1_score, и построена ROC-кривая. В итоге получились значения F1_score равными 0,626 при применении увеличения выборки и 0,635 при применении уменьшения выборки."
   ]
  },
  {
   "cell_type": "markdown",
   "metadata": {},
   "source": [
    "## Тестирование модели"
   ]
  },
  {
   "cell_type": "code",
   "execution_count": 35,
   "metadata": {},
   "outputs": [
    {
     "name": "stdout",
     "output_type": "stream",
     "text": [
      "F1: 0.602287166454892\n"
     ]
    }
   ],
   "source": [
    "model = RandomForestClassifier(random_state=12345, n_estimators=111, class_weight = 'balanced') \n",
    "model.fit(features_upsampled, target_upsampled)\n",
    "probabilities_test = model.predict_proba(features_test)\n",
    "probabilities_one_test = probabilities_test[:, 1]\n",
    "predicted_test = [1 if i >=0.44 else 0 for i in probabilities_one_test]\n",
    "print(\"F1:\", f1_score(target_test, predicted_test))    "
   ]
  },
  {
   "cell_type": "code",
   "execution_count": 36,
   "metadata": {},
   "outputs": [
    {
     "data": {
      "image/png": "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\n",
      "text/plain": [
       "<Figure size 432x288 with 1 Axes>"
      ]
     },
     "metadata": {
      "needs_background": "light"
     },
     "output_type": "display_data"
    },
    {
     "name": "stdout",
     "output_type": "stream",
     "text": [
      "AUC-ROC: 0.8457144037932409\n"
     ]
    }
   ],
   "source": [
    "fpr, tpr, thresholds = roc_curve(target_test, probabilities_one_test)\n",
    "plt.figure()\n",
    "plt.plot(fpr, tpr)\n",
    "plt.plot([0, 1], [0, 1], linestyle='--')\n",
    "plt.xlim([0.0, 1.0])\n",
    "plt.ylim([0.0, 1.0])\n",
    "plt.xlabel('False Positive Rate')\n",
    "plt.ylabel('True Positive Rate')\n",
    "plt.title('ROC-кривая')\n",
    "plt.show()\n",
    "print(\"AUC-ROC:\", roc_auc_score(target_test, probabilities_one_test))"
   ]
  },
  {
   "cell_type": "code",
   "execution_count": 37,
   "metadata": {},
   "outputs": [
    {
     "name": "stdout",
     "output_type": "stream",
     "text": [
      "F1: 0.579610538373425\n"
     ]
    }
   ],
   "source": [
    "model = RandomForestClassifier(random_state=12345, n_estimators=46, class_weight = 'balanced') \n",
    "model.fit(features_downsampled, target_downsampled)\n",
    "probabilities_test = model.predict_proba(features_test)\n",
    "probabilities_one_test = probabilities_test[:, 1]\n",
    "predicted_test = [1 if i >=0.6 else 0 for i in probabilities_one_test]\n",
    "print(\"F1:\", f1_score(target_test, predicted_test))   "
   ]
  },
  {
   "cell_type": "code",
   "execution_count": 38,
   "metadata": {
    "scrolled": true
   },
   "outputs": [
    {
     "data": {
      "image/png": "iVBORw0KGgoAAAANSUhEUgAAAYoAAAEWCAYAAAB42tAoAAAABHNCSVQICAgIfAhkiAAAAAlwSFlzAAALEgAACxIB0t1+/AAAADh0RVh0U29mdHdhcmUAbWF0cGxvdGxpYiB2ZXJzaW9uMy4xLjAsIGh0dHA6Ly9tYXRwbG90bGliLm9yZy+17YcXAAAgAElEQVR4nO3dd3hUZfbA8e9JT0ijl5DQO0gHFbuo2LuCgOK6snbXuu7quq66xe26uqusIhbsLoKAfV0LP6lKE+ktoUMa6cnM+f1xLyZmQ5iETO5Mcj7PMw8zd+7cObkkc+Z93/ueV1QVY4wx5nAivA7AGGNMaLNEYYwxplaWKIwxxtTKEoUxxphaWaIwxhhTK0sUxhhjamWJwhhjTK0sUZiwJSJbRaRYRApEZLeIzBCRxCrPHy8i/xGRgyKSJyLvikj/asdIFpG/ich29zib3MdtGv8nMiY0WaIw4e58VU0EhgBDgZ8DiMhxwIfAbKAT0A1YASwQke7uPjHAJ8AAYByQDBwHHABGNe6PYUzoskRhmgRV3Q18gJMwAP4AvKiqj6vqQVXNVtUHgIXAQ+4+VwMZwMWqukZV/aq6V1UfUdX5Nb2PiDwkIi+79+NE5DMRecx93FVEVESmishOEdklInfX9Fr38T/c/Xu6j2eISJnbsskWkWdFJMp9bpSIfCUiue5xn3QT3aFjXSQi69zWU4F73K5Hf2aNsURhmggR6QycDWwUkQTgeODNGnZ9AzjDvT8WeF9VC+rxflHusdar6s+qPX0q0As4E/iZiIyt4fW93Xir+4PbQuoPnIvT0gHwAXcAbXBaPacDN1V53dPA71Q1CUit689jTG0sUZhw946IHAQygb3Ar4BWOL/bu2rYfxfOhy1A68PscyQCTAcSgRtqeP7XqlqoqquA54EJNezzW+CRWt4j0n2fAwCqukxVF6pqhapuBZ4BTq72migRkTr9JMYEwBKFCXcXud+iTwH64iSBHMAPdKxh/47Afvf+gcPsA4CITHS7cQpE5L0qT10M9MMZ22hbw0szq9zfhjNGUvW4xwJ9gBdqeO3dIpLrHuMrYIn7mt4iMtcdtM/HSTRVB9ynAPcBxVV+PmMahCUK0ySo6mfADOBPqlqI8yF7eQ27XoEzgA3wMXCWiLQ4zDFnqmqie6vaTbQZp3vpOeAfNbw0vcr9DGBntef/APxcVX01vPZPqpoKJAExwD3u9n8Ca4FeqpoM/AKnxXHIR0A+MJkfJhBjjpolCtOU/A04Q0QG43y7vkZEbhORJBFpKSKP4vTv/9rd/yWcb+5vi0hfEYkQkdYi8gsROaeW91nujmv8GugrIldWe/6XIpIgIgOAa4HXqzx3GuBX1blH+Fl8gFLZYknCSQQFItIXuLHa/ncBO1S1pnEZY46KJQrTZKjqPuBF4EFV/RI4C7gEZxxiG87lsyeo6gZ3/1KcAe21VH4jX4zzjXxRAO9XipMIqs+7+AzYiNNy+ZOqfljluY7AvbUc9l4RKQB24/x9PuZuvxu4CjgI/IsqyUdEeuAkipswJgjEFi4ypmG4l6NuAaJVtcLbaIxpONaiMMYYU6ugJQoRmS4ie0Vk9WGeFxF5QkQ2ishKERkWrFiMMcbUXzBbFDOonCxUk7NxJiX1AqbiXNVhTNhS1a2qKtbtZJqaoCUKVf0cyK5llwtxSiyoqi4EUkXksNe0G2OM8UaUh++dxg8nJmW52/5npqyITMVpddCiRYvhffv2bZQAjTEmFFT4lbIKP+U+P2UVfsrcf8t9fir8is9/+IuS0thPshSxYlfZflWtaYLoEXmZKAKmqtOAaQAjRozQpUuXehyRMcb8L1WlpNxPTlEZhaV164EsrfCTlVNMVk4RmdlFZLr3s3KKKSqrnJspQIeEaDq3TCAtNZ5WiTG0TIimZUIMqQkxtGoRTWq88zguJpKEFTOIKNpP8tkPbqvvz+VlotjBD2ewdna3GWOM54rLfGQXlZFbVEZeUTm5xeXkFJWRW1ROXnE5ue793KJycovd+8XllFX4j/q9k2Kj6NwqgS6tW3BCz7akt4qnc8sE0lvFk5YaT1Jc9OFfnL8T5t4OAy+BY66Akw7NzXyw3vF4mSjmALeIyGvAaCBPVetToM0YY+qs3OdnV24JmTlFbM+u/BafmV1EVk4R+wvKDvvauOgIUuNjSE2IJjUhmu5tEklNiCYlIfr77YmxUdSlRGN0ZARpqfGkt0wgOT6KOtd3VIWvX4APfwm+cuh9Zt1eX4ugJQoReRWnUFsbEcnCqeoZDaCqTwPzgXNwZrAW4cxwNcaYOjnU3VNUVkFRmY+Sch9FZc6tuLzi+/u780rcZFBEZnYxu/KKqdq1HxUhdEqNJ71VPGP7tSe9VQJtEmNIqZIQWibEkBIfTVx0pHc/cE2yN8Oc22DrF9D1RLjgCWjVvcEOH7REoao1lVau+rwCNwfr/Y0x4cvvV/YXlJKVW8yOnGJ25haz49D9vBIKSssp/j4Z+Ai0wES7pFjSWyUwsmtL0lulkd4ygfRWTpdOh+Q4oiLDdA7ynjWwawWc/zgMu4Y6NWUCEBaD2caYpkNVyS+u4EBhKbvySr5PADtyKxPCrtwSynw/7OtPjouiU6rTR58cn0R8TCQJ0ZEkxEQSHxNFfHQECTFRzvaYSPffKOLdfdomxYZeS+BoHEoOQyZAv/Ogy/GQ0Coob2WJwhhzVMp9zlU+2YVlZBeUke3eP1Dgbityt7v3cwrLqKh2OaeI820/LTWeYzqnMm5gHJ1T40lrGf99cqh1ALc5qSiDL/7s3BLbwYCLITouaEkCLFEYY4CSch/5xc7VPPklzr95xeXkFZWTV1xR+bi4/Pv9Du1b9dLN6lITommVEEOrFjF0aZ3AsC6ptHQft06MoX1yHJ1TE+iQEkdMVJh2+zSmrKUw+xbY9x0ccyWc9TsnSQSZJQpjmgm/X8nMKWLt7oOsc29rd+eTlVNM6REu6WwRE0lKfDTJ8dGkxEfTpXUCKe79lHhnoLdVi1hatYj5/tYyITp8+/xDUf5OmD7OaUVc9Qb0PqvR3toShTFN0P6CUjcRHGTd7nzW7T7I+j0FFJdXfvvPaJVAnw5JnNa3HakJMd8ngeq35Lgo+8D30v6N0KYnJHeCy5+HbidDXHKjhmCJwpgwUlRWwYGCMg4UlnGgoJQDBWXsLywl2922O6+EDXsP/mAOQOsWMfTpkMT4Uen0aZ9Enw5J9G6fRItY+/MPacW58NGD8PWLMGUedB0D/c73JBT7TTEmhJRV+FmzK5+vt+Wwdnc++wuchLDfHQyu2iKoKj46ktaJMbRJjOXUPu3o0yGJvh2S6dMhibZJsY38U5ijtnY+zLsTCvbAmNsgzdtVGCxRGOOhvfklfL09h6+35/L1thxW7cj7frygTWIs7ZNjaZ0YS/e2ibRuEUPrxFhaJ8ZU3ncHhRNi7E+5yZh9C3zzErQbAONf8TxJgCUKYxpNuc/Pmp35P0gMO3KLAYiJjGBAWjKTju3CsIyWDOuSSseUeI8jNo3m0IxBEeg0FFIzYMxPISrG27hcliiMCaJyn5+P1+zh1SWZLNp84PvWQseUOIZltOTaMV0Z1qUlAzolExvVhCaDmcDlZcHcO2DgpTB4PIy8zuuI/oclCmOCYEduMa8t3s5rSzLZd7CUtNR4Jo7uwvAu1lowLr8flk2Hjx4C9UHf87yO6LAsURjTQHx+5bP1e5m5cDufrtuLAqf1acekY7twUu+2REY0bP0dE8YObII5t8K2BdD9FKdGU8uuHgd1eJYojDlKew+W8MaSTF5dnMmO3GLaJsVy86k9uXJkOp1bJngdnglF+9bCntVw4VMwZGKDF/FraJYojKmn5Zm5TP9yC/NX7aLCr4zp2ZoHzu3H2P7tibYJaqa63auc25CroO+5cPsKiG/pdVQBsURhTB1U+Py8/+1upn+5ha+355IUG8U1x3dl4ugMurdN9Do8E4oqSuHzP8KXf4XEDjDgEqc+U5gkCbBEYUxA8orKeXXJdl78v63szCuhS+sEHjq/P5eNSCfRZjibw8lc7MyL2L8OBk+As37bKEX8Gpr9hhtTi037Cnh+wRbeXraD4nIfx/dozcMXDuTUvu1scNrULn8nPH8OJLaHiW9BrzO8jqjeLFEYU42q8uXG/Uz/cgufrttHTFQEFw3pxLVjutGvY+MWYzNhaN86aNvHLeI3A7qfDLFJXkd1VCxRGINTbG/T3kKWZ+bw4lfb2LC3gDaJsdwxtjcTj82gTaLVSzJHUJwDHzwAy1+Ga99zVpzrF7pzI+rCEoVpVg6WlLNxbwEb9hY4/+45yIa9BWTlFH+/T/+Oyfz58sGcN7ijzZY2gfnuXZh3FxTuhxPuhE7e12dqSJYoTJO2v6CUuSt28snavWzYU8Du/JLvn4uJiqBH20SGZbTkyhHp9GyXSK/2SfRo2wIJ8evaTQh552anFdFhkLOgUKchXkfU4CxRmCansLSCj9bsYdY3O/hy4358fqV3+0SO79naSQbtkujVLpH0Vgk2IG3qp2oRv84joHV3OP42iGya63pbojBNQrnPz5cb9vPO8h18+O0eist9pKXG85OTunPR0DR6tw/vwUQTQnK3w7s/hUGXw5AJMOJaryMKOksUJmz5/co3mTnMWb6TuSt3caCwjJT4aC4elsZFQ9IY0aUlEdZiMA3F74elz8HHDzktigEXeR1Ro7FEYcKKkxxymbdyF++t3sWuvBJioyIY2689Fw1N4+TebYmJsvIZpoHt3+AU8dv+FfQ4Dc77G7Ts4nVUjcYShQl5qlWSw6pd7MwrISYygpN6t+XecX0Y2689SXFNs2/YhIj9G2Dvd3DRP50Z1s3sYgdLFCZkHSwp5x//3cSc5TvZkVvsJoc23DOuD6f3a0+yJQcTTLtWOEX8hk6Cvue4RfxSvY7KE5YoTEj6aM0efvnOavYeLOHUPu2468zejO1vycE0gvIS+OwxWPC4M7t64GVuEb/mmSTAEoUJMfsOlvLQu98yb+Uu+nZI4unJwxmS3nz/QE0j277QKeJ3YAMMmQRnPRqWRfwamiUKExJUlTeXZfGbed9RXO7jnrP6MPWk7raug2k8+TthxnmQ3BEm/Rt6nu51RCHDEoXx3LYDhfxi1ioWbDzAqK6t+N2lg+hhazuYxrJ3LbTr63QzXfkSdD0RYu33rypLFMYzFT4/0xds4S8frSc6IoLfXDyQCSMzbO6DaRxF2fDB/bDiFZgyH7qOgT5nex1VSLJEYTzx7c48fvb2SlbvyGdsv/Y8etFAOqRYX7BpJGtmw7y7oTgbTrwb0oZ7HVFIs0Rhgk5V2ZlXworMXFZk5rI8M5el23JomRDDPyYO4+yBHawIn2k8s250WhEdB8Okt6HjMV5HFPIsUZgGl1dczsqsQ0khjxVZuew7WApATGQE/Tsl8+MTu3HjyT1ITYjxOFrTLFQt4pc+Ctr2huNuhUj7CAxEUM+SiIwDHgcigWdV9ffVns8AXgBS3X3uU9X5wYzJNCyfX1m9I4/lh1oLWbls3lf4/fPd27bgxF5tGJKeyuDOqfTrmGwlNkzjytkK794Ox1wJQ65qFkX8GlrQEoWIRAJPAWcAWcASEZmjqmuq7PYA8Iaq/lNE+gPzga7Bisk0rG+25/CLWav5blc+AG0SYxmSnsqlwzozuHMqgzqnkBJvE+SMR/w+WPwv+OTXIBEw6AqvIwpbwWxRjAI2qupmABF5DbgQqJooFDi0CHEKsDOI8ZgGkl9Szh/fX8fLi7bRPimOP152DGN6tqFjSpyNNZjQsG+dM3EuazH0PAPO+yukpnsdVdgKZqJIAzKrPM4CRlfb5yHgQxG5FWgBjK3pQCIyFZgKkJGR0eCBmsCoKnNX7uLhuWs4UFDKlOO7cteZfUiMtX5eE2KyNzuzqy+eBsdc0eyK+DU0r//CJwAzVPXPInIc8JKIDFRVf9WdVHUaMA1gxIgR6kGczd72A0U8MHs1n6/fx6C0FKZfM5JBnVO8DsuYSju/gd2rYdhkZz7E7SshLvnIrzNHFMxEsQOo2tbr7G6r6jpgHICqfiUicUAbYG8Q4zJ1UFbh519fbOaJTzYQHRnBr87vz9XHdbUlRE3oKC+G//4e/u/vkJLmrDwXHWdJogEFM1EsAXqJSDecBDEeuKraPtuB04EZItIPiAP2BTEmE6Byn5+P1+zhLx+tZ8PeAs4e2IFfnT/AJsWZ0LJ1gbOgUPYmGDoZzrQifsEQtEShqhUicgvwAc6lr9NV9VsReRhYqqpzgLuAf4nIHTgD21NU1bqWPJSZXcRrS7bzxtIs9h0sJb1VPNOnjOC0vu29Ds2YH8rfCS9eAMlpcPVs6H6K1xE1WRJun8sjRozQpUuXeh1Gk1Lu8/PJd3t5ZfF2vtiwDwFO69uOCaMyOKVPO+tmMqFlz7fQfoBzf9370O1EiGnhbUxhQESWqeqI+rzW68Fs46FdecXMXLidN5ZmsvdgKR1T4rj99F5cMSKdTqnxXodnzA8VHoAPfg4rX69SxG+c11E1C5YomqkFG/dzw8vLKCyt4NQ+7bhqdAYn925LlK3/YEKNKnw7C+bfAyW5cPJ90LleX4xNPVmiaIbeWJrJL/69iu5tWzBt8gi6trFmuwlhs26Ala9Bp6Fw4ZzKbifTaCxRNCOqyp8/XM+Tn27kxF5teGriMFuD2oSmqkX8uo5xksOxN1kRP4/YWW8mSsp93PvWSuas2Mn4kek8ctFAW2bUhKbsLfDubU4Rv6GTYNjVXkfU7FmiaAayC8v4yUtLWbI1h3vH9eHGk3tYTSYTevw+WPQM/OcRkEgYPMHriIzLEkUTt2RrNve+tZIducU8edVQzjumk9chGfO/9q6F2TfDjqXQ6yyniF9KmtdRGZcliiZq874CHnt/LR98u4cOyXG8ev1ohndp5XVYxtQsdxvkbIFLn4OBl1oRvxBjiaKJOVBQyhOfbGDmou3ERkVw95m9ue6E7sTHRHodmjE/tGMZ7F4Fw6dA77Pg9hUQm+R1VKYGliiaiJJyH9MXbOGfn26iqNzHhFHp3H56b9omxXodmjE/VFYEn/4GFv4DUtLhmPFOfSZLEiHLEkUT8Pn6fTw4ezVbDxQxtl977ju7Lz3bJXodljH/a8sXThG/nC0w/Fo449dWxC8MWKIIY7vzSnhk3hrmrdxFtzYteOm6UZzYq63XYRlTs7wd8NJFTivimneh20leR2QCZIkiDFX4/Mz4v6389aP1VPiVu87ozdSTuxMbZeMQJgTtXgUdBjlXMY1/FbqeADEJXkdl6sASRZhZti2b+2etZu3ug5zSpy0PXzCQjNb2R2dCUOF+eO9nsPotmDLPSRC9z/Q6KlMPlijCgKqyZGsOzy/Ywnurd9MxJY6nJw3nrAHtbeKcCT2qsPpteO9eKMmHU34BnUd5HZU5CgElChGJATJUdWOQ4zFVlJT7mL18BzP+bxvf7conJT6am0/twU2n9KRFrOV4E6L+PRVWvQFpI+DCJ6FdP68jMkfpiJ82InIu8BcgBugmIkOAX6nqxcEOrrny+5VpX2zm6c82kVtUTt8OSfzukkFcNCTN5kOY0OT3O5PkRJyFhDoNgdE3QIT9vjYFgXwtfRgYDXwKoKrLRaRnUKNqxgpLK7jrjRW8/+1uTu3Tlqkn9eDY7q2si8mErgOb4N3bnSJ+wyZbEb8mKJBEUa6qudU+qMJr/dQwkZVTxI9fWMr6PQd54Nx+XHdCN0sQJnT5KpxJc5/+BiJjYehkryMyQRJIovhORK4AIkSkG3AbsDC4YTU/S7Zmc8NLyyjz+Zk+ZSSn9GnndUjGHN6eNTD7Jtj5DfQ5F879MyR39DoqEySBLEhwCzAc8AP/BkqB24MZVHPz2uLtXPWvhSTHR/POzWMsSZjQl5cFuZlw2XQYP9OSRBMXSIviLFX9GfCzQxtE5BKcpGGOgqry+Ccb+NvHGzixVxuenDCMlARbcc6EqKylzuS5Edc68yFuXwGxViqmOQikRfFADdvub+hAmhtV5ffvreVvH2/g0mGdeX7KSEsSJjSVFcL7v4Bnx8KCx6Gi1NluSaLZOGyLQkTOAsYBaSLylypPJeN0Q5l68vuVB+es5uWF25l8bBd+fcEAIiJs0NqEoM2fOcuS5myFEdfB2IcgyioSNze1dT3tBVYDJcC3VbYfBO4LZlBNWYXPz71vr+TfX+/gJyd3575xfe3KJhOa8nbAy5dAaheYMh+6jvE6IuORwyYKVf0G+EZEZqpqSSPG1GSVVfi54/XlzFu1izvP6M2tp/W0JGFCz64V0HGwU8RvwutOgoiO9zoq46FAxijSROQ1EVkpIusP3YIeWROTV1TOT15ayrxVu3jg3H7cdnovSxImtBTshTenwDMnwdYvnW29xlqSMAFd9TQDeBT4E3A2cC024a5OFm/J5o7Xl7Mnv4TfXjyIq0ZneB2SMZVUYeUb8P7PnIHr0x6A9NFeR2VCSCAtigRV/QBAVTep6gM4CcMcQYXPz18+Ws/4aV8RFSm8dePxliRM6Hn7Opg1FVr3ghu+hJPugUi7As9UCqRFUSoiEcAmEbkB2AHY4rZHkJldxE9fX86ybTlcMiyNhy8cSKJVfDWhomoRvx6nOWXAR11vRfxMjQL55LoDaIFTuuM3QArwo2AGFe4+X7+Pm2d+DcDj44dw4ZA0jyMypor9G51LXgePdwr4DZ3kdUQmxB0xUajqIvfuQWAygIjYJ99hLNx8gOtfXEq3Ni3419UjSG9lq8+ZEOGrgK+ehP/+zpkLEWWD1CYwtSYKERkJpAFfqup+ERmAU8rjNKBzI8QXVr7ensN1M5aQ0SqBmT8eTetEm5hkQsTu1TD7Zti1HPqe5xTxS+rgdVQmTBx2MFtEfgfMBCYC74vIQzhrUqwAejdKdGHk2515TJm+mDZJsbxsScKEmvydkL8DLn8BrnzZkoSpk9paFBcCg1W1WERaAZnAIFXdHOjBRWQc8DgQCTyrqr+vYZ8rgIdwLrldoapX1SH+kLBhz0EmP7eYxNgoZv54NO2T47wOyRjYvgj2rIaR11UW8Ytp4XVUJgzVlihKVLUYQFWzRWR9HZNEJPAUcAaQBSwRkTmquqbKPr2AnwNjVDVHRMKuvva2A4VMfHYRkRHCzOuPpXNLG5MwHistgP88AouegVbdnMHqqFhLEqbeaksU3UXkUClxwVkv+/vS4qp6yRGOPQrYeCi5iMhrOK2UNVX2uR54SlVz3GPurWP8ntqTX8Kk5xZR5vPz+tTj6NbG/hCNxzZ+Au/+FPIynctdT3/QiviZo1Zbori02uMn63jsNJzuqkOycNberqo3gIgswOmeekhV369+IBGZCkwFyMgIjQlrOYVlTHp2EdkFZbxy/bH06WBTS4zH8rLglSugZTe49j3ocpzXEZkmoraigJ800vv3Ak7BuYrqcxEZpKq51WKZBkwDGDFihOflQwpKK5jy/GK2ZRfxwrWjGJye6nVIpjnb+Q10GgopnWHim5BxPETbOJlpOIGU8KivHUB6lced3W1VZQFzVLVcVbcA63ESR8gqKfdx/QtLWb0zn39cNYzjerT2OiTTXB3cA29cDdNOqSzi1+M0SxKmwQUzUSwBeolINxGJAcYDc6rt8w5OawIRaYPTFRXwgLkX/v6fDXy1+QB/uvwYxvZv73U4pjlSheWvwFOjYN37zjiEFfEzQRRw8SERiVXV0kD3V9UKEbkF+ABn/GG6qn4rIg8DS1V1jvvcmSKyBvAB96jqgbr9CI1nd14Jz325hQsGd+LioTbf0HjkrWvh21mQfixc8Hdoa9OaTHAdMVGIyCjgOZwaTxkiMhj4sareeqTXqup8YH61bQ9Wua/Ane4t5P3t4/X4/Mo9Z/XxOhTT3FQt4tfrTGccYuSPISKYnQLGOAL5LXsCOA84AKCqK4BTgxlUKNqw5yBvLM1k8rFdrX6TaVz71sPzZ8PXLzqPh1wFo6dakjCNJpCupwhV3VZtNTZfkOIJWY+9v5YWMVHcclpPr0MxzYWvHBY8Dp89BtEJNmHOeCaQRJHpdj+pO9v6Vpyrk5qNxVuy+fi7vdxzVh9atYjxOhzTHOxaCbNvgt2roP+FcPYfIckunjDeCCRR3IjT/ZQB7AE+drc1C/sLSrnv7ZV0SI7jR2O6eR2OaS4K9jq3K16C/hd4HY1p5gJJFBWqOj7okYSg/JJyrpm+mJ15xbx03WjiY2z1LxNE275yiviNuh56jYXblkOMjYcZ7wUyGrZEROaLyDUi0mzqVBSX+bhuxhLW7znI05OGM7JrK69DMk1V6UGYdzc8Pw4W/hMq3KvQLUmYEHHERKGqPYBHgeHAKhF5R0SadAujrMLPDS8vY9m2HP525VBO6RN2RW1NuNj4MfzjOFjyLIy+EX7yuRXxMyEnoOvrVPX/VPU2YBiQj7OgUZPk8yt3vLGcz9bv47cXD+LcYzp6HZJpqvKy4JUrIToefvQBnP17iE30Oipj/kcgE+4SccqDjwf6AbOB44Mcl2cenL2aeSt3cf85/Rg/KjQq1ZomRBV2fA2dh7tF/N6CjOOsPpMJaYEMZq8G3gX+oKpfBDkeT81ZsZOZi7bzk5O7c/1J3b0OxzQ1B3fDvLtg7VyYMg+6ngA9mt3cVROGAkkU3VXVH/RIPLY7r4QHZq1icHoq95xpJTpMA1KF5TPhg184A9Vjf+3UaTImTBw2UYjIn1X1LuBtEfmfNSACWOEubPj9yj1vraDcp/z1isFERVppBNOA3rwG1sx26jNd8HdoY7P7TXiprUXxuvtvXVe2CzszF23jiw37efSigXRva4OJpgH4fYA49Zh6nw3dToLhP7L6TCYs1bbC3WL3bj9V/UGycMuHN8YKeEGXW1TGnz5cz5ierZk42gavTQPYtw5m3wJDJ8LwKTBkgtcRGXNUAvl686Matl3X0IF45fFPNnCwpJxfntefaoUPjakbXzl89kd4+gQ4sAFik72OyJgGUdsYxZU4l8R2E5F/V3kqCcit+VXhZfO+Al76ahtXjsygbwf7ozZHYdcKeOcmpwTHgEvg7D9AYluvozKmQdQ2RrEYZw2KzsBTVbYfBL4JZlCN5ffvrSU2KoI7z7AVwsxRKkV+U7QAABnUSURBVNgHRQdg/CvQ91yvozGmQdU2RrEF2IJTLbbJ+WrTAT5cs4d7zupD2yQrmWDqYesC2LumShG/b5xZ1sY0MYcdoxCRz9x/c0Qku8otR0SyGy/Ehuf3K7+Zv4ZOKXFcd4KVDjd1VJIPc++EGefAoqcri/hZkjBNVG1dT4emjLZpjEAa03urd7N6Rz6Pjx9CXLSVDjd1sP5DmPtTOLgLjrsFTv2FFfEzTV5tXU+HZmOnAztVtUxETgCOAV7GKQ4Yll5fmklaajznH9PJ61BMOMnLgtcmQOtecMWL0HmE1xEZ0ygCuTz2HZxlUHsAzwO9gFeCGlUQ7c4r4csN+7h0WBoREXY5rDkCVchc4txP6QyTZzmlwC1JmGYkkEThV9Vy4BLg76p6B5AW3LCCZ9Y3O/ArXDq8s9ehmFCXvwteuwqeGwtbv3S2dTsJomzddNO8BLQUqohcDkwGLnK3RQcvpOBRVd5alsnIri3p0rqF1+GYUKUKX78IH/4SfKVw5qNWxM80a4Ekih8BN+GUGd8sIt2AV4MbVnAsz8xl075CploJcVObNybDd+9ClxPggiegdQ+vIzLGU0dMFKq6WkRuA3qKSF9go6r+JvihNby3lmURFx3BOYNs1TpTTdUifn3Pgx6nwbApVsTPGAJb4e5E4CVgByBABxGZrKoLgh1cQ8opLOPdFTs5e2BHkuLCsufMBMueNTDnVhg22SniN7hJLwlvTJ0F0vX0V+AcVV0DICL9cBJH2Fz2UeHzc+ur31BS7rcJdqZSRRl8+Rf4/E8QlwxxqV5HZExICiRRxBxKEgCq+p2IhNVlH3/8cB1fbtzPY5cOYmBaitfhmFCw8xuniN/eNTDochj3e2jR5OaWGtMgAkkUX4vI0ziT7AAmEkZFAeeu3Mkzn21m4ugMrhxp600YV1E2lOTBhNehzzivozEmpAWSKG4AbgPudR9/Afw9aBE1oHW7D3LvWysZlpHKr84f4HU4xmtbPnfGI469AXqeDrd+DdFxXkdlTMirNVGIyCCgBzBLVf/QOCE1nEfnrSE+OpJ/ThpOTJRdvdJsleTBRw/CshnQpjeMuNapz2RJwpiA1FY99hc45TsmAh+JSE0r3YWsLfsL+WLDfq4+rivtk+0Dodla9x48NdqZQHf8rTD1MyviZ0wd1daimAgco6qFItIWmA9Mb5ywjt4ri7YRFSGMH5XudSjGK3lZ8PpkpxUxfiakDfc6ImPCUm2JolRVCwFUdZ+IhE3fTUm5jzeXZXHmgPbWmmhuVCFzMWSMrizilz7a6jMZcxRq+/DvLiL/dm+zgB5VHv+7ltd9T0TGicg6EdkoIvfVst+lIqIi0iBzM+au3EVuUTmTRndpiMOZcJG3A14dD9PPrFLE70RLEsYcpdpaFJdWe/xkXQ4sIpE4a22fAWQBS0RkTtU5Ge5+ScDtwKK6HL82ryzaRve2LTiuR+uGOqQJZX4/fD0DPnwQ/BVw1m8h4zivozKmyaht4aJPjvLYo3DqQm0GEJHXgAuBNdX2ewR4DLjnKN8PcLqdVmTlcePJPRCx9SaahTcmw9q5Tgnw85+AVjb73piGFMxxhzQgs8rjLKqtYyEiw4B0VZ1X24FEZKqILBWRpfv27av1TdfvOYjPrwzolFzPsE1Y8FU4LQmAfhc4CeLqOZYkjAkCzwao3cHxvwB3HWlfVZ2mqiNUdUTbtm1r3XfNTmeF1v6WKJqu3audxYS+nuE8HnwlDL8GrAVpTFAEnChEpK4Xn+/AWW/7kM7utkOSgIHAf0VkK3AsMOdoB7TX7MonMTaK9JYJR3MYE4oqSuHT38K0kyE3ExKsNpMxjeGIiUJERonIKmCD+3iwiARSwmMJ0EtEurlFBMcDcw49qap5qtpGVbuqaldgIXCBqi6tzw9yyJqd+fTrmGTrYTc1O5bBMyfBZ4/BwMvgliXQ/wKvozKmWQikRfEEcB5wAEBVVwCnHulFqloB3AJ8AHwHvKGq34rIwyISlL9wv1/5blc+/Ttat1OTU5wLZYUw8S245BlIaOV1RMY0G4EUBYxQ1W3VriDyBXJwVZ2PM6O76rYHD7PvKYEcszbbs4soLPPRzxJF07D5M6cM+LE3ukX8lln5DWM8EEiLIlNERgEqIpEi8lNgfZDjqpfvdjkD2ZYowlxxrrPi3IsXwNLnnbEJsCRhjEcCaVHciNP9lAHsAT52t4WcrQeKAOjetoXHkZh6WzsP5t4JhXthzO1wys8tQRjjsSMmClXdizMQHfIyc4pomRBta2KHq9xMeOMaaNsHJrwKacO8jsgYQwCJQkT+BWj17ao6NSgRHYXM7CIyWtllsWFFFbZ/BV2Oh9R0uHo2dB5p9ZmMCSGBjFF8DHzi3hYA7YDSYAZVX5nZRXS2RBE+cjNh5uXw/NmVRfy6jrEkYUyICaTr6fWqj0XkJeDLoEVUTz6/siO3mLMHdfQ6FHMkfj8sfQ4+fshpUZz9ByviZ0wIC2Qwu7puQPuGDuRo7c4vodyn1vUUDl6fBOvmQfdT4fzHoaWVgzcmlAUyRpFD5RhFBJANHHZtCa9sd694stIdIcpXARIBEREw8BLoew4MmWj1mYwJA7UmCnFm2Q2mskaTX1X/Z2A7FGTmOInCWhQhaPcqmH0zDLsGRl4Hgy7zOiJjTB3UOpjtJoX5qupzbyGZJMAZyI4Q6JhqS5+GjPIS+OQRmHYK5O+ExJDrsTTGBCCQMYrlIjJUVb8JejRHITO7iE6p8URHhs3S3k1b1jJ45wbYvx4GXwVn/cbqMxkTpg6bKEQkyi3sNxRnGdNNQCEgOI2NkJoNtfVAkY1PhJLSfKdFMelt6DnW62iMMUehthbFYmAYEPK1nHOLyli1I4+fnNTd61Cat42fwL61cNzN0ONUuHWpld8wpgmoLVEIgKpuaqRY6u0/a/fi8ytnDejgdSjNU3EOfHA/LJ8JbfvByB87CcKShDFNQm2Joq2I3Hm4J1X1L0GIp14+/HYP7ZNjGZSW4nUozc+aOTD/bijcDyfcCSf/zBKEMU1MbYkiEkjEbVmEqpJyH5+t38elw9NsVbvGlpsJb/0I2vWDiW9Cx8FeR2SMCYLaEsUuVX240SKppwUb91Nc7uPM/tbt1ChUYdsC6HqCU8Tvmneh8wiItIq9xjRVtV1LGhZfzz/8dg9JsVEc272116E0fbnb4eVLYca5lUX8uhxnScKYJq62FsXpjRbFUViwaT8n9m5DTJTNnwgavx+WPOsU8QM4+4+QcbynIRljGs9hE4WqZjdmIPWVXVhGx5R4r8No2l67Cta/Bz1Oh/P/BqkZXkdkjGlE9akeGzIqfH6KynwkxYX1jxGafOUgkU4Rv0GXQf8LYfB4K+JnTDMU1v01BaUVALb0aUPbuRz+daqzZgQ4iWLIBEsSxjRTYf1V/GDJoUQR1j9G6Cgvhs8egwVPQIs2kNLZ64iMMSEgrD9h80vKAUi2RHH0Mpc4RfwObIShk+DMRyG+pddRGWNCQFh/wh5qUSRb19PRKy90xiUmv+PUaTLGGFdYJ4r8YqdFYWMU9bThY9j3HRx/K3Q/BW5ZClExXkdljAkxYT2YbWMU9VSUDbNugJmXwvJXoaLM2W5JwhhTg7D+hD1YcqhFEdY/RuNRhTWznSJ+xTlw0j3OzRKEMaYWYf0JW9misK6ngORlwts/hvYDYPIs6DDI64iMMWEgrBPF3oOlJMVFWfmO2qjCls+h+8nOjOop8yBtOESG9X+9MaYRhfUn7NYDhXRt3cLrMEJXzlZ46SJ48YLKIn4Zoy1JGGPqJKw/MbZnFzHQFiv6X34fLJ4GnzzslOE49y9WxM8YU29hmygqfH525BRz7qCOXocSel6dABs+gF5nwnl/tRnWxpijEraJYmduCRV+ta6nQ6oW8Rt8pVOfadDlVp/JGHPUgjpGISLjRGSdiGwUkftqeP5OEVkjIitF5BMR6RLosbceKAQgo3VCA0YcpnZ8DdNOqSziN/BSOOYKSxLGmAYRtEQhIpHAU8DZQH9ggoj0r7bbN8AIVT0GeAv4Q6DH35ZdBECX5pwoyovhowfh2dOhcD+kpHsdkTGmCQpm19MoYKOqbgYQkdeAC4E1h3ZQ1U+r7L8QmBTowbcfKCQ2KoL2SXENFG6YyVzszK7O3gTDroYzHoH4VK+jMsY0QcFMFGlAZpXHWcDoWva/DnivpidEZCowFSAjw1ldbeuBIjJaJRAR0Uy7V8qLQf1w9WynTpMxxgRJSMyjEJFJwAjgjzU9r6rTVHWEqo5o27YtANsPFDW/bqf1H8KCx5373U+GW5ZYkjDGBF0wE8UOoGqneWd32w+IyFjgfuACVS0N9OBZOUWkt2omiaLwALx9PbxyOax8s7KIX6SVLjHGBF8wu56WAL1EpBtOghgPXFV1BxEZCjwDjFPVvYEeWFUpLPORFBu2V/cGRhVWvw3v3Qsl+XDyfXDiXVbEzxjTqIL2SauqFSJyC/ABEAlMV9VvReRhYKmqzsHpakoE3hTnUs7tqnrBkY5d7lOApl/jKS8T3rkR2g+EC590ivkZY0wjC+pXclWdD8yvtu3BKvfH1ue4ZT4/0EQThSps/q+zylxqBkyZD2nDICLS68iMMc1UWH7SllW4iSIyLMM/vOzN8ML5TiG/Q0X80kdakjDGeCosO/nLv29RNJEPUL8PFv4T/vOoM0B93t+siJ8xJmSEZaL4vkXRVLqeXrkSNn4Evcc5lV5T0ryOyBhjvheWiaLUTRTRkWE82a6iDCKinCJ+Q66CweOdGk1Wn8kYE2LC8iv5oRZFbLi2KLKWwbSTYcmzzuOBlzjVXi1JGGNCUFh+0obtVU9lRfDB/fDcWCjOhVbdvI7IGGOOKCy7niqvegqjwextX8E7NzjLkw6/Fs74NcTZ6nzGmNAX3okinFoUfndhoWvmQrcTvY7GGGMCFp6JwucDwmAwe917sG8dnPBT6HYS3LwYIsPylBtjmrEw+kpeKeRbFIX74a3r4NXxsPqtKkX8LEkYY8JPWH5ylbm1nkLuqidVWPWWU8Sv9CCcej+M+akV8TPGhLXwTBShOpidlwmzb4IOxzhF/Nr18zoiY4w5amGZKApKygFIiA2BROH3w+b/QM+xThG/a9+HTkOsPpMxpskIsb6bwOzOLyU6UmiV4HGXzoFNThG/ly+FrQucbZ2HW5IwxjQpYdmi2J1XTLukOO/Wy/ZVwMKn4NPfQmQsXPAkdLEifsaYpik8E0V+CR1T4rwL4JUrYNMn0OdcOPfPkNzRu1iMMSbIwjJR7MkvpX+n5MZ904pSiIh2ivgNuxqGToIBF1t9JmNMkxeeYxR5JXRMbsQWReYSeOYkWPIv5/GAi5xCfpYkjDHNQNglCp9fKS730aExup7KCuH9n8NzZ0BpAbTqEfz3NMaYEBN2XU/l7mS79sFuUWz7P5h1A+Rug5E/htN/BXGN3N1ljDEhIAwThTPZLuiD2f4KZ1nSKfOh65jgvpcxxoSwsEsUFW6iCEqL4ru5sH8dnHiXU8TvpkVWn8kY0+yF3RhFULqeCvbCG9fA6xNhzWwr4meMMVWE3Sdhud9PWmJMw1SOVYWVr8P79zkD16f9Esbc7nQ5GWOMAcIxUVT46ZgS3zAHy8uEObdCp6HO7Oq2vRvmuMYY04SEXaIo8/mPbiDb73dmVfc6wyni96MPoONgq89kjDGHEZZjFJ1S69mi2L8RZpwLMy+DrV8629KGWZIwxphahF2Lwq9Kp9Q6tih8FfDV3+HT30F0HFz4D+hil7waY0wgwi5RAHUfo3jlctj0H+h3PpzzZ0hqH5zAjDGmCQrLRBFQ11N5iXP1UkQkDJ/i3PpfGOzQjDGmyQm7MQrgyF1P2xfC0yfAYreIX/8LLUkYY0w9hWWiaN0ituYnSgtg/r0wfZxTFtwudzXGmKMWll1P0ZE1lPfe+iXMutGZGzFqKpz+IMQmNn5wxhjTxIRdoogQQQ63DkR0PPzofcg4tnGDMsaYJizsEsUPcsSaObB/PZx0N3Q9AW76yuZEGGNMAwvqGIWIjBORdSKyUUTuq+H5WBF53X1+kYh0PeIxAQ7ugdcnwxuTYe3cyiJ+liSMMabBBa1FISKRwFPAGUAWsERE5qjqmiq7XQfkqGpPERkPPAZcWdtxUzkIT410Ln89/Vdw/K1WxM8YY4IomC2KUcBGVd2sqmXAa0D1a1QvBF5w778FnC6HHYBwdNB90K4/3LgATrzTkoQxxgRZMMco0oDMKo+zgNGH20dVK0QkD2gN7K+6k4hMBaa6D0vlug9Wg136CrSh2rlqxuxcVLJzUcnORaU+9X1hWAxmq+o0YBqAiCxV1REehxQS7FxUsnNRyc5FJTsXlURkaX1fG8yupx1AepXHnd1tNe4jIlFACnAgiDEZY4ypo2AmiiVALxHpJiIxwHhgTrV95gDXuPcvA/6jqhrEmIwxxtRR0Lqe3DGHW4APgEhguqp+KyIPA0tVdQ7wHPCSiGwEsnGSyZFMC1bMYcjORSU7F5XsXFSyc1Gp3udC7Au8McaY2oRlUUBjjDGNxxKFMcaYWoVsoghG+Y9wFcC5uFNE1ojIShH5RES6eBFnYzjSuaiy36UioiLSZC+NDORciMgV7u/GtyLySmPH2FgC+BvJEJFPReQb9+/kHC/iDDYRmS4ie0Vk9WGeFxF5wj1PK0VkWEAHVtWQu+EMfm8CugMxwAqgf7V9bgKedu+PB173Om4Pz8WpQIJ7/8bmfC7c/ZKAz4GFwAiv4/bw96IX8A3Q0n3czuu4PTwX04Ab3fv9ga1exx2kc3ESMAxYfZjnzwHewymbdyywKJDjhmqLIijlP8LUEc+Fqn6qqkXuw4U4c1aaokB+LwAewakbVtKYwTWyQM7F9cBTqpoDoKp7GznGxhLIuVAg2b2fAuxsxPgajap+jnMF6eFcCLyojoVAqoh0PNJxQzVR1FT+I+1w+6hqBXCo/EdTE8i5qOo6nG8MTdERz4XblE5X1XmNGZgHAvm96A30FpEFIrJQRMY1WnSNK5Bz8RAwSUSygPnArY0TWsip6+cJECYlPExgRGQSMAI42etYvCAiEcBfgCkehxIqonC6n07BaWV+LiKDVDXX06i8MQGYoap/FpHjcOZvDVRVv9eBhYNQbVFY+Y9KgZwLRGQscD9wgaqWNlJsje1I5yIJGAj8V0S24vTBzmmiA9qB/F5kAXNUtVxVtwDrcRJHUxPIubgOeANAVb8C4nAKBjY3AX2eVBeqicLKf1Q64rkQkaHAMzhJoqn2Q8MRzoWq5qlqG1XtqqpdccZrLlDVehdDC2GB/I28g9OaQETa4HRFbW7MIBtJIOdiO3A6gIj0w0kU+xo1ytAwB7javfrpWCBPVXcd6UUh2fWkwSv/EXYCPBd/BBKBN93x/O2qeoFnQQdJgOeiWQjwXHwAnCkiawAfcI+qNrlWd4Dn4i7gXyJyB87A9pSm+MVSRF7F+XLQxh2P+RUQDaCqT+OMz5wDbASKgGsDOm4TPFfGGGMaUKh2PRljjAkRliiMMcbUyhKFMcaYWlmiMMYYUytLFMYYY2plicKEHBHxicjyKreutezb9XCVMuv4nv91q4+ucEte9KnHMW4Qkavd+1NEpFOV554Vkf4NHOcSERkSwGt+KiIJR/vepvmyRGFCUbGqDqly29pI7ztRVQfjFJv8Y11frKpPq+qL7sMpQKcqz/1YVdc0SJSVcf6DwOL8KWCJwtSbJQoTFtyWwxci8rV7O76GfQaIyGK3FbJSRHq52ydV2f6MiEQe4e0+B3q6rz3dXcNglVvrP9bd/nupXAPkT+62h0TkbhG5DKfm1kz3PePdlsAIt9Xx/Ye72/J4sp5xfkWVgm4i8k8RWSrO2hO/drfdhpOwPhWRT91tZ4rIV+55fFNEEo/wPqaZs0RhQlF8lW6nWe62vcAZqjoMuBJ4oobX3QA8rqpDcD6os9xyDVcCY9ztPmDiEd7/fGCViMQBM4ArVXUQTiWDG0WkNXAxMEBVjwEerfpiVX0LWIrzzX+IqhZXefpt97WHXAm8Vs84x+GU6TjkflUdARwDnCwix6jqEzgltU9V1VPdUh4PAGPdc7kUuPMI72OauZAs4WGavWL3w7KqaOBJt0/eh1O3qLqvgPtFpDPwb1XdICKnA8OBJW55k3icpFOTmSJSDGzFKUPdB9iiquvd518AbgaexFnr4jkRmQvMDfQHU9V9IrLZrbOzAegLLHCPW5c4Y3DKtlQ9T1eIyFScv+uOOAv0rKz22mPd7Qvc94nBOW/GHJYlChMu7gD2AINxWsL/syiRqr4iIouAc4H5IvITnJW8XlDVnwfwHhOrFhAUkVY17eTWFhqFU2TuMuAW4LQ6/CyvAVcAa4FZqqrifGoHHCewDGd84u/AJSLSDbgbGKmqOSIyA6fwXXUCfKSqE+oQr2nmrOvJhIsUYJe7fsBknOJvPyAi3YHNbnfLbJwumE+Ay0SknbtPKwl8TfF1QFcR6ek+ngx85vbpp6jqfJwENriG1x7EKXtek1k4K41NwEka1DVOt6DdL4FjRaQvzupthUCeiLQHzj5MLAuBMYd+JhFpISI1tc6M+Z4lChMu/gFcIyIrcLprCmvY5wpgtYgsx1mX4kX3SqMHgA9FZCXwEU63zBGpaglOdc03RWQV4AeexvnQnese70tq7uOfATx9aDC72nFzgO+ALqq62N1W5zjdsY8/41SFXYGzPvZa4BWc7qxDpgHvi8inqroP54qsV933+QrnfBpzWFY91hhjTK2sRWGMMaZWliiMMcbUyhKFMcaYWlmiMMYYUytLFMYYY2plicIYY0ytLFEYY4yp1f8D6pNXfIsJWQIAAAAASUVORK5CYII=\n",
      "text/plain": [
       "<Figure size 432x288 with 1 Axes>"
      ]
     },
     "metadata": {
      "needs_background": "light"
     },
     "output_type": "display_data"
    },
    {
     "name": "stdout",
     "output_type": "stream",
     "text": [
      "AUC-ROC: 0.8400525178861233\n"
     ]
    }
   ],
   "source": [
    "fpr, tpr, thresholds = roc_curve(target_test, probabilities_one_test)\n",
    "plt.figure()\n",
    "plt.plot(fpr, tpr)\n",
    "plt.plot([0, 1], [0, 1], linestyle='--')\n",
    "plt.xlim([0.0, 1.0])\n",
    "plt.ylim([0.0, 1.0])\n",
    "plt.xlabel('False Positive Rate')\n",
    "plt.ylabel('True Positive Rate')\n",
    "plt.title('ROC-кривая')\n",
    "plt.show()\n",
    "print(\"AUC-ROC:\", roc_auc_score(target_test, probabilities_one_test))"
   ]
  },
  {
   "cell_type": "markdown",
   "metadata": {},
   "source": [
    "### Вывод\n",
    "Было проведено исследование на тестовой модели, по итогу можно заметить что на тестовых данных, в отличие от валидационных значение F1_score оказалось выше у модели с применением увеличения выборки. Итоговое значение F1_score оказалось равным 0,6, что выше требуемых 0,59. Это свидетельствует об успешном выполнении задачи."
   ]
  },
  {
   "cell_type": "code",
   "execution_count": null,
   "metadata": {},
   "outputs": [],
   "source": []
  }
 ],
 "metadata": {
  "kernelspec": {
   "display_name": "Python 3",
   "language": "python",
   "name": "python3"
  },
  "language_info": {
   "codemirror_mode": {
    "name": "ipython",
    "version": 3
   },
   "file_extension": ".py",
   "mimetype": "text/x-python",
   "name": "python",
   "nbconvert_exporter": "python",
   "pygments_lexer": "ipython3",
   "version": "3.7.9"
  },
  "toc": {
   "base_numbering": 1,
   "nav_menu": {},
   "number_sections": false,
   "sideBar": true,
   "skip_h1_title": true,
   "title_cell": "Содержание",
   "title_sidebar": "Contents",
   "toc_cell": true,
   "toc_position": {},
   "toc_section_display": true,
   "toc_window_display": false
  }
 },
 "nbformat": 4,
 "nbformat_minor": 2
}
