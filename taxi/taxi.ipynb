{
 "cells": [
  {
   "cell_type": "markdown",
   "metadata": {
    "toc": true
   },
   "source": [
    "<h1>Содержание<span class=\"tocSkip\"></span></h1>\n",
    "<div class=\"toc\"><ul class=\"toc-item\"><li><span><a href=\"#Подготовка\" data-toc-modified-id=\"Подготовка-1\"><span class=\"toc-item-num\">1&nbsp;&nbsp;</span>Подготовка</a></span><ul class=\"toc-item\"><li><span><a href=\"#Вывод\" data-toc-modified-id=\"Вывод-1.1\"><span class=\"toc-item-num\">1.1&nbsp;&nbsp;</span>Вывод</a></span></li></ul></li><li><span><a href=\"#Анализ\" data-toc-modified-id=\"Анализ-2\"><span class=\"toc-item-num\">2&nbsp;&nbsp;</span>Анализ</a></span><ul class=\"toc-item\"><li><span><a href=\"#Вывод\" data-toc-modified-id=\"Вывод-2.1\"><span class=\"toc-item-num\">2.1&nbsp;&nbsp;</span>Вывод</a></span></li><li><span><a href=\"#Вывод\" data-toc-modified-id=\"Вывод-2.2\"><span class=\"toc-item-num\">2.2&nbsp;&nbsp;</span>Вывод</a></span></li></ul></li><li><span><a href=\"#Обучение\" data-toc-modified-id=\"Обучение-3\"><span class=\"toc-item-num\">3&nbsp;&nbsp;</span>Обучение</a></span><ul class=\"toc-item\"><li><span><a href=\"#\" data-toc-modified-id=\"-3.1\"><span class=\"toc-item-num\">3.1&nbsp;&nbsp;</span></a></span></li><li><span><a href=\"#\" data-toc-modified-id=\"-3.2\"><span class=\"toc-item-num\">3.2&nbsp;&nbsp;</span></a></span><ul class=\"toc-item\"><li><span><a href=\"#Линейная-регрессия\" data-toc-modified-id=\"Линейная-регрессия-3.2.1\"><span class=\"toc-item-num\">3.2.1&nbsp;&nbsp;</span>Линейная регрессия</a></span></li><li><span><a href=\"#Случайный-лес\" data-toc-modified-id=\"Случайный-лес-3.2.2\"><span class=\"toc-item-num\">3.2.2&nbsp;&nbsp;</span>Случайный лес</a></span></li><li><span><a href=\"#Решающее-дерево\" data-toc-modified-id=\"Решающее-дерево-3.2.3\"><span class=\"toc-item-num\">3.2.3&nbsp;&nbsp;</span>Решающее дерево</a></span></li><li><span><a href=\"#Модель-с-градиентным-бустингом-с-использованием-библиотеки-lightgbm\" data-toc-modified-id=\"Модель-с-градиентным-бустингом-с-использованием-библиотеки-lightgbm-3.2.4\"><span class=\"toc-item-num\">3.2.4&nbsp;&nbsp;</span>Модель с градиентным бустингом с использованием библиотеки lightgbm</a></span></li><li><span><a href=\"#Модель-с-градиентным-бустингом-с-использованием-библиотеки-Catboost\" data-toc-modified-id=\"Модель-с-градиентным-бустингом-с-использованием-библиотеки-Catboost-3.2.5\"><span class=\"toc-item-num\">3.2.5&nbsp;&nbsp;</span>Модель с градиентным бустингом с использованием библиотеки Catboost</a></span></li></ul></li><li><span><a href=\"#Вывод\" data-toc-modified-id=\"Вывод-3.3\"><span class=\"toc-item-num\">3.3&nbsp;&nbsp;</span>Вывод</a></span></li></ul></li><li><span><a href=\"#Тестирование\" data-toc-modified-id=\"Тестирование-4\"><span class=\"toc-item-num\">4&nbsp;&nbsp;</span>Тестирование</a></span><ul class=\"toc-item\"><li><span><a href=\"#Вывод\" data-toc-modified-id=\"Вывод-4.1\"><span class=\"toc-item-num\">4.1&nbsp;&nbsp;</span>Вывод</a></span></li></ul></li><li><span><a href=\"#Чек-лист-проверки\" data-toc-modified-id=\"Чек-лист-проверки-5\"><span class=\"toc-item-num\">5&nbsp;&nbsp;</span>Чек-лист проверки</a></span></li></ul></div>"
   ]
  },
  {
   "cell_type": "markdown",
   "metadata": {},
   "source": [
    "#  Прогнозирование заказов такси"
   ]
  },
  {
   "cell_type": "markdown",
   "metadata": {},
   "source": [
    "Bvt.ncz исторические данные о заказах такси в аэропортах. Чтобы привлекать больше водителей в период пиковой нагрузки, нужно спрогнозировать количество заказов такси на следующий час.\n",
    "\n",
    "Необходимо получить значение метрики *RMSE* меньше 48.\n"
   ]
  },
  {
   "cell_type": "markdown",
   "metadata": {},
   "source": [
    "## Подготовка"
   ]
  },
  {
   "cell_type": "code",
   "execution_count": 1,
   "metadata": {},
   "outputs": [],
   "source": [
    "import pandas as pd\n",
    "import numpy as np\n",
    "from sklearn.metrics import mean_absolute_error\n",
    "import matplotlib.pyplot as plt\n",
    "import seaborn as sns\n",
    "from sklearn.linear_model import LinearRegression\n",
    "from sklearn.tree import DecisionTreeRegressor\n",
    "from sklearn.model_selection import train_test_split\n",
    "from sklearn.model_selection import cross_val_score\n",
    "from sklearn.metrics import make_scorer\n",
    "from sklearn.preprocessing import StandardScaler\n",
    "from sklearn.ensemble import RandomForestRegressor\n",
    "from sklearn.tree import DecisionTreeRegressor\n",
    "from sklearn.dummy import DummyClassifier\n",
    "from sklearn.metrics import r2_score\n",
    "from sklearn.metrics import mean_squared_error\n",
    "from catboost import CatBoostRegressor\n",
    "from lightgbm import LGBMRegressor\n",
    "from lightgbm import LGBMModel\n",
    "import lightgbm\n",
    "from statsmodels.tsa.seasonal import seasonal_decompose\n",
    "import torch\n",
    "import transformers\n",
    "from tqdm import notebook\n",
    "from sklearn.linear_model import LogisticRegression"
   ]
  },
  {
   "cell_type": "code",
   "execution_count": 2,
   "metadata": {},
   "outputs": [],
   "source": [
    "data = pd.read_csv('/datasets/taxi.csv', index_col=[0], parse_dates=[0])"
   ]
  },
  {
   "cell_type": "code",
   "execution_count": 3,
   "metadata": {
    "scrolled": true
   },
   "outputs": [
    {
     "data": {
      "text/html": [
       "<div>\n",
       "<style scoped>\n",
       "    .dataframe tbody tr th:only-of-type {\n",
       "        vertical-align: middle;\n",
       "    }\n",
       "\n",
       "    .dataframe tbody tr th {\n",
       "        vertical-align: top;\n",
       "    }\n",
       "\n",
       "    .dataframe thead th {\n",
       "        text-align: right;\n",
       "    }\n",
       "</style>\n",
       "<table border=\"1\" class=\"dataframe\">\n",
       "  <thead>\n",
       "    <tr style=\"text-align: right;\">\n",
       "      <th></th>\n",
       "      <th>num_orders</th>\n",
       "    </tr>\n",
       "    <tr>\n",
       "      <th>datetime</th>\n",
       "      <th></th>\n",
       "    </tr>\n",
       "  </thead>\n",
       "  <tbody>\n",
       "    <tr>\n",
       "      <td>2018-03-01 00:00:00</td>\n",
       "      <td>9</td>\n",
       "    </tr>\n",
       "    <tr>\n",
       "      <td>2018-03-01 00:10:00</td>\n",
       "      <td>14</td>\n",
       "    </tr>\n",
       "    <tr>\n",
       "      <td>2018-03-01 00:20:00</td>\n",
       "      <td>28</td>\n",
       "    </tr>\n",
       "    <tr>\n",
       "      <td>2018-03-01 00:30:00</td>\n",
       "      <td>20</td>\n",
       "    </tr>\n",
       "    <tr>\n",
       "      <td>2018-03-01 00:40:00</td>\n",
       "      <td>32</td>\n",
       "    </tr>\n",
       "    <tr>\n",
       "      <td>...</td>\n",
       "      <td>...</td>\n",
       "    </tr>\n",
       "    <tr>\n",
       "      <td>2018-08-31 23:10:00</td>\n",
       "      <td>32</td>\n",
       "    </tr>\n",
       "    <tr>\n",
       "      <td>2018-08-31 23:20:00</td>\n",
       "      <td>24</td>\n",
       "    </tr>\n",
       "    <tr>\n",
       "      <td>2018-08-31 23:30:00</td>\n",
       "      <td>27</td>\n",
       "    </tr>\n",
       "    <tr>\n",
       "      <td>2018-08-31 23:40:00</td>\n",
       "      <td>39</td>\n",
       "    </tr>\n",
       "    <tr>\n",
       "      <td>2018-08-31 23:50:00</td>\n",
       "      <td>53</td>\n",
       "    </tr>\n",
       "  </tbody>\n",
       "</table>\n",
       "<p>26496 rows × 1 columns</p>\n",
       "</div>"
      ],
      "text/plain": [
       "                     num_orders\n",
       "datetime                       \n",
       "2018-03-01 00:00:00           9\n",
       "2018-03-01 00:10:00          14\n",
       "2018-03-01 00:20:00          28\n",
       "2018-03-01 00:30:00          20\n",
       "2018-03-01 00:40:00          32\n",
       "...                         ...\n",
       "2018-08-31 23:10:00          32\n",
       "2018-08-31 23:20:00          24\n",
       "2018-08-31 23:30:00          27\n",
       "2018-08-31 23:40:00          39\n",
       "2018-08-31 23:50:00          53\n",
       "\n",
       "[26496 rows x 1 columns]"
      ]
     },
     "metadata": {},
     "output_type": "display_data"
    }
   ],
   "source": [
    "display(data)"
   ]
  },
  {
   "cell_type": "code",
   "execution_count": 4,
   "metadata": {},
   "outputs": [],
   "source": [
    "data = data.resample('1H').sum()"
   ]
  },
  {
   "cell_type": "code",
   "execution_count": 5,
   "metadata": {},
   "outputs": [
    {
     "data": {
      "text/html": [
       "<div>\n",
       "<style scoped>\n",
       "    .dataframe tbody tr th:only-of-type {\n",
       "        vertical-align: middle;\n",
       "    }\n",
       "\n",
       "    .dataframe tbody tr th {\n",
       "        vertical-align: top;\n",
       "    }\n",
       "\n",
       "    .dataframe thead th {\n",
       "        text-align: right;\n",
       "    }\n",
       "</style>\n",
       "<table border=\"1\" class=\"dataframe\">\n",
       "  <thead>\n",
       "    <tr style=\"text-align: right;\">\n",
       "      <th></th>\n",
       "      <th>num_orders</th>\n",
       "    </tr>\n",
       "    <tr>\n",
       "      <th>datetime</th>\n",
       "      <th></th>\n",
       "    </tr>\n",
       "  </thead>\n",
       "  <tbody>\n",
       "    <tr>\n",
       "      <td>2018-03-01 00:00:00</td>\n",
       "      <td>124</td>\n",
       "    </tr>\n",
       "    <tr>\n",
       "      <td>2018-03-01 01:00:00</td>\n",
       "      <td>85</td>\n",
       "    </tr>\n",
       "    <tr>\n",
       "      <td>2018-03-01 02:00:00</td>\n",
       "      <td>71</td>\n",
       "    </tr>\n",
       "    <tr>\n",
       "      <td>2018-03-01 03:00:00</td>\n",
       "      <td>66</td>\n",
       "    </tr>\n",
       "    <tr>\n",
       "      <td>2018-03-01 04:00:00</td>\n",
       "      <td>43</td>\n",
       "    </tr>\n",
       "    <tr>\n",
       "      <td>...</td>\n",
       "      <td>...</td>\n",
       "    </tr>\n",
       "    <tr>\n",
       "      <td>2018-08-31 19:00:00</td>\n",
       "      <td>136</td>\n",
       "    </tr>\n",
       "    <tr>\n",
       "      <td>2018-08-31 20:00:00</td>\n",
       "      <td>154</td>\n",
       "    </tr>\n",
       "    <tr>\n",
       "      <td>2018-08-31 21:00:00</td>\n",
       "      <td>159</td>\n",
       "    </tr>\n",
       "    <tr>\n",
       "      <td>2018-08-31 22:00:00</td>\n",
       "      <td>223</td>\n",
       "    </tr>\n",
       "    <tr>\n",
       "      <td>2018-08-31 23:00:00</td>\n",
       "      <td>205</td>\n",
       "    </tr>\n",
       "  </tbody>\n",
       "</table>\n",
       "<p>4416 rows × 1 columns</p>\n",
       "</div>"
      ],
      "text/plain": [
       "                     num_orders\n",
       "datetime                       \n",
       "2018-03-01 00:00:00         124\n",
       "2018-03-01 01:00:00          85\n",
       "2018-03-01 02:00:00          71\n",
       "2018-03-01 03:00:00          66\n",
       "2018-03-01 04:00:00          43\n",
       "...                         ...\n",
       "2018-08-31 19:00:00         136\n",
       "2018-08-31 20:00:00         154\n",
       "2018-08-31 21:00:00         159\n",
       "2018-08-31 22:00:00         223\n",
       "2018-08-31 23:00:00         205\n",
       "\n",
       "[4416 rows x 1 columns]"
      ]
     },
     "metadata": {},
     "output_type": "display_data"
    }
   ],
   "source": [
    "display(data)"
   ]
  },
  {
   "cell_type": "code",
   "execution_count": 6,
   "metadata": {},
   "outputs": [
    {
     "data": {
      "text/html": [
       "<div>\n",
       "<style scoped>\n",
       "    .dataframe tbody tr th:only-of-type {\n",
       "        vertical-align: middle;\n",
       "    }\n",
       "\n",
       "    .dataframe tbody tr th {\n",
       "        vertical-align: top;\n",
       "    }\n",
       "\n",
       "    .dataframe thead th {\n",
       "        text-align: right;\n",
       "    }\n",
       "</style>\n",
       "<table border=\"1\" class=\"dataframe\">\n",
       "  <thead>\n",
       "    <tr style=\"text-align: right;\">\n",
       "      <th></th>\n",
       "      <th>num_orders</th>\n",
       "    </tr>\n",
       "  </thead>\n",
       "  <tbody>\n",
       "    <tr>\n",
       "      <td>count</td>\n",
       "      <td>4416.000000</td>\n",
       "    </tr>\n",
       "    <tr>\n",
       "      <td>mean</td>\n",
       "      <td>84.422781</td>\n",
       "    </tr>\n",
       "    <tr>\n",
       "      <td>std</td>\n",
       "      <td>45.023853</td>\n",
       "    </tr>\n",
       "    <tr>\n",
       "      <td>min</td>\n",
       "      <td>0.000000</td>\n",
       "    </tr>\n",
       "    <tr>\n",
       "      <td>25%</td>\n",
       "      <td>54.000000</td>\n",
       "    </tr>\n",
       "    <tr>\n",
       "      <td>50%</td>\n",
       "      <td>78.000000</td>\n",
       "    </tr>\n",
       "    <tr>\n",
       "      <td>75%</td>\n",
       "      <td>107.000000</td>\n",
       "    </tr>\n",
       "    <tr>\n",
       "      <td>max</td>\n",
       "      <td>462.000000</td>\n",
       "    </tr>\n",
       "  </tbody>\n",
       "</table>\n",
       "</div>"
      ],
      "text/plain": [
       "        num_orders\n",
       "count  4416.000000\n",
       "mean     84.422781\n",
       "std      45.023853\n",
       "min       0.000000\n",
       "25%      54.000000\n",
       "50%      78.000000\n",
       "75%     107.000000\n",
       "max     462.000000"
      ]
     },
     "execution_count": 6,
     "metadata": {},
     "output_type": "execute_result"
    }
   ],
   "source": [
    "data.describe()"
   ]
  },
  {
   "cell_type": "code",
   "execution_count": 7,
   "metadata": {
    "scrolled": true
   },
   "outputs": [
    {
     "name": "stdout",
     "output_type": "stream",
     "text": [
      "<class 'pandas.core.frame.DataFrame'>\n",
      "DatetimeIndex: 4416 entries, 2018-03-01 00:00:00 to 2018-08-31 23:00:00\n",
      "Freq: H\n",
      "Data columns (total 1 columns):\n",
      "num_orders    4416 non-null int64\n",
      "dtypes: int64(1)\n",
      "memory usage: 69.0 KB\n"
     ]
    }
   ],
   "source": [
    "data.info()"
   ]
  },
  {
   "cell_type": "code",
   "execution_count": 8,
   "metadata": {},
   "outputs": [],
   "source": [
    "data = data.fillna(0)"
   ]
  },
  {
   "cell_type": "code",
   "execution_count": 9,
   "metadata": {},
   "outputs": [
    {
     "name": "stdout",
     "output_type": "stream",
     "text": [
      "                     num_orders\n",
      "datetime                       \n",
      "2018-03-01 00:00:00         124\n",
      "2018-03-01 01:00:00          85\n",
      "2018-03-01 02:00:00          71\n",
      "2018-03-01 03:00:00          66\n",
      "2018-03-01 04:00:00          43\n",
      "...                         ...\n",
      "2018-08-31 19:00:00         136\n",
      "2018-08-31 20:00:00         154\n",
      "2018-08-31 21:00:00         159\n",
      "2018-08-31 22:00:00         223\n",
      "2018-08-31 23:00:00         205\n",
      "\n",
      "[4416 rows x 1 columns]\n"
     ]
    }
   ],
   "source": [
    "print(data)"
   ]
  },
  {
   "cell_type": "markdown",
   "metadata": {},
   "source": [
    "### Вывод\n",
    "Представленные данные были изучены. Пропущенные значения заменены 0."
   ]
  },
  {
   "cell_type": "markdown",
   "metadata": {},
   "source": [
    "## Анализ"
   ]
  },
  {
   "cell_type": "code",
   "execution_count": 10,
   "metadata": {
    "scrolled": true
   },
   "outputs": [],
   "source": [
    "decomposed = seasonal_decompose(data) "
   ]
  },
  {
   "cell_type": "code",
   "execution_count": 11,
   "metadata": {
    "scrolled": true
   },
   "outputs": [
    {
     "data": {
      "image/png": "[encoded data removed]",
      "text/plain": [
       "<Figure size 432x288 with 1 Axes>"
      ]
     },
     "metadata": {
      "needs_background": "light"
     },
     "output_type": "display_data"
    }
   ],
   "source": [
    "decomposed.trend.plot(ax=plt.gca())\n",
    "plt.title('Тренд')\n",
    "plt.xlabel('Дата')\n",
    "plt.ylabel('Число заказов')\n",
    "plt.show()"
   ]
  },
  {
   "cell_type": "code",
   "execution_count": 12,
   "metadata": {
    "scrolled": false
   },
   "outputs": [
    {
     "data": {
      "image/png": "[encoded data removed]",
      "text/plain": [
       "<Figure size 432x288 with 1 Axes>"
      ]
     },
     "metadata": {
      "needs_background": "light"
     },
     "output_type": "display_data"
    }
   ],
   "source": [
    "decomposed.seasonal.plot(ax=plt.gca())\n",
    "plt.title('Сезонность')\n",
    "plt.xlabel('Дата')\n",
    "plt.ylabel('Число заказов')\n",
    "plt.show()"
   ]
  },
  {
   "cell_type": "markdown",
   "metadata": {},
   "source": [
    "### Вывод\n",
    "По всему периоду виден тренд, но сезонности не наблюдается, рассмотрю более короткий период."
   ]
  },
  {
   "cell_type": "code",
   "execution_count": 13,
   "metadata": {},
   "outputs": [],
   "source": [
    "data_2 = data['2018-03-01':'2018-03-07']"
   ]
  },
  {
   "cell_type": "code",
   "execution_count": 14,
   "metadata": {},
   "outputs": [],
   "source": [
    "data_3 = data['2018-06-01':'2018-06-02']"
   ]
  },
  {
   "cell_type": "code",
   "execution_count": 15,
   "metadata": {},
   "outputs": [],
   "source": [
    "decomposed = seasonal_decompose(data_2)"
   ]
  },
  {
   "cell_type": "code",
   "execution_count": 16,
   "metadata": {
    "scrolled": false
   },
   "outputs": [
    {
     "data": {
      "image/png": "[encoded data removed]",
      "text/plain": [
       "<Figure size 432x288 with 1 Axes>"
      ]
     },
     "metadata": {
      "needs_background": "light"
     },
     "output_type": "display_data"
    }
   ],
   "source": [
    "decomposed.seasonal.plot(ax=plt.gca()) \n",
    "plt.title('Сезонность')\n",
    "plt.xlabel('Дата')\n",
    "plt.ylabel('Число заказов')\n",
    "plt.show()"
   ]
  },
  {
   "cell_type": "code",
   "execution_count": 17,
   "metadata": {},
   "outputs": [],
   "source": [
    "decomposed = seasonal_decompose(data_3) "
   ]
  },
  {
   "cell_type": "code",
   "execution_count": 18,
   "metadata": {
    "scrolled": true
   },
   "outputs": [
    {
     "data": {
      "image/png": "[encoded data removed]",
      "text/plain": [
       "<Figure size 432x288 with 1 Axes>"
      ]
     },
     "metadata": {
      "needs_background": "light"
     },
     "output_type": "display_data"
    }
   ],
   "source": [
    "decomposed.seasonal.plot(ax=plt.gca()) \n",
    "plt.title('Сезонность')\n",
    "plt.xlabel('Дата')\n",
    "plt.ylabel('Число заказов')\n",
    "plt.show()"
   ]
  },
  {
   "cell_type": "markdown",
   "metadata": {},
   "source": [
    "### Вывод\n",
    "По полученным данным виден тренд на постепенное повышение числа заказов со временем на всем периоде измерений. Заметна сезонность в течение дня. Утром мало заказов, в течение дня видна некоторая стабильност в количестве и к полуночи число заказов резко возрастает."
   ]
  },
  {
   "cell_type": "markdown",
   "metadata": {},
   "source": [
    "## Обучение"
   ]
  },
  {
   "cell_type": "code",
   "execution_count": 19,
   "metadata": {},
   "outputs": [],
   "source": [
    "def make_features(data, max_lag, rolling_mean_size):\n",
    "    data['hour'] = data.index.hour\n",
    "    data['dayofweek'] = data.index.dayofweek\n",
    "    for lag in range(1, max_lag+1):\n",
    "        data['lag_{}'.format(lag)] = data['num_orders'].shift(lag)\n",
    "    data['rolling_mean'] = data['num_orders'].shift().rolling(rolling_mean_size).mean()"
   ]
  },
  {
   "cell_type": "markdown",
   "metadata": {},
   "source": [
    "### \n",
    "Добавляем дополнительные столбц для лучшей работы модели."
   ]
  },
  {
   "cell_type": "code",
   "execution_count": 20,
   "metadata": {},
   "outputs": [],
   "source": [
    "make_features(data, 24, 48)"
   ]
  },
  {
   "cell_type": "code",
   "execution_count": 21,
   "metadata": {},
   "outputs": [
    {
     "name": "stdout",
     "output_type": "stream",
     "text": [
      "                     num_orders  hour  dayofweek  lag_1  lag_2  lag_3  lag_4  \\\n",
      "datetime                                                                       \n",
      "2018-03-01 00:00:00         124     0          3    NaN    NaN    NaN    NaN   \n",
      "2018-03-01 01:00:00          85     1          3  124.0    NaN    NaN    NaN   \n",
      "2018-03-01 02:00:00          71     2          3   85.0  124.0    NaN    NaN   \n",
      "2018-03-01 03:00:00          66     3          3   71.0   85.0  124.0    NaN   \n",
      "2018-03-01 04:00:00          43     4          3   66.0   71.0   85.0  124.0   \n",
      "...                         ...   ...        ...    ...    ...    ...    ...   \n",
      "2018-08-31 19:00:00         136    19          4  207.0  217.0  197.0  116.0   \n",
      "2018-08-31 20:00:00         154    20          4  136.0  207.0  217.0  197.0   \n",
      "2018-08-31 21:00:00         159    21          4  154.0  136.0  207.0  217.0   \n",
      "2018-08-31 22:00:00         223    22          4  159.0  154.0  136.0  207.0   \n",
      "2018-08-31 23:00:00         205    23          4  223.0  159.0  154.0  136.0   \n",
      "\n",
      "                     lag_5  lag_6  lag_7  ...  lag_16  lag_17  lag_18  lag_19  \\\n",
      "datetime                                  ...                                   \n",
      "2018-03-01 00:00:00    NaN    NaN    NaN  ...     NaN     NaN     NaN     NaN   \n",
      "2018-03-01 01:00:00    NaN    NaN    NaN  ...     NaN     NaN     NaN     NaN   \n",
      "2018-03-01 02:00:00    NaN    NaN    NaN  ...     NaN     NaN     NaN     NaN   \n",
      "2018-03-01 03:00:00    NaN    NaN    NaN  ...     NaN     NaN     NaN     NaN   \n",
      "2018-03-01 04:00:00    NaN    NaN    NaN  ...     NaN     NaN     NaN     NaN   \n",
      "...                    ...    ...    ...  ...     ...     ...     ...     ...   \n",
      "2018-08-31 19:00:00  133.0  166.0  136.0  ...    99.0   230.0   194.0   276.0   \n",
      "2018-08-31 20:00:00  116.0  133.0  166.0  ...   268.0    99.0   230.0   194.0   \n",
      "2018-08-31 21:00:00  197.0  116.0  133.0  ...    78.0   268.0    99.0   230.0   \n",
      "2018-08-31 22:00:00  217.0  197.0  116.0  ...    35.0    78.0   268.0    99.0   \n",
      "2018-08-31 23:00:00  207.0  217.0  197.0  ...    46.0    35.0    78.0   268.0   \n",
      "\n",
      "                     lag_20  lag_21  lag_22  lag_23  lag_24  rolling_mean  \n",
      "datetime                                                                   \n",
      "2018-03-01 00:00:00     NaN     NaN     NaN     NaN     NaN           NaN  \n",
      "2018-03-01 01:00:00     NaN     NaN     NaN     NaN     NaN           NaN  \n",
      "2018-03-01 02:00:00     NaN     NaN     NaN     NaN     NaN           NaN  \n",
      "2018-03-01 03:00:00     NaN     NaN     NaN     NaN     NaN           NaN  \n",
      "2018-03-01 04:00:00     NaN     NaN     NaN     NaN     NaN           NaN  \n",
      "...                     ...     ...     ...     ...     ...           ...  \n",
      "2018-08-31 19:00:00   246.0   158.0   198.0   142.0    72.0    170.895833  \n",
      "2018-08-31 20:00:00   276.0   246.0   158.0   198.0   142.0    170.208333  \n",
      "2018-08-31 21:00:00   194.0   276.0   246.0   158.0   198.0    169.437500  \n",
      "2018-08-31 22:00:00   230.0   194.0   276.0   246.0   158.0    169.208333  \n",
      "2018-08-31 23:00:00    99.0   230.0   194.0   276.0   246.0    170.166667  \n",
      "\n",
      "[4416 rows x 28 columns]\n"
     ]
    }
   ],
   "source": [
    "print(data)"
   ]
  },
  {
   "cell_type": "markdown",
   "metadata": {},
   "source": [
    "### \n",
    "Проводим масштабирование признаков"
   ]
  },
  {
   "cell_type": "code",
   "execution_count": 24,
   "metadata": {},
   "outputs": [],
   "source": [
    "a, test = train_test_split(data, shuffle=False, test_size=0.1, random_state=12345)\n",
    "train, valid = train_test_split(a, shuffle=False, test_size=1/9, random_state=12345)"
   ]
  },
  {
   "cell_type": "code",
   "execution_count": 25,
   "metadata": {},
   "outputs": [],
   "source": [
    "train = train.dropna()"
   ]
  },
  {
   "cell_type": "code",
   "execution_count": 26,
   "metadata": {},
   "outputs": [
    {
     "name": "stdout",
     "output_type": "stream",
     "text": [
      "2018-03-03 00:00:00 2018-07-26 03:00:00\n",
      "2018-07-26 04:00:00 2018-08-13 13:00:00\n",
      "2018-08-13 14:00:00 2018-08-31 23:00:00\n"
     ]
    }
   ],
   "source": [
    "print(train.index.min(), train.index.max())\n",
    "print(valid.index.min(), valid.index.max())\n",
    "print(test.index.min(), test.index.max())"
   ]
  },
  {
   "cell_type": "code",
   "execution_count": 27,
   "metadata": {
    "scrolled": true
   },
   "outputs": [
    {
     "name": "stdout",
     "output_type": "stream",
     "text": [
      "(3484, 28)\n",
      "(442, 28)\n",
      "(442, 28)\n"
     ]
    }
   ],
   "source": [
    "print(train.shape)\n",
    "print(valid.shape)\n",
    "print(test.shape)"
   ]
  },
  {
   "cell_type": "code",
   "execution_count": 28,
   "metadata": {},
   "outputs": [],
   "source": [
    "features_train = train.drop('num_orders', axis = 1)\n",
    "target_train = train['num_orders']\n",
    "features_valid = valid.drop('num_orders', axis = 1)\n",
    "target_valid = valid['num_orders']\n",
    "features_test = test.drop('num_orders', axis = 1)\n",
    "target_test = test['num_orders']"
   ]
  },
  {
   "cell_type": "markdown",
   "metadata": {},
   "source": [
    "#### Линейная регрессия"
   ]
  },
  {
   "cell_type": "code",
   "execution_count": 29,
   "metadata": {
    "scrolled": true
   },
   "outputs": [
    {
     "name": "stdout",
     "output_type": "stream",
     "text": [
      "34.261607258397135\n"
     ]
    }
   ],
   "source": [
    "model = LinearRegression(normalize = False)\n",
    "model.fit(features_train, target_train)\n",
    "predictions_valid = model.predict(features_valid)\n",
    "rmse = mean_squared_error(target_valid, predictions_valid)**0.5\n",
    "print(rmse)"
   ]
  },
  {
   "cell_type": "markdown",
   "metadata": {},
   "source": [
    "#### Случайный лес"
   ]
  },
  {
   "cell_type": "code",
   "execution_count": 30,
   "metadata": {},
   "outputs": [
    {
     "name": "stdout",
     "output_type": "stream",
     "text": [
      "RMSE наилучшей модели на валидационной выборке: 31.97545887987871\n",
      "Значение параметра n_estimators для модели с лучшим RMSE: 41\n"
     ]
    }
   ],
   "source": [
    "best_model = None\n",
    "best_result = 2500\n",
    "best_est = 0\n",
    "for est in range(1, 100, 10):\n",
    "    model = RandomForestRegressor(random_state=12345, n_estimators=est) \n",
    "    model.fit(features_train, target_train)\n",
    "    predictions_valid = model.predict(features_valid)\n",
    "    result = mean_squared_error(target_valid, predictions_valid)**0.5\n",
    "    if result < best_result:\n",
    "        best_model = model\n",
    "        best_result = result\n",
    "        best_est = est\n",
    "print('RMSE наилучшей модели на валидационной выборке:', best_result)\n",
    "print('Значение параметра n_estimators для модели с лучшим RMSE:', best_est)"
   ]
  },
  {
   "cell_type": "markdown",
   "metadata": {},
   "source": [
    "#### Решающее дерево"
   ]
  },
  {
   "cell_type": "code",
   "execution_count": 31,
   "metadata": {},
   "outputs": [
    {
     "name": "stdout",
     "output_type": "stream",
     "text": [
      "RMSE наилучшей модели на валидационной выборке: 36.6982215609876\n",
      "Значение параметра max_depth для модели с лучшей RMSE: 7\n"
     ]
    }
   ],
   "source": [
    "best_model = None\n",
    "best_result = 2500\n",
    "best_depth = 0\n",
    "for depth in range(1, 100):\n",
    "    model = DecisionTreeRegressor(random_state=12345, max_depth = depth)\n",
    "    model.fit(features_train, target_train) \n",
    "    predictions_valid = model.predict(features_valid)\n",
    "    result = mean_squared_error(target_valid, predictions_valid)**0.5\n",
    "    if result < best_result:\n",
    "        best_model = model\n",
    "        best_result = result\n",
    "        best_depth = depth\n",
    "print('RMSE наилучшей модели на валидационной выборке:', best_result)\n",
    "print('Значение параметра max_depth для модели с лучшей RMSE:', best_depth)"
   ]
  },
  {
   "cell_type": "markdown",
   "metadata": {},
   "source": [
    "#### Модель с градиентным бустингом с использованием библиотеки lightgbm"
   ]
  },
  {
   "cell_type": "code",
   "execution_count": 32,
   "metadata": {},
   "outputs": [
    {
     "name": "stdout",
     "output_type": "stream",
     "text": [
      "[10]\tvalid_0's rmse: 40.6839\tvalid_0's l2: 1655.18\n",
      "[20]\tvalid_0's rmse: 35.1938\tvalid_0's l2: 1238.6\n",
      "[30]\tvalid_0's rmse: 32.9976\tvalid_0's l2: 1088.84\n",
      "[40]\tvalid_0's rmse: 32.1707\tvalid_0's l2: 1034.95\n",
      "[50]\tvalid_0's rmse: 31.7572\tvalid_0's l2: 1008.52\n",
      "[60]\tvalid_0's rmse: 31.635\tvalid_0's l2: 1000.77\n",
      "[70]\tvalid_0's rmse: 31.4596\tvalid_0's l2: 989.706\n",
      "[80]\tvalid_0's rmse: 31.5105\tvalid_0's l2: 992.915\n",
      "[90]\tvalid_0's rmse: 31.4406\tvalid_0's l2: 988.51\n",
      "[100]\tvalid_0's rmse: 31.4708\tvalid_0's l2: 990.409\n",
      "31.4707615811655\n"
     ]
    }
   ],
   "source": [
    "model = LGBMModel(objective=\"regression\", n_estimators=100, learning_rate = 0.1)\n",
    "model.fit(features_train, target_train, eval_set=[(features_valid, target_valid)], eval_metric = 'rmse', verbose=10) \n",
    "predictions_valid = model.predict(features_valid)\n",
    "rmse = mean_squared_error(target_valid, predictions_valid)**0.5\n",
    "print(rmse)"
   ]
  },
  {
   "cell_type": "markdown",
   "metadata": {},
   "source": [
    "#### Модель с градиентным бустингом с использованием библиотеки Catboost"
   ]
  },
  {
   "cell_type": "code",
   "execution_count": 33,
   "metadata": {
    "scrolled": true
   },
   "outputs": [
    {
     "name": "stdout",
     "output_type": "stream",
     "text": [
      "0:\tlearn: 28.9923981\ttotal: 50.5ms\tremaining: 10.1s\n",
      "50:\tlearn: 14.6090133\ttotal: 1.4s\tremaining: 4.09s\n",
      "100:\tlearn: 10.3655681\ttotal: 2.87s\tremaining: 2.81s\n",
      "150:\tlearn: 7.9708348\ttotal: 4.25s\tremaining: 1.38s\n",
      "199:\tlearn: 5.9218434\ttotal: 5.63s\tremaining: 0us\n",
      "32.73289972432464\n"
     ]
    }
   ],
   "source": [
    "model = CatBoostRegressor(loss_function=\"RMSE\", iterations=200, learning_rate = 0.5) \n",
    "model.fit(features_train, target_train, verbose=50)\n",
    "predictions_valid = model.predict(features_valid)\n",
    "rmse = mean_squared_error(target_valid, predictions_valid)**0.5\n",
    "print(rmse)"
   ]
  },
  {
   "cell_type": "markdown",
   "metadata": {},
   "source": [
    "### Вывод\n",
    "При облучении различных моделей видим, что параметр RMSE у них относительно похож и составляет примерно 35, что ниже контрольного значения, проведем тестирование всех предложенных моделей. "
   ]
  },
  {
   "cell_type": "markdown",
   "metadata": {},
   "source": [
    "## Тестирование"
   ]
  },
  {
   "cell_type": "code",
   "execution_count": 34,
   "metadata": {},
   "outputs": [],
   "source": [
    "def plot(target_test, predictions_test):\n",
    "    df_1 = pd.DataFrame(data = target_test)\n",
    "    df = pd.DataFrame(data = predictions_test, index = df_1.index)\n",
    "    df = df.join(df_1)['2018-08-14':'2018-08-21']\n",
    "    df_2 = df['2018-08-14':'2018-08-15']\n",
    "    df.plot()\n",
    "    plt.title('Заказы')\n",
    "    plt.xlabel('Дата')\n",
    "    plt.ylabel('Число заказов')\n",
    "    plt.show()\n",
    "    df_2.plot()\n",
    "    plt.title('Заказы')\n",
    "    plt.xlabel('Дата')\n",
    "    plt.ylabel('Число заказов')\n",
    "    plt.show()"
   ]
  },
  {
   "cell_type": "code",
   "execution_count": 35,
   "metadata": {},
   "outputs": [
    {
     "name": "stdout",
     "output_type": "stream",
     "text": [
      "0:\tlearn: 34.9441482\ttotal: 3.58ms\tremaining: 1.79s\n",
      "100:\tlearn: 20.2327027\ttotal: 2.93s\tremaining: 11.6s\n",
      "200:\tlearn: 18.2590519\ttotal: 5.88s\tremaining: 8.75s\n",
      "300:\tlearn: 16.5155953\ttotal: 8.65s\tremaining: 5.72s\n",
      "400:\tlearn: 15.2440627\ttotal: 11.5s\tremaining: 2.84s\n",
      "499:\tlearn: 14.1553472\ttotal: 14.4s\tremaining: 0us\n",
      "RMSE модели 52.114804370775296\n"
     ]
    }
   ],
   "source": [
    "model = CatBoostRegressor(loss_function=\"RMSE\", iterations=500, learning_rate = 0.05) \n",
    "model.fit(features_train, target_train, verbose=100)\n",
    "predictions_test = model.predict(features_test)\n",
    "rmse = mean_squared_error(target_test, predictions_test)**0.5\n",
    "print('RMSE модели', rmse)"
   ]
  },
  {
   "cell_type": "code",
   "execution_count": 36,
   "metadata": {
    "scrolled": true
   },
   "outputs": [
    {
     "data": {
      "image/png": "[encoded data removed]",
      "text/plain": [
       "<Figure size 432x288 with 1 Axes>"
      ]
     },
     "metadata": {
      "needs_background": "light"
     },
     "output_type": "display_data"
    },
    {
     "data": {
      "image/png": "[encoded data removed]",
      "text/plain": [
       "<Figure size 432x288 with 1 Axes>"
      ]
     },
     "metadata": {
      "needs_background": "light"
     },
     "output_type": "display_data"
    }
   ],
   "source": [
    "plot(target_test, predictions_test)"
   ]
  },
  {
   "cell_type": "code",
   "execution_count": 37,
   "metadata": {
    "scrolled": true
   },
   "outputs": [
    {
     "name": "stdout",
     "output_type": "stream",
     "text": [
      "[10]\tvalid_0's rmse: 49.7042\tvalid_0's l2: 2470.51\n",
      "[20]\tvalid_0's rmse: 52.4252\tvalid_0's l2: 2748.4\n",
      "[30]\tvalid_0's rmse: 51.7642\tvalid_0's l2: 2679.54\n",
      "[40]\tvalid_0's rmse: 52.5965\tvalid_0's l2: 2766.39\n",
      "[50]\tvalid_0's rmse: 53.5249\tvalid_0's l2: 2864.92\n",
      "[60]\tvalid_0's rmse: 53.1289\tvalid_0's l2: 2822.68\n",
      "[70]\tvalid_0's rmse: 53.7249\tvalid_0's l2: 2886.37\n",
      "[80]\tvalid_0's rmse: 54.0824\tvalid_0's l2: 2924.91\n"
     ]
    }
   ],
   "source": [
    "model = LGBMModel(objective=\"regression\", n_estimators=80, learning_rate = 0.4)\n",
    "model.fit(features_train, target_train, eval_set=[(features_test, target_test)], eval_metric = 'rmse', verbose=10) \n",
    "predictions_valid = model.predict(features_test)"
   ]
  },
  {
   "cell_type": "code",
   "execution_count": 38,
   "metadata": {},
   "outputs": [
    {
     "data": {
      "image/png": "[encoded data removed]",
      "text/plain": [
       "<Figure size 432x288 with 1 Axes>"
      ]
     },
     "metadata": {
      "needs_background": "light"
     },
     "output_type": "display_data"
    },
    {
     "data": {
      "image/png": "[encoded data removed]",
      "text/plain": [
       "<Figure size 432x288 with 1 Axes>"
      ]
     },
     "metadata": {
      "needs_background": "light"
     },
     "output_type": "display_data"
    }
   ],
   "source": [
    "plot(target_test, predictions_test)"
   ]
  },
  {
   "cell_type": "code",
   "execution_count": 39,
   "metadata": {},
   "outputs": [
    {
     "name": "stdout",
     "output_type": "stream",
     "text": [
      "RMSE модели 58.296227358471704\n"
     ]
    }
   ],
   "source": [
    "model = DecisionTreeRegressor(random_state=12345, max_depth = 5)\n",
    "model.fit(features_train, target_train)\n",
    "predictions_test = model.predict(features_test)\n",
    "rmse = mean_squared_error(target_test, predictions_test)**0.5\n",
    "print('RMSE модели', rmse)"
   ]
  },
  {
   "cell_type": "code",
   "execution_count": 40,
   "metadata": {
    "scrolled": true
   },
   "outputs": [
    {
     "data": {
      "image/png": "[encoded data removed]",
      "text/plain": [
       "<Figure size 432x288 with 1 Axes>"
      ]
     },
     "metadata": {
      "needs_background": "light"
     },
     "output_type": "display_data"
    },
    {
     "data": {
      "image/png": "[encoded data removed]",
      "text/plain": [
       "<Figure size 432x288 with 1 Axes>"
      ]
     },
     "metadata": {
      "needs_background": "light"
     },
     "output_type": "display_data"
    }
   ],
   "source": [
    "plot(target_test, predictions_test)"
   ]
  },
  {
   "cell_type": "code",
   "execution_count": 41,
   "metadata": {},
   "outputs": [
    {
     "name": "stdout",
     "output_type": "stream",
     "text": [
      "RMSE модели 50.12676700262791\n"
     ]
    }
   ],
   "source": [
    "model = RandomForestRegressor(random_state=12345, n_estimators=100)\n",
    "model.fit(features_train, target_train)\n",
    "predictions_test = model.predict(features_test)\n",
    "rmse = mean_squared_error(target_test, predictions_test)**0.5\n",
    "print('RMSE модели', rmse)"
   ]
  },
  {
   "cell_type": "code",
   "execution_count": 42,
   "metadata": {},
   "outputs": [
    {
     "data": {
      "image/png": "[encoded data removed]",
      "text/plain": [
       "<Figure size 432x288 with 1 Axes>"
      ]
     },
     "metadata": {
      "needs_background": "light"
     },
     "output_type": "display_data"
    },
    {
     "data": {
      "image/png": "[encoded data removed]",
      "text/plain": [
       "<Figure size 432x288 with 1 Axes>"
      ]
     },
     "metadata": {
      "needs_background": "light"
     },
     "output_type": "display_data"
    }
   ],
   "source": [
    "plot(target_test, predictions_test)"
   ]
  },
  {
   "cell_type": "code",
   "execution_count": 43,
   "metadata": {
    "scrolled": true
   },
   "outputs": [
    {
     "name": "stdout",
     "output_type": "stream",
     "text": [
      "RMSE модели 45.49542628037722\n"
     ]
    }
   ],
   "source": [
    "model = LinearRegression()\n",
    "model.fit(features_train, target_train)\n",
    "predictions_test = model.predict(features_test)\n",
    "rmse = mean_squared_error(target_test, predictions_test)**0.5\n",
    "print('RMSE модели', rmse)"
   ]
  },
  {
   "cell_type": "code",
   "execution_count": 44,
   "metadata": {
    "scrolled": true
   },
   "outputs": [
    {
     "data": {
      "image/png": "[encoded data removed]",
      "text/plain": [
       "<Figure size 432x288 with 1 Axes>"
      ]
     },
     "metadata": {
      "needs_background": "light"
     },
     "output_type": "display_data"
    },
    {
     "data": {
      "image/png": "[encoded data removed]",
      "text/plain": [
       "<Figure size 432x288 with 1 Axes>"
      ]
     },
     "metadata": {
      "needs_background": "light"
     },
     "output_type": "display_data"
    }
   ],
   "source": [
    "plot(target_test, predictions_test)"
   ]
  },
  {
   "cell_type": "markdown",
   "metadata": {},
   "source": [
    "### Вывод\n",
    "При работе с тестовыми данными видно резкое ухудшение качества моделей, по сравнению с валидационной выборкой. RMSE модели линейной регрессии меньше требуемого значения в 48, следовательно можно сделать вывод об успешном выполнении задачи. При рассмотрении графиков сравнения предсказанного и точного результатов можно заметить, что в моделях основанных на деревьях решений, разброс значений меньше чем в фактической выборке, т.е. различные выбросы оказывают более сильное влияние на итоговую точность, в модели линейной регрессии, разброс значений существует, но частично не в тех местах."
   ]
  },
  {
   "cell_type": "markdown",
   "metadata": {},
   "source": [
    "## Чек-лист проверки"
   ]
  },
  {
   "cell_type": "markdown",
   "metadata": {},
   "source": [
    "- [x]  Jupyter Notebook открыт\n",
    "- [x]  Весь код выполняется без ошибок\n",
    "- [x]  Ячейки с кодом расположены в порядке исполнения\n",
    "- [x]  Данные загружены и подготовлены\n",
    "- [x]  Данные проанализированы\n",
    "- [x]  Модель обучена, гиперпараметры подобраны\n",
    "- [x]  Качество моделей проверено, выводы сделаны\n",
    "- [x]  Значение *RMSE* на тестовой выборке не больше 48"
   ]
  },
  {
   "cell_type": "code",
   "execution_count": null,
   "metadata": {},
   "outputs": [],
   "source": []
  }
 ],
 "metadata": {
  "ExecuteTimeLog": [
   {
    "duration": 1530,
    "start_time": "2021-07-22T15:44:10.992Z"
   },
   {
    "duration": 40,
    "start_time": "2021-07-22T15:44:26.166Z"
   },
   {
    "duration": 17,
    "start_time": "2021-07-22T15:44:36.894Z"
   },
   {
    "duration": 51,
    "start_time": "2021-07-22T15:45:14.012Z"
   },
   {
    "duration": 13,
    "start_time": "2021-07-22T15:45:14.538Z"
   },
   {
    "duration": 13,
    "start_time": "2021-07-22T15:46:50.282Z"
   },
   {
    "duration": 12,
    "start_time": "2021-07-22T15:46:55.626Z"
   },
   {
    "duration": 510,
    "start_time": "2021-07-22T15:47:53.352Z"
   },
   {
    "duration": 538,
    "start_time": "2021-07-22T15:48:02.411Z"
   },
   {
    "duration": 25,
    "start_time": "2021-07-22T15:49:03.202Z"
   },
   {
    "duration": 488,
    "start_time": "2021-07-22T15:50:18.554Z"
   },
   {
    "duration": 9,
    "start_time": "2021-07-22T15:50:37.560Z"
   },
   {
    "duration": 5,
    "start_time": "2021-07-22T15:50:53.415Z"
   },
   {
    "duration": 483,
    "start_time": "2021-07-22T15:50:56.842Z"
   },
   {
    "duration": 314,
    "start_time": "2021-07-22T15:50:58.743Z"
   },
   {
    "duration": 9,
    "start_time": "2021-07-22T15:51:04.990Z"
   },
   {
    "duration": 5,
    "start_time": "2021-07-22T15:51:06.872Z"
   },
   {
    "duration": 8,
    "start_time": "2021-07-22T15:51:09.264Z"
   },
   {
    "duration": 485,
    "start_time": "2021-07-22T15:51:14.652Z"
   },
   {
    "duration": 313,
    "start_time": "2021-07-22T15:51:21.518Z"
   },
   {
    "duration": 5,
    "start_time": "2021-07-22T15:51:26.032Z"
   },
   {
    "duration": 473,
    "start_time": "2021-07-22T15:51:30.118Z"
   },
   {
    "duration": 100,
    "start_time": "2021-07-22T15:52:48.250Z"
   },
   {
    "duration": 527,
    "start_time": "2021-07-22T15:52:51.785Z"
   },
   {
    "duration": 16,
    "start_time": "2021-07-22T15:53:27.707Z"
   },
   {
    "duration": 500,
    "start_time": "2021-07-22T15:53:38.285Z"
   },
   {
    "duration": 18,
    "start_time": "2021-07-22T15:53:41.648Z"
   },
   {
    "duration": 47,
    "start_time": "2021-07-22T15:53:50.164Z"
   },
   {
    "duration": 12,
    "start_time": "2021-07-22T15:53:50.703Z"
   },
   {
    "duration": 12,
    "start_time": "2021-07-22T15:53:54.132Z"
   },
   {
    "duration": 12,
    "start_time": "2021-07-22T15:53:55.694Z"
   },
   {
    "duration": 10,
    "start_time": "2021-07-22T15:53:58.155Z"
   },
   {
    "duration": 4,
    "start_time": "2021-07-22T15:53:58.677Z"
   },
   {
    "duration": 443,
    "start_time": "2021-07-22T15:54:01.059Z"
   },
   {
    "duration": 386,
    "start_time": "2021-07-22T15:54:13.482Z"
   },
   {
    "duration": 287,
    "start_time": "2021-07-22T15:55:43.080Z"
   },
   {
    "duration": 497,
    "start_time": "2021-07-22T15:55:58.776Z"
   },
   {
    "duration": 297,
    "start_time": "2021-07-22T15:56:12.629Z"
   },
   {
    "duration": 1537,
    "start_time": "2021-07-22T15:57:13.092Z"
   },
   {
    "duration": 47,
    "start_time": "2021-07-22T15:57:14.632Z"
   },
   {
    "duration": 16,
    "start_time": "2021-07-22T15:57:14.682Z"
   },
   {
    "duration": 13,
    "start_time": "2021-07-22T15:57:14.701Z"
   },
   {
    "duration": 11,
    "start_time": "2021-07-22T15:57:14.717Z"
   },
   {
    "duration": 9,
    "start_time": "2021-07-22T15:57:14.730Z"
   },
   {
    "duration": 44,
    "start_time": "2021-07-22T15:57:14.741Z"
   },
   {
    "duration": 463,
    "start_time": "2021-07-22T15:57:22.635Z"
   },
   {
    "duration": 314,
    "start_time": "2021-07-22T15:57:52.073Z"
   },
   {
    "duration": 8,
    "start_time": "2021-07-22T23:10:25.307Z"
   },
   {
    "duration": 541,
    "start_time": "2021-07-22T23:10:45.621Z"
   },
   {
    "duration": 8,
    "start_time": "2021-07-22T23:12:42.177Z"
   },
   {
    "duration": 459,
    "start_time": "2021-07-22T23:12:42.863Z"
   },
   {
    "duration": 9,
    "start_time": "2021-07-22T23:12:48.584Z"
   },
   {
    "duration": 474,
    "start_time": "2021-07-22T23:12:49.604Z"
   },
   {
    "duration": 9,
    "start_time": "2021-07-22T23:12:55.153Z"
   },
   {
    "duration": 456,
    "start_time": "2021-07-22T23:12:56.452Z"
   },
   {
    "duration": 451,
    "start_time": "2021-07-22T23:15:14.489Z"
   },
   {
    "duration": 47,
    "start_time": "2021-07-22T23:16:19.612Z"
   },
   {
    "duration": 12,
    "start_time": "2021-07-22T23:16:21.450Z"
   },
   {
    "duration": 4,
    "start_time": "2021-07-22T23:16:23.880Z"
   },
   {
    "duration": 9,
    "start_time": "2021-07-22T23:16:28.023Z"
   },
   {
    "duration": 509,
    "start_time": "2021-07-22T23:16:39.770Z"
   },
   {
    "duration": 578,
    "start_time": "2021-07-22T23:16:56.409Z"
   },
   {
    "duration": 5,
    "start_time": "2021-07-22T23:17:56.060Z"
   },
   {
    "duration": 9,
    "start_time": "2021-07-22T23:18:08.237Z"
   },
   {
    "duration": 282,
    "start_time": "2021-07-22T23:18:13.906Z"
   },
   {
    "duration": 300,
    "start_time": "2021-07-22T23:18:37.880Z"
   },
   {
    "duration": 1206,
    "start_time": "2021-07-27T23:05:04.583Z"
   },
   {
    "duration": 40,
    "start_time": "2021-07-27T23:05:05.791Z"
   },
   {
    "duration": 11,
    "start_time": "2021-07-27T23:05:05.833Z"
   },
   {
    "duration": 11,
    "start_time": "2021-07-27T23:05:06.169Z"
   },
   {
    "duration": 9,
    "start_time": "2021-07-27T23:05:07.503Z"
   },
   {
    "duration": 7,
    "start_time": "2021-07-27T23:05:09.302Z"
   },
   {
    "duration": 4,
    "start_time": "2021-07-27T23:05:12.283Z"
   },
   {
    "duration": 197,
    "start_time": "2021-07-27T23:05:13.971Z"
   },
   {
    "duration": 5,
    "start_time": "2021-07-27T23:07:50.852Z"
   },
   {
    "duration": 5,
    "start_time": "2021-07-27T23:08:14.981Z"
   },
   {
    "duration": 7,
    "start_time": "2021-07-27T23:08:48.312Z"
   },
   {
    "duration": 5,
    "start_time": "2021-07-27T23:08:48.849Z"
   },
   {
    "duration": 3,
    "start_time": "2021-07-27T23:10:46.358Z"
   },
   {
    "duration": 4,
    "start_time": "2021-07-27T23:13:44.712Z"
   },
   {
    "duration": 4,
    "start_time": "2021-07-27T23:14:20.117Z"
   },
   {
    "duration": 11,
    "start_time": "2021-07-27T23:14:21.735Z"
   },
   {
    "duration": 7,
    "start_time": "2021-07-27T23:14:24.473Z"
   },
   {
    "duration": 5,
    "start_time": "2021-07-27T23:14:37.747Z"
   },
   {
    "duration": 5,
    "start_time": "2021-07-27T23:14:38.916Z"
   },
   {
    "duration": 3,
    "start_time": "2021-07-27T23:14:41.198Z"
   },
   {
    "duration": 7,
    "start_time": "2021-07-27T23:16:14.067Z"
   },
   {
    "duration": 9,
    "start_time": "2021-07-27T23:16:44.086Z"
   },
   {
    "duration": 6,
    "start_time": "2021-07-27T23:17:03.851Z"
   },
   {
    "duration": 7,
    "start_time": "2021-07-27T23:17:52.074Z"
   },
   {
    "duration": 6,
    "start_time": "2021-07-27T23:17:54.971Z"
   },
   {
    "duration": 75,
    "start_time": "2021-07-27T23:18:39.824Z"
   },
   {
    "duration": 6,
    "start_time": "2021-07-27T23:18:41.370Z"
   },
   {
    "duration": 138,
    "start_time": "2021-07-27T23:18:49.010Z"
   },
   {
    "duration": 7,
    "start_time": "2021-07-27T23:18:49.639Z"
   },
   {
    "duration": 41,
    "start_time": "2021-07-27T23:18:57.955Z"
   },
   {
    "duration": 6,
    "start_time": "2021-07-27T23:18:58.569Z"
   },
   {
    "duration": 3942,
    "start_time": "2021-07-27T23:19:27.448Z"
   },
   {
    "duration": 3111,
    "start_time": "2021-07-27T23:20:13.868Z"
   },
   {
    "duration": 3739,
    "start_time": "2021-07-27T23:20:27.061Z"
   },
   {
    "duration": 158,
    "start_time": "2021-07-27T23:21:04.059Z"
   },
   {
    "duration": 20156,
    "start_time": "2021-07-27T23:21:11.229Z"
   },
   {
    "duration": 2636,
    "start_time": "2021-07-27T23:21:34.989Z"
   },
   {
    "duration": 874,
    "start_time": "2021-07-27T23:21:58.643Z"
   },
   {
    "duration": 3026,
    "start_time": "2021-07-27T23:22:20.941Z"
   },
   {
    "duration": 3670,
    "start_time": "2021-07-27T23:22:29.221Z"
   },
   {
    "duration": 2982,
    "start_time": "2021-07-27T23:22:34.325Z"
   },
   {
    "duration": 2857,
    "start_time": "2021-07-27T23:23:18.042Z"
   },
   {
    "duration": 7,
    "start_time": "2021-07-28T00:03:44.504Z"
   },
   {
    "duration": 483,
    "start_time": "2021-07-28T00:03:45.918Z"
   },
   {
    "duration": 5,
    "start_time": "2021-07-28T00:03:50.580Z"
   },
   {
    "duration": 39,
    "start_time": "2021-07-28T00:03:50.957Z"
   },
   {
    "duration": 9,
    "start_time": "2021-07-28T00:03:51.410Z"
   },
   {
    "duration": 8,
    "start_time": "2021-07-28T00:03:53.049Z"
   },
   {
    "duration": 8,
    "start_time": "2021-07-28T00:03:53.576Z"
   },
   {
    "duration": 6,
    "start_time": "2021-07-28T00:03:55.224Z"
   },
   {
    "duration": 3,
    "start_time": "2021-07-28T00:03:55.596Z"
   },
   {
    "duration": 5,
    "start_time": "2021-07-28T00:03:56.883Z"
   },
   {
    "duration": 293,
    "start_time": "2021-07-28T00:03:58.788Z"
   },
   {
    "duration": 182,
    "start_time": "2021-07-28T00:05:44.145Z"
   },
   {
    "duration": 6,
    "start_time": "2021-07-28T00:05:52.354Z"
   },
   {
    "duration": 286,
    "start_time": "2021-07-28T00:05:52.856Z"
   },
   {
    "duration": 175,
    "start_time": "2021-07-28T00:05:53.826Z"
   },
   {
    "duration": 3,
    "start_time": "2021-07-28T00:06:28.240Z"
   },
   {
    "duration": 5,
    "start_time": "2021-07-28T00:06:36.886Z"
   },
   {
    "duration": 310,
    "start_time": "2021-07-28T00:06:39.691Z"
   },
   {
    "duration": 4,
    "start_time": "2021-07-28T00:06:43.287Z"
   },
   {
    "duration": 37,
    "start_time": "2021-07-28T00:06:43.888Z"
   },
   {
    "duration": 9,
    "start_time": "2021-07-28T00:06:44.206Z"
   },
   {
    "duration": 8,
    "start_time": "2021-07-28T00:06:45.674Z"
   },
   {
    "duration": 8,
    "start_time": "2021-07-28T00:06:46.068Z"
   },
   {
    "duration": 6,
    "start_time": "2021-07-28T00:06:47.591Z"
   },
   {
    "duration": 3,
    "start_time": "2021-07-28T00:06:48.109Z"
   },
   {
    "duration": 6,
    "start_time": "2021-07-28T00:06:50.976Z"
   },
   {
    "duration": 335,
    "start_time": "2021-07-28T00:06:52.809Z"
   },
   {
    "duration": 296,
    "start_time": "2021-07-28T00:07:57.747Z"
   },
   {
    "duration": 4,
    "start_time": "2021-07-28T00:08:24.480Z"
   },
   {
    "duration": 7,
    "start_time": "2021-07-28T00:08:28.805Z"
   },
   {
    "duration": 187,
    "start_time": "2021-07-28T00:08:36.114Z"
   },
   {
    "duration": 4,
    "start_time": "2021-07-28T00:08:47.529Z"
   },
   {
    "duration": 7,
    "start_time": "2021-07-28T00:08:48.006Z"
   },
   {
    "duration": 188,
    "start_time": "2021-07-28T00:08:48.385Z"
   },
   {
    "duration": 4,
    "start_time": "2021-07-28T00:09:39.591Z"
   },
   {
    "duration": 10,
    "start_time": "2021-07-28T00:09:40.455Z"
   },
   {
    "duration": 6,
    "start_time": "2021-07-28T00:09:41.047Z"
   },
   {
    "duration": 6,
    "start_time": "2021-07-28T00:09:42.410Z"
   },
   {
    "duration": 4,
    "start_time": "2021-07-28T00:09:43.015Z"
   },
   {
    "duration": 3,
    "start_time": "2021-07-28T00:09:44.273Z"
   },
   {
    "duration": 6,
    "start_time": "2021-07-28T00:09:45.745Z"
   },
   {
    "duration": 15,
    "start_time": "2021-07-28T00:09:46.954Z"
   },
   {
    "duration": 2720,
    "start_time": "2021-07-28T00:09:51.341Z"
   },
   {
    "duration": 924,
    "start_time": "2021-07-28T00:09:56.867Z"
   },
   {
    "duration": 6,
    "start_time": "2021-07-28T00:09:58.892Z"
   },
   {
    "duration": 41,
    "start_time": "2021-07-28T00:10:01.067Z"
   },
   {
    "duration": 3667,
    "start_time": "2021-07-28T00:10:10.918Z"
   },
   {
    "duration": 2950,
    "start_time": "2021-07-28T00:10:22.142Z"
   },
   {
    "duration": 2943,
    "start_time": "2021-07-28T00:11:04.573Z"
   },
   {
    "duration": 3908,
    "start_time": "2021-07-28T00:11:46.696Z"
   },
   {
    "duration": 3180,
    "start_time": "2021-07-28T00:11:50.606Z"
   },
   {
    "duration": 3096,
    "start_time": "2021-07-28T00:12:36.799Z"
   },
   {
    "duration": 216,
    "start_time": "2021-07-28T00:13:45.487Z"
   },
   {
    "duration": 3317,
    "start_time": "2021-07-28T00:13:55.585Z"
   },
   {
    "duration": 1258,
    "start_time": "2021-07-28T00:14:04.230Z"
   },
   {
    "duration": 2981,
    "start_time": "2021-07-28T00:14:11.993Z"
   },
   {
    "duration": 2989,
    "start_time": "2021-07-28T00:16:52.994Z"
   },
   {
    "duration": 3848,
    "start_time": "2021-07-28T00:19:50.750Z"
   },
   {
    "duration": 186,
    "start_time": "2021-07-28T00:20:30.304Z"
   },
   {
    "duration": 10,
    "start_time": "2021-07-28T00:20:36.507Z"
   },
   {
    "duration": 9,
    "start_time": "2021-07-28T00:20:50.435Z"
   },
   {
    "duration": 6,
    "start_time": "2021-07-28T00:20:51.537Z"
   },
   {
    "duration": 6,
    "start_time": "2021-07-28T00:20:51.890Z"
   },
   {
    "duration": 5,
    "start_time": "2021-07-28T00:20:52.180Z"
   },
   {
    "duration": 4,
    "start_time": "2021-07-28T00:20:53.893Z"
   },
   {
    "duration": 6,
    "start_time": "2021-07-28T00:20:55.372Z"
   },
   {
    "duration": 79,
    "start_time": "2021-07-28T00:20:56.106Z"
   },
   {
    "duration": 5088,
    "start_time": "2021-07-28T00:20:56.817Z"
   },
   {
    "duration": 1744,
    "start_time": "2021-07-28T00:21:03.888Z"
   },
   {
    "duration": 4456,
    "start_time": "2021-07-28T00:21:08.248Z"
   },
   {
    "duration": 4463,
    "start_time": "2021-07-28T00:21:18.042Z"
   },
   {
    "duration": 4365,
    "start_time": "2021-07-28T00:21:26.121Z"
   },
   {
    "duration": 4524,
    "start_time": "2021-07-28T00:21:34.261Z"
   },
   {
    "duration": 1106,
    "start_time": "2021-07-28T00:21:44.497Z"
   },
   {
    "duration": 1542,
    "start_time": "2021-07-28T00:21:50.145Z"
   },
   {
    "duration": 1172,
    "start_time": "2021-07-28T00:22:01.524Z"
   },
   {
    "duration": 3373,
    "start_time": "2021-07-28T00:22:07.329Z"
   },
   {
    "duration": 3224,
    "start_time": "2021-07-28T00:22:14.974Z"
   },
   {
    "duration": 1053,
    "start_time": "2021-07-28T00:22:28.639Z"
   },
   {
    "duration": 1753,
    "start_time": "2021-07-28T00:23:59.698Z"
   },
   {
    "duration": 6,
    "start_time": "2021-07-28T00:24:34.232Z"
   },
   {
    "duration": 5,
    "start_time": "2021-07-28T00:24:35.284Z"
   },
   {
    "duration": 5,
    "start_time": "2021-07-28T00:24:35.723Z"
   },
   {
    "duration": 3,
    "start_time": "2021-07-28T00:24:37.718Z"
   },
   {
    "duration": 6,
    "start_time": "2021-07-28T00:24:39.010Z"
   },
   {
    "duration": 16,
    "start_time": "2021-07-28T00:24:40.473Z"
   },
   {
    "duration": 5616,
    "start_time": "2021-07-28T00:24:40.874Z"
   },
   {
    "duration": 1926,
    "start_time": "2021-07-28T00:24:50.273Z"
   },
   {
    "duration": 1046,
    "start_time": "2021-07-28T00:24:56.354Z"
   },
   {
    "duration": 2027,
    "start_time": "2021-07-28T00:25:06.066Z"
   },
   {
    "duration": 1036,
    "start_time": "2021-07-28T00:25:12.156Z"
   },
   {
    "duration": 3222,
    "start_time": "2021-07-28T00:25:26.975Z"
   },
   {
    "duration": 891,
    "start_time": "2021-07-28T00:25:32.702Z"
   },
   {
    "duration": 13,
    "start_time": "2021-07-28T00:25:36.333Z"
   },
   {
    "duration": 9,
    "start_time": "2021-07-28T00:27:35.612Z"
   },
   {
    "duration": 16,
    "start_time": "2021-07-28T00:29:27.687Z"
   },
   {
    "duration": 10,
    "start_time": "2021-07-28T00:29:35.199Z"
   },
   {
    "duration": 7,
    "start_time": "2021-07-28T00:29:49.874Z"
   },
   {
    "duration": 6,
    "start_time": "2021-07-28T00:29:50.481Z"
   },
   {
    "duration": 5,
    "start_time": "2021-07-28T00:29:51.890Z"
   },
   {
    "duration": 4,
    "start_time": "2021-07-28T00:29:53.102Z"
   },
   {
    "duration": 7,
    "start_time": "2021-07-28T00:29:54.680Z"
   },
   {
    "duration": 67,
    "start_time": "2021-07-28T00:29:55.918Z"
   },
   {
    "duration": 5751,
    "start_time": "2021-07-28T00:29:56.505Z"
   },
   {
    "duration": 1974,
    "start_time": "2021-07-28T00:30:05.023Z"
   },
   {
    "duration": 1508,
    "start_time": "2021-07-28T00:30:09.884Z"
   },
   {
    "duration": 3694,
    "start_time": "2021-07-28T00:30:12.784Z"
   },
   {
    "duration": 3447,
    "start_time": "2021-07-28T00:30:16.964Z"
   },
   {
    "duration": 1085,
    "start_time": "2021-07-28T00:30:22.910Z"
   },
   {
    "duration": 14,
    "start_time": "2021-07-28T00:30:26.188Z"
   },
   {
    "duration": 1040,
    "start_time": "2021-07-28T00:31:04.745Z"
   },
   {
    "duration": 985,
    "start_time": "2021-07-28T00:31:10.310Z"
   },
   {
    "duration": 858,
    "start_time": "2021-07-28T00:31:16.134Z"
   },
   {
    "duration": 943,
    "start_time": "2021-07-28T00:31:20.449Z"
   },
   {
    "duration": 986,
    "start_time": "2021-07-28T00:31:27.705Z"
   },
   {
    "duration": 9,
    "start_time": "2021-07-28T00:32:33.711Z"
   },
   {
    "duration": 7,
    "start_time": "2021-07-28T00:33:36.164Z"
   },
   {
    "duration": 1192,
    "start_time": "2021-07-28T00:34:59.493Z"
   },
   {
    "duration": 617,
    "start_time": "2021-07-28T00:35:05.077Z"
   },
   {
    "duration": 2538,
    "start_time": "2021-07-28T00:35:25.766Z"
   },
   {
    "duration": 1580,
    "start_time": "2021-07-28T00:35:34.305Z"
   },
   {
    "duration": 647,
    "start_time": "2021-07-28T00:35:39.745Z"
   },
   {
    "duration": 12,
    "start_time": "2021-07-28T00:38:12.171Z"
   },
   {
    "duration": 12,
    "start_time": "2021-07-28T00:38:12.787Z"
   },
   {
    "duration": 7,
    "start_time": "2021-07-28T00:38:22.757Z"
   },
   {
    "duration": 5,
    "start_time": "2021-07-28T00:38:23.323Z"
   },
   {
    "duration": 5,
    "start_time": "2021-07-28T00:38:23.790Z"
   },
   {
    "duration": 4,
    "start_time": "2021-07-28T00:38:26.605Z"
   },
   {
    "duration": 7,
    "start_time": "2021-07-28T00:38:29.537Z"
   },
   {
    "duration": 7,
    "start_time": "2021-07-28T00:38:30.428Z"
   },
   {
    "duration": 9930,
    "start_time": "2021-07-28T00:38:33.533Z"
   },
   {
    "duration": 3476,
    "start_time": "2021-07-28T00:38:46.643Z"
   },
   {
    "duration": 1313,
    "start_time": "2021-07-28T00:38:52.679Z"
   },
   {
    "duration": 820,
    "start_time": "2021-07-28T00:38:58.577Z"
   },
   {
    "duration": 1173,
    "start_time": "2021-07-28T00:39:03.921Z"
   },
   {
    "duration": 1075,
    "start_time": "2021-07-28T00:39:08.022Z"
   },
   {
    "duration": 1020,
    "start_time": "2021-07-28T00:39:11.472Z"
   },
   {
    "duration": 1066,
    "start_time": "2021-07-28T00:39:15.931Z"
   },
   {
    "duration": 1147,
    "start_time": "2021-07-28T00:39:20.439Z"
   },
   {
    "duration": 20,
    "start_time": "2021-07-28T00:39:35.190Z"
   },
   {
    "duration": 9,
    "start_time": "2021-07-28T00:39:38.181Z"
   },
   {
    "duration": 4,
    "start_time": "2021-07-28T00:39:58.264Z"
   },
   {
    "duration": 9,
    "start_time": "2021-07-28T00:39:58.642Z"
   },
   {
    "duration": 10,
    "start_time": "2021-07-28T00:39:59.216Z"
   },
   {
    "duration": 37,
    "start_time": "2021-07-28T00:40:12.664Z"
   },
   {
    "duration": 8,
    "start_time": "2021-07-28T00:40:14.647Z"
   },
   {
    "duration": 3,
    "start_time": "2021-07-28T00:40:17.287Z"
   },
   {
    "duration": 4,
    "start_time": "2021-07-28T00:40:20.309Z"
   },
   {
    "duration": 14,
    "start_time": "2021-07-28T00:40:20.715Z"
   },
   {
    "duration": 12,
    "start_time": "2021-07-28T00:40:21.302Z"
   },
   {
    "duration": 7,
    "start_time": "2021-07-28T00:40:25.376Z"
   },
   {
    "duration": 5,
    "start_time": "2021-07-28T00:40:25.839Z"
   },
   {
    "duration": 4,
    "start_time": "2021-07-28T00:40:26.343Z"
   },
   {
    "duration": 4,
    "start_time": "2021-07-28T00:40:26.781Z"
   },
   {
    "duration": 6,
    "start_time": "2021-07-28T00:40:28.369Z"
   },
   {
    "duration": 8,
    "start_time": "2021-07-28T00:40:29.125Z"
   },
   {
    "duration": 9366,
    "start_time": "2021-07-28T00:40:31.139Z"
   },
   {
    "duration": 3254,
    "start_time": "2021-07-28T00:40:43.140Z"
   },
   {
    "duration": 4056,
    "start_time": "2021-07-28T00:40:49.735Z"
   },
   {
    "duration": 1079,
    "start_time": "2021-07-28T00:40:56.306Z"
   },
   {
    "duration": 1100,
    "start_time": "2021-07-28T00:41:01.002Z"
   },
   {
    "duration": 952,
    "start_time": "2021-07-28T00:41:05.843Z"
   },
   {
    "duration": 8,
    "start_time": "2021-07-28T00:41:09.969Z"
   },
   {
    "duration": 4,
    "start_time": "2021-07-28T00:41:45.740Z"
   },
   {
    "duration": 36,
    "start_time": "2021-07-28T00:41:51.140Z"
   },
   {
    "duration": 8,
    "start_time": "2021-07-28T00:41:52.794Z"
   },
   {
    "duration": 4,
    "start_time": "2021-07-28T00:41:55.466Z"
   },
   {
    "duration": 4,
    "start_time": "2021-07-28T00:42:00.165Z"
   },
   {
    "duration": 14,
    "start_time": "2021-07-28T00:42:00.971Z"
   },
   {
    "duration": 12,
    "start_time": "2021-07-28T00:42:01.960Z"
   },
   {
    "duration": 8,
    "start_time": "2021-07-28T00:42:07.800Z"
   },
   {
    "duration": 5,
    "start_time": "2021-07-28T00:42:08.875Z"
   },
   {
    "duration": 4102,
    "start_time": "2021-07-28T00:42:12.297Z"
   },
   {
    "duration": 1071,
    "start_time": "2021-07-28T00:42:18.620Z"
   },
   {
    "duration": 21,
    "start_time": "2021-07-28T00:42:22.092Z"
   },
   {
    "duration": 8,
    "start_time": "2021-07-28T00:42:24.164Z"
   },
   {
    "duration": 5,
    "start_time": "2021-07-28T00:42:30.459Z"
   },
   {
    "duration": 4,
    "start_time": "2021-07-28T00:42:31.491Z"
   },
   {
    "duration": 7,
    "start_time": "2021-07-28T00:42:33.237Z"
   },
   {
    "duration": 4025,
    "start_time": "2021-07-28T00:42:39.398Z"
   },
   {
    "duration": 1045,
    "start_time": "2021-07-28T00:42:45.550Z"
   },
   {
    "duration": 18,
    "start_time": "2021-07-28T00:42:48.390Z"
   },
   {
    "duration": 8,
    "start_time": "2021-07-28T00:42:49.721Z"
   },
   {
    "duration": 9,
    "start_time": "2021-07-28T00:42:52.309Z"
   },
   {
    "duration": 1290,
    "start_time": "2021-07-28T00:42:58.605Z"
   },
   {
    "duration": 1056,
    "start_time": "2021-07-28T00:43:06.129Z"
   },
   {
    "duration": 1008,
    "start_time": "2021-07-28T00:43:10.182Z"
   },
   {
    "duration": 1119,
    "start_time": "2021-07-28T00:43:15.884Z"
   },
   {
    "duration": 4013,
    "start_time": "2021-07-28T00:43:25.270Z"
   },
   {
    "duration": 20,
    "start_time": "2021-07-28T00:43:38.285Z"
   },
   {
    "duration": 12,
    "start_time": "2021-07-28T00:43:39.386Z"
   },
   {
    "duration": 7,
    "start_time": "2021-07-28T00:43:42.147Z"
   },
   {
    "duration": 5,
    "start_time": "2021-07-28T00:43:43.454Z"
   },
   {
    "duration": 6,
    "start_time": "2021-07-28T00:43:45.780Z"
   },
   {
    "duration": 3962,
    "start_time": "2021-07-28T00:43:49.414Z"
   },
   {
    "duration": 1061,
    "start_time": "2021-07-28T00:43:55.337Z"
   },
   {
    "duration": 19,
    "start_time": "2021-07-28T00:43:58.741Z"
   },
   {
    "duration": 9,
    "start_time": "2021-07-28T00:43:59.954Z"
   },
   {
    "duration": 1894,
    "start_time": "2021-07-28T00:44:40.603Z"
   },
   {
    "duration": 1166,
    "start_time": "2021-07-28T00:44:50.329Z"
   },
   {
    "duration": 829,
    "start_time": "2021-07-28T00:45:01.865Z"
   },
   {
    "duration": 618,
    "start_time": "2021-07-28T00:45:06.968Z"
   },
   {
    "duration": 599,
    "start_time": "2021-07-28T00:45:10.597Z"
   },
   {
    "duration": 689,
    "start_time": "2021-07-28T00:45:14.902Z"
   },
   {
    "duration": 621,
    "start_time": "2021-07-28T00:45:18.373Z"
   },
   {
    "duration": 690,
    "start_time": "2021-07-28T00:45:21.396Z"
   },
   {
    "duration": 17,
    "start_time": "2021-07-28T00:45:22.088Z"
   },
   {
    "duration": 4277,
    "start_time": "2021-07-28T00:45:28.522Z"
   },
   {
    "duration": 8884,
    "start_time": "2021-07-28T00:45:39.669Z"
   },
   {
    "duration": 18,
    "start_time": "2021-07-28T00:45:54.574Z"
   },
   {
    "duration": 9559,
    "start_time": "2021-07-28T00:45:58.435Z"
   },
   {
    "duration": 635,
    "start_time": "2021-07-28T00:46:30.279Z"
   },
   {
    "duration": 243,
    "start_time": "2021-07-28T00:46:46.378Z"
   },
   {
    "duration": 445,
    "start_time": "2021-07-28T00:46:49.822Z"
   },
   {
    "duration": 579,
    "start_time": "2021-07-28T00:46:53.052Z"
   },
   {
    "duration": 634,
    "start_time": "2021-07-28T00:46:56.862Z"
   },
   {
    "duration": 632,
    "start_time": "2021-07-28T00:47:00.571Z"
   },
   {
    "duration": 1024,
    "start_time": "2021-07-28T00:47:06.111Z"
   },
   {
    "duration": 10125,
    "start_time": "2021-07-28T00:47:19.995Z"
   },
   {
    "duration": 1772,
    "start_time": "2021-07-28T00:47:38.569Z"
   },
   {
    "duration": 2179,
    "start_time": "2021-07-28T00:47:43.947Z"
   },
   {
    "duration": 3495,
    "start_time": "2021-07-28T00:47:52.074Z"
   },
   {
    "duration": 6637,
    "start_time": "2021-07-28T00:48:02.339Z"
   },
   {
    "duration": 10,
    "start_time": "2021-07-28T00:48:31.091Z"
   },
   {
    "duration": 1209,
    "start_time": "2021-07-28T00:48:42.795Z"
   },
   {
    "duration": 961,
    "start_time": "2021-07-28T00:48:52.929Z"
   },
   {
    "duration": 18,
    "start_time": "2021-07-28T00:48:58.763Z"
   },
   {
    "duration": 6467,
    "start_time": "2021-07-28T00:48:59.254Z"
   },
   {
    "duration": 4,
    "start_time": "2021-07-28T00:49:19.143Z"
   },
   {
    "duration": 388,
    "start_time": "2021-07-28T00:49:20.617Z"
   },
   {
    "duration": 11,
    "start_time": "2021-07-28T00:49:21.310Z"
   },
   {
    "duration": 7,
    "start_time": "2021-07-28T00:49:25.181Z"
   },
   {
    "duration": 6,
    "start_time": "2021-07-28T00:49:27.365Z"
   },
   {
    "duration": 8926,
    "start_time": "2021-07-28T00:49:30.565Z"
   },
   {
    "duration": 1115,
    "start_time": "2021-07-28T00:49:41.283Z"
   },
   {
    "duration": 222,
    "start_time": "2021-07-28T00:49:44.760Z"
   },
   {
    "duration": 6,
    "start_time": "2021-07-28T00:49:57.795Z"
   },
   {
    "duration": 206,
    "start_time": "2021-07-28T00:50:01.738Z"
   },
   {
    "duration": 1197,
    "start_time": "2021-07-28T00:50:04.299Z"
   },
   {
    "duration": 7,
    "start_time": "2021-07-28T00:50:11.875Z"
   },
   {
    "duration": 1101,
    "start_time": "2021-07-28T00:50:14.293Z"
   },
   {
    "duration": 18,
    "start_time": "2021-07-28T00:50:16.891Z"
   },
   {
    "duration": 6775,
    "start_time": "2021-07-28T00:50:18.500Z"
   },
   {
    "duration": 9,
    "start_time": "2021-07-28T00:50:34.351Z"
   },
   {
    "duration": 348,
    "start_time": "2021-07-28T00:50:45.200Z"
   },
   {
    "duration": 4,
    "start_time": "2021-07-28T00:50:52.099Z"
   },
   {
    "duration": 4,
    "start_time": "2021-07-28T00:50:57.140Z"
   },
   {
    "duration": 25,
    "start_time": "2021-07-28T00:50:57.614Z"
   },
   {
    "duration": 16,
    "start_time": "2021-07-28T00:51:01.304Z"
   },
   {
    "duration": 9,
    "start_time": "2021-07-28T00:51:05.105Z"
   },
   {
    "duration": 6,
    "start_time": "2021-07-28T00:51:06.209Z"
   },
   {
    "duration": 7,
    "start_time": "2021-07-28T00:51:08.625Z"
   },
   {
    "duration": 203,
    "start_time": "2021-07-28T00:51:09.283Z"
   },
   {
    "duration": 25065,
    "start_time": "2021-07-28T00:51:11.898Z"
   },
   {
    "duration": 8124,
    "start_time": "2021-07-28T00:51:39.200Z"
   },
   {
    "duration": 1944,
    "start_time": "2021-07-28T00:51:51.850Z"
   },
   {
    "duration": 5734,
    "start_time": "2021-07-28T00:51:55.674Z"
   },
   {
    "duration": 12640,
    "start_time": "2021-07-28T00:52:02.962Z"
   },
   {
    "duration": 1509,
    "start_time": "2021-07-28T00:52:17.377Z"
   },
   {
    "duration": 81,
    "start_time": "2021-07-28T00:52:20.710Z"
   },
   {
    "duration": 5427,
    "start_time": "2021-07-28T00:52:25.641Z"
   },
   {
    "duration": 39,
    "start_time": "2021-07-28T00:52:31.070Z"
   },
   {
    "duration": 34,
    "start_time": "2021-07-28T00:53:04.933Z"
   },
   {
    "duration": 7,
    "start_time": "2021-07-28T00:53:07.742Z"
   },
   {
    "duration": 6,
    "start_time": "2021-07-28T00:53:08.082Z"
   },
   {
    "duration": 9,
    "start_time": "2021-07-28T00:53:09.461Z"
   },
   {
    "duration": 188,
    "start_time": "2021-07-28T00:53:10.397Z"
   },
   {
    "duration": 201,
    "start_time": "2021-07-28T00:53:14.284Z"
   },
   {
    "duration": 203,
    "start_time": "2021-07-28T00:53:18.884Z"
   },
   {
    "duration": 96,
    "start_time": "2021-07-28T00:54:45.205Z"
   },
   {
    "duration": 5,
    "start_time": "2021-07-28T00:54:50.449Z"
   },
   {
    "duration": 36,
    "start_time": "2021-07-28T00:54:51.056Z"
   },
   {
    "duration": 8,
    "start_time": "2021-07-28T00:54:51.634Z"
   },
   {
    "duration": 9,
    "start_time": "2021-07-28T00:54:53.312Z"
   },
   {
    "duration": 8,
    "start_time": "2021-07-28T00:54:54.023Z"
   },
   {
    "duration": 12,
    "start_time": "2021-07-28T00:54:54.721Z"
   },
   {
    "duration": 6,
    "start_time": "2021-07-28T00:55:02.931Z"
   },
   {
    "duration": 3,
    "start_time": "2021-07-28T00:55:09.150Z"
   },
   {
    "duration": 5,
    "start_time": "2021-07-28T00:59:39.940Z"
   },
   {
    "duration": 7,
    "start_time": "2021-07-28T00:59:53.804Z"
   },
   {
    "duration": 193,
    "start_time": "2021-07-28T00:59:59.294Z"
   },
   {
    "duration": 4,
    "start_time": "2021-07-28T01:00:14.232Z"
   },
   {
    "duration": 4,
    "start_time": "2021-07-28T01:00:14.453Z"
   },
   {
    "duration": 8,
    "start_time": "2021-07-28T01:00:14.883Z"
   },
   {
    "duration": 170,
    "start_time": "2021-07-28T01:00:15.323Z"
   },
   {
    "duration": 7,
    "start_time": "2021-07-28T01:00:18.029Z"
   },
   {
    "duration": 170,
    "start_time": "2021-07-28T01:00:18.470Z"
   },
   {
    "duration": 181,
    "start_time": "2021-07-28T01:01:40.871Z"
   },
   {
    "duration": 183,
    "start_time": "2021-07-28T01:01:49.887Z"
   },
   {
    "duration": 6,
    "start_time": "2021-07-28T01:02:02.669Z"
   },
   {
    "duration": 267,
    "start_time": "2021-07-28T01:02:03.194Z"
   },
   {
    "duration": 278,
    "start_time": "2021-07-28T01:02:47.907Z"
   },
   {
    "duration": 395,
    "start_time": "2021-07-28T01:03:08.629Z"
   },
   {
    "duration": 298,
    "start_time": "2021-07-28T01:04:15.245Z"
   },
   {
    "duration": 299,
    "start_time": "2021-07-28T01:04:20.235Z"
   },
   {
    "duration": 299,
    "start_time": "2021-07-28T01:05:04.348Z"
   },
   {
    "duration": 6,
    "start_time": "2021-07-28T01:05:06.726Z"
   },
   {
    "duration": 275,
    "start_time": "2021-07-28T01:05:07.091Z"
   },
   {
    "duration": 304,
    "start_time": "2021-07-28T01:05:08.552Z"
   },
   {
    "duration": 4,
    "start_time": "2021-07-28T01:05:10.681Z"
   },
   {
    "duration": 4,
    "start_time": "2021-07-28T01:05:10.939Z"
   },
   {
    "duration": 6,
    "start_time": "2021-07-28T01:05:11.297Z"
   },
   {
    "duration": 178,
    "start_time": "2021-07-28T01:05:11.745Z"
   },
   {
    "duration": 6,
    "start_time": "2021-07-28T01:05:13.316Z"
   },
   {
    "duration": 178,
    "start_time": "2021-07-28T01:05:13.565Z"
   },
   {
    "duration": 4,
    "start_time": "2021-07-28T01:05:20.334Z"
   },
   {
    "duration": 29,
    "start_time": "2021-07-28T01:05:20.626Z"
   },
   {
    "duration": 15,
    "start_time": "2021-07-28T01:05:21.560Z"
   },
   {
    "duration": 35,
    "start_time": "2021-07-28T01:05:23.374Z"
   },
   {
    "duration": 14,
    "start_time": "2021-07-28T01:05:24.867Z"
   },
   {
    "duration": 7,
    "start_time": "2021-07-28T01:05:28.335Z"
   },
   {
    "duration": 6,
    "start_time": "2021-07-28T01:05:28.902Z"
   },
   {
    "duration": 4,
    "start_time": "2021-07-28T01:05:30.239Z"
   },
   {
    "duration": 3,
    "start_time": "2021-07-28T01:05:31.867Z"
   },
   {
    "duration": 6,
    "start_time": "2021-07-28T01:05:33.651Z"
   },
   {
    "duration": 189,
    "start_time": "2021-07-28T01:05:34.896Z"
   },
   {
    "duration": 24823,
    "start_time": "2021-07-28T01:05:37.104Z"
   },
   {
    "duration": 8072,
    "start_time": "2021-07-28T01:06:01.928Z"
   },
   {
    "duration": 2083,
    "start_time": "2021-07-28T01:06:10.002Z"
   },
   {
    "duration": 5486,
    "start_time": "2021-07-28T01:06:12.087Z"
   },
   {
    "duration": 5451,
    "start_time": "2021-07-28T01:06:39.532Z"
   },
   {
    "duration": 12608,
    "start_time": "2021-07-28T01:06:49.987Z"
   },
   {
    "duration": 1526,
    "start_time": "2021-07-28T01:07:27.560Z"
   },
   {
    "duration": 36,
    "start_time": "2021-07-28T01:07:30.639Z"
   },
   {
    "duration": 5402,
    "start_time": "2021-07-28T01:07:32.092Z"
   },
   {
    "duration": 81,
    "start_time": "2021-07-28T01:07:39.208Z"
   },
   {
    "duration": 1140,
    "start_time": "2021-07-28T01:13:50.318Z"
   },
   {
    "duration": 38,
    "start_time": "2021-07-28T01:13:51.460Z"
   },
   {
    "duration": 11,
    "start_time": "2021-07-28T01:13:51.500Z"
   },
   {
    "duration": 11,
    "start_time": "2021-07-28T01:13:51.512Z"
   },
   {
    "duration": 9,
    "start_time": "2021-07-28T01:13:51.524Z"
   },
   {
    "duration": 14,
    "start_time": "2021-07-28T01:13:51.535Z"
   },
   {
    "duration": 11,
    "start_time": "2021-07-28T01:13:51.550Z"
   },
   {
    "duration": 24,
    "start_time": "2021-07-28T01:13:51.562Z"
   },
   {
    "duration": 6,
    "start_time": "2021-07-28T01:13:51.589Z"
   },
   {
    "duration": 11,
    "start_time": "2021-07-28T01:13:51.597Z"
   },
   {
    "duration": 310,
    "start_time": "2021-07-28T01:13:51.610Z"
   },
   {
    "duration": 292,
    "start_time": "2021-07-28T01:13:51.922Z"
   },
   {
    "duration": -643,
    "start_time": "2021-07-28T01:13:52.860Z"
   },
   {
    "duration": -645,
    "start_time": "2021-07-28T01:13:52.862Z"
   },
   {
    "duration": -645,
    "start_time": "2021-07-28T01:13:52.863Z"
   },
   {
    "duration": -653,
    "start_time": "2021-07-28T01:13:52.872Z"
   },
   {
    "duration": -654,
    "start_time": "2021-07-28T01:13:52.874Z"
   },
   {
    "duration": -655,
    "start_time": "2021-07-28T01:13:52.876Z"
   },
   {
    "duration": -655,
    "start_time": "2021-07-28T01:13:52.877Z"
   },
   {
    "duration": -656,
    "start_time": "2021-07-28T01:13:52.879Z"
   },
   {
    "duration": -658,
    "start_time": "2021-07-28T01:13:52.882Z"
   },
   {
    "duration": -659,
    "start_time": "2021-07-28T01:13:52.884Z"
   },
   {
    "duration": -659,
    "start_time": "2021-07-28T01:13:52.885Z"
   },
   {
    "duration": -659,
    "start_time": "2021-07-28T01:13:52.886Z"
   },
   {
    "duration": -660,
    "start_time": "2021-07-28T01:13:52.888Z"
   },
   {
    "duration": -660,
    "start_time": "2021-07-28T01:13:52.889Z"
   },
   {
    "duration": -660,
    "start_time": "2021-07-28T01:13:52.890Z"
   },
   {
    "duration": -661,
    "start_time": "2021-07-28T01:13:52.892Z"
   },
   {
    "duration": -663,
    "start_time": "2021-07-28T01:13:52.895Z"
   },
   {
    "duration": -663,
    "start_time": "2021-07-28T01:13:52.896Z"
   },
   {
    "duration": -669,
    "start_time": "2021-07-28T01:13:52.903Z"
   },
   {
    "duration": -670,
    "start_time": "2021-07-28T01:13:52.905Z"
   },
   {
    "duration": -670,
    "start_time": "2021-07-28T01:13:52.906Z"
   },
   {
    "duration": -671,
    "start_time": "2021-07-28T01:13:52.908Z"
   },
   {
    "duration": -671,
    "start_time": "2021-07-28T01:13:52.909Z"
   },
   {
    "duration": -674,
    "start_time": "2021-07-28T01:13:52.913Z"
   },
   {
    "duration": -675,
    "start_time": "2021-07-28T01:13:52.915Z"
   },
   {
    "duration": -675,
    "start_time": "2021-07-28T01:13:52.916Z"
   },
   {
    "duration": -675,
    "start_time": "2021-07-28T01:13:52.917Z"
   },
   {
    "duration": -675,
    "start_time": "2021-07-28T01:13:52.918Z"
   },
   {
    "duration": 6,
    "start_time": "2021-07-28T01:14:07.154Z"
   },
   {
    "duration": 3,
    "start_time": "2021-07-28T01:14:07.718Z"
   },
   {
    "duration": 7,
    "start_time": "2021-07-28T01:14:10.854Z"
   },
   {
    "duration": 1143,
    "start_time": "2021-07-28T01:14:18.919Z"
   },
   {
    "duration": 39,
    "start_time": "2021-07-28T01:14:20.063Z"
   },
   {
    "duration": 10,
    "start_time": "2021-07-28T01:14:20.104Z"
   },
   {
    "duration": 8,
    "start_time": "2021-07-28T01:14:20.115Z"
   },
   {
    "duration": 7,
    "start_time": "2021-07-28T01:14:20.125Z"
   },
   {
    "duration": 12,
    "start_time": "2021-07-28T01:14:20.134Z"
   },
   {
    "duration": 5,
    "start_time": "2021-07-28T01:14:20.147Z"
   },
   {
    "duration": 32,
    "start_time": "2021-07-28T01:14:20.154Z"
   },
   {
    "duration": 4,
    "start_time": "2021-07-28T01:14:20.188Z"
   },
   {
    "duration": 9,
    "start_time": "2021-07-28T01:14:20.194Z"
   },
   {
    "duration": 309,
    "start_time": "2021-07-28T01:14:20.204Z"
   },
   {
    "duration": 291,
    "start_time": "2021-07-28T01:14:20.514Z"
   },
   {
    "duration": -646,
    "start_time": "2021-07-28T01:14:21.453Z"
   },
   {
    "duration": -646,
    "start_time": "2021-07-28T01:14:21.454Z"
   },
   {
    "duration": -646,
    "start_time": "2021-07-28T01:14:21.455Z"
   },
   {
    "duration": -646,
    "start_time": "2021-07-28T01:14:21.456Z"
   },
   {
    "duration": -647,
    "start_time": "2021-07-28T01:14:21.458Z"
   },
   {
    "duration": -656,
    "start_time": "2021-07-28T01:14:21.468Z"
   },
   {
    "duration": -658,
    "start_time": "2021-07-28T01:14:21.470Z"
   },
   {
    "duration": -659,
    "start_time": "2021-07-28T01:14:21.472Z"
   },
   {
    "duration": -660,
    "start_time": "2021-07-28T01:14:21.474Z"
   },
   {
    "duration": -665,
    "start_time": "2021-07-28T01:14:21.480Z"
   },
   {
    "duration": -666,
    "start_time": "2021-07-28T01:14:21.482Z"
   },
   {
    "duration": -667,
    "start_time": "2021-07-28T01:14:21.484Z"
   },
   {
    "duration": -669,
    "start_time": "2021-07-28T01:14:21.487Z"
   },
   {
    "duration": -670,
    "start_time": "2021-07-28T01:14:21.488Z"
   },
   {
    "duration": -670,
    "start_time": "2021-07-28T01:14:21.489Z"
   },
   {
    "duration": -670,
    "start_time": "2021-07-28T01:14:21.490Z"
   },
   {
    "duration": -671,
    "start_time": "2021-07-28T01:14:21.492Z"
   },
   {
    "duration": -672,
    "start_time": "2021-07-28T01:14:21.494Z"
   },
   {
    "duration": -672,
    "start_time": "2021-07-28T01:14:21.495Z"
   },
   {
    "duration": -672,
    "start_time": "2021-07-28T01:14:21.496Z"
   },
   {
    "duration": -674,
    "start_time": "2021-07-28T01:14:21.498Z"
   },
   {
    "duration": -675,
    "start_time": "2021-07-28T01:14:21.500Z"
   },
   {
    "duration": -675,
    "start_time": "2021-07-28T01:14:21.501Z"
   },
   {
    "duration": -675,
    "start_time": "2021-07-28T01:14:21.502Z"
   },
   {
    "duration": -676,
    "start_time": "2021-07-28T01:14:21.504Z"
   },
   {
    "duration": -676,
    "start_time": "2021-07-28T01:14:21.505Z"
   },
   {
    "duration": -676,
    "start_time": "2021-07-28T01:14:21.506Z"
   },
   {
    "duration": -676,
    "start_time": "2021-07-28T01:14:21.507Z"
   },
   {
    "duration": 3,
    "start_time": "2021-07-28T01:14:40.096Z"
   },
   {
    "duration": 7,
    "start_time": "2021-07-28T01:14:42.299Z"
   },
   {
    "duration": 3,
    "start_time": "2021-07-28T01:14:50.620Z"
   },
   {
    "duration": 8,
    "start_time": "2021-07-28T01:14:52.552Z"
   },
   {
    "duration": 1183,
    "start_time": "2021-07-28T01:14:56.670Z"
   },
   {
    "duration": 39,
    "start_time": "2021-07-28T01:14:57.854Z"
   },
   {
    "duration": 10,
    "start_time": "2021-07-28T01:14:57.895Z"
   },
   {
    "duration": 10,
    "start_time": "2021-07-28T01:14:57.907Z"
   },
   {
    "duration": 7,
    "start_time": "2021-07-28T01:14:57.919Z"
   },
   {
    "duration": 12,
    "start_time": "2021-07-28T01:14:57.928Z"
   },
   {
    "duration": 5,
    "start_time": "2021-07-28T01:14:57.942Z"
   },
   {
    "duration": 5,
    "start_time": "2021-07-28T01:14:57.948Z"
   },
   {
    "duration": 30,
    "start_time": "2021-07-28T01:14:57.956Z"
   },
   {
    "duration": 9,
    "start_time": "2021-07-28T01:14:57.988Z"
   },
   {
    "duration": 301,
    "start_time": "2021-07-28T01:14:57.999Z"
   },
   {
    "duration": 4,
    "start_time": "2021-07-28T01:14:58.301Z"
   },
   {
    "duration": 9,
    "start_time": "2021-07-28T01:14:58.306Z"
   },
   {
    "duration": 358,
    "start_time": "2021-07-28T01:14:58.316Z"
   },
   {
    "duration": 334,
    "start_time": "2021-07-28T01:14:58.676Z"
   },
   {
    "duration": 4,
    "start_time": "2021-07-28T01:14:59.012Z"
   },
   {
    "duration": 5,
    "start_time": "2021-07-28T01:14:59.018Z"
   },
   {
    "duration": 8,
    "start_time": "2021-07-28T01:14:59.025Z"
   },
   {
    "duration": 203,
    "start_time": "2021-07-28T01:14:59.035Z"
   },
   {
    "duration": 7,
    "start_time": "2021-07-28T01:14:59.240Z"
   },
   {
    "duration": 196,
    "start_time": "2021-07-28T01:14:59.248Z"
   },
   {
    "duration": 3,
    "start_time": "2021-07-28T01:14:59.446Z"
   },
   {
    "duration": 42,
    "start_time": "2021-07-28T01:14:59.451Z"
   },
   {
    "duration": 17,
    "start_time": "2021-07-28T01:14:59.494Z"
   },
   {
    "duration": 35,
    "start_time": "2021-07-28T01:14:59.512Z"
   },
   {
    "duration": 14,
    "start_time": "2021-07-28T01:14:59.549Z"
   },
   {
    "duration": 7,
    "start_time": "2021-07-28T01:14:59.586Z"
   },
   {
    "duration": 5,
    "start_time": "2021-07-28T01:14:59.595Z"
   },
   {
    "duration": 5,
    "start_time": "2021-07-28T01:14:59.601Z"
   },
   {
    "duration": 4,
    "start_time": "2021-07-28T01:14:59.607Z"
   },
   {
    "duration": 6,
    "start_time": "2021-07-28T01:14:59.613Z"
   },
   {
    "duration": 72,
    "start_time": "2021-07-28T01:14:59.620Z"
   },
   {
    "duration": 25078,
    "start_time": "2021-07-28T01:14:59.694Z"
   },
   {
    "duration": 8133,
    "start_time": "2021-07-28T01:15:24.773Z"
   },
   {
    "duration": 2086,
    "start_time": "2021-07-28T01:15:32.908Z"
   },
   {
    "duration": 5586,
    "start_time": "2021-07-28T01:15:34.996Z"
   },
   {
    "duration": 1826,
    "start_time": "2021-07-28T01:15:50.537Z"
   },
   {
    "duration": -643,
    "start_time": "2021-07-28T01:15:53.008Z"
   },
   {
    "duration": -643,
    "start_time": "2021-07-28T01:15:53.010Z"
   },
   {
    "duration": -657,
    "start_time": "2021-07-28T01:15:53.025Z"
   },
   {
    "duration": -662,
    "start_time": "2021-07-28T01:15:53.032Z"
   },
   {
    "duration": -663,
    "start_time": "2021-07-28T01:15:53.034Z"
   },
   {
    "duration": -663,
    "start_time": "2021-07-28T01:15:53.036Z"
   },
   {
    "duration": -664,
    "start_time": "2021-07-28T01:15:53.038Z"
   },
   {
    "duration": -664,
    "start_time": "2021-07-28T01:15:53.039Z"
   },
   {
    "duration": -664,
    "start_time": "2021-07-28T01:15:53.041Z"
   },
   {
    "duration": 4,
    "start_time": "2021-07-28T01:16:00.289Z"
   },
   {
    "duration": 36,
    "start_time": "2021-07-28T01:16:00.727Z"
   },
   {
    "duration": 8,
    "start_time": "2021-07-28T01:16:01.140Z"
   },
   {
    "duration": 1169,
    "start_time": "2021-07-28T01:16:07.593Z"
   },
   {
    "duration": 39,
    "start_time": "2021-07-28T01:16:09.636Z"
   },
   {
    "duration": 12,
    "start_time": "2021-07-28T01:16:09.861Z"
   },
   {
    "duration": 11,
    "start_time": "2021-07-28T01:16:11.567Z"
   },
   {
    "duration": 8,
    "start_time": "2021-07-28T01:16:11.991Z"
   },
   {
    "duration": 12,
    "start_time": "2021-07-28T01:16:12.347Z"
   },
   {
    "duration": 6,
    "start_time": "2021-07-28T01:16:14.425Z"
   },
   {
    "duration": 3,
    "start_time": "2021-07-28T01:16:14.860Z"
   },
   {
    "duration": 2,
    "start_time": "2021-07-28T01:16:18.162Z"
   },
   {
    "duration": 7,
    "start_time": "2021-07-28T01:16:19.142Z"
   },
   {
    "duration": 305,
    "start_time": "2021-07-28T01:16:19.879Z"
   },
   {
    "duration": 6,
    "start_time": "2021-07-28T01:16:22.541Z"
   },
   {
    "duration": 4,
    "start_time": "2021-07-28T01:16:41.745Z"
   },
   {
    "duration": 37,
    "start_time": "2021-07-28T01:16:42.048Z"
   },
   {
    "duration": 8,
    "start_time": "2021-07-28T01:16:42.325Z"
   },
   {
    "duration": 8,
    "start_time": "2021-07-28T01:16:42.564Z"
   },
   {
    "duration": 7,
    "start_time": "2021-07-28T01:16:43.093Z"
   },
   {
    "duration": 12,
    "start_time": "2021-07-28T01:16:43.496Z"
   },
   {
    "duration": 6,
    "start_time": "2021-07-28T01:16:45.329Z"
   },
   {
    "duration": 3,
    "start_time": "2021-07-28T01:16:46.113Z"
   },
   {
    "duration": 6,
    "start_time": "2021-07-28T01:16:52.455Z"
   },
   {
    "duration": 5,
    "start_time": "2021-07-28T01:16:57.212Z"
   },
   {
    "duration": 361,
    "start_time": "2021-07-28T01:17:01.244Z"
   },
   {
    "duration": 6,
    "start_time": "2021-07-28T01:17:02.835Z"
   },
   {
    "duration": 7,
    "start_time": "2021-07-28T01:17:04.309Z"
   },
   {
    "duration": 1104,
    "start_time": "2021-07-28T01:17:07.547Z"
   },
   {
    "duration": 38,
    "start_time": "2021-07-28T01:17:08.653Z"
   },
   {
    "duration": 10,
    "start_time": "2021-07-28T01:17:08.693Z"
   },
   {
    "duration": 8,
    "start_time": "2021-07-28T01:17:08.705Z"
   },
   {
    "duration": 6,
    "start_time": "2021-07-28T01:17:08.715Z"
   },
   {
    "duration": 12,
    "start_time": "2021-07-28T01:17:08.723Z"
   },
   {
    "duration": 5,
    "start_time": "2021-07-28T01:17:08.736Z"
   },
   {
    "duration": 4,
    "start_time": "2021-07-28T01:17:08.743Z"
   },
   {
    "duration": 39,
    "start_time": "2021-07-28T01:17:08.749Z"
   },
   {
    "duration": 303,
    "start_time": "2021-07-28T01:17:08.790Z"
   },
   {
    "duration": -639,
    "start_time": "2021-07-28T01:17:09.734Z"
   },
   {
    "duration": -639,
    "start_time": "2021-07-28T01:17:09.735Z"
   },
   {
    "duration": -641,
    "start_time": "2021-07-28T01:17:09.738Z"
   },
   {
    "duration": -642,
    "start_time": "2021-07-28T01:17:09.739Z"
   },
   {
    "duration": -651,
    "start_time": "2021-07-28T01:17:09.749Z"
   },
   {
    "duration": -653,
    "start_time": "2021-07-28T01:17:09.752Z"
   },
   {
    "duration": -655,
    "start_time": "2021-07-28T01:17:09.755Z"
   },
   {
    "duration": -657,
    "start_time": "2021-07-28T01:17:09.758Z"
   },
   {
    "duration": -658,
    "start_time": "2021-07-28T01:17:09.759Z"
   },
   {
    "duration": -659,
    "start_time": "2021-07-28T01:17:09.761Z"
   },
   {
    "duration": -659,
    "start_time": "2021-07-28T01:17:09.762Z"
   },
   {
    "duration": -660,
    "start_time": "2021-07-28T01:17:09.764Z"
   },
   {
    "duration": -666,
    "start_time": "2021-07-28T01:17:09.770Z"
   },
   {
    "duration": -668,
    "start_time": "2021-07-28T01:17:09.773Z"
   },
   {
    "duration": -670,
    "start_time": "2021-07-28T01:17:09.776Z"
   },
   {
    "duration": -671,
    "start_time": "2021-07-28T01:17:09.778Z"
   },
   {
    "duration": -673,
    "start_time": "2021-07-28T01:17:09.780Z"
   },
   {
    "duration": -673,
    "start_time": "2021-07-28T01:17:09.781Z"
   },
   {
    "duration": -674,
    "start_time": "2021-07-28T01:17:09.783Z"
   },
   {
    "duration": -674,
    "start_time": "2021-07-28T01:17:09.784Z"
   },
   {
    "duration": -676,
    "start_time": "2021-07-28T01:17:09.786Z"
   },
   {
    "duration": -676,
    "start_time": "2021-07-28T01:17:09.787Z"
   },
   {
    "duration": -677,
    "start_time": "2021-07-28T01:17:09.789Z"
   },
   {
    "duration": -678,
    "start_time": "2021-07-28T01:17:09.791Z"
   },
   {
    "duration": -680,
    "start_time": "2021-07-28T01:17:09.793Z"
   },
   {
    "duration": -685,
    "start_time": "2021-07-28T01:17:09.799Z"
   },
   {
    "duration": -686,
    "start_time": "2021-07-28T01:17:09.801Z"
   },
   {
    "duration": -689,
    "start_time": "2021-07-28T01:17:09.804Z"
   },
   {
    "duration": -691,
    "start_time": "2021-07-28T01:17:09.807Z"
   },
   {
    "duration": -691,
    "start_time": "2021-07-28T01:17:09.808Z"
   },
   {
    "duration": -692,
    "start_time": "2021-07-28T01:17:09.810Z"
   },
   {
    "duration": 203,
    "start_time": "2021-07-28T01:17:30.300Z"
   },
   {
    "duration": 3,
    "start_time": "2021-07-28T01:17:36.622Z"
   },
   {
    "duration": 6,
    "start_time": "2021-07-28T01:17:43.015Z"
   },
   {
    "duration": 197,
    "start_time": "2021-07-28T01:17:44.899Z"
   },
   {
    "duration": 299,
    "start_time": "2021-07-28T01:17:48.903Z"
   },
   {
    "duration": 6,
    "start_time": "2021-07-28T01:17:50.701Z"
   },
   {
    "duration": 186,
    "start_time": "2021-07-28T01:18:14.932Z"
   },
   {
    "duration": 1187,
    "start_time": "2021-07-28T01:18:25.779Z"
   },
   {
    "duration": 40,
    "start_time": "2021-07-28T01:18:26.968Z"
   },
   {
    "duration": 11,
    "start_time": "2021-07-28T01:18:27.012Z"
   },
   {
    "duration": 12,
    "start_time": "2021-07-28T01:18:27.024Z"
   },
   {
    "duration": 8,
    "start_time": "2021-07-28T01:18:27.037Z"
   },
   {
    "duration": 39,
    "start_time": "2021-07-28T01:18:27.046Z"
   },
   {
    "duration": 5,
    "start_time": "2021-07-28T01:18:27.087Z"
   },
   {
    "duration": 5,
    "start_time": "2021-07-28T01:18:27.095Z"
   },
   {
    "duration": 7,
    "start_time": "2021-07-28T01:18:27.102Z"
   },
   {
    "duration": 9,
    "start_time": "2021-07-28T01:18:27.111Z"
   },
   {
    "duration": 294,
    "start_time": "2021-07-28T01:18:27.121Z"
   },
   {
    "duration": 362,
    "start_time": "2021-07-28T01:18:27.416Z"
   },
   {
    "duration": 6,
    "start_time": "2021-07-28T01:18:27.780Z"
   },
   {
    "duration": 6,
    "start_time": "2021-07-28T01:18:27.788Z"
   },
   {
    "duration": 8,
    "start_time": "2021-07-28T01:18:27.796Z"
   },
   {
    "duration": 180,
    "start_time": "2021-07-28T01:18:27.806Z"
   },
   {
    "duration": 5,
    "start_time": "2021-07-28T01:18:27.988Z"
   },
   {
    "duration": 180,
    "start_time": "2021-07-28T01:18:27.995Z"
   },
   {
    "duration": 8,
    "start_time": "2021-07-28T01:18:28.177Z"
   },
   {
    "duration": 27,
    "start_time": "2021-07-28T01:18:28.186Z"
   },
   {
    "duration": 14,
    "start_time": "2021-07-28T01:18:28.215Z"
   },
   {
    "duration": 55,
    "start_time": "2021-07-28T01:18:28.231Z"
   },
   {
    "duration": 13,
    "start_time": "2021-07-28T01:18:28.288Z"
   },
   {
    "duration": 7,
    "start_time": "2021-07-28T01:18:28.302Z"
   },
   {
    "duration": 5,
    "start_time": "2021-07-28T01:18:28.310Z"
   },
   {
    "duration": 5,
    "start_time": "2021-07-28T01:18:28.318Z"
   },
   {
    "duration": 5,
    "start_time": "2021-07-28T01:18:28.324Z"
   },
   {
    "duration": 7,
    "start_time": "2021-07-28T01:18:28.330Z"
   },
   {
    "duration": 152,
    "start_time": "2021-07-28T01:18:28.339Z"
   },
   {
    "duration": 24915,
    "start_time": "2021-07-28T01:18:28.494Z"
   },
   {
    "duration": 8080,
    "start_time": "2021-07-28T01:18:53.410Z"
   },
   {
    "duration": 1994,
    "start_time": "2021-07-28T01:19:01.492Z"
   },
   {
    "duration": 5584,
    "start_time": "2021-07-28T01:19:03.488Z"
   },
   {
    "duration": 12817,
    "start_time": "2021-07-28T01:19:09.074Z"
   },
   {
    "duration": 1705,
    "start_time": "2021-07-28T01:19:21.893Z"
   },
   {
    "duration": 107,
    "start_time": "2021-07-28T01:19:23.599Z"
   },
   {
    "duration": 5423,
    "start_time": "2021-07-28T01:19:23.708Z"
   },
   {
    "duration": 59,
    "start_time": "2021-07-28T01:19:29.132Z"
   },
   {
    "duration": 1194,
    "start_time": "2021-07-28T01:20:32.560Z"
   },
   {
    "duration": 40,
    "start_time": "2021-07-28T01:20:33.756Z"
   },
   {
    "duration": 11,
    "start_time": "2021-07-28T01:20:33.800Z"
   },
   {
    "duration": 11,
    "start_time": "2021-07-28T01:20:33.813Z"
   },
   {
    "duration": 7,
    "start_time": "2021-07-28T01:20:33.825Z"
   },
   {
    "duration": 12,
    "start_time": "2021-07-28T01:20:33.833Z"
   },
   {
    "duration": 5,
    "start_time": "2021-07-28T01:20:33.846Z"
   },
   {
    "duration": 32,
    "start_time": "2021-07-28T01:20:33.854Z"
   },
   {
    "duration": 7,
    "start_time": "2021-07-28T01:20:33.888Z"
   },
   {
    "duration": 7,
    "start_time": "2021-07-28T01:20:33.897Z"
   },
   {
    "duration": 296,
    "start_time": "2021-07-28T01:20:33.905Z"
   },
   {
    "duration": 373,
    "start_time": "2021-07-28T01:20:34.203Z"
   },
   {
    "duration": 8,
    "start_time": "2021-07-28T01:20:34.578Z"
   },
   {
    "duration": 6,
    "start_time": "2021-07-28T01:20:34.587Z"
   },
   {
    "duration": 8,
    "start_time": "2021-07-28T01:20:34.595Z"
   },
   {
    "duration": 187,
    "start_time": "2021-07-28T01:20:34.604Z"
   },
   {
    "duration": 6,
    "start_time": "2021-07-28T01:20:34.792Z"
   },
   {
    "duration": 186,
    "start_time": "2021-07-28T01:20:34.800Z"
   },
   {
    "duration": 3,
    "start_time": "2021-07-28T01:20:34.988Z"
   },
   {
    "duration": 43,
    "start_time": "2021-07-28T01:20:34.993Z"
   },
   {
    "duration": 14,
    "start_time": "2021-07-28T01:20:35.038Z"
   },
   {
    "duration": 43,
    "start_time": "2021-07-28T01:20:35.054Z"
   },
   {
    "duration": 13,
    "start_time": "2021-07-28T01:20:35.099Z"
   },
   {
    "duration": 7,
    "start_time": "2021-07-28T01:20:35.114Z"
   },
   {
    "duration": 4,
    "start_time": "2021-07-28T01:20:35.123Z"
   },
   {
    "duration": 9,
    "start_time": "2021-07-28T01:20:35.130Z"
   },
   {
    "duration": 6,
    "start_time": "2021-07-28T01:20:35.141Z"
   },
   {
    "duration": 11,
    "start_time": "2021-07-28T01:20:35.148Z"
   },
   {
    "duration": 128,
    "start_time": "2021-07-28T01:20:35.161Z"
   },
   {
    "duration": 25112,
    "start_time": "2021-07-28T01:20:35.291Z"
   },
   {
    "duration": 8111,
    "start_time": "2021-07-28T01:21:00.405Z"
   },
   {
    "duration": 2168,
    "start_time": "2021-07-28T01:21:08.517Z"
   },
   {
    "duration": 5652,
    "start_time": "2021-07-28T01:21:10.687Z"
   },
   {
    "duration": 12968,
    "start_time": "2021-07-28T01:21:16.341Z"
   },
   {
    "duration": 1685,
    "start_time": "2021-07-28T01:21:29.311Z"
   },
   {
    "duration": 96,
    "start_time": "2021-07-28T01:21:30.998Z"
   },
   {
    "duration": 5389,
    "start_time": "2021-07-28T01:21:31.096Z"
   },
   {
    "duration": 101,
    "start_time": "2021-07-28T01:21:36.487Z"
   },
   {
    "duration": 12692,
    "start_time": "2021-07-28T01:28:34.899Z"
   },
   {
    "duration": 1492,
    "start_time": "2021-07-28T01:28:47.593Z"
   },
   {
    "duration": 37,
    "start_time": "2021-07-28T01:30:02.179Z"
   },
   {
    "duration": 5362,
    "start_time": "2021-07-28T01:30:04.564Z"
   },
   {
    "duration": 12577,
    "start_time": "2021-07-28T01:30:19.119Z"
   },
   {
    "duration": 12577,
    "start_time": "2021-07-28T01:30:35.912Z"
   },
   {
    "duration": 1503,
    "start_time": "2021-07-28T01:30:48.491Z"
   },
   {
    "duration": 12630,
    "start_time": "2021-07-28T01:30:58.675Z"
   },
   {
    "duration": 1599,
    "start_time": "2021-07-28T01:31:11.307Z"
   },
   {
    "duration": 2176,
    "start_time": "2021-07-28T01:31:23.909Z"
   },
   {
    "duration": 5477,
    "start_time": "2021-07-28T01:31:35.122Z"
   },
   {
    "duration": 13189,
    "start_time": "2021-07-28T01:31:57.545Z"
   },
   {
    "duration": 37,
    "start_time": "2021-07-28T01:33:02.661Z"
   },
   {
    "duration": 5367,
    "start_time": "2021-07-28T01:33:04.438Z"
   },
   {
    "duration": 1569,
    "start_time": "2021-07-28T01:33:16.022Z"
   },
   {
    "duration": 12842,
    "start_time": "2021-07-28T01:33:21.241Z"
   },
   {
    "duration": 12642,
    "start_time": "2021-07-28T01:33:44.432Z"
   },
   {
    "duration": 1529,
    "start_time": "2021-07-28T01:33:57.076Z"
   },
   {
    "duration": 1333,
    "start_time": "2021-07-28T01:34:05.863Z"
   },
   {
    "duration": 37,
    "start_time": "2021-07-28T01:34:11.945Z"
   },
   {
    "duration": 5366,
    "start_time": "2021-07-28T01:34:13.820Z"
   },
   {
    "duration": 94,
    "start_time": "2021-07-28T01:34:23.096Z"
   },
   {
    "duration": 1192,
    "start_time": "2021-07-28T01:34:33.962Z"
   },
   {
    "duration": 41,
    "start_time": "2021-07-28T01:34:35.155Z"
   },
   {
    "duration": 11,
    "start_time": "2021-07-28T01:34:35.198Z"
   },
   {
    "duration": 9,
    "start_time": "2021-07-28T01:34:35.211Z"
   },
   {
    "duration": 7,
    "start_time": "2021-07-28T01:34:35.222Z"
   },
   {
    "duration": 15,
    "start_time": "2021-07-28T01:34:35.230Z"
   },
   {
    "duration": 5,
    "start_time": "2021-07-28T01:34:35.247Z"
   },
   {
    "duration": 4,
    "start_time": "2021-07-28T01:34:35.254Z"
   },
   {
    "duration": 5,
    "start_time": "2021-07-28T01:34:35.284Z"
   },
   {
    "duration": 6,
    "start_time": "2021-07-28T01:34:35.291Z"
   },
   {
    "duration": 287,
    "start_time": "2021-07-28T01:34:35.299Z"
   },
   {
    "duration": 370,
    "start_time": "2021-07-28T01:34:35.588Z"
   },
   {
    "duration": 5,
    "start_time": "2021-07-28T01:34:35.960Z"
   },
   {
    "duration": 5,
    "start_time": "2021-07-28T01:34:35.967Z"
   },
   {
    "duration": 7,
    "start_time": "2021-07-28T01:34:35.985Z"
   },
   {
    "duration": 193,
    "start_time": "2021-07-28T01:34:35.994Z"
   },
   {
    "duration": 7,
    "start_time": "2021-07-28T01:34:36.189Z"
   },
   {
    "duration": 191,
    "start_time": "2021-07-28T01:34:36.198Z"
   },
   {
    "duration": 4,
    "start_time": "2021-07-28T01:34:36.391Z"
   },
   {
    "duration": 29,
    "start_time": "2021-07-28T01:34:36.397Z"
   },
   {
    "duration": 15,
    "start_time": "2021-07-28T01:34:36.427Z"
   },
   {
    "duration": 58,
    "start_time": "2021-07-28T01:34:36.444Z"
   },
   {
    "duration": 12,
    "start_time": "2021-07-28T01:34:36.504Z"
   },
   {
    "duration": 6,
    "start_time": "2021-07-28T01:34:36.517Z"
   },
   {
    "duration": 5,
    "start_time": "2021-07-28T01:34:36.524Z"
   },
   {
    "duration": 4,
    "start_time": "2021-07-28T01:34:36.530Z"
   },
   {
    "duration": 3,
    "start_time": "2021-07-28T01:34:36.536Z"
   },
   {
    "duration": 6,
    "start_time": "2021-07-28T01:34:36.541Z"
   },
   {
    "duration": 144,
    "start_time": "2021-07-28T01:34:36.548Z"
   },
   {
    "duration": 24903,
    "start_time": "2021-07-28T01:34:36.694Z"
   },
   {
    "duration": 8104,
    "start_time": "2021-07-28T01:35:01.599Z"
   },
   {
    "duration": 1883,
    "start_time": "2021-07-28T01:35:09.705Z"
   },
   {
    "duration": 5605,
    "start_time": "2021-07-28T01:35:11.590Z"
   },
   {
    "duration": 13095,
    "start_time": "2021-07-28T01:35:17.197Z"
   },
   {
    "duration": 1591,
    "start_time": "2021-07-28T01:35:30.294Z"
   },
   {
    "duration": 35,
    "start_time": "2021-07-28T01:35:31.887Z"
   },
   {
    "duration": 5394,
    "start_time": "2021-07-28T01:35:31.923Z"
   },
   {
    "duration": 74,
    "start_time": "2021-07-28T01:35:37.318Z"
   },
   {
    "duration": 1558,
    "start_time": "2021-07-28T03:01:37.739Z"
   },
   {
    "duration": 48,
    "start_time": "2021-07-28T03:01:39.300Z"
   },
   {
    "duration": 15,
    "start_time": "2021-07-28T03:01:39.709Z"
   },
   {
    "duration": 16,
    "start_time": "2021-07-28T03:01:39.727Z"
   },
   {
    "duration": 11,
    "start_time": "2021-07-28T03:01:39.981Z"
   },
   {
    "duration": 17,
    "start_time": "2021-07-28T03:01:40.189Z"
   },
   {
    "duration": 12,
    "start_time": "2021-07-28T03:01:40.775Z"
   },
   {
    "duration": 4,
    "start_time": "2021-07-28T03:01:41.259Z"
   },
   {
    "duration": 8,
    "start_time": "2021-07-28T03:01:41.541Z"
   },
   {
    "duration": 9,
    "start_time": "2021-07-28T03:01:46.673Z"
   },
   {
    "duration": 455,
    "start_time": "2021-07-28T03:01:47.165Z"
   },
   {
    "duration": 596,
    "start_time": "2021-07-28T03:01:47.623Z"
   },
   {
    "duration": 9,
    "start_time": "2021-07-28T03:01:48.470Z"
   },
   {
    "duration": 5,
    "start_time": "2021-07-28T03:01:49.173Z"
   },
   {
    "duration": 10,
    "start_time": "2021-07-28T03:01:49.621Z"
   },
   {
    "duration": 286,
    "start_time": "2021-07-28T03:01:49.794Z"
   },
   {
    "duration": 10,
    "start_time": "2021-07-28T03:01:50.082Z"
   },
   {
    "duration": 381,
    "start_time": "2021-07-28T03:01:50.345Z"
   },
   {
    "duration": 5,
    "start_time": "2021-07-28T03:01:53.276Z"
   },
   {
    "duration": 42,
    "start_time": "2021-07-28T03:01:54.973Z"
   },
   {
    "duration": 23,
    "start_time": "2021-07-28T03:01:55.420Z"
   },
   {
    "duration": 52,
    "start_time": "2021-07-28T03:02:01.141Z"
   },
   {
    "duration": 21,
    "start_time": "2021-07-28T03:02:01.780Z"
   },
   {
    "duration": 407,
    "start_time": "2021-07-28T03:04:48.878Z"
   },
   {
    "duration": 9,
    "start_time": "2021-07-28T03:04:54.879Z"
   },
   {
    "duration": 8,
    "start_time": "2021-07-28T03:04:55.501Z"
   },
   {
    "duration": 8,
    "start_time": "2021-07-28T03:04:55.733Z"
   },
   {
    "duration": 5,
    "start_time": "2021-07-28T03:04:55.935Z"
   },
   {
    "duration": 9,
    "start_time": "2021-07-28T03:04:56.511Z"
   },
   {
    "duration": 4,
    "start_time": "2021-07-28T03:04:57.313Z"
   },
   {
    "duration": 98,
    "start_time": "2021-07-28T03:04:57.564Z"
   },
   {
    "duration": 32172,
    "start_time": "2021-07-28T03:05:01.466Z"
   },
   {
    "duration": 10809,
    "start_time": "2021-07-28T03:05:48.190Z"
   },
   {
    "duration": 2473,
    "start_time": "2021-07-28T03:06:03.390Z"
   },
   {
    "duration": 7867,
    "start_time": "2021-07-28T03:06:07.383Z"
   },
   {
    "duration": 16169,
    "start_time": "2021-07-28T03:07:58.902Z"
   },
   {
    "duration": 1695,
    "start_time": "2021-07-28T03:08:15.074Z"
   },
   {
    "duration": 104,
    "start_time": "2021-07-28T03:08:16.772Z"
   },
   {
    "duration": 6914,
    "start_time": "2021-07-28T03:08:16.879Z"
   },
   {
    "duration": 160,
    "start_time": "2021-07-28T03:08:23.796Z"
   },
   {
    "duration": 2061,
    "start_time": "2021-07-28T16:48:55.956Z"
   },
   {
    "duration": 65,
    "start_time": "2021-07-28T16:48:58.020Z"
   },
   {
    "duration": 26,
    "start_time": "2021-07-28T16:48:58.090Z"
   },
   {
    "duration": 17,
    "start_time": "2021-07-28T16:48:58.119Z"
   },
   {
    "duration": 15,
    "start_time": "2021-07-28T16:48:58.139Z"
   },
   {
    "duration": 58,
    "start_time": "2021-07-28T16:48:58.157Z"
   },
   {
    "duration": 11,
    "start_time": "2021-07-28T16:48:58.217Z"
   },
   {
    "duration": 4,
    "start_time": "2021-07-28T16:48:58.233Z"
   },
   {
    "duration": 11,
    "start_time": "2021-07-28T16:48:58.241Z"
   },
   {
    "duration": 13,
    "start_time": "2021-07-28T16:48:58.301Z"
   },
   {
    "duration": 703,
    "start_time": "2021-07-28T16:48:58.317Z"
   },
   {
    "duration": 823,
    "start_time": "2021-07-28T16:48:59.023Z"
   },
   {
    "duration": 8,
    "start_time": "2021-07-28T16:48:59.850Z"
   },
   {
    "duration": 12,
    "start_time": "2021-07-28T16:48:59.861Z"
   },
   {
    "duration": 31,
    "start_time": "2021-07-28T16:48:59.876Z"
   },
   {
    "duration": 439,
    "start_time": "2021-07-28T16:48:59.911Z"
   },
   {
    "duration": 13,
    "start_time": "2021-07-28T16:49:00.353Z"
   },
   {
    "duration": 440,
    "start_time": "2021-07-28T16:49:00.369Z"
   },
   {
    "duration": 8,
    "start_time": "2021-07-28T16:49:00.812Z"
   },
   {
    "duration": 67,
    "start_time": "2021-07-28T16:49:00.823Z"
   },
   {
    "duration": 28,
    "start_time": "2021-07-28T16:49:00.893Z"
   },
   {
    "duration": 78,
    "start_time": "2021-07-28T16:49:00.924Z"
   },
   {
    "duration": 23,
    "start_time": "2021-07-28T16:49:01.009Z"
   },
   {
    "duration": 11,
    "start_time": "2021-07-28T16:49:01.036Z"
   },
   {
    "duration": 19,
    "start_time": "2021-07-28T16:49:01.050Z"
   },
   {
    "duration": 29,
    "start_time": "2021-07-28T16:49:01.073Z"
   },
   {
    "duration": 13,
    "start_time": "2021-07-28T16:49:01.105Z"
   },
   {
    "duration": 18,
    "start_time": "2021-07-28T16:49:01.121Z"
   },
   {
    "duration": 266,
    "start_time": "2021-07-28T16:49:01.142Z"
   },
   {
    "duration": 33659,
    "start_time": "2021-07-28T16:49:01.416Z"
   },
   {
    "duration": 10967,
    "start_time": "2021-07-28T16:49:35.078Z"
   },
   {
    "duration": 130588,
    "start_time": "2021-07-28T16:49:46.048Z"
   },
   {
    "duration": -431,
    "start_time": "2021-07-28T16:51:57.071Z"
   },
   {
    "duration": -431,
    "start_time": "2021-07-28T16:51:57.073Z"
   },
   {
    "duration": -431,
    "start_time": "2021-07-28T16:51:57.075Z"
   },
   {
    "duration": -431,
    "start_time": "2021-07-28T16:51:57.077Z"
   },
   {
    "duration": -429,
    "start_time": "2021-07-28T16:51:57.078Z"
   },
   {
    "duration": -429,
    "start_time": "2021-07-28T16:51:57.080Z"
   },
   {
    "duration": 23710,
    "start_time": "2021-07-28T16:52:02.909Z"
   },
   {
    "duration": 42202,
    "start_time": "2021-07-28T16:52:26.623Z"
   },
   {
    "duration": -432,
    "start_time": "2021-07-28T16:53:09.261Z"
   },
   {
    "duration": -441,
    "start_time": "2021-07-28T16:53:09.272Z"
   },
   {
    "duration": -441,
    "start_time": "2021-07-28T16:53:09.275Z"
   },
   {
    "duration": 62,
    "start_time": "2021-07-28T16:53:08.987Z"
   },
   {
    "duration": 10136,
    "start_time": "2021-07-28T16:53:10.297Z"
   },
   {
    "duration": 166,
    "start_time": "2021-07-28T16:53:20.436Z"
   },
   {
    "duration": 1533,
    "start_time": "2021-07-28T16:54:43.517Z"
   },
   {
    "duration": 50,
    "start_time": "2021-07-28T16:54:45.054Z"
   },
   {
    "duration": 17,
    "start_time": "2021-07-28T16:54:45.107Z"
   },
   {
    "duration": 16,
    "start_time": "2021-07-28T16:54:45.128Z"
   },
   {
    "duration": 12,
    "start_time": "2021-07-28T16:54:45.146Z"
   },
   {
    "duration": 49,
    "start_time": "2021-07-28T16:54:45.160Z"
   },
   {
    "duration": 8,
    "start_time": "2021-07-28T16:54:45.212Z"
   },
   {
    "duration": 5,
    "start_time": "2021-07-28T16:54:45.224Z"
   },
   {
    "duration": 11,
    "start_time": "2021-07-28T16:54:45.234Z"
   },
   {
    "duration": 57,
    "start_time": "2021-07-28T16:54:45.249Z"
   },
   {
    "duration": 491,
    "start_time": "2021-07-28T16:54:45.309Z"
   },
   {
    "duration": 617,
    "start_time": "2021-07-28T16:54:45.804Z"
   },
   {
    "duration": 6,
    "start_time": "2021-07-28T16:54:46.424Z"
   },
   {
    "duration": 11,
    "start_time": "2021-07-28T16:54:46.432Z"
   },
   {
    "duration": 12,
    "start_time": "2021-07-28T16:54:46.446Z"
   },
   {
    "duration": 288,
    "start_time": "2021-07-28T16:54:46.461Z"
   },
   {
    "duration": 10,
    "start_time": "2021-07-28T16:54:46.752Z"
   },
   {
    "duration": 317,
    "start_time": "2021-07-28T16:54:46.765Z"
   },
   {
    "duration": 7,
    "start_time": "2021-07-28T16:54:47.085Z"
   },
   {
    "duration": 12,
    "start_time": "2021-07-28T16:54:47.100Z"
   },
   {
    "duration": 11,
    "start_time": "2021-07-28T16:54:47.114Z"
   },
   {
    "duration": 11,
    "start_time": "2021-07-28T16:54:47.128Z"
   },
   {
    "duration": 11,
    "start_time": "2021-07-28T16:54:47.142Z"
   },
   {
    "duration": 19,
    "start_time": "2021-07-28T16:54:47.156Z"
   },
   {
    "duration": 10,
    "start_time": "2021-07-28T16:54:47.178Z"
   },
   {
    "duration": 8,
    "start_time": "2021-07-28T16:54:47.191Z"
   },
   {
    "duration": 7,
    "start_time": "2021-07-28T16:54:47.206Z"
   },
   {
    "duration": 10,
    "start_time": "2021-07-28T16:54:47.216Z"
   },
   {
    "duration": 14,
    "start_time": "2021-07-28T16:54:47.228Z"
   },
   {
    "duration": 5904,
    "start_time": "2021-07-28T16:54:47.244Z"
   },
   {
    "duration": 1524,
    "start_time": "2021-07-28T16:54:53.150Z"
   },
   {
    "duration": 29708,
    "start_time": "2021-07-28T16:54:54.676Z"
   },
   {
    "duration": -435,
    "start_time": "2021-07-28T16:55:24.822Z"
   },
   {
    "duration": -437,
    "start_time": "2021-07-28T16:55:24.826Z"
   },
   {
    "duration": -437,
    "start_time": "2021-07-28T16:55:24.828Z"
   },
   {
    "duration": -437,
    "start_time": "2021-07-28T16:55:24.829Z"
   },
   {
    "duration": -436,
    "start_time": "2021-07-28T16:55:24.831Z"
   },
   {
    "duration": -438,
    "start_time": "2021-07-28T16:55:24.834Z"
   },
   {
    "duration": 6096,
    "start_time": "2021-07-28T16:55:26.459Z"
   },
   {
    "duration": 15012,
    "start_time": "2021-07-28T16:55:35.654Z"
   },
   {
    "duration": 15,
    "start_time": "2021-07-28T16:55:53.285Z"
   },
   {
    "duration": 1000,
    "start_time": "2021-07-28T16:55:54.621Z"
   },
   {
    "duration": 11,
    "start_time": "2021-07-28T16:55:56.921Z"
   },
   {
    "duration": 969,
    "start_time": "2021-07-28T16:56:49.962Z"
   },
   {
    "duration": 615,
    "start_time": "2021-07-28T16:57:12.395Z"
   },
   {
    "duration": 10506,
    "start_time": "2021-07-28T16:57:27.199Z"
   },
   {
    "duration": 8,
    "start_time": "2021-07-28T16:58:24.699Z"
   },
   {
    "duration": 389,
    "start_time": "2021-07-28T16:58:43.254Z"
   },
   {
    "duration": 9,
    "start_time": "2021-07-28T16:59:03.651Z"
   },
   {
    "duration": 291,
    "start_time": "2021-07-28T17:00:56.846Z"
   },
   {
    "duration": 294,
    "start_time": "2021-07-28T17:01:04.700Z"
   },
   {
    "duration": 303,
    "start_time": "2021-07-28T17:01:29.419Z"
   },
   {
    "duration": 7,
    "start_time": "2021-07-28T17:01:34.046Z"
   },
   {
    "duration": 307,
    "start_time": "2021-07-28T17:01:40.346Z"
   },
   {
    "duration": 306,
    "start_time": "2021-07-28T17:04:02.330Z"
   },
   {
    "duration": 303,
    "start_time": "2021-07-28T17:04:04.771Z"
   },
   {
    "duration": 13,
    "start_time": "2021-07-28T17:04:19.259Z"
   },
   {
    "duration": 6,
    "start_time": "2021-07-28T17:06:28.024Z"
   },
   {
    "duration": 4,
    "start_time": "2021-07-28T17:08:11.663Z"
   },
   {
    "duration": 8,
    "start_time": "2021-07-28T17:08:16.901Z"
   },
   {
    "duration": 6,
    "start_time": "2021-07-28T17:08:34.803Z"
   },
   {
    "duration": 8,
    "start_time": "2021-07-28T17:08:38.613Z"
   },
   {
    "duration": 21,
    "start_time": "2021-07-28T17:08:51.152Z"
   },
   {
    "duration": 307,
    "start_time": "2021-07-28T17:09:17.547Z"
   },
   {
    "duration": 341,
    "start_time": "2021-07-28T17:09:28.278Z"
   },
   {
    "duration": 290,
    "start_time": "2021-07-28T17:09:33.410Z"
   },
   {
    "duration": 17,
    "start_time": "2021-07-28T17:09:45.535Z"
   },
   {
    "duration": 335,
    "start_time": "2021-07-28T17:09:50.710Z"
   },
   {
    "duration": 290,
    "start_time": "2021-07-28T17:09:58.575Z"
   },
   {
    "duration": 293,
    "start_time": "2021-07-28T17:10:15.283Z"
   },
   {
    "duration": 298,
    "start_time": "2021-07-28T17:10:34.952Z"
   },
   {
    "duration": 604,
    "start_time": "2021-07-28T17:10:38.993Z"
   },
   {
    "duration": 6,
    "start_time": "2021-07-28T17:10:41.270Z"
   },
   {
    "duration": 5,
    "start_time": "2021-07-28T17:11:09.752Z"
   },
   {
    "duration": 7,
    "start_time": "2021-07-28T17:11:14.922Z"
   },
   {
    "duration": 9,
    "start_time": "2021-07-28T17:11:27.930Z"
   },
   {
    "duration": 18,
    "start_time": "2021-07-28T17:11:43.566Z"
   },
   {
    "duration": 439,
    "start_time": "2021-07-28T17:11:55.934Z"
   },
   {
    "duration": 7,
    "start_time": "2021-07-28T17:12:47.326Z"
   },
   {
    "duration": 430,
    "start_time": "2021-07-28T17:12:53.306Z"
   },
   {
    "duration": 52,
    "start_time": "2021-07-28T17:17:34.725Z"
   },
   {
    "duration": 25,
    "start_time": "2021-07-28T17:17:35.534Z"
   },
   {
    "duration": 11,
    "start_time": "2021-07-28T17:17:38.944Z"
   },
   {
    "duration": 9,
    "start_time": "2021-07-28T17:17:41.073Z"
   },
   {
    "duration": 304,
    "start_time": "2021-07-28T17:17:50.675Z"
   },
   {
    "duration": 10,
    "start_time": "2021-07-28T17:17:59.775Z"
   },
   {
    "duration": 12,
    "start_time": "2021-07-28T17:18:01.834Z"
   },
   {
    "duration": 142,
    "start_time": "2021-07-28T17:18:11.264Z"
   },
   {
    "duration": 402,
    "start_time": "2021-07-28T23:49:02.410Z"
   },
   {
    "duration": 1564,
    "start_time": "2021-07-28T23:49:08.159Z"
   },
   {
    "duration": 51,
    "start_time": "2021-07-28T23:49:09.726Z"
   },
   {
    "duration": 19,
    "start_time": "2021-07-28T23:49:09.780Z"
   },
   {
    "duration": 17,
    "start_time": "2021-07-28T23:49:09.802Z"
   },
   {
    "duration": 36,
    "start_time": "2021-07-28T23:49:09.821Z"
   },
   {
    "duration": 18,
    "start_time": "2021-07-28T23:49:09.860Z"
   },
   {
    "duration": 9,
    "start_time": "2021-07-28T23:49:09.881Z"
   },
   {
    "duration": 5,
    "start_time": "2021-07-28T23:49:09.895Z"
   },
   {
    "duration": 54,
    "start_time": "2021-07-28T23:49:09.903Z"
   },
   {
    "duration": 11,
    "start_time": "2021-07-28T23:49:13.770Z"
   },
   {
    "duration": 436,
    "start_time": "2021-07-28T23:49:16.081Z"
   },
   {
    "duration": 517,
    "start_time": "2021-07-28T23:49:18.578Z"
   },
   {
    "duration": 8,
    "start_time": "2021-07-28T23:49:21.613Z"
   },
   {
    "duration": 5,
    "start_time": "2021-07-28T23:49:22.823Z"
   },
   {
    "duration": 11,
    "start_time": "2021-07-28T23:49:31.806Z"
   },
   {
    "duration": 272,
    "start_time": "2021-07-28T23:49:32.719Z"
   },
   {
    "duration": 5,
    "start_time": "2021-07-28T23:49:52.053Z"
   },
   {
    "duration": 9,
    "start_time": "2021-07-28T23:49:55.063Z"
   },
   {
    "duration": 319,
    "start_time": "2021-07-28T23:49:55.428Z"
   },
   {
    "duration": 403,
    "start_time": "2021-07-28T23:51:00.204Z"
   },
   {
    "duration": 8,
    "start_time": "2021-07-28T23:51:00.884Z"
   },
   {
    "duration": 5,
    "start_time": "2021-07-28T23:51:05.781Z"
   },
   {
    "duration": 12,
    "start_time": "2021-07-28T23:51:07.945Z"
   },
   {
    "duration": 12,
    "start_time": "2021-07-28T23:51:09.130Z"
   },
   {
    "duration": 9,
    "start_time": "2021-07-28T23:51:15.675Z"
   },
   {
    "duration": 7,
    "start_time": "2021-07-28T23:51:16.302Z"
   },
   {
    "duration": 6,
    "start_time": "2021-07-28T23:51:16.872Z"
   },
   {
    "duration": 5,
    "start_time": "2021-07-28T23:51:18.913Z"
   },
   {
    "duration": 8,
    "start_time": "2021-07-28T23:51:20.792Z"
   },
   {
    "duration": 10,
    "start_time": "2021-07-28T23:51:22.799Z"
   },
   {
    "duration": 5093,
    "start_time": "2021-07-28T23:51:31.258Z"
   },
   {
    "duration": 2037,
    "start_time": "2021-07-28T23:51:40.422Z"
   },
   {
    "duration": 4980,
    "start_time": "2021-07-28T23:51:46.796Z"
   },
   {
    "duration": 1283,
    "start_time": "2021-07-28T23:51:54.787Z"
   },
   {
    "duration": 9392,
    "start_time": "2021-07-28T23:51:59.172Z"
   },
   {
    "duration": 735,
    "start_time": "2021-07-28T23:52:13.835Z"
   },
   {
    "duration": 18,
    "start_time": "2021-07-28T23:52:17.256Z"
   },
   {
    "duration": 1126,
    "start_time": "2021-07-28T23:52:18.508Z"
   },
   {
    "duration": 12,
    "start_time": "2021-07-28T23:52:21.732Z"
   },
   {
    "duration": 31,
    "start_time": "2021-07-28T23:53:29.628Z"
   },
   {
    "duration": 23,
    "start_time": "2021-07-28T23:53:30.235Z"
   },
   {
    "duration": 11,
    "start_time": "2021-07-28T23:53:37.193Z"
   },
   {
    "duration": 8,
    "start_time": "2021-07-28T23:53:37.412Z"
   },
   {
    "duration": 7,
    "start_time": "2021-07-28T23:53:37.596Z"
   },
   {
    "duration": 5,
    "start_time": "2021-07-28T23:53:37.781Z"
   },
   {
    "duration": 9,
    "start_time": "2021-07-28T23:53:38.341Z"
   },
   {
    "duration": 159,
    "start_time": "2021-07-28T23:53:42.201Z"
   },
   {
    "duration": 25573,
    "start_time": "2021-07-28T23:53:44.839Z"
   },
   {
    "duration": 8368,
    "start_time": "2021-07-28T23:54:56.519Z"
   },
   {
    "duration": 1869,
    "start_time": "2021-07-28T23:55:09.298Z"
   },
   {
    "duration": 6891,
    "start_time": "2021-07-28T23:55:13.353Z"
   },
   {
    "duration": 15665,
    "start_time": "2021-07-28T23:55:27.564Z"
   },
   {
    "duration": 1692,
    "start_time": "2021-07-28T23:55:46.965Z"
   },
   {
    "duration": 41,
    "start_time": "2021-07-28T23:55:55.777Z"
   },
   {
    "duration": 5586,
    "start_time": "2021-07-28T23:55:57.243Z"
   },
   {
    "duration": 93,
    "start_time": "2021-07-28T23:56:05.669Z"
   },
   {
    "duration": 4,
    "start_time": "2021-07-28T23:56:23.740Z"
   },
   {
    "duration": 4,
    "start_time": "2021-07-28T23:56:24.883Z"
   },
   {
    "duration": 353,
    "start_time": "2021-07-28T23:56:28.785Z"
   },
   {
    "duration": 7,
    "start_time": "2021-07-28T23:56:33.324Z"
   },
   {
    "duration": 275,
    "start_time": "2021-07-28T23:56:42.409Z"
   },
   {
    "duration": 5,
    "start_time": "2021-07-28T23:57:25.792Z"
   },
   {
    "duration": 292,
    "start_time": "2021-07-28T23:57:26.230Z"
   },
   {
    "duration": 5468,
    "start_time": "2021-07-28T23:58:28.170Z"
   },
   {
    "duration": 4,
    "start_time": "2021-07-28T23:58:35.722Z"
   },
   {
    "duration": 4,
    "start_time": "2021-07-28T23:58:36.025Z"
   },
   {
    "duration": 370,
    "start_time": "2021-07-28T23:58:36.902Z"
   },
   {
    "duration": 8,
    "start_time": "2021-07-28T23:58:39.084Z"
   },
   {
    "duration": 277,
    "start_time": "2021-07-28T23:58:39.572Z"
   },
   {
    "duration": 288,
    "start_time": "2021-07-28T23:58:43.873Z"
   },
   {
    "duration": 6,
    "start_time": "2021-07-28T23:58:48.115Z"
   },
   {
    "duration": 331,
    "start_time": "2021-07-28T23:58:48.630Z"
   },
   {
    "duration": 5,
    "start_time": "2021-07-28T23:59:56.412Z"
   },
   {
    "duration": 597,
    "start_time": "2021-07-29T00:00:06.606Z"
   },
   {
    "duration": 5,
    "start_time": "2021-07-29T00:07:14.592Z"
   },
   {
    "duration": 15463,
    "start_time": "2021-07-29T00:07:16.229Z"
   },
   {
    "duration": 769,
    "start_time": "2021-07-29T00:07:31.695Z"
   },
   {
    "duration": 5,
    "start_time": "2021-07-29T00:08:24.685Z"
   },
   {
    "duration": 15297,
    "start_time": "2021-07-29T00:08:24.870Z"
   },
   {
    "duration": 614,
    "start_time": "2021-07-29T00:08:40.170Z"
   },
   {
    "duration": 1670,
    "start_time": "2021-07-29T00:08:40.788Z"
   },
   {
    "duration": 618,
    "start_time": "2021-07-29T00:08:42.461Z"
   },
   {
    "duration": 99,
    "start_time": "2021-07-29T00:08:43.081Z"
   },
   {
    "duration": -496,
    "start_time": "2021-07-29T00:08:43.678Z"
   },
   {
    "duration": -497,
    "start_time": "2021-07-29T00:08:43.680Z"
   },
   {
    "duration": -499,
    "start_time": "2021-07-29T00:08:43.684Z"
   },
   {
    "duration": -500,
    "start_time": "2021-07-29T00:08:43.686Z"
   },
   {
    "duration": -501,
    "start_time": "2021-07-29T00:08:43.688Z"
   },
   {
    "duration": 38,
    "start_time": "2021-07-29T00:09:03.386Z"
   },
   {
    "duration": 604,
    "start_time": "2021-07-29T00:09:04.521Z"
   },
   {
    "duration": 5434,
    "start_time": "2021-07-29T00:09:27.148Z"
   },
   {
    "duration": 592,
    "start_time": "2021-07-29T00:09:32.585Z"
   },
   {
    "duration": 176,
    "start_time": "2021-07-29T00:09:33.180Z"
   },
   {
    "duration": 583,
    "start_time": "2021-07-29T00:09:33.359Z"
   },
   {
    "duration": 6,
    "start_time": "2021-07-29T00:23:15.450Z"
   },
   {
    "duration": 15237,
    "start_time": "2021-07-29T00:23:16.510Z"
   },
   {
    "duration": 714,
    "start_time": "2021-07-29T00:25:03.418Z"
   },
   {
    "duration": 1543,
    "start_time": "2021-07-29T00:25:13.061Z"
   },
   {
    "duration": 49,
    "start_time": "2021-07-29T00:25:14.606Z"
   },
   {
    "duration": 16,
    "start_time": "2021-07-29T00:25:14.657Z"
   },
   {
    "duration": 20,
    "start_time": "2021-07-29T00:25:14.677Z"
   },
   {
    "duration": 15,
    "start_time": "2021-07-29T00:25:14.700Z"
   },
   {
    "duration": 53,
    "start_time": "2021-07-29T00:25:14.718Z"
   },
   {
    "duration": 9,
    "start_time": "2021-07-29T00:25:14.774Z"
   },
   {
    "duration": 8,
    "start_time": "2021-07-29T00:25:14.786Z"
   },
   {
    "duration": 8,
    "start_time": "2021-07-29T00:25:14.798Z"
   },
   {
    "duration": 15,
    "start_time": "2021-07-29T00:25:14.809Z"
   },
   {
    "duration": 478,
    "start_time": "2021-07-29T00:25:14.827Z"
   },
   {
    "duration": 556,
    "start_time": "2021-07-29T00:25:15.308Z"
   },
   {
    "duration": 6,
    "start_time": "2021-07-29T00:25:15.866Z"
   },
   {
    "duration": 8,
    "start_time": "2021-07-29T00:25:15.875Z"
   },
   {
    "duration": 13,
    "start_time": "2021-07-29T00:25:15.886Z"
   },
   {
    "duration": 303,
    "start_time": "2021-07-29T00:25:15.901Z"
   },
   {
    "duration": 11,
    "start_time": "2021-07-29T00:25:16.206Z"
   },
   {
    "duration": 319,
    "start_time": "2021-07-29T00:25:16.219Z"
   },
   {
    "duration": 5,
    "start_time": "2021-07-29T00:25:16.541Z"
   },
   {
    "duration": 37,
    "start_time": "2021-07-29T00:25:16.556Z"
   },
   {
    "duration": 24,
    "start_time": "2021-07-29T00:25:16.595Z"
   },
   {
    "duration": 3,
    "start_time": "2021-07-29T00:25:16.621Z"
   },
   {
    "duration": 29,
    "start_time": "2021-07-29T00:25:16.627Z"
   },
   {
    "duration": 13,
    "start_time": "2021-07-29T00:25:16.659Z"
   },
   {
    "duration": 10,
    "start_time": "2021-07-29T00:25:16.674Z"
   },
   {
    "duration": 6,
    "start_time": "2021-07-29T00:25:16.687Z"
   },
   {
    "duration": 7,
    "start_time": "2021-07-29T00:25:16.698Z"
   },
   {
    "duration": 48,
    "start_time": "2021-07-29T00:25:16.708Z"
   },
   {
    "duration": 98,
    "start_time": "2021-07-29T00:25:16.758Z"
   },
   {
    "duration": 25523,
    "start_time": "2021-07-29T00:25:16.860Z"
   },
   {
    "duration": 8393,
    "start_time": "2021-07-29T00:25:42.386Z"
   },
   {
    "duration": 2174,
    "start_time": "2021-07-29T00:25:50.782Z"
   },
   {
    "duration": 7063,
    "start_time": "2021-07-29T00:25:52.958Z"
   },
   {
    "duration": 6,
    "start_time": "2021-07-29T00:26:00.024Z"
   },
   {
    "duration": 15752,
    "start_time": "2021-07-29T00:26:00.033Z"
   },
   {
    "duration": 608,
    "start_time": "2021-07-29T00:26:15.787Z"
   },
   {
    "duration": 1960,
    "start_time": "2021-07-29T00:26:16.397Z"
   },
   {
    "duration": 645,
    "start_time": "2021-07-29T00:26:18.360Z"
   },
   {
    "duration": 56,
    "start_time": "2021-07-29T00:26:19.008Z"
   },
   {
    "duration": 639,
    "start_time": "2021-07-29T00:26:19.067Z"
   },
   {
    "duration": 5430,
    "start_time": "2021-07-29T00:26:19.709Z"
   },
   {
    "duration": 656,
    "start_time": "2021-07-29T00:26:25.142Z"
   },
   {
    "duration": 161,
    "start_time": "2021-07-29T00:26:25.801Z"
   },
   {
    "duration": 750,
    "start_time": "2021-07-29T00:26:25.965Z"
   },
   {
    "duration": 94,
    "start_time": "2021-07-29T00:31:03.189Z"
   },
   {
    "duration": 1528,
    "start_time": "2021-07-29T00:43:57.971Z"
   },
   {
    "duration": 48,
    "start_time": "2021-07-29T00:43:59.503Z"
   },
   {
    "duration": 18,
    "start_time": "2021-07-29T00:43:59.560Z"
   },
   {
    "duration": 15,
    "start_time": "2021-07-29T00:43:59.580Z"
   },
   {
    "duration": 12,
    "start_time": "2021-07-29T00:43:59.597Z"
   },
   {
    "duration": 17,
    "start_time": "2021-07-29T00:43:59.656Z"
   },
   {
    "duration": 9,
    "start_time": "2021-07-29T00:43:59.677Z"
   },
   {
    "duration": 9,
    "start_time": "2021-07-29T00:43:59.691Z"
   },
   {
    "duration": 16,
    "start_time": "2021-07-29T00:43:59.703Z"
   },
   {
    "duration": 38,
    "start_time": "2021-07-29T00:43:59.721Z"
   },
   {
    "duration": 468,
    "start_time": "2021-07-29T00:43:59.761Z"
   },
   {
    "duration": 607,
    "start_time": "2021-07-29T00:44:00.231Z"
   },
   {
    "duration": 15,
    "start_time": "2021-07-29T00:44:00.841Z"
   },
   {
    "duration": 43,
    "start_time": "2021-07-29T00:44:00.859Z"
   },
   {
    "duration": 30,
    "start_time": "2021-07-29T00:44:00.904Z"
   },
   {
    "duration": 320,
    "start_time": "2021-07-29T00:44:00.936Z"
   },
   {
    "duration": 10,
    "start_time": "2021-07-29T00:44:01.259Z"
   },
   {
    "duration": 315,
    "start_time": "2021-07-29T00:44:01.272Z"
   },
   {
    "duration": 5,
    "start_time": "2021-07-29T00:44:01.589Z"
   },
   {
    "duration": 54,
    "start_time": "2021-07-29T00:44:01.596Z"
   },
   {
    "duration": 22,
    "start_time": "2021-07-29T00:44:01.653Z"
   },
   {
    "duration": 35,
    "start_time": "2021-07-29T00:44:01.680Z"
   },
   {
    "duration": 17,
    "start_time": "2021-07-29T00:44:01.718Z"
   },
   {
    "duration": 33,
    "start_time": "2021-07-29T00:44:01.738Z"
   },
   {
    "duration": 53,
    "start_time": "2021-07-29T00:44:01.774Z"
   },
   {
    "duration": 22,
    "start_time": "2021-07-29T00:44:01.830Z"
   },
   {
    "duration": 24,
    "start_time": "2021-07-29T00:44:01.855Z"
   },
   {
    "duration": 40,
    "start_time": "2021-07-29T00:44:01.882Z"
   },
   {
    "duration": 133,
    "start_time": "2021-07-29T00:44:01.925Z"
   },
   {
    "duration": 25675,
    "start_time": "2021-07-29T00:44:02.063Z"
   },
   {
    "duration": 8240,
    "start_time": "2021-07-29T00:44:27.741Z"
   },
   {
    "duration": 2073,
    "start_time": "2021-07-29T00:44:35.984Z"
   },
   {
    "duration": 6992,
    "start_time": "2021-07-29T00:44:38.060Z"
   },
   {
    "duration": 6,
    "start_time": "2021-07-29T00:44:45.055Z"
   },
   {
    "duration": 15828,
    "start_time": "2021-07-29T00:44:45.063Z"
   },
   {
    "duration": 609,
    "start_time": "2021-07-29T00:45:00.893Z"
   },
   {
    "duration": 1653,
    "start_time": "2021-07-29T00:45:01.504Z"
   },
   {
    "duration": 679,
    "start_time": "2021-07-29T00:45:03.160Z"
   },
   {
    "duration": 43,
    "start_time": "2021-07-29T00:45:03.841Z"
   },
   {
    "duration": 660,
    "start_time": "2021-07-29T00:45:03.887Z"
   },
   {
    "duration": 5595,
    "start_time": "2021-07-29T00:45:04.549Z"
   },
   {
    "duration": 652,
    "start_time": "2021-07-29T00:45:10.146Z"
   },
   {
    "duration": 155,
    "start_time": "2021-07-29T00:45:10.801Z"
   },
   {
    "duration": 699,
    "start_time": "2021-07-29T00:45:10.959Z"
   }
  ],
  "kernelspec": {
   "display_name": "Python 3",
   "language": "python",
   "name": "python3"
  },
  "language_info": {
   "codemirror_mode": {
    "name": "ipython",
    "version": 3
   },
   "file_extension": ".py",
   "mimetype": "text/x-python",
   "name": "python",
   "nbconvert_exporter": "python",
   "pygments_lexer": "ipython3",
   "version": "3.7.9"
  },
  "toc": {
   "base_numbering": 1,
   "nav_menu": {},
   "number_sections": true,
   "sideBar": true,
   "skip_h1_title": true,
   "title_cell": "Содержание",
   "title_sidebar": "Contents",
   "toc_cell": true,
   "toc_position": {
    "height": "calc(100% - 180px)",
    "left": "10px",
    "top": "150px",
    "width": "289.6px"
   },
   "toc_section_display": true,
   "toc_window_display": false
  }
 },
 "nbformat": 4,
 "nbformat_minor": 2
}
