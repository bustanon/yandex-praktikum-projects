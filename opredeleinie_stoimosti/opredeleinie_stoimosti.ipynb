{
 "cells": [
  {
   "cell_type": "markdown",
   "metadata": {},
   "source": [
    "# Определение стоимости автомобилей"
   ]
  },
  {
   "cell_type": "markdown",
   "metadata": {},
   "source": [
    "В вашем распоряжении исторические данные: технические характеристики, комплектации и цены автомобилей. Необходимл построить модель для определения стоимости. \n"
   ]
  },
  {
   "cell_type": "markdown",
   "metadata": {},
   "source": [
    "## Подготовка данных"
   ]
  },
  {
   "cell_type": "code",
   "execution_count": 31,
   "metadata": {},
   "outputs": [],
   "source": [
    "import pandas as pd\n",
    "import numpy as np\n",
    "from sklearn.metrics import mean_absolute_error\n",
    "import matplotlib.pyplot as plt\n",
    "import seaborn as sns\n",
    "from sklearn.linear_model import LinearRegression\n",
    "from sklearn.tree import DecisionTreeRegressor\n",
    "from sklearn.model_selection import train_test_split\n",
    "from sklearn.model_selection import cross_val_score\n",
    "from sklearn.metrics import make_scorer\n",
    "from sklearn.preprocessing import StandardScaler\n",
    "from sklearn.ensemble import RandomForestRegressor\n",
    "from sklearn.tree import DecisionTreeRegressor\n",
    "from sklearn.dummy import DummyClassifier\n",
    "from sklearn.metrics import r2_score\n",
    "from sklearn.metrics import mean_squared_error\n",
    "from catboost import CatBoostRegressor\n",
    "from lightgbm import LGBMRegressor\n",
    "from lightgbm import LGBMModel\n",
    "import lightgbm\n",
    "from statsmodels.tsa.seasonal import seasonal_decompose"
   ]
  },
  {
   "cell_type": "code",
   "execution_count": 2,
   "metadata": {},
   "outputs": [],
   "source": [
    "data = pd.read_csv('/datasets/autos.csv')"
   ]
  },
  {
   "cell_type": "code",
   "execution_count": 3,
   "metadata": {},
   "outputs": [
    {
     "data": {
      "text/html": [
       "<div>\n",
       "<style scoped>\n",
       "    .dataframe tbody tr th:only-of-type {\n",
       "        vertical-align: middle;\n",
       "    }\n",
       "\n",
       "    .dataframe tbody tr th {\n",
       "        vertical-align: top;\n",
       "    }\n",
       "\n",
       "    .dataframe thead th {\n",
       "        text-align: right;\n",
       "    }\n",
       "</style>\n",
       "<table border=\"1\" class=\"dataframe\">\n",
       "  <thead>\n",
       "    <tr style=\"text-align: right;\">\n",
       "      <th></th>\n",
       "      <th>DateCrawled</th>\n",
       "      <th>Price</th>\n",
       "      <th>VehicleType</th>\n",
       "      <th>RegistrationYear</th>\n",
       "      <th>Gearbox</th>\n",
       "      <th>Power</th>\n",
       "      <th>Model</th>\n",
       "      <th>Kilometer</th>\n",
       "      <th>RegistrationMonth</th>\n",
       "      <th>FuelType</th>\n",
       "      <th>Brand</th>\n",
       "      <th>NotRepaired</th>\n",
       "      <th>DateCreated</th>\n",
       "      <th>NumberOfPictures</th>\n",
       "      <th>PostalCode</th>\n",
       "      <th>LastSeen</th>\n",
       "    </tr>\n",
       "  </thead>\n",
       "  <tbody>\n",
       "    <tr>\n",
       "      <td>0</td>\n",
       "      <td>2016-03-24 11:52:17</td>\n",
       "      <td>480</td>\n",
       "      <td>NaN</td>\n",
       "      <td>1993</td>\n",
       "      <td>manual</td>\n",
       "      <td>0</td>\n",
       "      <td>golf</td>\n",
       "      <td>150000</td>\n",
       "      <td>0</td>\n",
       "      <td>petrol</td>\n",
       "      <td>volkswagen</td>\n",
       "      <td>NaN</td>\n",
       "      <td>2016-03-24 00:00:00</td>\n",
       "      <td>0</td>\n",
       "      <td>70435</td>\n",
       "      <td>2016-04-07 03:16:57</td>\n",
       "    </tr>\n",
       "    <tr>\n",
       "      <td>1</td>\n",
       "      <td>2016-03-24 10:58:45</td>\n",
       "      <td>18300</td>\n",
       "      <td>coupe</td>\n",
       "      <td>2011</td>\n",
       "      <td>manual</td>\n",
       "      <td>190</td>\n",
       "      <td>NaN</td>\n",
       "      <td>125000</td>\n",
       "      <td>5</td>\n",
       "      <td>gasoline</td>\n",
       "      <td>audi</td>\n",
       "      <td>yes</td>\n",
       "      <td>2016-03-24 00:00:00</td>\n",
       "      <td>0</td>\n",
       "      <td>66954</td>\n",
       "      <td>2016-04-07 01:46:50</td>\n",
       "    </tr>\n",
       "    <tr>\n",
       "      <td>2</td>\n",
       "      <td>2016-03-14 12:52:21</td>\n",
       "      <td>9800</td>\n",
       "      <td>suv</td>\n",
       "      <td>2004</td>\n",
       "      <td>auto</td>\n",
       "      <td>163</td>\n",
       "      <td>grand</td>\n",
       "      <td>125000</td>\n",
       "      <td>8</td>\n",
       "      <td>gasoline</td>\n",
       "      <td>jeep</td>\n",
       "      <td>NaN</td>\n",
       "      <td>2016-03-14 00:00:00</td>\n",
       "      <td>0</td>\n",
       "      <td>90480</td>\n",
       "      <td>2016-04-05 12:47:46</td>\n",
       "    </tr>\n",
       "    <tr>\n",
       "      <td>3</td>\n",
       "      <td>2016-03-17 16:54:04</td>\n",
       "      <td>1500</td>\n",
       "      <td>small</td>\n",
       "      <td>2001</td>\n",
       "      <td>manual</td>\n",
       "      <td>75</td>\n",
       "      <td>golf</td>\n",
       "      <td>150000</td>\n",
       "      <td>6</td>\n",
       "      <td>petrol</td>\n",
       "      <td>volkswagen</td>\n",
       "      <td>no</td>\n",
       "      <td>2016-03-17 00:00:00</td>\n",
       "      <td>0</td>\n",
       "      <td>91074</td>\n",
       "      <td>2016-03-17 17:40:17</td>\n",
       "    </tr>\n",
       "    <tr>\n",
       "      <td>4</td>\n",
       "      <td>2016-03-31 17:25:20</td>\n",
       "      <td>3600</td>\n",
       "      <td>small</td>\n",
       "      <td>2008</td>\n",
       "      <td>manual</td>\n",
       "      <td>69</td>\n",
       "      <td>fabia</td>\n",
       "      <td>90000</td>\n",
       "      <td>7</td>\n",
       "      <td>gasoline</td>\n",
       "      <td>skoda</td>\n",
       "      <td>no</td>\n",
       "      <td>2016-03-31 00:00:00</td>\n",
       "      <td>0</td>\n",
       "      <td>60437</td>\n",
       "      <td>2016-04-06 10:17:21</td>\n",
       "    </tr>\n",
       "    <tr>\n",
       "      <td>...</td>\n",
       "      <td>...</td>\n",
       "      <td>...</td>\n",
       "      <td>...</td>\n",
       "      <td>...</td>\n",
       "      <td>...</td>\n",
       "      <td>...</td>\n",
       "      <td>...</td>\n",
       "      <td>...</td>\n",
       "      <td>...</td>\n",
       "      <td>...</td>\n",
       "      <td>...</td>\n",
       "      <td>...</td>\n",
       "      <td>...</td>\n",
       "      <td>...</td>\n",
       "      <td>...</td>\n",
       "      <td>...</td>\n",
       "    </tr>\n",
       "    <tr>\n",
       "      <td>354364</td>\n",
       "      <td>2016-03-21 09:50:58</td>\n",
       "      <td>0</td>\n",
       "      <td>NaN</td>\n",
       "      <td>2005</td>\n",
       "      <td>manual</td>\n",
       "      <td>0</td>\n",
       "      <td>colt</td>\n",
       "      <td>150000</td>\n",
       "      <td>7</td>\n",
       "      <td>petrol</td>\n",
       "      <td>mitsubishi</td>\n",
       "      <td>yes</td>\n",
       "      <td>2016-03-21 00:00:00</td>\n",
       "      <td>0</td>\n",
       "      <td>2694</td>\n",
       "      <td>2016-03-21 10:42:49</td>\n",
       "    </tr>\n",
       "    <tr>\n",
       "      <td>354365</td>\n",
       "      <td>2016-03-14 17:48:27</td>\n",
       "      <td>2200</td>\n",
       "      <td>NaN</td>\n",
       "      <td>2005</td>\n",
       "      <td>NaN</td>\n",
       "      <td>0</td>\n",
       "      <td>NaN</td>\n",
       "      <td>20000</td>\n",
       "      <td>1</td>\n",
       "      <td>NaN</td>\n",
       "      <td>sonstige_autos</td>\n",
       "      <td>NaN</td>\n",
       "      <td>2016-03-14 00:00:00</td>\n",
       "      <td>0</td>\n",
       "      <td>39576</td>\n",
       "      <td>2016-04-06 00:46:52</td>\n",
       "    </tr>\n",
       "    <tr>\n",
       "      <td>354366</td>\n",
       "      <td>2016-03-05 19:56:21</td>\n",
       "      <td>1199</td>\n",
       "      <td>convertible</td>\n",
       "      <td>2000</td>\n",
       "      <td>auto</td>\n",
       "      <td>101</td>\n",
       "      <td>fortwo</td>\n",
       "      <td>125000</td>\n",
       "      <td>3</td>\n",
       "      <td>petrol</td>\n",
       "      <td>smart</td>\n",
       "      <td>no</td>\n",
       "      <td>2016-03-05 00:00:00</td>\n",
       "      <td>0</td>\n",
       "      <td>26135</td>\n",
       "      <td>2016-03-11 18:17:12</td>\n",
       "    </tr>\n",
       "    <tr>\n",
       "      <td>354367</td>\n",
       "      <td>2016-03-19 18:57:12</td>\n",
       "      <td>9200</td>\n",
       "      <td>bus</td>\n",
       "      <td>1996</td>\n",
       "      <td>manual</td>\n",
       "      <td>102</td>\n",
       "      <td>transporter</td>\n",
       "      <td>150000</td>\n",
       "      <td>3</td>\n",
       "      <td>gasoline</td>\n",
       "      <td>volkswagen</td>\n",
       "      <td>no</td>\n",
       "      <td>2016-03-19 00:00:00</td>\n",
       "      <td>0</td>\n",
       "      <td>87439</td>\n",
       "      <td>2016-04-07 07:15:26</td>\n",
       "    </tr>\n",
       "    <tr>\n",
       "      <td>354368</td>\n",
       "      <td>2016-03-20 19:41:08</td>\n",
       "      <td>3400</td>\n",
       "      <td>wagon</td>\n",
       "      <td>2002</td>\n",
       "      <td>manual</td>\n",
       "      <td>100</td>\n",
       "      <td>golf</td>\n",
       "      <td>150000</td>\n",
       "      <td>6</td>\n",
       "      <td>gasoline</td>\n",
       "      <td>volkswagen</td>\n",
       "      <td>NaN</td>\n",
       "      <td>2016-03-20 00:00:00</td>\n",
       "      <td>0</td>\n",
       "      <td>40764</td>\n",
       "      <td>2016-03-24 12:45:21</td>\n",
       "    </tr>\n",
       "  </tbody>\n",
       "</table>\n",
       "<p>354369 rows × 16 columns</p>\n",
       "</div>"
      ],
      "text/plain": [
       "                DateCrawled  Price  VehicleType  RegistrationYear Gearbox  \\\n",
       "0       2016-03-24 11:52:17    480          NaN              1993  manual   \n",
       "1       2016-03-24 10:58:45  18300        coupe              2011  manual   \n",
       "2       2016-03-14 12:52:21   9800          suv              2004    auto   \n",
       "3       2016-03-17 16:54:04   1500        small              2001  manual   \n",
       "4       2016-03-31 17:25:20   3600        small              2008  manual   \n",
       "...                     ...    ...          ...               ...     ...   \n",
       "354364  2016-03-21 09:50:58      0          NaN              2005  manual   \n",
       "354365  2016-03-14 17:48:27   2200          NaN              2005     NaN   \n",
       "354366  2016-03-05 19:56:21   1199  convertible              2000    auto   \n",
       "354367  2016-03-19 18:57:12   9200          bus              1996  manual   \n",
       "354368  2016-03-20 19:41:08   3400        wagon              2002  manual   \n",
       "\n",
       "        Power        Model  Kilometer  RegistrationMonth  FuelType  \\\n",
       "0           0         golf     150000                  0    petrol   \n",
       "1         190          NaN     125000                  5  gasoline   \n",
       "2         163        grand     125000                  8  gasoline   \n",
       "3          75         golf     150000                  6    petrol   \n",
       "4          69        fabia      90000                  7  gasoline   \n",
       "...       ...          ...        ...                ...       ...   \n",
       "354364      0         colt     150000                  7    petrol   \n",
       "354365      0          NaN      20000                  1       NaN   \n",
       "354366    101       fortwo     125000                  3    petrol   \n",
       "354367    102  transporter     150000                  3  gasoline   \n",
       "354368    100         golf     150000                  6  gasoline   \n",
       "\n",
       "                 Brand NotRepaired          DateCreated  NumberOfPictures  \\\n",
       "0           volkswagen         NaN  2016-03-24 00:00:00                 0   \n",
       "1                 audi         yes  2016-03-24 00:00:00                 0   \n",
       "2                 jeep         NaN  2016-03-14 00:00:00                 0   \n",
       "3           volkswagen          no  2016-03-17 00:00:00                 0   \n",
       "4                skoda          no  2016-03-31 00:00:00                 0   \n",
       "...                ...         ...                  ...               ...   \n",
       "354364      mitsubishi         yes  2016-03-21 00:00:00                 0   \n",
       "354365  sonstige_autos         NaN  2016-03-14 00:00:00                 0   \n",
       "354366           smart          no  2016-03-05 00:00:00                 0   \n",
       "354367      volkswagen          no  2016-03-19 00:00:00                 0   \n",
       "354368      volkswagen         NaN  2016-03-20 00:00:00                 0   \n",
       "\n",
       "        PostalCode             LastSeen  \n",
       "0            70435  2016-04-07 03:16:57  \n",
       "1            66954  2016-04-07 01:46:50  \n",
       "2            90480  2016-04-05 12:47:46  \n",
       "3            91074  2016-03-17 17:40:17  \n",
       "4            60437  2016-04-06 10:17:21  \n",
       "...            ...                  ...  \n",
       "354364        2694  2016-03-21 10:42:49  \n",
       "354365       39576  2016-04-06 00:46:52  \n",
       "354366       26135  2016-03-11 18:17:12  \n",
       "354367       87439  2016-04-07 07:15:26  \n",
       "354368       40764  2016-03-24 12:45:21  \n",
       "\n",
       "[354369 rows x 16 columns]"
      ]
     },
     "metadata": {},
     "output_type": "display_data"
    }
   ],
   "source": [
    "display(data)"
   ]
  },
  {
   "cell_type": "code",
   "execution_count": 4,
   "metadata": {},
   "outputs": [
    {
     "name": "stdout",
     "output_type": "stream",
     "text": [
      "<class 'pandas.core.frame.DataFrame'>\n",
      "RangeIndex: 354369 entries, 0 to 354368\n",
      "Data columns (total 16 columns):\n",
      "DateCrawled          354369 non-null object\n",
      "Price                354369 non-null int64\n",
      "VehicleType          316879 non-null object\n",
      "RegistrationYear     354369 non-null int64\n",
      "Gearbox              334536 non-null object\n",
      "Power                354369 non-null int64\n",
      "Model                334664 non-null object\n",
      "Kilometer            354369 non-null int64\n",
      "RegistrationMonth    354369 non-null int64\n",
      "FuelType             321474 non-null object\n",
      "Brand                354369 non-null object\n",
      "NotRepaired          283215 non-null object\n",
      "DateCreated          354369 non-null object\n",
      "NumberOfPictures     354369 non-null int64\n",
      "PostalCode           354369 non-null int64\n",
      "LastSeen             354369 non-null object\n",
      "dtypes: int64(7), object(9)\n",
      "memory usage: 43.3+ MB\n"
     ]
    }
   ],
   "source": [
    "data.info()"
   ]
  },
  {
   "cell_type": "code",
   "execution_count": 5,
   "metadata": {
    "scrolled": false
   },
   "outputs": [
    {
     "data": {
      "text/html": [
       "<div>\n",
       "<style scoped>\n",
       "    .dataframe tbody tr th:only-of-type {\n",
       "        vertical-align: middle;\n",
       "    }\n",
       "\n",
       "    .dataframe tbody tr th {\n",
       "        vertical-align: top;\n",
       "    }\n",
       "\n",
       "    .dataframe thead th {\n",
       "        text-align: right;\n",
       "    }\n",
       "</style>\n",
       "<table border=\"1\" class=\"dataframe\">\n",
       "  <thead>\n",
       "    <tr style=\"text-align: right;\">\n",
       "      <th></th>\n",
       "      <th>Price</th>\n",
       "      <th>RegistrationYear</th>\n",
       "      <th>Power</th>\n",
       "      <th>Kilometer</th>\n",
       "      <th>RegistrationMonth</th>\n",
       "      <th>NumberOfPictures</th>\n",
       "      <th>PostalCode</th>\n",
       "    </tr>\n",
       "  </thead>\n",
       "  <tbody>\n",
       "    <tr>\n",
       "      <td>count</td>\n",
       "      <td>354369.000000</td>\n",
       "      <td>354369.000000</td>\n",
       "      <td>354369.000000</td>\n",
       "      <td>354369.000000</td>\n",
       "      <td>354369.000000</td>\n",
       "      <td>354369.0</td>\n",
       "      <td>354369.000000</td>\n",
       "    </tr>\n",
       "    <tr>\n",
       "      <td>mean</td>\n",
       "      <td>4416.656776</td>\n",
       "      <td>2004.234448</td>\n",
       "      <td>110.094337</td>\n",
       "      <td>128211.172535</td>\n",
       "      <td>5.714645</td>\n",
       "      <td>0.0</td>\n",
       "      <td>50508.689087</td>\n",
       "    </tr>\n",
       "    <tr>\n",
       "      <td>std</td>\n",
       "      <td>4514.158514</td>\n",
       "      <td>90.227958</td>\n",
       "      <td>189.850405</td>\n",
       "      <td>37905.341530</td>\n",
       "      <td>3.726421</td>\n",
       "      <td>0.0</td>\n",
       "      <td>25783.096248</td>\n",
       "    </tr>\n",
       "    <tr>\n",
       "      <td>min</td>\n",
       "      <td>0.000000</td>\n",
       "      <td>1000.000000</td>\n",
       "      <td>0.000000</td>\n",
       "      <td>5000.000000</td>\n",
       "      <td>0.000000</td>\n",
       "      <td>0.0</td>\n",
       "      <td>1067.000000</td>\n",
       "    </tr>\n",
       "    <tr>\n",
       "      <td>25%</td>\n",
       "      <td>1050.000000</td>\n",
       "      <td>1999.000000</td>\n",
       "      <td>69.000000</td>\n",
       "      <td>125000.000000</td>\n",
       "      <td>3.000000</td>\n",
       "      <td>0.0</td>\n",
       "      <td>30165.000000</td>\n",
       "    </tr>\n",
       "    <tr>\n",
       "      <td>50%</td>\n",
       "      <td>2700.000000</td>\n",
       "      <td>2003.000000</td>\n",
       "      <td>105.000000</td>\n",
       "      <td>150000.000000</td>\n",
       "      <td>6.000000</td>\n",
       "      <td>0.0</td>\n",
       "      <td>49413.000000</td>\n",
       "    </tr>\n",
       "    <tr>\n",
       "      <td>75%</td>\n",
       "      <td>6400.000000</td>\n",
       "      <td>2008.000000</td>\n",
       "      <td>143.000000</td>\n",
       "      <td>150000.000000</td>\n",
       "      <td>9.000000</td>\n",
       "      <td>0.0</td>\n",
       "      <td>71083.000000</td>\n",
       "    </tr>\n",
       "    <tr>\n",
       "      <td>max</td>\n",
       "      <td>20000.000000</td>\n",
       "      <td>9999.000000</td>\n",
       "      <td>20000.000000</td>\n",
       "      <td>150000.000000</td>\n",
       "      <td>12.000000</td>\n",
       "      <td>0.0</td>\n",
       "      <td>99998.000000</td>\n",
       "    </tr>\n",
       "  </tbody>\n",
       "</table>\n",
       "</div>"
      ],
      "text/plain": [
       "               Price  RegistrationYear          Power      Kilometer  \\\n",
       "count  354369.000000     354369.000000  354369.000000  354369.000000   \n",
       "mean     4416.656776       2004.234448     110.094337  128211.172535   \n",
       "std      4514.158514         90.227958     189.850405   37905.341530   \n",
       "min         0.000000       1000.000000       0.000000    5000.000000   \n",
       "25%      1050.000000       1999.000000      69.000000  125000.000000   \n",
       "50%      2700.000000       2003.000000     105.000000  150000.000000   \n",
       "75%      6400.000000       2008.000000     143.000000  150000.000000   \n",
       "max     20000.000000       9999.000000   20000.000000  150000.000000   \n",
       "\n",
       "       RegistrationMonth  NumberOfPictures     PostalCode  \n",
       "count      354369.000000          354369.0  354369.000000  \n",
       "mean            5.714645               0.0   50508.689087  \n",
       "std             3.726421               0.0   25783.096248  \n",
       "min             0.000000               0.0    1067.000000  \n",
       "25%             3.000000               0.0   30165.000000  \n",
       "50%             6.000000               0.0   49413.000000  \n",
       "75%             9.000000               0.0   71083.000000  \n",
       "max            12.000000               0.0   99998.000000  "
      ]
     },
     "execution_count": 5,
     "metadata": {},
     "output_type": "execute_result"
    }
   ],
   "source": [
    "data.describe()"
   ]
  },
  {
   "cell_type": "code",
   "execution_count": 6,
   "metadata": {},
   "outputs": [],
   "source": [
    "data_1 = data.drop(['NumberOfPictures', 'PostalCode', 'DateCreated', 'LastSeen', 'DateCrawled'], axis = 1)"
   ]
  },
  {
   "cell_type": "code",
   "execution_count": 7,
   "metadata": {},
   "outputs": [],
   "source": [
    "data_1 = data_1.fillna('Unknown')"
   ]
  },
  {
   "cell_type": "code",
   "execution_count": 8,
   "metadata": {},
   "outputs": [
    {
     "data": {
      "text/html": [
       "<div>\n",
       "<style scoped>\n",
       "    .dataframe tbody tr th:only-of-type {\n",
       "        vertical-align: middle;\n",
       "    }\n",
       "\n",
       "    .dataframe tbody tr th {\n",
       "        vertical-align: top;\n",
       "    }\n",
       "\n",
       "    .dataframe thead th {\n",
       "        text-align: right;\n",
       "    }\n",
       "</style>\n",
       "<table border=\"1\" class=\"dataframe\">\n",
       "  <thead>\n",
       "    <tr style=\"text-align: right;\">\n",
       "      <th></th>\n",
       "      <th>Price</th>\n",
       "      <th>RegistrationYear</th>\n",
       "      <th>Power</th>\n",
       "      <th>Kilometer</th>\n",
       "      <th>RegistrationMonth</th>\n",
       "    </tr>\n",
       "  </thead>\n",
       "  <tbody>\n",
       "    <tr>\n",
       "      <td>count</td>\n",
       "      <td>354369.000000</td>\n",
       "      <td>354369.000000</td>\n",
       "      <td>354369.000000</td>\n",
       "      <td>354369.000000</td>\n",
       "      <td>354369.000000</td>\n",
       "    </tr>\n",
       "    <tr>\n",
       "      <td>mean</td>\n",
       "      <td>4416.656776</td>\n",
       "      <td>2004.234448</td>\n",
       "      <td>110.094337</td>\n",
       "      <td>128211.172535</td>\n",
       "      <td>5.714645</td>\n",
       "    </tr>\n",
       "    <tr>\n",
       "      <td>std</td>\n",
       "      <td>4514.158514</td>\n",
       "      <td>90.227958</td>\n",
       "      <td>189.850405</td>\n",
       "      <td>37905.341530</td>\n",
       "      <td>3.726421</td>\n",
       "    </tr>\n",
       "    <tr>\n",
       "      <td>min</td>\n",
       "      <td>0.000000</td>\n",
       "      <td>1000.000000</td>\n",
       "      <td>0.000000</td>\n",
       "      <td>5000.000000</td>\n",
       "      <td>0.000000</td>\n",
       "    </tr>\n",
       "    <tr>\n",
       "      <td>25%</td>\n",
       "      <td>1050.000000</td>\n",
       "      <td>1999.000000</td>\n",
       "      <td>69.000000</td>\n",
       "      <td>125000.000000</td>\n",
       "      <td>3.000000</td>\n",
       "    </tr>\n",
       "    <tr>\n",
       "      <td>50%</td>\n",
       "      <td>2700.000000</td>\n",
       "      <td>2003.000000</td>\n",
       "      <td>105.000000</td>\n",
       "      <td>150000.000000</td>\n",
       "      <td>6.000000</td>\n",
       "    </tr>\n",
       "    <tr>\n",
       "      <td>75%</td>\n",
       "      <td>6400.000000</td>\n",
       "      <td>2008.000000</td>\n",
       "      <td>143.000000</td>\n",
       "      <td>150000.000000</td>\n",
       "      <td>9.000000</td>\n",
       "    </tr>\n",
       "    <tr>\n",
       "      <td>max</td>\n",
       "      <td>20000.000000</td>\n",
       "      <td>9999.000000</td>\n",
       "      <td>20000.000000</td>\n",
       "      <td>150000.000000</td>\n",
       "      <td>12.000000</td>\n",
       "    </tr>\n",
       "  </tbody>\n",
       "</table>\n",
       "</div>"
      ],
      "text/plain": [
       "               Price  RegistrationYear          Power      Kilometer  \\\n",
       "count  354369.000000     354369.000000  354369.000000  354369.000000   \n",
       "mean     4416.656776       2004.234448     110.094337  128211.172535   \n",
       "std      4514.158514         90.227958     189.850405   37905.341530   \n",
       "min         0.000000       1000.000000       0.000000    5000.000000   \n",
       "25%      1050.000000       1999.000000      69.000000  125000.000000   \n",
       "50%      2700.000000       2003.000000     105.000000  150000.000000   \n",
       "75%      6400.000000       2008.000000     143.000000  150000.000000   \n",
       "max     20000.000000       9999.000000   20000.000000  150000.000000   \n",
       "\n",
       "       RegistrationMonth  \n",
       "count      354369.000000  \n",
       "mean            5.714645  \n",
       "std             3.726421  \n",
       "min             0.000000  \n",
       "25%             3.000000  \n",
       "50%             6.000000  \n",
       "75%             9.000000  \n",
       "max            12.000000  "
      ]
     },
     "execution_count": 8,
     "metadata": {},
     "output_type": "execute_result"
    }
   ],
   "source": [
    "data_1.describe()"
   ]
  },
  {
   "cell_type": "code",
   "execution_count": 9,
   "metadata": {},
   "outputs": [
    {
     "data": {
      "text/html": [
       "<div>\n",
       "<style scoped>\n",
       "    .dataframe tbody tr th:only-of-type {\n",
       "        vertical-align: middle;\n",
       "    }\n",
       "\n",
       "    .dataframe tbody tr th {\n",
       "        vertical-align: top;\n",
       "    }\n",
       "\n",
       "    .dataframe thead th {\n",
       "        text-align: right;\n",
       "    }\n",
       "</style>\n",
       "<table border=\"1\" class=\"dataframe\">\n",
       "  <thead>\n",
       "    <tr style=\"text-align: right;\">\n",
       "      <th></th>\n",
       "      <th>Price</th>\n",
       "      <th>VehicleType</th>\n",
       "      <th>RegistrationYear</th>\n",
       "      <th>Gearbox</th>\n",
       "      <th>Power</th>\n",
       "      <th>Model</th>\n",
       "      <th>Kilometer</th>\n",
       "      <th>RegistrationMonth</th>\n",
       "      <th>FuelType</th>\n",
       "      <th>Brand</th>\n",
       "      <th>NotRepaired</th>\n",
       "    </tr>\n",
       "  </thead>\n",
       "  <tbody>\n",
       "    <tr>\n",
       "      <td>0</td>\n",
       "      <td>480</td>\n",
       "      <td>Unknown</td>\n",
       "      <td>1993</td>\n",
       "      <td>manual</td>\n",
       "      <td>0</td>\n",
       "      <td>golf</td>\n",
       "      <td>150000</td>\n",
       "      <td>0</td>\n",
       "      <td>petrol</td>\n",
       "      <td>volkswagen</td>\n",
       "      <td>Unknown</td>\n",
       "    </tr>\n",
       "    <tr>\n",
       "      <td>1</td>\n",
       "      <td>18300</td>\n",
       "      <td>coupe</td>\n",
       "      <td>2011</td>\n",
       "      <td>manual</td>\n",
       "      <td>190</td>\n",
       "      <td>Unknown</td>\n",
       "      <td>125000</td>\n",
       "      <td>5</td>\n",
       "      <td>gasoline</td>\n",
       "      <td>audi</td>\n",
       "      <td>yes</td>\n",
       "    </tr>\n",
       "    <tr>\n",
       "      <td>2</td>\n",
       "      <td>9800</td>\n",
       "      <td>suv</td>\n",
       "      <td>2004</td>\n",
       "      <td>auto</td>\n",
       "      <td>163</td>\n",
       "      <td>grand</td>\n",
       "      <td>125000</td>\n",
       "      <td>8</td>\n",
       "      <td>gasoline</td>\n",
       "      <td>jeep</td>\n",
       "      <td>Unknown</td>\n",
       "    </tr>\n",
       "    <tr>\n",
       "      <td>3</td>\n",
       "      <td>1500</td>\n",
       "      <td>small</td>\n",
       "      <td>2001</td>\n",
       "      <td>manual</td>\n",
       "      <td>75</td>\n",
       "      <td>golf</td>\n",
       "      <td>150000</td>\n",
       "      <td>6</td>\n",
       "      <td>petrol</td>\n",
       "      <td>volkswagen</td>\n",
       "      <td>no</td>\n",
       "    </tr>\n",
       "    <tr>\n",
       "      <td>4</td>\n",
       "      <td>3600</td>\n",
       "      <td>small</td>\n",
       "      <td>2008</td>\n",
       "      <td>manual</td>\n",
       "      <td>69</td>\n",
       "      <td>fabia</td>\n",
       "      <td>90000</td>\n",
       "      <td>7</td>\n",
       "      <td>gasoline</td>\n",
       "      <td>skoda</td>\n",
       "      <td>no</td>\n",
       "    </tr>\n",
       "    <tr>\n",
       "      <td>...</td>\n",
       "      <td>...</td>\n",
       "      <td>...</td>\n",
       "      <td>...</td>\n",
       "      <td>...</td>\n",
       "      <td>...</td>\n",
       "      <td>...</td>\n",
       "      <td>...</td>\n",
       "      <td>...</td>\n",
       "      <td>...</td>\n",
       "      <td>...</td>\n",
       "      <td>...</td>\n",
       "    </tr>\n",
       "    <tr>\n",
       "      <td>354364</td>\n",
       "      <td>0</td>\n",
       "      <td>Unknown</td>\n",
       "      <td>2005</td>\n",
       "      <td>manual</td>\n",
       "      <td>0</td>\n",
       "      <td>colt</td>\n",
       "      <td>150000</td>\n",
       "      <td>7</td>\n",
       "      <td>petrol</td>\n",
       "      <td>mitsubishi</td>\n",
       "      <td>yes</td>\n",
       "    </tr>\n",
       "    <tr>\n",
       "      <td>354365</td>\n",
       "      <td>2200</td>\n",
       "      <td>Unknown</td>\n",
       "      <td>2005</td>\n",
       "      <td>Unknown</td>\n",
       "      <td>0</td>\n",
       "      <td>Unknown</td>\n",
       "      <td>20000</td>\n",
       "      <td>1</td>\n",
       "      <td>Unknown</td>\n",
       "      <td>sonstige_autos</td>\n",
       "      <td>Unknown</td>\n",
       "    </tr>\n",
       "    <tr>\n",
       "      <td>354366</td>\n",
       "      <td>1199</td>\n",
       "      <td>convertible</td>\n",
       "      <td>2000</td>\n",
       "      <td>auto</td>\n",
       "      <td>101</td>\n",
       "      <td>fortwo</td>\n",
       "      <td>125000</td>\n",
       "      <td>3</td>\n",
       "      <td>petrol</td>\n",
       "      <td>smart</td>\n",
       "      <td>no</td>\n",
       "    </tr>\n",
       "    <tr>\n",
       "      <td>354367</td>\n",
       "      <td>9200</td>\n",
       "      <td>bus</td>\n",
       "      <td>1996</td>\n",
       "      <td>manual</td>\n",
       "      <td>102</td>\n",
       "      <td>transporter</td>\n",
       "      <td>150000</td>\n",
       "      <td>3</td>\n",
       "      <td>gasoline</td>\n",
       "      <td>volkswagen</td>\n",
       "      <td>no</td>\n",
       "    </tr>\n",
       "    <tr>\n",
       "      <td>354368</td>\n",
       "      <td>3400</td>\n",
       "      <td>wagon</td>\n",
       "      <td>2002</td>\n",
       "      <td>manual</td>\n",
       "      <td>100</td>\n",
       "      <td>golf</td>\n",
       "      <td>150000</td>\n",
       "      <td>6</td>\n",
       "      <td>gasoline</td>\n",
       "      <td>volkswagen</td>\n",
       "      <td>Unknown</td>\n",
       "    </tr>\n",
       "  </tbody>\n",
       "</table>\n",
       "<p>354369 rows × 11 columns</p>\n",
       "</div>"
      ],
      "text/plain": [
       "        Price  VehicleType  RegistrationYear  Gearbox  Power        Model  \\\n",
       "0         480      Unknown              1993   manual      0         golf   \n",
       "1       18300        coupe              2011   manual    190      Unknown   \n",
       "2        9800          suv              2004     auto    163        grand   \n",
       "3        1500        small              2001   manual     75         golf   \n",
       "4        3600        small              2008   manual     69        fabia   \n",
       "...       ...          ...               ...      ...    ...          ...   \n",
       "354364      0      Unknown              2005   manual      0         colt   \n",
       "354365   2200      Unknown              2005  Unknown      0      Unknown   \n",
       "354366   1199  convertible              2000     auto    101       fortwo   \n",
       "354367   9200          bus              1996   manual    102  transporter   \n",
       "354368   3400        wagon              2002   manual    100         golf   \n",
       "\n",
       "        Kilometer  RegistrationMonth  FuelType           Brand NotRepaired  \n",
       "0          150000                  0    petrol      volkswagen     Unknown  \n",
       "1          125000                  5  gasoline            audi         yes  \n",
       "2          125000                  8  gasoline            jeep     Unknown  \n",
       "3          150000                  6    petrol      volkswagen          no  \n",
       "4           90000                  7  gasoline           skoda          no  \n",
       "...           ...                ...       ...             ...         ...  \n",
       "354364     150000                  7    petrol      mitsubishi         yes  \n",
       "354365      20000                  1   Unknown  sonstige_autos     Unknown  \n",
       "354366     125000                  3    petrol           smart          no  \n",
       "354367     150000                  3  gasoline      volkswagen          no  \n",
       "354368     150000                  6  gasoline      volkswagen     Unknown  \n",
       "\n",
       "[354369 rows x 11 columns]"
      ]
     },
     "metadata": {},
     "output_type": "display_data"
    }
   ],
   "source": [
    "display(data_1)"
   ]
  },
  {
   "cell_type": "code",
   "execution_count": 10,
   "metadata": {
    "scrolled": true
   },
   "outputs": [
    {
     "name": "stdout",
     "output_type": "stream",
     "text": [
      "<class 'pandas.core.frame.DataFrame'>\n",
      "RangeIndex: 354369 entries, 0 to 354368\n",
      "Data columns (total 11 columns):\n",
      "Price                354369 non-null int64\n",
      "VehicleType          354369 non-null object\n",
      "RegistrationYear     354369 non-null int64\n",
      "Gearbox              354369 non-null object\n",
      "Power                354369 non-null int64\n",
      "Model                354369 non-null object\n",
      "Kilometer            354369 non-null int64\n",
      "RegistrationMonth    354369 non-null int64\n",
      "FuelType             354369 non-null object\n",
      "Brand                354369 non-null object\n",
      "NotRepaired          354369 non-null object\n",
      "dtypes: int64(5), object(6)\n",
      "memory usage: 29.7+ MB\n"
     ]
    }
   ],
   "source": [
    "data_1.info()"
   ]
  },
  {
   "cell_type": "code",
   "execution_count": 11,
   "metadata": {},
   "outputs": [],
   "source": [
    "data_2 = data_1.query(\"Price > 100 and RegistrationYear <= 2021 and Power <= 1000\")"
   ]
  },
  {
   "cell_type": "code",
   "execution_count": 12,
   "metadata": {},
   "outputs": [
    {
     "data": {
      "text/html": [
       "<div>\n",
       "<style scoped>\n",
       "    .dataframe tbody tr th:only-of-type {\n",
       "        vertical-align: middle;\n",
       "    }\n",
       "\n",
       "    .dataframe tbody tr th {\n",
       "        vertical-align: top;\n",
       "    }\n",
       "\n",
       "    .dataframe thead th {\n",
       "        text-align: right;\n",
       "    }\n",
       "</style>\n",
       "<table border=\"1\" class=\"dataframe\">\n",
       "  <thead>\n",
       "    <tr style=\"text-align: right;\">\n",
       "      <th></th>\n",
       "      <th>Price</th>\n",
       "      <th>RegistrationYear</th>\n",
       "      <th>Power</th>\n",
       "      <th>Kilometer</th>\n",
       "      <th>RegistrationMonth</th>\n",
       "    </tr>\n",
       "  </thead>\n",
       "  <tbody>\n",
       "    <tr>\n",
       "      <td>count</td>\n",
       "      <td>339673.000000</td>\n",
       "      <td>339673.000000</td>\n",
       "      <td>339673.000000</td>\n",
       "      <td>339673.000000</td>\n",
       "      <td>339673.000000</td>\n",
       "    </tr>\n",
       "    <tr>\n",
       "      <td>mean</td>\n",
       "      <td>4603.644697</td>\n",
       "      <td>2003.133658</td>\n",
       "      <td>108.233931</td>\n",
       "      <td>128528.216844</td>\n",
       "      <td>5.807097</td>\n",
       "    </tr>\n",
       "    <tr>\n",
       "      <td>std</td>\n",
       "      <td>4515.428210</td>\n",
       "      <td>11.721585</td>\n",
       "      <td>63.375156</td>\n",
       "      <td>37169.842998</td>\n",
       "      <td>3.685615</td>\n",
       "    </tr>\n",
       "    <tr>\n",
       "      <td>min</td>\n",
       "      <td>101.000000</td>\n",
       "      <td>1000.000000</td>\n",
       "      <td>0.000000</td>\n",
       "      <td>5000.000000</td>\n",
       "      <td>0.000000</td>\n",
       "    </tr>\n",
       "    <tr>\n",
       "      <td>25%</td>\n",
       "      <td>1200.000000</td>\n",
       "      <td>1999.000000</td>\n",
       "      <td>70.000000</td>\n",
       "      <td>125000.000000</td>\n",
       "      <td>3.000000</td>\n",
       "    </tr>\n",
       "    <tr>\n",
       "      <td>50%</td>\n",
       "      <td>2900.000000</td>\n",
       "      <td>2003.000000</td>\n",
       "      <td>105.000000</td>\n",
       "      <td>150000.000000</td>\n",
       "      <td>6.000000</td>\n",
       "    </tr>\n",
       "    <tr>\n",
       "      <td>75%</td>\n",
       "      <td>6500.000000</td>\n",
       "      <td>2008.000000</td>\n",
       "      <td>143.000000</td>\n",
       "      <td>150000.000000</td>\n",
       "      <td>9.000000</td>\n",
       "    </tr>\n",
       "    <tr>\n",
       "      <td>max</td>\n",
       "      <td>20000.000000</td>\n",
       "      <td>2019.000000</td>\n",
       "      <td>1000.000000</td>\n",
       "      <td>150000.000000</td>\n",
       "      <td>12.000000</td>\n",
       "    </tr>\n",
       "  </tbody>\n",
       "</table>\n",
       "</div>"
      ],
      "text/plain": [
       "               Price  RegistrationYear          Power      Kilometer  \\\n",
       "count  339673.000000     339673.000000  339673.000000  339673.000000   \n",
       "mean     4603.644697       2003.133658     108.233931  128528.216844   \n",
       "std      4515.428210         11.721585      63.375156   37169.842998   \n",
       "min       101.000000       1000.000000       0.000000    5000.000000   \n",
       "25%      1200.000000       1999.000000      70.000000  125000.000000   \n",
       "50%      2900.000000       2003.000000     105.000000  150000.000000   \n",
       "75%      6500.000000       2008.000000     143.000000  150000.000000   \n",
       "max     20000.000000       2019.000000    1000.000000  150000.000000   \n",
       "\n",
       "       RegistrationMonth  \n",
       "count      339673.000000  \n",
       "mean            5.807097  \n",
       "std             3.685615  \n",
       "min             0.000000  \n",
       "25%             3.000000  \n",
       "50%             6.000000  \n",
       "75%             9.000000  \n",
       "max            12.000000  "
      ]
     },
     "execution_count": 12,
     "metadata": {},
     "output_type": "execute_result"
    }
   ],
   "source": [
    "data_2.describe()"
   ]
  },
  {
   "cell_type": "code",
   "execution_count": 13,
   "metadata": {},
   "outputs": [],
   "source": [
    "data_3 = pd.get_dummies(data_2, drop_first=True)"
   ]
  },
  {
   "cell_type": "code",
   "execution_count": 14,
   "metadata": {
    "scrolled": true
   },
   "outputs": [
    {
     "data": {
      "text/plain": [
       "count    339673.000000\n",
       "mean       4603.644697\n",
       "std        4515.428210\n",
       "min         101.000000\n",
       "25%        1200.000000\n",
       "50%        2900.000000\n",
       "75%        6500.000000\n",
       "max       20000.000000\n",
       "Name: Price, dtype: float64"
      ]
     },
     "execution_count": 14,
     "metadata": {},
     "output_type": "execute_result"
    }
   ],
   "source": [
    "data_3['Price'].describe()"
   ]
  },
  {
   "cell_type": "markdown",
   "metadata": {},
   "source": [
    "### Вывод\n",
    "Представленные даныые были изучены.При анализе данных были удалены столбцы, не имеющие отношение к цене, т.к. их наличие только бы ухудшало качество модели. Пропущенные значения в категориальных признаках были заменены на значение Unknown. Был удалены строки с явно ошибочными значениями(год больше 2021, цена меньше 100 евро, мощность больше 1000 л.с.). Также была произведена кодировка признаков для работы с обычными моделями."
   ]
  },
  {
   "cell_type": "markdown",
   "metadata": {},
   "source": [
    "## Обучение моделей"
   ]
  },
  {
   "cell_type": "code",
   "execution_count": 15,
   "metadata": {},
   "outputs": [],
   "source": [
    "features = data_3.drop('Price', axis = 1)\n",
    "target = data_3['Price']\n",
    "features_a, features_valid, target_a, target_valid = train_test_split(features, target, test_size=0.2, random_state=12345)\n",
    "features_train, features_test, target_train, target_test = train_test_split(features_a, target_a, test_size=0.25, random_state=12345)"
   ]
  },
  {
   "cell_type": "markdown",
   "metadata": {},
   "source": [
    "#### Линейная регрессия"
   ]
  },
  {
   "cell_type": "code",
   "execution_count": 16,
   "metadata": {
    "scrolled": true
   },
   "outputs": [
    {
     "name": "stdout",
     "output_type": "stream",
     "text": [
      "2865.7128232028253\n"
     ]
    }
   ],
   "source": [
    "model = LinearRegression(normalize = False)\n",
    "model.fit(features_train, target_train)\n",
    "predictions_valid = model.predict(features_valid)\n",
    "rmse = mean_squared_error(target_valid, predictions_valid)**0.5\n",
    "print(rmse)"
   ]
  },
  {
   "cell_type": "markdown",
   "metadata": {},
   "source": [
    "#### Случайный лес"
   ]
  },
  {
   "cell_type": "code",
   "execution_count": 17,
   "metadata": {},
   "outputs": [
    {
     "name": "stdout",
     "output_type": "stream",
     "text": [
      "RMSE наилучшей модели на валидационной выборке: 1697.716759887157\n",
      "Значение параметра n_estimators для модели с лучшим RMSE: 10\n"
     ]
    }
   ],
   "source": [
    "best_model = None\n",
    "best_result = 2500\n",
    "best_est = 0\n",
    "for est in range(1, 11, 3):\n",
    "    model = RandomForestRegressor(random_state=12345, n_estimators=est) \n",
    "    model.fit(features_train, target_train)\n",
    "    predictions_valid = model.predict(features_valid)\n",
    "    result = mean_squared_error(target_valid, predictions_valid)**0.5\n",
    "    if result < best_result:\n",
    "        best_model = model\n",
    "        best_result = result\n",
    "        best_est = est\n",
    "print('RMSE наилучшей модели на валидационной выборке:', best_result)\n",
    "print('Значение параметра n_estimators для модели с лучшим RMSE:', best_est)"
   ]
  },
  {
   "cell_type": "markdown",
   "metadata": {},
   "source": [
    "#### Решающее дерево"
   ]
  },
  {
   "cell_type": "code",
   "execution_count": 18,
   "metadata": {
    "scrolled": false
   },
   "outputs": [
    {
     "name": "stdout",
     "output_type": "stream",
     "text": [
      "RMSE наилучшей модели на валидационной выборке: 2039.594454236832\n",
      "Значение параметра max_depth для модели с лучшей RMSE: 10\n"
     ]
    }
   ],
   "source": [
    "best_model = None\n",
    "best_result = 2500\n",
    "best_depth = 0\n",
    "for depth in range(1, 11):\n",
    "    model = DecisionTreeRegressor(random_state=12345, max_depth = depth)\n",
    "    model.fit(features_train, target_train) \n",
    "    predictions_valid = model.predict(features_valid)\n",
    "    result = mean_squared_error(target_valid, predictions_valid)**0.5\n",
    "    if result < best_result:\n",
    "        best_model = model\n",
    "        best_result = result\n",
    "        best_depth = depth\n",
    "print('RMSE наилучшей модели на валидационной выборке:', best_result)\n",
    "print('Значение параметра max_depth для модели с лучшей RMSE:', best_depth)"
   ]
  },
  {
   "cell_type": "markdown",
   "metadata": {},
   "source": [
    "#### Модель с градиентным бустингом с использованием библиотеки lightgbm"
   ]
  },
  {
   "cell_type": "code",
   "execution_count": 19,
   "metadata": {
    "scrolled": true
   },
   "outputs": [
    {
     "name": "stdout",
     "output_type": "stream",
     "text": [
      "[100]\tvalid_0's rmse: 1712.61\tvalid_0's l2: 2.93303e+06\n",
      "[200]\tvalid_0's rmse: 1712.42\tvalid_0's l2: 2.93237e+06\n",
      "[300]\tvalid_0's rmse: 1716.86\tvalid_0's l2: 2.94761e+06\n",
      "[400]\tvalid_0's rmse: 1726.27\tvalid_0's l2: 2.98e+06\n",
      "[500]\tvalid_0's rmse: 1732.77\tvalid_0's l2: 3.00248e+06\n",
      "1732.7659699459514\n"
     ]
    }
   ],
   "source": [
    "model = LGBMModel(objective=\"regression\", n_estimators=500, learning_rate = 1)# Не нашел способ задать категориальные признаки\n",
    "model.fit(features_train, target_train, eval_set=[(features_valid, target_valid)], eval_metric = 'rmse', verbose=100) \n",
    "predictions_valid = model.predict(features_valid)\n",
    "rmse = mean_squared_error(target_valid, predictions_valid)**0.5\n",
    "print(rmse)"
   ]
  },
  {
   "cell_type": "code",
   "execution_count": 20,
   "metadata": {
    "scrolled": true
   },
   "outputs": [
    {
     "name": "stdout",
     "output_type": "stream",
     "text": [
      "[100]\tvalid_0's rmse: 1685.43\tvalid_0's l2: 2.84068e+06\n",
      "[200]\tvalid_0's rmse: 1637.11\tvalid_0's l2: 2.68013e+06\n",
      "[300]\tvalid_0's rmse: 1613.22\tvalid_0's l2: 2.60249e+06\n",
      "[400]\tvalid_0's rmse: 1601.15\tvalid_0's l2: 2.56369e+06\n",
      "[500]\tvalid_0's rmse: 1591.53\tvalid_0's l2: 2.53298e+06\n",
      "1591.533082937891\n"
     ]
    }
   ],
   "source": [
    "model = LGBMModel(objective=\"regression\", n_estimators=500, learning_rate = 0.2)\n",
    "model.fit(features_train, target_train, eval_set=[(features_valid, target_valid)], eval_metric = 'rmse', verbose=100) \n",
    "predictions_valid = model.predict(features_valid)\n",
    "rmse = mean_squared_error(target_valid, predictions_valid)**0.5\n",
    "print(rmse)"
   ]
  },
  {
   "cell_type": "code",
   "execution_count": 21,
   "metadata": {
    "scrolled": true
   },
   "outputs": [
    {
     "name": "stdout",
     "output_type": "stream",
     "text": [
      "[100]\tvalid_0's rmse: 1655.33\tvalid_0's l2: 2.74011e+06\n",
      "[200]\tvalid_0's rmse: 1621.5\tvalid_0's l2: 2.62928e+06\n",
      "[300]\tvalid_0's rmse: 1603.46\tvalid_0's l2: 2.57108e+06\n",
      "[400]\tvalid_0's rmse: 1593.71\tvalid_0's l2: 2.53991e+06\n",
      "[500]\tvalid_0's rmse: 1590.71\tvalid_0's l2: 2.53037e+06\n",
      "1590.7138564269912\n"
     ]
    }
   ],
   "source": [
    "model = LGBMModel(objective=\"regression\", n_estimators=500, learning_rate = 0.4)\n",
    "model.fit(features_train, target_train, eval_set=[(features_valid, target_valid)], eval_metric = 'rmse', verbose=100) \n",
    "predictions_valid = model.predict(features_valid)\n",
    "rmse = mean_squared_error(target_valid, predictions_valid)**0.5\n",
    "print(rmse)"
   ]
  },
  {
   "cell_type": "markdown",
   "metadata": {},
   "source": [
    "#### Модель с градиентным бустингом с использованием библиотеки Catboost"
   ]
  },
  {
   "cell_type": "code",
   "execution_count": 22,
   "metadata": {},
   "outputs": [],
   "source": [
    "features_x = data_2.drop('Price', axis = 1)\n",
    "target_x = data_2['Price']\n",
    "features_a, features_valid_x, target_a, target_valid_x = train_test_split(features_x, target_x, test_size=0.2, random_state=12345)\n",
    "features_train_x, features_test_x, target_train_x, target_test_x = train_test_split(features_a, target_a, test_size=0.25, random_state=12345)\n",
    "cat_features = ['VehicleType', 'RegistrationYear', 'Gearbox', 'Model', 'RegistrationMonth', 'FuelType', 'Brand', 'NotRepaired']               "
   ]
  },
  {
   "cell_type": "code",
   "execution_count": 23,
   "metadata": {},
   "outputs": [
    {
     "name": "stdout",
     "output_type": "stream",
     "text": [
      "0:\tlearn: 4215.0747583\ttotal: 777ms\tremaining: 2m 34s\n",
      "20:\tlearn: 2148.2399784\ttotal: 16.7s\tremaining: 2m 22s\n",
      "40:\tlearn: 1948.5944636\ttotal: 34.2s\tremaining: 2m 12s\n",
      "60:\tlearn: 1879.7159989\ttotal: 51.2s\tremaining: 1m 56s\n",
      "80:\tlearn: 1837.1898450\ttotal: 1m 8s\tremaining: 1m 40s\n",
      "100:\tlearn: 1806.2224230\ttotal: 1m 25s\tremaining: 1m 23s\n",
      "120:\tlearn: 1784.4714156\ttotal: 1m 42s\tremaining: 1m 6s\n",
      "140:\tlearn: 1766.9956712\ttotal: 1m 59s\tremaining: 50.1s\n",
      "160:\tlearn: 1753.0430959\ttotal: 2m 17s\tremaining: 33.4s\n",
      "180:\tlearn: 1740.4498249\ttotal: 2m 35s\tremaining: 16.3s\n",
      "199:\tlearn: 1729.0551734\ttotal: 2m 51s\tremaining: 0us\n",
      "1722.465875014314\n"
     ]
    }
   ],
   "source": [
    "model = CatBoostRegressor(loss_function=\"RMSE\", iterations=200, learning_rate = 0.1) \n",
    "model.fit(features_train_x, target_train_x, cat_features=cat_features, verbose=20)\n",
    "predictions_valid = model.predict(features_valid_x)\n",
    "rmse = mean_squared_error(target_valid, predictions_valid)**0.5\n",
    "print(rmse)"
   ]
  },
  {
   "cell_type": "code",
   "execution_count": 24,
   "metadata": {},
   "outputs": [
    {
     "name": "stdout",
     "output_type": "stream",
     "text": [
      "0:\tlearn: 3168.5984238\ttotal: 728ms\tremaining: 2m 24s\n",
      "20:\tlearn: 1847.5137158\ttotal: 17.6s\tremaining: 2m 30s\n",
      "40:\tlearn: 1764.1410750\ttotal: 34.7s\tremaining: 2m 14s\n",
      "60:\tlearn: 1720.7518886\ttotal: 51.5s\tremaining: 1m 57s\n",
      "80:\tlearn: 1694.4116347\ttotal: 1m 9s\tremaining: 1m 42s\n",
      "100:\tlearn: 1675.7378133\ttotal: 1m 26s\tremaining: 1m 25s\n",
      "120:\tlearn: 1661.6226607\ttotal: 1m 44s\tremaining: 1m 8s\n",
      "140:\tlearn: 1646.9514413\ttotal: 2m 1s\tremaining: 51s\n",
      "160:\tlearn: 1634.1239780\ttotal: 2m 20s\tremaining: 33.9s\n",
      "180:\tlearn: 1624.2650841\ttotal: 2m 37s\tremaining: 16.5s\n",
      "199:\tlearn: 1612.8882087\ttotal: 2m 54s\tremaining: 0us\n",
      "1658.5511616619076\n"
     ]
    }
   ],
   "source": [
    "model = CatBoostRegressor(loss_function=\"RMSE\", iterations=200, learning_rate = 0.5) \n",
    "model.fit(features_train_x, target_train_x, cat_features=cat_features, verbose=20)\n",
    "predictions_valid = model.predict(features_valid_x)\n",
    "rmse = mean_squared_error(target_valid, predictions_valid)**0.5\n",
    "print(rmse)"
   ]
  },
  {
   "cell_type": "markdown",
   "metadata": {},
   "source": [
    "### Вывод\n",
    "Были обучены различные модели, как и стандартные(линейная регрессия, решающее дерево, случайный лес), так и модели с градиентным бустингом(на основе библиотек Catboost и lightgbm. По итогу были получены значения RMSE для моделей с различными параметрами, и можно выбрать модели с наилучшими значениями."
   ]
  },
  {
   "cell_type": "markdown",
   "metadata": {},
   "source": [
    "## Анализ моделей"
   ]
  },
  {
   "cell_type": "markdown",
   "metadata": {},
   "source": [
    "#### Линейная регрессия"
   ]
  },
  {
   "cell_type": "code",
   "execution_count": 25,
   "metadata": {
    "scrolled": true
   },
   "outputs": [
    {
     "name": "stdout",
     "output_type": "stream",
     "text": [
      "24.2 s ± 0 ns per loop (mean ± std. dev. of 1 run, 1 loop each)\n",
      "295 ms ± 0 ns per loop (mean ± std. dev. of 1 run, 1 loop each)\n",
      "RMSE модели 2872.1980533286855\n"
     ]
    }
   ],
   "source": [
    "model = LinearRegression(normalize = False)\n",
    "result = %timeit -n1 -r1 -o model.fit(features_train, target_train)\n",
    "result_1 = %timeit -n1 -r1 -o model.predict(features_test)\n",
    "rmse_1 = mean_squared_error(target_test, model.predict(features_test))**0.5\n",
    "print('RMSE модели', rmse_1)"
   ]
  },
  {
   "cell_type": "markdown",
   "metadata": {},
   "source": [
    "#### Случайный лес"
   ]
  },
  {
   "cell_type": "code",
   "execution_count": 26,
   "metadata": {},
   "outputs": [
    {
     "name": "stdout",
     "output_type": "stream",
     "text": [
      "1min 6s ± 0 ns per loop (mean ± std. dev. of 1 run, 1 loop each)\n",
      "652 ms ± 0 ns per loop (mean ± std. dev. of 1 run, 1 loop each)\n",
      "RMSE модели 1720.7039296795933\n"
     ]
    }
   ],
   "source": [
    "model = RandomForestRegressor(random_state=12345, n_estimators=10) \n",
    "result_2 = %timeit -n1 -r1 -o model.fit(features_train, target_train) \n",
    "result_3 = %timeit -n1 -r1 -o model.predict(features_test)\n",
    "rmse_2 = mean_squared_error(target_test, model.predict(features_test))**0.5\n",
    "print('RMSE модели', rmse_2)"
   ]
  },
  {
   "cell_type": "markdown",
   "metadata": {},
   "source": [
    "#### Решающее дерево"
   ]
  },
  {
   "cell_type": "code",
   "execution_count": 27,
   "metadata": {},
   "outputs": [
    {
     "name": "stdout",
     "output_type": "stream",
     "text": [
      "5.58 s ± 0 ns per loop (mean ± std. dev. of 1 run, 1 loop each)\n",
      "152 ms ± 0 ns per loop (mean ± std. dev. of 1 run, 1 loop each)\n",
      "RMSE модели 2045.7635187134551\n"
     ]
    }
   ],
   "source": [
    "model = DecisionTreeRegressor(random_state=12345, max_depth = 10)\n",
    "result_4 = %timeit -n1 -r1 -o model.fit(features_train, target_train) \n",
    "result_5 = %timeit -n1 -r1 -o model.predict(features_test)\n",
    "rmse_3 = mean_squared_error(target_test, model.predict(features_test))**0.5\n",
    "print('RMSE модели', rmse_3)"
   ]
  },
  {
   "cell_type": "markdown",
   "metadata": {},
   "source": [
    "#### Модель с градиентным бустингом с использованием библиотеки lightgbm"
   ]
  },
  {
   "cell_type": "code",
   "execution_count": 28,
   "metadata": {},
   "outputs": [
    {
     "name": "stdout",
     "output_type": "stream",
     "text": [
      "35.7 s ± 0 ns per loop (mean ± std. dev. of 1 run, 1 loop each)\n",
      "3.69 s ± 0 ns per loop (mean ± std. dev. of 1 run, 1 loop each)\n",
      "RMSE модели 1612.6193692563127\n"
     ]
    }
   ],
   "source": [
    "model = LGBMModel(objective=\"regression\", n_estimators=500, learning_rate = 0.4)\n",
    "result_6 = %timeit -n1 -r1 -o model.fit(features_train, target_train, eval_set=[(features_test, target_test)], eval_metric = 'rmse', verbose = -1) \n",
    "result_7 = %timeit -n1 -r1 -o model.predict(features_test)\n",
    "rmse_4 = mean_squared_error(target_test, model.predict(features_test))**0.5\n",
    "print('RMSE модели', rmse_4)"
   ]
  },
  {
   "cell_type": "markdown",
   "metadata": {},
   "source": [
    "#### Модель с градиентным бустингом с использованием библиотеки Catboost"
   ]
  },
  {
   "cell_type": "code",
   "execution_count": 29,
   "metadata": {
    "scrolled": true
   },
   "outputs": [
    {
     "name": "stdout",
     "output_type": "stream",
     "text": [
      "2min 53s ± 0 ns per loop (mean ± std. dev. of 1 run, 1 loop each)\n",
      "506 ms ± 0 ns per loop (mean ± std. dev. of 1 run, 1 loop each)\n",
      "RMSE модели 1675.3936031913659\n"
     ]
    }
   ],
   "source": [
    "model = CatBoostRegressor(loss_function=\"RMSE\", iterations=200, learning_rate = 0.5) \n",
    "result_8 = %timeit -n1 -r1 -o model.fit(features_train_x, target_train_x, cat_features=cat_features, verbose=0)\n",
    "result_9 = %timeit -n1 -r1 -o model.predict(features_test_x)\n",
    "rmse_5 = mean_squared_error(target_test, model.predict(features_test_x))**0.5\n",
    "print('RMSE модели', rmse_5)"
   ]
  },
  {
   "cell_type": "code",
   "execution_count": 30,
   "metadata": {},
   "outputs": [
    {
     "data": {
      "text/html": [
       "<div>\n",
       "<style scoped>\n",
       "    .dataframe tbody tr th:only-of-type {\n",
       "        vertical-align: middle;\n",
       "    }\n",
       "\n",
       "    .dataframe tbody tr th {\n",
       "        vertical-align: top;\n",
       "    }\n",
       "\n",
       "    .dataframe thead th {\n",
       "        text-align: right;\n",
       "    }\n",
       "</style>\n",
       "<table border=\"1\" class=\"dataframe\">\n",
       "  <thead>\n",
       "    <tr style=\"text-align: right;\">\n",
       "      <th></th>\n",
       "      <th>RMSE</th>\n",
       "      <th>Время обучения, c</th>\n",
       "      <th>Время предсказания, c</th>\n",
       "    </tr>\n",
       "    <tr>\n",
       "      <th>Модель</th>\n",
       "      <th></th>\n",
       "      <th></th>\n",
       "      <th></th>\n",
       "    </tr>\n",
       "  </thead>\n",
       "  <tbody>\n",
       "    <tr>\n",
       "      <td>Линейная регрессия</td>\n",
       "      <td>2872.198053</td>\n",
       "      <td>24.170316</td>\n",
       "      <td>0.294612</td>\n",
       "    </tr>\n",
       "    <tr>\n",
       "      <td>Случайный лес</td>\n",
       "      <td>1720.703930</td>\n",
       "      <td>66.446554</td>\n",
       "      <td>0.651846</td>\n",
       "    </tr>\n",
       "    <tr>\n",
       "      <td>Решающее дерево</td>\n",
       "      <td>2045.763519</td>\n",
       "      <td>5.578280</td>\n",
       "      <td>0.152069</td>\n",
       "    </tr>\n",
       "    <tr>\n",
       "      <td>lightgbm</td>\n",
       "      <td>1612.619369</td>\n",
       "      <td>35.652822</td>\n",
       "      <td>3.687686</td>\n",
       "    </tr>\n",
       "    <tr>\n",
       "      <td>Catboost</td>\n",
       "      <td>1675.393603</td>\n",
       "      <td>173.594739</td>\n",
       "      <td>0.505603</td>\n",
       "    </tr>\n",
       "  </tbody>\n",
       "</table>\n",
       "</div>"
      ],
      "text/plain": [
       "                           RMSE  Время обучения, c  Время предсказания, c\n",
       "Модель                                                                   \n",
       "Линейная регрессия  2872.198053          24.170316               0.294612\n",
       "Случайный лес       1720.703930          66.446554               0.651846\n",
       "Решающее дерево     2045.763519           5.578280               0.152069\n",
       "lightgbm            1612.619369          35.652822               3.687686\n",
       "Catboost            1675.393603         173.594739               0.505603"
      ]
     },
     "execution_count": 30,
     "metadata": {},
     "output_type": "execute_result"
    }
   ],
   "source": [
    "table = pd.DataFrame({'Модель': ['Линейная регрессия', 'Случайный лес', 'Решающее дерево', 'lightgbm', 'Catboost'],\n",
    "                      'RMSE': [rmse_1, rmse_2, rmse_3, rmse_4, rmse_5], \n",
    "                      'Время обучения, c': [result.average, result_2.average, result_4.average, result_6.average, result_8.average], \n",
    "                      'Время предсказания, c': [result_1.average, result_3.average, result_5.average, result_7.average, result_9.average]})\n",
    "table.set_index('Модель')"
   ]
  },
  {
   "cell_type": "markdown",
   "metadata": {},
   "source": [
    "### Вывод\n",
    "По итогу можно сделать вывод о том, что модели с использованием градиентного бустинга показали более лучшее значение метрики RMSE, но при этом в среднем выполнение данных моделей занимает большее время, чем выполнение обычных моделей. Предпочтительней всего была бы модель с использованием библиотеки lightgbm"
   ]
  }
 ],
 "metadata": {
  "ExecuteTimeLog": [
   {
    "duration": 1526,
    "start_time": "2021-07-15T20:02:34.720Z"
   },
   {
    "duration": 1091,
    "start_time": "2021-07-15T20:03:03.948Z"
   },
   {
    "duration": 42,
    "start_time": "2021-07-15T20:03:10.345Z"
   },
   {
    "duration": 149,
    "start_time": "2021-07-15T20:03:22.841Z"
   },
   {
    "duration": 134,
    "start_time": "2021-07-15T20:03:44.982Z"
   },
   {
    "duration": 46,
    "start_time": "2021-07-15T20:07:05.052Z"
   },
   {
    "duration": 97,
    "start_time": "2021-07-15T20:07:11.191Z"
   },
   {
    "duration": 31,
    "start_time": "2021-07-15T20:07:21.606Z"
   },
   {
    "duration": 47,
    "start_time": "2021-07-15T20:08:36.549Z"
   },
   {
    "duration": 85,
    "start_time": "2021-07-15T20:08:36.963Z"
   },
   {
    "duration": 27,
    "start_time": "2021-07-15T20:08:37.636Z"
   },
   {
    "duration": 102,
    "start_time": "2021-07-15T20:08:49.883Z"
   },
   {
    "duration": 152,
    "start_time": "2021-07-15T20:11:18.259Z"
   },
   {
    "duration": 456,
    "start_time": "2021-07-15T20:11:23.843Z"
   },
   {
    "duration": 188,
    "start_time": "2021-07-15T20:11:38.395Z"
   },
   {
    "duration": 396,
    "start_time": "2021-07-15T20:13:43.239Z"
   },
   {
    "duration": 365,
    "start_time": "2021-07-15T20:15:26.604Z"
   },
   {
    "duration": 293,
    "start_time": "2021-07-18T22:21:18.488Z"
   },
   {
    "duration": 1151,
    "start_time": "2021-07-18T22:21:22.831Z"
   },
   {
    "duration": 878,
    "start_time": "2021-07-18T22:21:23.984Z"
   },
   {
    "duration": 26,
    "start_time": "2021-07-18T22:21:24.864Z"
   },
   {
    "duration": 128,
    "start_time": "2021-07-18T22:21:24.891Z"
   },
   {
    "duration": 98,
    "start_time": "2021-07-18T22:21:25.020Z"
   },
   {
    "duration": 33,
    "start_time": "2021-07-18T22:21:25.120Z"
   },
   {
    "duration": 71,
    "start_time": "2021-07-18T22:21:25.154Z"
   },
   {
    "duration": 24,
    "start_time": "2021-07-18T22:21:25.227Z"
   },
   {
    "duration": 344,
    "start_time": "2021-07-18T22:21:25.254Z"
   },
   {
    "duration": -400,
    "start_time": "2021-07-18T22:21:26.000Z"
   },
   {
    "duration": -400,
    "start_time": "2021-07-18T22:21:26.001Z"
   },
   {
    "duration": -400,
    "start_time": "2021-07-18T22:21:26.002Z"
   },
   {
    "duration": -400,
    "start_time": "2021-07-18T22:21:26.003Z"
   },
   {
    "duration": -404,
    "start_time": "2021-07-18T22:21:26.008Z"
   },
   {
    "duration": 72,
    "start_time": "2021-07-18T22:21:33.665Z"
   },
   {
    "duration": 35,
    "start_time": "2021-07-18T22:21:33.808Z"
   },
   {
    "duration": 72,
    "start_time": "2021-07-18T22:21:44.464Z"
   },
   {
    "duration": 15,
    "start_time": "2021-07-18T22:22:21.969Z"
   },
   {
    "duration": 21,
    "start_time": "2021-07-18T22:22:22.988Z"
   },
   {
    "duration": 32,
    "start_time": "2021-07-18T22:22:32.081Z"
   },
   {
    "duration": 68,
    "start_time": "2021-07-18T22:22:32.751Z"
   },
   {
    "duration": 93,
    "start_time": "2021-07-18T22:22:42.314Z"
   },
   {
    "duration": 331,
    "start_time": "2021-07-18T22:22:43.708Z"
   },
   {
    "duration": 675,
    "start_time": "2021-07-18T22:30:18.305Z"
   },
   {
    "duration": 22,
    "start_time": "2021-07-18T22:30:26.981Z"
   },
   {
    "duration": 94,
    "start_time": "2021-07-18T22:31:00.281Z"
   },
   {
    "duration": 20,
    "start_time": "2021-07-18T22:31:09.056Z"
   },
   {
    "duration": 20,
    "start_time": "2021-07-18T22:31:14.811Z"
   },
   {
    "duration": 35,
    "start_time": "2021-07-18T22:31:25.799Z"
   },
   {
    "duration": 5,
    "start_time": "2021-07-18T22:32:04.353Z"
   },
   {
    "duration": 746,
    "start_time": "2021-07-18T22:32:21.980Z"
   },
   {
    "duration": 21390,
    "start_time": "2021-07-18T22:32:26.380Z"
   },
   {
    "duration": 4,
    "start_time": "2021-07-18T22:33:23.977Z"
   },
   {
    "duration": 20598,
    "start_time": "2021-07-18T22:33:29.651Z"
   },
   {
    "duration": 59910,
    "start_time": "2021-07-18T22:34:25.777Z"
   },
   {
    "duration": 1782,
    "start_time": "2021-07-18T22:36:18.785Z"
   },
   {
    "duration": 5284,
    "start_time": "2021-07-18T22:36:35.257Z"
   },
   {
    "duration": 21,
    "start_time": "2021-07-18T22:38:37.180Z"
   },
   {
    "duration": 5,
    "start_time": "2021-07-18T22:39:17.450Z"
   },
   {
    "duration": 80,
    "start_time": "2021-07-18T22:41:19.748Z"
   },
   {
    "duration": 269,
    "start_time": "2021-07-18T22:44:20.897Z"
   },
   {
    "duration": 83,
    "start_time": "2021-07-18T22:44:27.216Z"
   },
   {
    "duration": 83,
    "start_time": "2021-07-18T22:44:38.393Z"
   },
   {
    "duration": 253,
    "start_time": "2021-07-18T22:44:39.174Z"
   },
   {
    "duration": 6097,
    "start_time": "2021-07-18T22:45:03.498Z"
   },
   {
    "duration": 84,
    "start_time": "2021-07-18T22:47:32.631Z"
   },
   {
    "duration": 61,
    "start_time": "2021-07-18T22:47:34.600Z"
   },
   {
    "duration": 5279,
    "start_time": "2021-07-18T22:47:36.212Z"
   },
   {
    "duration": 29214,
    "start_time": "2021-07-18T22:47:59.536Z"
   },
   {
    "duration": 183111,
    "start_time": "2021-07-18T22:48:39.142Z"
   },
   {
    "duration": 1877,
    "start_time": "2021-07-20T15:34:11.262Z"
   },
   {
    "duration": 1121,
    "start_time": "2021-07-20T15:34:14.340Z"
   },
   {
    "duration": 41,
    "start_time": "2021-07-20T15:34:16.113Z"
   },
   {
    "duration": 157,
    "start_time": "2021-07-20T15:34:18.238Z"
   },
   {
    "duration": 124,
    "start_time": "2021-07-20T15:34:19.956Z"
   },
   {
    "duration": 34,
    "start_time": "2021-07-20T15:34:21.916Z"
   },
   {
    "duration": 196,
    "start_time": "2021-07-20T15:34:22.516Z"
   },
   {
    "duration": 84,
    "start_time": "2021-07-20T15:34:29.759Z"
   },
   {
    "duration": 29,
    "start_time": "2021-07-20T15:34:31.178Z"
   },
   {
    "duration": 46,
    "start_time": "2021-07-20T15:35:34.145Z"
   },
   {
    "duration": 92,
    "start_time": "2021-07-20T15:35:34.768Z"
   },
   {
    "duration": 99,
    "start_time": "2021-07-20T15:35:37.660Z"
   },
   {
    "duration": 1284,
    "start_time": "2021-07-20T15:35:47.942Z"
   },
   {
    "duration": 1391,
    "start_time": "2021-07-20T15:36:11.538Z"
   },
   {
    "duration": 2130,
    "start_time": "2021-07-20T15:38:04.556Z"
   },
   {
    "duration": 289792,
    "start_time": "2021-07-20T15:39:38.016Z"
   },
   {
    "duration": -53,
    "start_time": "2021-07-20T15:50:25.649Z"
   },
   {
    "duration": 185582,
    "start_time": "2021-07-20T15:50:28.663Z"
   },
   {
    "duration": 158298,
    "start_time": "2021-07-20T15:54:51.843Z"
   },
   {
    "duration": 159146,
    "start_time": "2021-07-20T16:04:50.894Z"
   },
   {
    "duration": 341549,
    "start_time": "2021-07-20T16:18:57.878Z"
   },
   {
    "duration": 25851,
    "start_time": "2021-07-20T16:24:50.584Z"
   },
   {
    "duration": 22716,
    "start_time": "2021-07-20T16:40:00.143Z"
   },
   {
    "duration": 187,
    "start_time": "2021-07-20T16:42:45.192Z"
   },
   {
    "duration": 515759,
    "start_time": "2021-07-20T16:42:48.207Z"
   },
   {
    "duration": 24,
    "start_time": "2021-07-20T16:59:25.111Z"
   },
   {
    "duration": 260,
    "start_time": "2021-07-20T17:03:54.087Z"
   },
   {
    "duration": 6,
    "start_time": "2021-07-20T17:04:02.597Z"
   },
   {
    "duration": 280,
    "start_time": "2021-07-20T17:04:06.803Z"
   },
   {
    "duration": 299,
    "start_time": "2021-07-20T17:04:19.631Z"
   },
   {
    "duration": 321,
    "start_time": "2021-07-20T17:04:28.432Z"
   },
   {
    "duration": 344,
    "start_time": "2021-07-20T17:06:07.743Z"
   },
   {
    "duration": 179,
    "start_time": "2021-07-20T17:06:20.812Z"
   },
   {
    "duration": 346,
    "start_time": "2021-07-20T17:06:22.602Z"
   },
   {
    "duration": 426,
    "start_time": "2021-07-20T17:07:24.234Z"
   },
   {
    "duration": 6523,
    "start_time": "2021-07-20T17:07:37.000Z"
   },
   {
    "duration": 2015,
    "start_time": "2021-07-20T17:10:36.524Z"
   },
   {
    "duration": 11347,
    "start_time": "2021-07-20T17:10:43.717Z"
   },
   {
    "duration": 12780,
    "start_time": "2021-07-20T17:11:49.785Z"
   },
   {
    "duration": 12814,
    "start_time": "2021-07-20T17:12:25.256Z"
   },
   {
    "duration": 721,
    "start_time": "2021-07-20T17:16:10.444Z"
   },
   {
    "duration": 674,
    "start_time": "2021-07-20T17:16:43.856Z"
   },
   {
    "duration": 816,
    "start_time": "2021-07-20T17:16:53.075Z"
   },
   {
    "duration": 264,
    "start_time": "2021-07-20T17:17:11.621Z"
   },
   {
    "duration": 1620,
    "start_time": "2021-07-20T17:17:22.687Z"
   },
   {
    "duration": 268,
    "start_time": "2021-07-20T17:17:47.727Z"
   },
   {
    "duration": 8907,
    "start_time": "2021-07-20T17:21:04.464Z"
   },
   {
    "duration": 7075,
    "start_time": "2021-07-20T17:21:31.759Z"
   },
   {
    "duration": 432,
    "start_time": "2021-07-20T17:22:08.722Z"
   },
   {
    "duration": 466,
    "start_time": "2021-07-20T17:22:18.962Z"
   },
   {
    "duration": 502,
    "start_time": "2021-07-20T17:22:26.838Z"
   },
   {
    "duration": 12306,
    "start_time": "2021-07-20T17:22:35.967Z"
   },
   {
    "duration": 171,
    "start_time": "2021-07-20T17:23:09.091Z"
   },
   {
    "duration": 6626,
    "start_time": "2021-07-20T17:23:12.967Z"
   },
   {
    "duration": 300,
    "start_time": "2021-07-20T17:23:34.255Z"
   },
   {
    "duration": 363,
    "start_time": "2021-07-20T17:24:09.884Z"
   },
   {
    "duration": 303,
    "start_time": "2021-07-20T17:24:28.484Z"
   },
   {
    "duration": 336,
    "start_time": "2021-07-20T17:26:22.260Z"
   },
   {
    "duration": 1568,
    "start_time": "2021-07-21T14:15:10.736Z"
   },
   {
    "duration": 1253,
    "start_time": "2021-07-21T14:15:12.307Z"
   },
   {
    "duration": 46,
    "start_time": "2021-07-21T14:15:13.563Z"
   },
   {
    "duration": 179,
    "start_time": "2021-07-21T14:15:13.612Z"
   },
   {
    "duration": 130,
    "start_time": "2021-07-21T14:15:13.794Z"
   },
   {
    "duration": 39,
    "start_time": "2021-07-21T14:15:13.927Z"
   },
   {
    "duration": 237,
    "start_time": "2021-07-21T14:15:13.985Z"
   },
   {
    "duration": 93,
    "start_time": "2021-07-21T14:15:14.225Z"
   },
   {
    "duration": 26,
    "start_time": "2021-07-21T14:15:14.321Z"
   },
   {
    "duration": 48,
    "start_time": "2021-07-21T14:15:17.778Z"
   },
   {
    "duration": 1207,
    "start_time": "2021-07-21T14:15:20.139Z"
   },
   {
    "duration": 182,
    "start_time": "2021-07-21T14:15:26.407Z"
   },
   {
    "duration": 644,
    "start_time": "2021-07-21T14:16:19.220Z"
   },
   {
    "duration": 8056,
    "start_time": "2021-07-21T14:16:36.028Z"
   },
   {
    "duration": 604,
    "start_time": "2021-07-21T14:23:07.413Z"
   },
   {
    "duration": 507,
    "start_time": "2021-07-21T14:23:22.160Z"
   },
   {
    "duration": 629,
    "start_time": "2021-07-21T14:23:43.259Z"
   },
   {
    "duration": 7,
    "start_time": "2021-07-21T14:30:03.135Z"
   },
   {
    "duration": 173,
    "start_time": "2021-07-21T14:33:03.813Z"
   },
   {
    "duration": 558,
    "start_time": "2021-07-21T14:38:25.762Z"
   },
   {
    "duration": 544,
    "start_time": "2021-07-21T14:39:09.098Z"
   },
   {
    "duration": 7,
    "start_time": "2021-07-21T17:45:07.328Z"
   },
   {
    "duration": 1095,
    "start_time": "2021-07-21T17:45:11.915Z"
   },
   {
    "duration": 37,
    "start_time": "2021-07-21T17:45:13.013Z"
   },
   {
    "duration": 537,
    "start_time": "2021-07-21T17:47:04.453Z"
   },
   {
    "duration": 28827,
    "start_time": "2021-07-21T17:47:14.370Z"
   },
   {
    "duration": 7584,
    "start_time": "2021-07-21T17:48:28.205Z"
   },
   {
    "duration": 6947,
    "start_time": "2021-07-21T17:48:37.641Z"
   },
   {
    "duration": 14329,
    "start_time": "2021-07-21T17:48:54.070Z"
   },
   {
    "duration": 14659,
    "start_time": "2021-07-21T17:49:34.735Z"
   },
   {
    "duration": 20326,
    "start_time": "2021-07-21T17:50:05.461Z"
   },
   {
    "duration": 545,
    "start_time": "2021-07-21T17:50:58.860Z"
   },
   {
    "duration": 592,
    "start_time": "2021-07-21T17:51:45.021Z"
   },
   {
    "duration": 580,
    "start_time": "2021-07-21T17:52:55.361Z"
   },
   {
    "duration": 377,
    "start_time": "2021-07-21T17:54:12.965Z"
   },
   {
    "duration": 2231,
    "start_time": "2021-07-21T17:54:22.472Z"
   },
   {
    "duration": 17380,
    "start_time": "2021-07-21T17:54:29.700Z"
   },
   {
    "duration": 28610,
    "start_time": "2021-07-21T17:57:35.009Z"
   },
   {
    "duration": 316,
    "start_time": "2021-07-21T17:59:25.569Z"
   },
   {
    "duration": 221039,
    "start_time": "2021-07-21T17:59:41.293Z"
   },
   {
    "duration": 25,
    "start_time": "2021-07-21T18:03:42.205Z"
   },
   {
    "duration": 22,
    "start_time": "2021-07-21T18:03:59.284Z"
   },
   {
    "duration": 21,
    "start_time": "2021-07-21T18:04:13.638Z"
   },
   {
    "duration": 6,
    "start_time": "2021-07-21T18:39:31.491Z"
   },
   {
    "duration": 1126,
    "start_time": "2021-07-21T18:39:31.776Z"
   },
   {
    "duration": 36,
    "start_time": "2021-07-21T18:39:33.507Z"
   },
   {
    "duration": 154,
    "start_time": "2021-07-21T18:39:36.835Z"
   },
   {
    "duration": 109,
    "start_time": "2021-07-21T18:39:37.208Z"
   },
   {
    "duration": 38,
    "start_time": "2021-07-21T18:39:39.419Z"
   },
   {
    "duration": 147,
    "start_time": "2021-07-21T18:39:40.231Z"
   },
   {
    "duration": 86,
    "start_time": "2021-07-21T18:39:41.053Z"
   },
   {
    "duration": 29,
    "start_time": "2021-07-21T18:39:43.456Z"
   },
   {
    "duration": 96,
    "start_time": "2021-07-21T18:39:45.164Z"
   },
   {
    "duration": 54,
    "start_time": "2021-07-21T18:39:46.851Z"
   },
   {
    "duration": 93,
    "start_time": "2021-07-21T18:39:48.233Z"
   },
   {
    "duration": 1109,
    "start_time": "2021-07-21T18:39:58.281Z"
   },
   {
    "duration": 23,
    "start_time": "2021-07-21T18:40:00.100Z"
   },
   {
    "duration": 21,
    "start_time": "2021-07-21T18:40:10.098Z"
   },
   {
    "duration": 2223,
    "start_time": "2021-07-21T18:40:14.602Z"
   },
   {
    "duration": 21307,
    "start_time": "2021-07-21T18:40:19.081Z"
   },
   {
    "duration": 76948,
    "start_time": "2021-07-21T18:40:43.176Z"
   },
   {
    "duration": 1666,
    "start_time": "2021-07-21T18:58:29.992Z"
   },
   {
    "duration": 1125,
    "start_time": "2021-07-21T18:58:31.660Z"
   },
   {
    "duration": 54,
    "start_time": "2021-07-21T18:58:32.788Z"
   },
   {
    "duration": 178,
    "start_time": "2021-07-21T18:58:32.844Z"
   },
   {
    "duration": 129,
    "start_time": "2021-07-21T18:58:33.024Z"
   },
   {
    "duration": 51,
    "start_time": "2021-07-21T18:58:33.155Z"
   },
   {
    "duration": 219,
    "start_time": "2021-07-21T18:58:33.208Z"
   },
   {
    "duration": 102,
    "start_time": "2021-07-21T18:58:33.431Z"
   },
   {
    "duration": 26,
    "start_time": "2021-07-21T18:58:33.536Z"
   },
   {
    "duration": 115,
    "start_time": "2021-07-21T18:58:33.565Z"
   },
   {
    "duration": 52,
    "start_time": "2021-07-21T18:58:33.686Z"
   },
   {
    "duration": 100,
    "start_time": "2021-07-21T18:58:33.740Z"
   },
   {
    "duration": 1098,
    "start_time": "2021-07-21T18:58:33.843Z"
   },
   {
    "duration": 22,
    "start_time": "2021-07-21T18:58:34.944Z"
   },
   {
    "duration": 2192,
    "start_time": "2021-07-21T18:58:34.968Z"
   },
   {
    "duration": 22524,
    "start_time": "2021-07-21T18:58:37.163Z"
   },
   {
    "duration": 139066,
    "start_time": "2021-07-21T18:58:59.691Z"
   },
   {
    "duration": 26717,
    "start_time": "2021-07-21T19:01:18.759Z"
   },
   {
    "duration": 65445,
    "start_time": "2021-07-21T19:01:45.478Z"
   },
   {
    "duration": 5207,
    "start_time": "2021-07-21T19:02:50.925Z"
   },
   {
    "duration": 17264,
    "start_time": "2021-07-21T19:02:56.135Z"
   },
   {
    "duration": 384,
    "start_time": "2021-07-21T19:03:13.402Z"
   },
   {
    "duration": 432019,
    "start_time": "2021-07-21T19:03:13.790Z"
   },
   {
    "duration": 75,
    "start_time": "2021-07-21T19:10:25.812Z"
   },
   {
    "duration": 8126,
    "start_time": "2021-07-21T19:11:17.119Z"
   },
   {
    "duration": 38037,
    "start_time": "2021-07-21T19:11:26.963Z"
   },
   {
    "duration": 8943,
    "start_time": "2021-07-21T19:12:24.937Z"
   },
   {
    "duration": 175333,
    "start_time": "2021-07-21T19:12:36.461Z"
   },
   {
    "duration": 15576,
    "start_time": "2021-07-21T19:15:46.620Z"
   },
   {
    "duration": 50644,
    "start_time": "2021-07-21T19:16:09.552Z"
   },
   {
    "duration": 65354,
    "start_time": "2021-07-21T19:17:45.249Z"
   },
   {
    "duration": 22965,
    "start_time": "2021-07-21T19:19:48.322Z"
   },
   {
    "duration": 5334,
    "start_time": "2021-07-21T19:20:38.020Z"
   },
   {
    "duration": 7903,
    "start_time": "2021-07-21T19:21:14.109Z"
   },
   {
    "duration": 10537,
    "start_time": "2021-07-21T19:25:31.499Z"
   },
   {
    "duration": 63233,
    "start_time": "2021-07-21T19:25:48.773Z"
   },
   {
    "duration": 173157,
    "start_time": "2021-07-21T19:33:14.036Z"
   },
   {
    "duration": 52123,
    "start_time": "2021-07-21T19:36:07.196Z"
   },
   {
    "duration": 80941,
    "start_time": "2021-07-21T19:37:33.484Z"
   },
   {
    "duration": 19703,
    "start_time": "2021-07-21T19:39:11.976Z"
   },
   {
    "duration": 42287,
    "start_time": "2021-07-21T19:39:42.013Z"
   },
   {
    "duration": 6,
    "start_time": "2021-07-21T19:43:16.399Z"
   },
   {
    "duration": 101,
    "start_time": "2021-07-21T19:43:53.242Z"
   },
   {
    "duration": 294,
    "start_time": "2021-07-21T19:43:59.063Z"
   },
   {
    "duration": 281,
    "start_time": "2021-07-21T19:44:21.564Z"
   },
   {
    "duration": 495,
    "start_time": "2021-07-21T19:44:39.843Z"
   },
   {
    "duration": 332,
    "start_time": "2021-07-21T19:45:48.918Z"
   },
   {
    "duration": 413,
    "start_time": "2021-07-21T19:45:55.048Z"
   },
   {
    "duration": 6,
    "start_time": "2021-07-21T19:45:57.384Z"
   },
   {
    "duration": 21707,
    "start_time": "2021-07-21T19:46:27.257Z"
   },
   {
    "duration": 38137,
    "start_time": "2021-07-21T19:46:55.151Z"
   },
   {
    "duration": 41431,
    "start_time": "2021-07-21T19:47:38.156Z"
   },
   {
    "duration": 40506,
    "start_time": "2021-07-21T19:48:19.590Z"
   },
   {
    "duration": 176956,
    "start_time": "2021-07-21T19:51:24.352Z"
   },
   {
    "duration": 39139,
    "start_time": "2021-07-21T19:57:43.250Z"
   },
   {
    "duration": 22888,
    "start_time": "2021-07-21T20:02:33.001Z"
   },
   {
    "duration": 65724,
    "start_time": "2021-07-21T20:02:55.893Z"
   },
   {
    "duration": 5562,
    "start_time": "2021-07-21T20:04:01.620Z"
   },
   {
    "duration": 2734,
    "start_time": "2021-07-21T20:04:07.186Z"
   },
   {
    "duration": 62094,
    "start_time": "2021-07-21T20:04:09.924Z"
   },
   {
    "duration": 9409,
    "start_time": "2021-07-21T20:05:12.022Z"
   },
   {
    "duration": 158138,
    "start_time": "2021-07-21T20:05:24.571Z"
   },
   {
    "duration": 178194,
    "start_time": "2021-07-21T20:08:02.712Z"
   },
   {
    "duration": 23375,
    "start_time": "2021-07-21T20:20:06.812Z"
   },
   {
    "duration": 63929,
    "start_time": "2021-07-21T20:21:13.609Z"
   },
   {
    "duration": 5247,
    "start_time": "2021-07-21T20:22:17.540Z"
   },
   {
    "duration": 38996,
    "start_time": "2021-07-21T20:22:22.791Z"
   },
   {
    "duration": 176913,
    "start_time": "2021-07-21T20:23:01.789Z"
   },
   {
    "duration": 69883,
    "start_time": "2021-07-21T20:32:45.286Z"
   },
   {
    "duration": 1560,
    "start_time": "2021-07-21T20:33:59.552Z"
   },
   {
    "duration": 1097,
    "start_time": "2021-07-21T20:34:01.116Z"
   },
   {
    "duration": 44,
    "start_time": "2021-07-21T20:34:02.216Z"
   },
   {
    "duration": 163,
    "start_time": "2021-07-21T20:34:02.286Z"
   },
   {
    "duration": 134,
    "start_time": "2021-07-21T20:34:02.451Z"
   },
   {
    "duration": 40,
    "start_time": "2021-07-21T20:34:02.587Z"
   },
   {
    "duration": 240,
    "start_time": "2021-07-21T20:34:02.630Z"
   },
   {
    "duration": 84,
    "start_time": "2021-07-21T20:34:02.876Z"
   },
   {
    "duration": 48,
    "start_time": "2021-07-21T20:34:02.962Z"
   },
   {
    "duration": 122,
    "start_time": "2021-07-21T20:34:03.013Z"
   },
   {
    "duration": 66,
    "start_time": "2021-07-21T20:34:03.138Z"
   },
   {
    "duration": 101,
    "start_time": "2021-07-21T20:34:03.207Z"
   },
   {
    "duration": 1465,
    "start_time": "2021-07-21T20:34:03.310Z"
   },
   {
    "duration": 22,
    "start_time": "2021-07-21T20:34:04.777Z"
   },
   {
    "duration": 2170,
    "start_time": "2021-07-21T20:34:04.801Z"
   },
   {
    "duration": 22216,
    "start_time": "2021-07-21T20:34:06.973Z"
   },
   {
    "duration": 138793,
    "start_time": "2021-07-21T20:34:29.194Z"
   },
   {
    "duration": 31466,
    "start_time": "2021-07-21T20:36:47.989Z"
   },
   {
    "duration": 37240,
    "start_time": "2021-07-21T20:37:19.457Z"
   },
   {
    "duration": 41601,
    "start_time": "2021-07-21T20:37:56.699Z"
   },
   {
    "duration": 41084,
    "start_time": "2021-07-21T20:38:38.303Z"
   },
   {
    "duration": 351,
    "start_time": "2021-07-21T20:39:19.389Z"
   },
   {
    "duration": 75182,
    "start_time": "2021-07-21T20:39:19.745Z"
   },
   {
    "duration": -166,
    "start_time": "2021-07-21T20:40:35.096Z"
   },
   {
    "duration": -166,
    "start_time": "2021-07-21T20:40:35.097Z"
   },
   {
    "duration": -165,
    "start_time": "2021-07-21T20:40:35.098Z"
   },
   {
    "duration": -164,
    "start_time": "2021-07-21T20:40:35.099Z"
   },
   {
    "duration": -163,
    "start_time": "2021-07-21T20:40:35.100Z"
   },
   {
    "duration": -166,
    "start_time": "2021-07-21T20:40:35.105Z"
   },
   {
    "duration": -167,
    "start_time": "2021-07-21T20:40:35.107Z"
   },
   {
    "duration": 176690,
    "start_time": "2021-07-21T20:40:37.906Z"
   },
   {
    "duration": 177395,
    "start_time": "2021-07-21T20:43:34.599Z"
   },
   {
    "duration": 22998,
    "start_time": "2021-07-21T20:46:31.998Z"
   },
   {
    "duration": 65840,
    "start_time": "2021-07-21T20:46:55.089Z"
   },
   {
    "duration": 5462,
    "start_time": "2021-07-21T20:48:00.932Z"
   },
   {
    "duration": 38795,
    "start_time": "2021-07-21T20:48:06.397Z"
   },
   {
    "duration": 178009,
    "start_time": "2021-07-21T20:48:45.194Z"
   },
   {
    "duration": 95,
    "start_time": "2021-07-22T10:00:02.273Z"
   },
   {
    "duration": 302,
    "start_time": "2021-07-22T10:44:39.048Z"
   },
   {
    "duration": 1727,
    "start_time": "2021-07-22T10:44:47.758Z"
   },
   {
    "duration": 1543,
    "start_time": "2021-07-22T10:44:49.488Z"
   },
   {
    "duration": 72,
    "start_time": "2021-07-22T10:44:51.035Z"
   },
   {
    "duration": 190,
    "start_time": "2021-07-22T10:44:51.110Z"
   },
   {
    "duration": 137,
    "start_time": "2021-07-22T10:44:51.304Z"
   },
   {
    "duration": 49,
    "start_time": "2021-07-22T10:44:51.444Z"
   },
   {
    "duration": 238,
    "start_time": "2021-07-22T10:44:51.496Z"
   },
   {
    "duration": 113,
    "start_time": "2021-07-22T10:44:51.738Z"
   },
   {
    "duration": 51,
    "start_time": "2021-07-22T10:44:51.854Z"
   },
   {
    "duration": 135,
    "start_time": "2021-07-22T10:44:51.908Z"
   },
   {
    "duration": 68,
    "start_time": "2021-07-22T10:44:52.045Z"
   },
   {
    "duration": 118,
    "start_time": "2021-07-22T10:44:52.117Z"
   },
   {
    "duration": 1409,
    "start_time": "2021-07-22T10:44:52.237Z"
   },
   {
    "duration": 37,
    "start_time": "2021-07-22T10:44:53.649Z"
   },
   {
    "duration": 2546,
    "start_time": "2021-07-22T10:44:53.695Z"
   },
   {
    "duration": 34144,
    "start_time": "2021-07-22T10:44:56.243Z"
   },
   {
    "duration": 144744,
    "start_time": "2021-07-22T10:45:30.391Z"
   },
   {
    "duration": 32174,
    "start_time": "2021-07-22T10:47:55.138Z"
   },
   {
    "duration": 41300,
    "start_time": "2021-07-22T10:48:27.314Z"
   },
   {
    "duration": 42489,
    "start_time": "2021-07-22T10:49:08.616Z"
   },
   {
    "duration": 56697,
    "start_time": "2021-07-22T10:49:51.108Z"
   },
   {
    "duration": 442,
    "start_time": "2021-07-22T10:50:47.807Z"
   },
   {
    "duration": 172743,
    "start_time": "2021-07-22T10:50:48.253Z"
   },
   {
    "duration": 175906,
    "start_time": "2021-07-22T10:53:40.999Z"
   },
   {
    "duration": 23688,
    "start_time": "2021-07-22T10:56:36.907Z"
   },
   {
    "duration": 64866,
    "start_time": "2021-07-22T10:57:00.687Z"
   },
   {
    "duration": 5323,
    "start_time": "2021-07-22T10:58:05.555Z"
   },
   {
    "duration": 36516,
    "start_time": "2021-07-22T10:58:10.881Z"
   },
   {
    "duration": 3812,
    "start_time": "2021-07-22T10:58:47.400Z"
   },
   {
    "duration": 178389,
    "start_time": "2021-07-22T10:58:51.215Z"
   },
   {
    "duration": 3255,
    "start_time": "2021-07-22T11:04:24.948Z"
   },
   {
    "duration": 56501,
    "start_time": "2021-07-22T11:04:47.594Z"
   },
   {
    "duration": 3802,
    "start_time": "2021-07-22T11:05:44.099Z"
   },
   {
    "duration": 3789,
    "start_time": "2021-07-22T11:06:12.531Z"
   },
   {
    "duration": 3832,
    "start_time": "2021-07-22T11:06:21.488Z"
   },
   {
    "duration": 4754,
    "start_time": "2021-07-22T11:07:40.788Z"
   },
   {
    "duration": 4185,
    "start_time": "2021-07-22T11:07:56.227Z"
   },
   {
    "duration": 5,
    "start_time": "2021-07-22T11:08:09.313Z"
   },
   {
    "duration": 4230,
    "start_time": "2021-07-22T11:08:16.892Z"
   },
   {
    "duration": 6,
    "start_time": "2021-07-22T11:08:24.697Z"
   },
   {
    "duration": 3909,
    "start_time": "2021-07-22T11:11:13.297Z"
   },
   {
    "duration": 3787,
    "start_time": "2021-07-22T11:13:28.202Z"
   },
   {
    "duration": 3976,
    "start_time": "2021-07-22T11:14:41.113Z"
   },
   {
    "duration": 5,
    "start_time": "2021-07-22T11:14:54.832Z"
   },
   {
    "duration": 3926,
    "start_time": "2021-07-22T11:14:58.484Z"
   },
   {
    "duration": 3811,
    "start_time": "2021-07-22T11:15:12.698Z"
   },
   {
    "duration": 40744,
    "start_time": "2021-07-22T11:15:45.775Z"
   },
   {
    "duration": 22621,
    "start_time": "2021-07-22T11:45:27.166Z"
   },
   {
    "duration": 67594,
    "start_time": "2021-07-22T11:45:49.791Z"
   },
   {
    "duration": 5318,
    "start_time": "2021-07-22T11:46:57.388Z"
   },
   {
    "duration": 41378,
    "start_time": "2021-07-22T11:47:02.708Z"
   },
   {
    "duration": 174815,
    "start_time": "2021-07-22T11:47:44.088Z"
   },
   {
    "duration": 22865,
    "start_time": "2021-07-22T13:28:00.226Z"
   },
   {
    "duration": 65434,
    "start_time": "2021-07-22T13:28:23.095Z"
   },
   {
    "duration": 5781,
    "start_time": "2021-07-22T13:29:28.532Z"
   },
   {
    "duration": 39786,
    "start_time": "2021-07-22T13:29:34.315Z"
   },
   {
    "duration": 176691,
    "start_time": "2021-07-22T13:30:14.104Z"
   },
   {
    "duration": 6,
    "start_time": "2021-07-22T13:35:54.725Z"
   },
   {
    "duration": 10,
    "start_time": "2021-07-22T13:36:06.850Z"
   },
   {
    "duration": 28185,
    "start_time": "2021-07-22T13:39:34.216Z"
   },
   {
    "duration": 24012,
    "start_time": "2021-07-22T13:43:55.884Z"
   },
   {
    "duration": 22976,
    "start_time": "2021-07-22T13:45:13.120Z"
   },
   {
    "duration": 67049,
    "start_time": "2021-07-22T13:47:24.006Z"
   },
   {
    "duration": 5370,
    "start_time": "2021-07-22T13:49:17.244Z"
   },
   {
    "duration": 110,
    "start_time": "2021-07-22T13:52:21.717Z"
   },
   {
    "duration": 111,
    "start_time": "2021-07-22T13:52:26.408Z"
   },
   {
    "duration": 361,
    "start_time": "2021-07-22T13:53:47.849Z"
   },
   {
    "duration": 23165,
    "start_time": "2021-07-22T13:53:52.730Z"
   },
   {
    "duration": 68746,
    "start_time": "2021-07-22T13:54:15.987Z"
   },
   {
    "duration": 5392,
    "start_time": "2021-07-22T13:55:24.737Z"
   },
   {
    "duration": 46056,
    "start_time": "2021-07-22T13:55:30.131Z"
   },
   {
    "duration": 177917,
    "start_time": "2021-07-22T13:56:16.189Z"
   },
   {
    "duration": 6,
    "start_time": "2021-07-22T13:59:14.185Z"
   },
   {
    "duration": 104,
    "start_time": "2021-07-22T13:59:14.193Z"
   },
   {
    "duration": 10,
    "start_time": "2021-07-22T14:00:32.036Z"
   },
   {
    "duration": 106,
    "start_time": "2021-07-22T14:04:39.080Z"
   },
   {
    "duration": 9,
    "start_time": "2021-07-22T14:04:45.899Z"
   },
   {
    "duration": 11,
    "start_time": "2021-07-22T14:04:47.110Z"
   },
   {
    "duration": 16,
    "start_time": "2021-07-22T14:05:04.165Z"
   },
   {
    "duration": 5400,
    "start_time": "2021-07-22T14:06:57.713Z"
   },
   {
    "duration": 17,
    "start_time": "2021-07-22T14:07:11.610Z"
   },
   {
    "duration": 23792,
    "start_time": "2021-07-22T14:07:15.295Z"
   },
   {
    "duration": 16,
    "start_time": "2021-07-22T14:07:53.743Z"
   },
   {
    "duration": 23802,
    "start_time": "2021-07-22T14:08:42.888Z"
   },
   {
    "duration": -611,
    "start_time": "2021-07-22T14:09:07.304Z"
   },
   {
    "duration": -612,
    "start_time": "2021-07-22T14:09:07.306Z"
   },
   {
    "duration": -618,
    "start_time": "2021-07-22T14:09:07.314Z"
   },
   {
    "duration": -618,
    "start_time": "2021-07-22T14:09:07.315Z"
   },
   {
    "duration": -618,
    "start_time": "2021-07-22T14:09:07.316Z"
   },
   {
    "duration": 23902,
    "start_time": "2021-07-22T14:14:51.246Z"
   },
   {
    "duration": 108,
    "start_time": "2021-07-22T14:15:27.880Z"
   },
   {
    "duration": 102,
    "start_time": "2021-07-22T14:15:35.740Z"
   },
   {
    "duration": 27174,
    "start_time": "2021-07-22T14:15:59.416Z"
   },
   {
    "duration": 68253,
    "start_time": "2021-07-22T14:18:33.014Z"
   },
   {
    "duration": 5590,
    "start_time": "2021-07-22T14:19:41.270Z"
   },
   {
    "duration": 43148,
    "start_time": "2021-07-22T14:19:46.863Z"
   },
   {
    "duration": 178940,
    "start_time": "2021-07-22T14:20:30.013Z"
   },
   {
    "duration": -626,
    "start_time": "2021-07-22T14:23:29.582Z"
   },
   {
    "duration": 178754,
    "start_time": "2021-07-22T14:28:24.448Z"
   },
   {
    "duration": 16,
    "start_time": "2021-07-22T14:31:23.205Z"
   },
   {
    "duration": 1545,
    "start_time": "2021-07-22T14:33:57.395Z"
   },
   {
    "duration": 1208,
    "start_time": "2021-07-22T14:33:58.943Z"
   },
   {
    "duration": 53,
    "start_time": "2021-07-22T14:34:00.154Z"
   },
   {
    "duration": 188,
    "start_time": "2021-07-22T14:34:00.211Z"
   },
   {
    "duration": 142,
    "start_time": "2021-07-22T14:34:00.403Z"
   },
   {
    "duration": 54,
    "start_time": "2021-07-22T14:34:00.548Z"
   },
   {
    "duration": 232,
    "start_time": "2021-07-22T14:34:00.605Z"
   },
   {
    "duration": 100,
    "start_time": "2021-07-22T14:34:00.841Z"
   },
   {
    "duration": 43,
    "start_time": "2021-07-22T14:34:00.944Z"
   },
   {
    "duration": 114,
    "start_time": "2021-07-22T14:34:00.989Z"
   },
   {
    "duration": 58,
    "start_time": "2021-07-22T14:34:01.106Z"
   },
   {
    "duration": 101,
    "start_time": "2021-07-22T14:34:01.167Z"
   },
   {
    "duration": 1414,
    "start_time": "2021-07-22T14:34:01.271Z"
   },
   {
    "duration": 23,
    "start_time": "2021-07-22T14:34:02.688Z"
   },
   {
    "duration": 2372,
    "start_time": "2021-07-22T14:34:02.713Z"
   },
   {
    "duration": 22899,
    "start_time": "2021-07-22T14:34:05.088Z"
   },
   {
    "duration": 149086,
    "start_time": "2021-07-22T14:34:27.991Z"
   },
   {
    "duration": 33102,
    "start_time": "2021-07-22T14:36:57.079Z"
   },
   {
    "duration": 41500,
    "start_time": "2021-07-22T14:37:30.186Z"
   },
   {
    "duration": 46425,
    "start_time": "2021-07-22T14:38:11.689Z"
   },
   {
    "duration": 45584,
    "start_time": "2021-07-22T14:38:58.116Z"
   },
   {
    "duration": 366,
    "start_time": "2021-07-22T14:39:43.702Z"
   },
   {
    "duration": 175723,
    "start_time": "2021-07-22T14:39:44.072Z"
   },
   {
    "duration": 178900,
    "start_time": "2021-07-22T14:42:39.798Z"
   },
   {
    "duration": 24887,
    "start_time": "2021-07-22T14:45:38.701Z"
   },
   {
    "duration": 67841,
    "start_time": "2021-07-22T14:46:03.592Z"
   },
   {
    "duration": 5899,
    "start_time": "2021-07-22T14:47:11.436Z"
   },
   {
    "duration": 43050,
    "start_time": "2021-07-22T14:47:17.338Z"
   },
   {
    "duration": 174717,
    "start_time": "2021-07-22T14:48:00.391Z"
   },
   {
    "duration": 91,
    "start_time": "2021-07-22T14:50:55.111Z"
   },
   {
    "duration": 31,
    "start_time": "2021-07-22T15:48:51.718Z"
   }
  ],
  "kernelspec": {
   "display_name": "Python 3",
   "language": "python",
   "name": "python3"
  },
  "language_info": {
   "codemirror_mode": {
    "name": "ipython",
    "version": 3
   },
   "file_extension": ".py",
   "mimetype": "text/x-python",
   "name": "python",
   "nbconvert_exporter": "python",
   "pygments_lexer": "ipython3",
   "version": "3.7.9"
  },
  "toc": {
   "base_numbering": 1,
   "nav_menu": {},
   "number_sections": true,
   "sideBar": true,
   "skip_h1_title": true,
   "title_cell": "Table of Contents",
   "title_sidebar": "Contents",
   "toc_cell": false,
   "toc_position": {},
   "toc_section_display": true,
   "toc_window_display": false
  }
 },
 "nbformat": 4,
 "nbformat_minor": 2
}
