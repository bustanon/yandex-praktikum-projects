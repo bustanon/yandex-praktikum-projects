{
 "cells": [
  {
   "cell_type": "markdown",
   "metadata": {
    "toc": true
   },
   "source": [
    "<h1>Содержание<span class=\"tocSkip\"></span></h1>\n",
    "<div class=\"toc\"><ul class=\"toc-item\"><li><span><a href=\"#Загрузка-данных\" data-toc-modified-id=\"Загрузка-данных-1\"><span class=\"toc-item-num\">1&nbsp;&nbsp;</span>Загрузка данных</a></span><ul class=\"toc-item\"><li><span><a href=\"#Вывод\" data-toc-modified-id=\"Вывод-1.1\"><span class=\"toc-item-num\">1.1&nbsp;&nbsp;</span>Вывод</a></span></li></ul></li><li><span><a href=\"#Умножение-матриц\" data-toc-modified-id=\"Умножение-матриц-2\"><span class=\"toc-item-num\">2&nbsp;&nbsp;</span>Умножение матриц</a></span><ul class=\"toc-item\"><li><span><a href=\"#Вывод\" data-toc-modified-id=\"Вывод-2.1\"><span class=\"toc-item-num\">2.1&nbsp;&nbsp;</span>Вывод</a></span></li></ul></li><li><span><a href=\"#Алгоритм-преобразования\" data-toc-modified-id=\"Алгоритм-преобразования-3\"><span class=\"toc-item-num\">3&nbsp;&nbsp;</span>Алгоритм преобразования</a></span></li><li><span><a href=\"#Проверка-алгоритма\" data-toc-modified-id=\"Проверка-алгоритма-4\"><span class=\"toc-item-num\">4&nbsp;&nbsp;</span>Проверка алгоритма</a></span><ul class=\"toc-item\"><li><span><a href=\"#Вывод\" data-toc-modified-id=\"Вывод-4.1\"><span class=\"toc-item-num\">4.1&nbsp;&nbsp;</span>Вывод</a></span></li></ul></li><li><span><a href=\"#Чек-лист-проверки\" data-toc-modified-id=\"Чек-лист-проверки-5\"><span class=\"toc-item-num\">5&nbsp;&nbsp;</span>Чек-лист проверки</a></span></li></ul></div>"
   ]
  },
  {
   "cell_type": "markdown",
   "metadata": {},
   "source": [
    "# Защита персональных данных клиентов"
   ]
  },
  {
   "cell_type": "markdown",
   "metadata": {},
   "source": [
    "Необходимо разработать такой метод преобразования данных, чтобы по ним было сложно восстановить персональную информацию. Обоснуйте корректность его работы.\n",
    "\n",
    "Нужно защитить данные, чтобы при преобразовании качество моделей машинного обучения не ухудшилось. Подбирать наилучшую модель не требуется."
   ]
  },
  {
   "cell_type": "markdown",
   "metadata": {},
   "source": [
    "## Загрузка данных"
   ]
  },
  {
   "cell_type": "code",
   "execution_count": 1,
   "metadata": {},
   "outputs": [],
   "source": [
    "import pandas as pd\n",
    "import numpy as np\n",
    "from sklearn.metrics import mean_absolute_error\n",
    "import matplotlib.pyplot as plt\n",
    "import seaborn as sns\n",
    "from sklearn.linear_model import LinearRegression\n",
    "from sklearn.tree import DecisionTreeRegressor\n",
    "from sklearn.model_selection import train_test_split\n",
    "from sklearn.model_selection import cross_val_score\n",
    "from sklearn.metrics import make_scorer\n",
    "from sklearn.preprocessing import StandardScaler\n",
    "from sklearn.ensemble import RandomForestRegressor\n",
    "from sklearn.tree import DecisionTreeRegressor\n",
    "from sklearn.dummy import DummyClassifier\n",
    "from sklearn.metrics import r2_score"
   ]
  },
  {
   "cell_type": "code",
   "execution_count": 2,
   "metadata": {},
   "outputs": [],
   "source": [
    "data = pd.read_csv('/datasets/insurance.csv')"
   ]
  },
  {
   "cell_type": "code",
   "execution_count": 3,
   "metadata": {
    "scrolled": true
   },
   "outputs": [
    {
     "data": {
      "text/html": [
       "<div>\n",
       "<style scoped>\n",
       "    .dataframe tbody tr th:only-of-type {\n",
       "        vertical-align: middle;\n",
       "    }\n",
       "\n",
       "    .dataframe tbody tr th {\n",
       "        vertical-align: top;\n",
       "    }\n",
       "\n",
       "    .dataframe thead th {\n",
       "        text-align: right;\n",
       "    }\n",
       "</style>\n",
       "<table border=\"1\" class=\"dataframe\">\n",
       "  <thead>\n",
       "    <tr style=\"text-align: right;\">\n",
       "      <th></th>\n",
       "      <th>Пол</th>\n",
       "      <th>Возраст</th>\n",
       "      <th>Зарплата</th>\n",
       "      <th>Члены семьи</th>\n",
       "      <th>Страховые выплаты</th>\n",
       "    </tr>\n",
       "  </thead>\n",
       "  <tbody>\n",
       "    <tr>\n",
       "      <td>0</td>\n",
       "      <td>1</td>\n",
       "      <td>41.0</td>\n",
       "      <td>49600.0</td>\n",
       "      <td>1</td>\n",
       "      <td>0</td>\n",
       "    </tr>\n",
       "    <tr>\n",
       "      <td>1</td>\n",
       "      <td>0</td>\n",
       "      <td>46.0</td>\n",
       "      <td>38000.0</td>\n",
       "      <td>1</td>\n",
       "      <td>1</td>\n",
       "    </tr>\n",
       "    <tr>\n",
       "      <td>2</td>\n",
       "      <td>0</td>\n",
       "      <td>29.0</td>\n",
       "      <td>21000.0</td>\n",
       "      <td>0</td>\n",
       "      <td>0</td>\n",
       "    </tr>\n",
       "    <tr>\n",
       "      <td>3</td>\n",
       "      <td>0</td>\n",
       "      <td>21.0</td>\n",
       "      <td>41700.0</td>\n",
       "      <td>2</td>\n",
       "      <td>0</td>\n",
       "    </tr>\n",
       "    <tr>\n",
       "      <td>4</td>\n",
       "      <td>1</td>\n",
       "      <td>28.0</td>\n",
       "      <td>26100.0</td>\n",
       "      <td>0</td>\n",
       "      <td>0</td>\n",
       "    </tr>\n",
       "    <tr>\n",
       "      <td>...</td>\n",
       "      <td>...</td>\n",
       "      <td>...</td>\n",
       "      <td>...</td>\n",
       "      <td>...</td>\n",
       "      <td>...</td>\n",
       "    </tr>\n",
       "    <tr>\n",
       "      <td>4995</td>\n",
       "      <td>0</td>\n",
       "      <td>28.0</td>\n",
       "      <td>35700.0</td>\n",
       "      <td>2</td>\n",
       "      <td>0</td>\n",
       "    </tr>\n",
       "    <tr>\n",
       "      <td>4996</td>\n",
       "      <td>0</td>\n",
       "      <td>34.0</td>\n",
       "      <td>52400.0</td>\n",
       "      <td>1</td>\n",
       "      <td>0</td>\n",
       "    </tr>\n",
       "    <tr>\n",
       "      <td>4997</td>\n",
       "      <td>0</td>\n",
       "      <td>20.0</td>\n",
       "      <td>33900.0</td>\n",
       "      <td>2</td>\n",
       "      <td>0</td>\n",
       "    </tr>\n",
       "    <tr>\n",
       "      <td>4998</td>\n",
       "      <td>1</td>\n",
       "      <td>22.0</td>\n",
       "      <td>32700.0</td>\n",
       "      <td>3</td>\n",
       "      <td>0</td>\n",
       "    </tr>\n",
       "    <tr>\n",
       "      <td>4999</td>\n",
       "      <td>1</td>\n",
       "      <td>28.0</td>\n",
       "      <td>40600.0</td>\n",
       "      <td>1</td>\n",
       "      <td>0</td>\n",
       "    </tr>\n",
       "  </tbody>\n",
       "</table>\n",
       "<p>5000 rows × 5 columns</p>\n",
       "</div>"
      ],
      "text/plain": [
       "      Пол  Возраст  Зарплата  Члены семьи  Страховые выплаты\n",
       "0       1     41.0   49600.0            1                  0\n",
       "1       0     46.0   38000.0            1                  1\n",
       "2       0     29.0   21000.0            0                  0\n",
       "3       0     21.0   41700.0            2                  0\n",
       "4       1     28.0   26100.0            0                  0\n",
       "...   ...      ...       ...          ...                ...\n",
       "4995    0     28.0   35700.0            2                  0\n",
       "4996    0     34.0   52400.0            1                  0\n",
       "4997    0     20.0   33900.0            2                  0\n",
       "4998    1     22.0   32700.0            3                  0\n",
       "4999    1     28.0   40600.0            1                  0\n",
       "\n",
       "[5000 rows x 5 columns]"
      ]
     },
     "metadata": {},
     "output_type": "display_data"
    }
   ],
   "source": [
    "display(data)"
   ]
  },
  {
   "cell_type": "code",
   "execution_count": 4,
   "metadata": {},
   "outputs": [
    {
     "name": "stdout",
     "output_type": "stream",
     "text": [
      "<class 'pandas.core.frame.DataFrame'>\n",
      "RangeIndex: 5000 entries, 0 to 4999\n",
      "Data columns (total 5 columns):\n",
      "Пол                  5000 non-null int64\n",
      "Возраст              5000 non-null float64\n",
      "Зарплата             5000 non-null float64\n",
      "Члены семьи          5000 non-null int64\n",
      "Страховые выплаты    5000 non-null int64\n",
      "dtypes: float64(2), int64(3)\n",
      "memory usage: 195.4 KB\n"
     ]
    }
   ],
   "source": [
    "data.info()"
   ]
  },
  {
   "cell_type": "code",
   "execution_count": 5,
   "metadata": {},
   "outputs": [
    {
     "data": {
      "text/html": [
       "<div>\n",
       "<style scoped>\n",
       "    .dataframe tbody tr th:only-of-type {\n",
       "        vertical-align: middle;\n",
       "    }\n",
       "\n",
       "    .dataframe tbody tr th {\n",
       "        vertical-align: top;\n",
       "    }\n",
       "\n",
       "    .dataframe thead th {\n",
       "        text-align: right;\n",
       "    }\n",
       "</style>\n",
       "<table border=\"1\" class=\"dataframe\">\n",
       "  <thead>\n",
       "    <tr style=\"text-align: right;\">\n",
       "      <th></th>\n",
       "      <th>Пол</th>\n",
       "      <th>Возраст</th>\n",
       "      <th>Зарплата</th>\n",
       "      <th>Члены семьи</th>\n",
       "      <th>Страховые выплаты</th>\n",
       "    </tr>\n",
       "  </thead>\n",
       "  <tbody>\n",
       "    <tr>\n",
       "      <td>count</td>\n",
       "      <td>5000.000000</td>\n",
       "      <td>5000.000000</td>\n",
       "      <td>5000.000000</td>\n",
       "      <td>5000.000000</td>\n",
       "      <td>5000.000000</td>\n",
       "    </tr>\n",
       "    <tr>\n",
       "      <td>mean</td>\n",
       "      <td>0.499000</td>\n",
       "      <td>30.952800</td>\n",
       "      <td>39916.360000</td>\n",
       "      <td>1.194200</td>\n",
       "      <td>0.148000</td>\n",
       "    </tr>\n",
       "    <tr>\n",
       "      <td>std</td>\n",
       "      <td>0.500049</td>\n",
       "      <td>8.440807</td>\n",
       "      <td>9900.083569</td>\n",
       "      <td>1.091387</td>\n",
       "      <td>0.463183</td>\n",
       "    </tr>\n",
       "    <tr>\n",
       "      <td>min</td>\n",
       "      <td>0.000000</td>\n",
       "      <td>18.000000</td>\n",
       "      <td>5300.000000</td>\n",
       "      <td>0.000000</td>\n",
       "      <td>0.000000</td>\n",
       "    </tr>\n",
       "    <tr>\n",
       "      <td>25%</td>\n",
       "      <td>0.000000</td>\n",
       "      <td>24.000000</td>\n",
       "      <td>33300.000000</td>\n",
       "      <td>0.000000</td>\n",
       "      <td>0.000000</td>\n",
       "    </tr>\n",
       "    <tr>\n",
       "      <td>50%</td>\n",
       "      <td>0.000000</td>\n",
       "      <td>30.000000</td>\n",
       "      <td>40200.000000</td>\n",
       "      <td>1.000000</td>\n",
       "      <td>0.000000</td>\n",
       "    </tr>\n",
       "    <tr>\n",
       "      <td>75%</td>\n",
       "      <td>1.000000</td>\n",
       "      <td>37.000000</td>\n",
       "      <td>46600.000000</td>\n",
       "      <td>2.000000</td>\n",
       "      <td>0.000000</td>\n",
       "    </tr>\n",
       "    <tr>\n",
       "      <td>max</td>\n",
       "      <td>1.000000</td>\n",
       "      <td>65.000000</td>\n",
       "      <td>79000.000000</td>\n",
       "      <td>6.000000</td>\n",
       "      <td>5.000000</td>\n",
       "    </tr>\n",
       "  </tbody>\n",
       "</table>\n",
       "</div>"
      ],
      "text/plain": [
       "               Пол      Возраст      Зарплата  Члены семьи  Страховые выплаты\n",
       "count  5000.000000  5000.000000   5000.000000  5000.000000        5000.000000\n",
       "mean      0.499000    30.952800  39916.360000     1.194200           0.148000\n",
       "std       0.500049     8.440807   9900.083569     1.091387           0.463183\n",
       "min       0.000000    18.000000   5300.000000     0.000000           0.000000\n",
       "25%       0.000000    24.000000  33300.000000     0.000000           0.000000\n",
       "50%       0.000000    30.000000  40200.000000     1.000000           0.000000\n",
       "75%       1.000000    37.000000  46600.000000     2.000000           0.000000\n",
       "max       1.000000    65.000000  79000.000000     6.000000           5.000000"
      ]
     },
     "execution_count": 5,
     "metadata": {},
     "output_type": "execute_result"
    }
   ],
   "source": [
    "data.describe()"
   ]
  },
  {
   "cell_type": "markdown",
   "metadata": {},
   "source": [
    "### Вывод\n",
    "Представленные данные были изучены, по итогу изучения не было обнаружено аномалий, следовательно изначальные данные были оставлены без изменения"
   ]
  },
  {
   "cell_type": "markdown",
   "metadata": {},
   "source": [
    "## Умножение матриц"
   ]
  },
  {
   "cell_type": "markdown",
   "metadata": {},
   "source": [
    "В этом задании вы можете записывать формулы в *Jupyter Notebook.*\n",
    "\n",
    "Чтобы записать формулу внутри текста, окружите её символами доллара \\\\$; если снаружи —  двойными символами \\\\$\\\\$. Эти формулы записываются на языке вёрстки *LaTeX.* \n",
    "\n",
    "Для примера мы записали формулы линейной регрессии. Можете их скопировать и отредактировать, чтобы решить задачу.\n",
    "\n",
    "Работать в *LaTeX* необязательно."
   ]
  },
  {
   "cell_type": "markdown",
   "metadata": {},
   "source": [
    "Обозначения:\n",
    "\n",
    "- $X$ — матрица признаков (нулевой столбец состоит из единиц)\n",
    "\n",
    "- $y$ — вектор целевого признака\n",
    "\n",
    "- $P$ — матрица, на которую умножаются признаки\n",
    "\n",
    "- $w$ — вектор весов линейной регрессии (нулевой элемент равен сдвигу)"
   ]
  },
  {
   "cell_type": "markdown",
   "metadata": {},
   "source": [
    "Предсказания:\n",
    "\n",
    "$$\n",
    "a = Xw\n",
    "$$\n",
    "\n",
    "Задача обучения:\n",
    "\n",
    "$$\n",
    "w = \\arg\\min_w MSE(Xw, y)\n",
    "$$\n",
    "\n",
    "Формула обучения:\n",
    "\n",
    "$$\n",
    "w = (X^T X)^{-1} X^T y\n",
    "$$"
   ]
  },
  {
   "cell_type": "markdown",
   "metadata": {},
   "source": [
    "**Ответ:** Не изменится\n",
    "\n",
    "**Обоснование:** \n",
    "Примем \n",
    "$$\n",
    "a_p = XPw\n",
    "$$\n",
    "$$\n",
    "w_p = P^{-1} w\n",
    "$$\n",
    "Тогда\n",
    "$$\n",
    "a_p = Xw_p\n",
    "$$\n",
    "Применим формулу обучения для матрицы $XP$: \n",
    "$$\n",
    "w_p = ((XP)^T (XP))^{-1} (XP)^T y\n",
    "$$\n",
    "Преобразуем:\n",
    "$$\n",
    "w_p = (P^T X^T (XP))^{-1} (XP)^T y\n",
    "$$\n",
    "$$\n",
    "w_p = (P^T (X^T X)P))^{-1} (XP)^T y\n",
    "$$\n",
    "$$\n",
    "w_p = P^{-1} (X^T X)^{-1} (P^T)^{-1} P^T X^T y\n",
    "$$\n",
    "Сократим:\n",
    "$$\n",
    "w_p = P^{-1} (X^T X)^{-1} X^T y\n",
    "$$\n",
    "Известно что:\n",
    "$$\n",
    "w = (X^T X)^{-1} X^T y\n",
    "$$\n",
    "Следовательно \n",
    "$$\n",
    "w_p = P^{-1} w\n",
    "$$\n",
    "Тогда\n",
    "$$\n",
    "a_p = XPP^{-1} w\n",
    "$$\n",
    "$$\n",
    "a_p = Xw\n",
    "$$\n",
    "### Вывод\n",
    "Можно сделать вывод о том, что $a = a_p$, следовательно в результате заданного умножения качество линейной регрессии не изменится"
   ]
  },
  {
   "cell_type": "markdown",
   "metadata": {},
   "source": [
    "## Алгоритм преобразования"
   ]
  },
  {
   "cell_type": "markdown",
   "metadata": {},
   "source": [
    "**Алгоритм**\n",
    "\n",
    "Умножим на случайно созданную обратимую матрицу, размером 4x4. После этого сравним результаты преобразования метрикой R2_score."
   ]
  },
  {
   "cell_type": "markdown",
   "metadata": {},
   "source": [
    "**Обоснование**\n",
    "\n",
    "По результату теоретического обоснования был сделан вывод о том, что при подобном преобразовании качество линейной регрессии не изменится."
   ]
  },
  {
   "cell_type": "markdown",
   "metadata": {},
   "source": [
    "## Проверка алгоритма"
   ]
  },
  {
   "cell_type": "code",
   "execution_count": 6,
   "metadata": {},
   "outputs": [],
   "source": [
    "P = np.random.normal(0, 20, size=(4, 4))"
   ]
  },
  {
   "cell_type": "code",
   "execution_count": 7,
   "metadata": {},
   "outputs": [
    {
     "name": "stdout",
     "output_type": "stream",
     "text": [
      "[[  8.37979043  -8.62826227 -19.18407152 -23.85562511]\n",
      " [  3.77755253 -13.23844009 -21.12356449  -4.97265758]\n",
      " [ 34.39787581  17.51220196  -8.18396953  32.19438797]\n",
      " [-20.30016418  10.22935678  12.56441994  -2.28561408]]\n"
     ]
    }
   ],
   "source": [
    "print(P)"
   ]
  },
  {
   "cell_type": "code",
   "execution_count": 8,
   "metadata": {},
   "outputs": [
    {
     "name": "stdout",
     "output_type": "stream",
     "text": [
      "[[ 1.67357097e-02 -4.37901376e-02  2.33256533e-03 -4.65485158e-02]\n",
      " [ 3.72679965e-02 -5.76970660e-03  3.15332362e-02  6.77422587e-02]\n",
      " [-1.07392986e-02 -5.97339089e-02 -2.07887039e-02 -5.07743828e-02]\n",
      " [-4.08831390e-02  3.47410702e-02  6.13194411e-03 -2.11854201e-05]]\n"
     ]
    }
   ],
   "source": [
    "print(np.linalg.inv(P)) # рассчитана обратная матрица, следовательно можно сделать вывод о том, что матрица обратимая, в случае ошибки поменять параметры создания случайной матрицы."
   ]
  },
  {
   "cell_type": "code",
   "execution_count": 9,
   "metadata": {},
   "outputs": [],
   "source": [
    "features = data.drop(['Страховые выплаты'], axis =1)"
   ]
  },
  {
   "cell_type": "code",
   "execution_count": 10,
   "metadata": {},
   "outputs": [],
   "source": [
    "new_features = features@P"
   ]
  },
  {
   "cell_type": "code",
   "execution_count": 11,
   "metadata": {},
   "outputs": [
    {
     "name": "stdout",
     "output_type": "stream",
     "text": [
      "                 0              1              2             3\n",
      "0     1.706278e+06  868064.042324 -406797.574552  1.596612e+06\n",
      "1     1.307273e+06  664864.935636 -311949.961739  1.223156e+06\n",
      "2     7.224649e+05  367372.326422 -172475.943529  6.759379e+05\n",
      "3     1.434430e+06  730001.273252 -341689.995473  1.342397e+06\n",
      "4     8.978987e+05  456689.166601 -214212.248646  8.401104e+05\n",
      "...            ...            ...            ...           ...\n",
      "4995  1.228069e+06  624835.392404 -292734.043236  1.149196e+06\n",
      "4996  1.802557e+06  917199.505158 -429545.640217  1.686815e+06\n",
      "4997  1.166123e+06  593419.336395 -277833.909564  1.091286e+06\n",
      "4998  1.124841e+06  572379.818256 -268062.012907  1.052616e+06\n",
      "4999  1.396648e+06  710626.324395 -332867.242431  1.306927e+06\n",
      "\n",
      "[5000 rows x 4 columns]\n"
     ]
    }
   ],
   "source": [
    "print(new_features)"
   ]
  },
  {
   "cell_type": "code",
   "execution_count": 12,
   "metadata": {},
   "outputs": [],
   "source": [
    "target = data['Страховые выплаты']\n",
    "features_train, features_valid, target_train, target_valid = train_test_split(features, target, test_size=0.25, random_state=12345)"
   ]
  },
  {
   "cell_type": "code",
   "execution_count": 13,
   "metadata": {},
   "outputs": [
    {
     "name": "stdout",
     "output_type": "stream",
     "text": [
      "R2_score модели до преобразования: 0.435227571270266\n"
     ]
    }
   ],
   "source": [
    "model = LinearRegression(normalize = False)\n",
    "model.fit(features_train, target_train)\n",
    "predictions_valid = model.predict(features_valid)\n",
    "r2 = r2_score(target_valid, predictions_valid)\n",
    "print('R2_score модели до преобразования:', r2)"
   ]
  },
  {
   "cell_type": "code",
   "execution_count": 14,
   "metadata": {},
   "outputs": [],
   "source": [
    "target = data['Страховые выплаты']\n",
    "new_features_train, new_features_valid, target_train, target_valid = train_test_split(new_features, target, test_size=0.25, random_state=12345)"
   ]
  },
  {
   "cell_type": "code",
   "execution_count": 15,
   "metadata": {},
   "outputs": [
    {
     "name": "stdout",
     "output_type": "stream",
     "text": [
      "R2_score модели после преобразования: 0.43522757126935496\n"
     ]
    }
   ],
   "source": [
    "model = LinearRegression(normalize = False)\n",
    "model.fit(new_features_train, target_train)\n",
    "predictions_valid = model.predict(new_features_valid)\n",
    "r2 = r2_score(target_valid, predictions_valid)\n",
    "print('R2_score модели после преобразования:', r2)"
   ]
  },
  {
   "cell_type": "markdown",
   "metadata": {},
   "source": [
    "### Вывод \n",
    "По итогу исследования моделей, выявлено, то что значения параметра r2_score не отличаются, следовательно можно подтвердить вывод теоретического обоснования"
   ]
  }
 ],
 "metadata": {
  "ExecuteTimeLog": [
   {
    "duration": 737,
    "start_time": "2021-07-09T01:49:57.633Z"
   },
   {
    "duration": 361,
    "start_time": "2021-07-09T01:52:01.844Z"
   },
   {
    "duration": 4,
    "start_time": "2021-07-09T01:52:45.473Z"
   },
   {
    "duration": 4,
    "start_time": "2021-07-09T01:52:52.498Z"
   },
   {
    "duration": 253,
    "start_time": "2021-07-09T01:53:20.217Z"
   },
   {
    "duration": 235,
    "start_time": "2021-07-09T01:53:25.067Z"
   },
   {
    "duration": 261,
    "start_time": "2021-07-09T01:53:30.870Z"
   },
   {
    "duration": 257,
    "start_time": "2021-07-09T01:53:42.362Z"
   },
   {
    "duration": 250,
    "start_time": "2021-07-09T01:54:40.290Z"
   },
   {
    "duration": 3,
    "start_time": "2021-07-09T01:54:46.732Z"
   },
   {
    "duration": 5,
    "start_time": "2021-07-09T01:54:48.405Z"
   },
   {
    "duration": 4,
    "start_time": "2021-07-09T01:55:07.092Z"
   },
   {
    "duration": 5,
    "start_time": "2021-07-09T01:55:08.128Z"
   },
   {
    "duration": 5,
    "start_time": "2021-07-09T01:55:51.863Z"
   },
   {
    "duration": 4,
    "start_time": "2021-07-09T01:56:10.967Z"
   },
   {
    "duration": 4,
    "start_time": "2021-07-09T01:56:16.062Z"
   },
   {
    "duration": 405,
    "start_time": "2021-07-09T01:56:23.656Z"
   },
   {
    "duration": 4,
    "start_time": "2021-07-09T01:58:10.040Z"
   },
   {
    "duration": 5,
    "start_time": "2021-07-09T01:58:10.466Z"
   },
   {
    "duration": 6,
    "start_time": "2021-07-09T01:58:11.406Z"
   },
   {
    "duration": 3,
    "start_time": "2021-07-09T01:58:20.135Z"
   },
   {
    "duration": 5,
    "start_time": "2021-07-09T01:58:23.547Z"
   },
   {
    "duration": 7,
    "start_time": "2021-07-09T01:59:14.273Z"
   },
   {
    "duration": 5,
    "start_time": "2021-07-09T01:59:14.616Z"
   },
   {
    "duration": 5,
    "start_time": "2021-07-09T01:59:15.339Z"
   },
   {
    "duration": 966,
    "start_time": "2021-07-09T01:59:57.999Z"
   },
   {
    "duration": 4,
    "start_time": "2021-07-09T02:00:40.800Z"
   },
   {
    "duration": 4,
    "start_time": "2021-07-09T02:00:41.347Z"
   },
   {
    "duration": 6,
    "start_time": "2021-07-09T02:00:41.833Z"
   },
   {
    "duration": 274,
    "start_time": "2021-07-09T02:04:17.553Z"
   },
   {
    "duration": 3,
    "start_time": "2021-07-09T02:04:24.989Z"
   },
   {
    "duration": 20,
    "start_time": "2021-07-09T02:04:25.450Z"
   },
   {
    "duration": 27,
    "start_time": "2021-07-09T02:04:26.502Z"
   },
   {
    "duration": 6,
    "start_time": "2021-07-09T02:04:31.162Z"
   },
   {
    "duration": 4,
    "start_time": "2021-07-09T02:04:48.784Z"
   },
   {
    "duration": 9,
    "start_time": "2021-07-09T02:05:32.384Z"
   },
   {
    "duration": 84,
    "start_time": "2021-07-09T02:06:23.512Z"
   },
   {
    "duration": 243,
    "start_time": "2021-07-09T02:06:29.552Z"
   },
   {
    "duration": 811,
    "start_time": "2021-07-09T02:07:07.103Z"
   },
   {
    "duration": 10,
    "start_time": "2021-07-09T02:07:12.027Z"
   },
   {
    "duration": 8,
    "start_time": "2021-07-09T02:08:52.133Z"
   },
   {
    "duration": 6,
    "start_time": "2021-07-09T02:10:43.937Z"
   },
   {
    "duration": 327,
    "start_time": "2021-07-09T02:11:33.957Z"
   },
   {
    "duration": 9,
    "start_time": "2021-07-09T02:11:41.204Z"
   },
   {
    "duration": 11,
    "start_time": "2021-07-09T02:11:51.183Z"
   },
   {
    "duration": 80,
    "start_time": "2021-07-09T02:11:57.726Z"
   },
   {
    "duration": 10,
    "start_time": "2021-07-09T02:12:02.112Z"
   },
   {
    "duration": 9,
    "start_time": "2021-07-09T02:12:08.259Z"
   },
   {
    "duration": 7,
    "start_time": "2021-07-09T02:12:49.995Z"
   },
   {
    "duration": 9,
    "start_time": "2021-07-09T02:12:50.853Z"
   },
   {
    "duration": 97,
    "start_time": "2021-07-09T02:12:56.157Z"
   },
   {
    "duration": 268,
    "start_time": "2021-07-09T02:13:01.982Z"
   },
   {
    "duration": 9,
    "start_time": "2021-07-09T02:13:02.439Z"
   },
   {
    "duration": 5,
    "start_time": "2021-07-09T02:13:36.828Z"
   },
   {
    "duration": 5,
    "start_time": "2021-07-09T02:13:37.799Z"
   },
   {
    "duration": 8,
    "start_time": "2021-07-09T02:13:52.525Z"
   },
   {
    "duration": 9,
    "start_time": "2021-07-09T02:13:53.924Z"
   },
   {
    "duration": 7,
    "start_time": "2021-07-09T02:15:32.681Z"
   },
   {
    "duration": 9,
    "start_time": "2021-07-09T02:15:45.804Z"
   },
   {
    "duration": 10,
    "start_time": "2021-07-09T02:27:43.957Z"
   },
   {
    "duration": 11,
    "start_time": "2021-07-09T02:27:46.377Z"
   },
   {
    "duration": 11,
    "start_time": "2021-07-09T02:27:51.217Z"
   },
   {
    "duration": 1471,
    "start_time": "2021-07-09T02:50:16.761Z"
   },
   {
    "duration": 20,
    "start_time": "2021-07-09T02:50:18.234Z"
   },
   {
    "duration": 22,
    "start_time": "2021-07-09T02:50:18.257Z"
   },
   {
    "duration": 33,
    "start_time": "2021-07-09T02:50:18.282Z"
   },
   {
    "duration": 4,
    "start_time": "2021-07-09T02:50:18.317Z"
   },
   {
    "duration": 36,
    "start_time": "2021-07-09T02:50:18.323Z"
   },
   {
    "duration": 6,
    "start_time": "2021-07-09T02:50:18.362Z"
   },
   {
    "duration": 84,
    "start_time": "2021-07-09T02:50:18.372Z"
   },
   {
    "duration": 6,
    "start_time": "2021-07-09T02:50:18.462Z"
   },
   {
    "duration": 86,
    "start_time": "2021-07-09T02:50:18.472Z"
   },
   {
    "duration": 7,
    "start_time": "2021-07-09T02:50:18.560Z"
   },
   {
    "duration": 10,
    "start_time": "2021-07-09T02:50:18.569Z"
   },
   {
    "duration": 7,
    "start_time": "2021-07-09T02:50:18.581Z"
   },
   {
    "duration": 14,
    "start_time": "2021-07-09T02:50:18.590Z"
   },
   {
    "duration": 9,
    "start_time": "2021-07-09T03:02:29.047Z"
   },
   {
    "duration": 1503,
    "start_time": "2021-07-09T03:06:02.842Z"
   },
   {
    "duration": 20,
    "start_time": "2021-07-09T03:06:04.347Z"
   },
   {
    "duration": 27,
    "start_time": "2021-07-09T03:06:04.373Z"
   },
   {
    "duration": 11,
    "start_time": "2021-07-09T03:06:04.403Z"
   },
   {
    "duration": 49,
    "start_time": "2021-07-09T03:06:04.416Z"
   },
   {
    "duration": 4,
    "start_time": "2021-07-09T03:06:04.467Z"
   },
   {
    "duration": 15,
    "start_time": "2021-07-09T03:06:04.474Z"
   },
   {
    "duration": 14,
    "start_time": "2021-07-09T03:06:04.491Z"
   },
   {
    "duration": 52,
    "start_time": "2021-07-09T03:06:04.508Z"
   },
   {
    "duration": 93,
    "start_time": "2021-07-09T03:06:04.564Z"
   },
   {
    "duration": 9,
    "start_time": "2021-07-09T03:06:04.660Z"
   },
   {
    "duration": 13,
    "start_time": "2021-07-09T03:06:04.672Z"
   },
   {
    "duration": 12,
    "start_time": "2021-07-09T03:06:04.688Z"
   },
   {
    "duration": 10,
    "start_time": "2021-07-09T03:06:04.702Z"
   },
   {
    "duration": 43,
    "start_time": "2021-07-09T03:06:04.714Z"
   },
   {
    "duration": 7,
    "start_time": "2021-07-09T03:07:16.596Z"
   },
   {
    "duration": 1447,
    "start_time": "2021-07-09T03:07:23.503Z"
   },
   {
    "duration": 19,
    "start_time": "2021-07-09T03:07:24.953Z"
   },
   {
    "duration": 20,
    "start_time": "2021-07-09T03:07:24.976Z"
   },
   {
    "duration": 10,
    "start_time": "2021-07-09T03:07:24.999Z"
   },
   {
    "duration": 54,
    "start_time": "2021-07-09T03:07:25.011Z"
   },
   {
    "duration": 3,
    "start_time": "2021-07-09T03:07:25.067Z"
   },
   {
    "duration": 15,
    "start_time": "2021-07-09T03:07:25.073Z"
   },
   {
    "duration": 7,
    "start_time": "2021-07-09T03:07:25.090Z"
   },
   {
    "duration": 7,
    "start_time": "2021-07-09T03:07:25.156Z"
   },
   {
    "duration": 7,
    "start_time": "2021-07-09T03:07:25.166Z"
   },
   {
    "duration": 9,
    "start_time": "2021-07-09T03:07:25.256Z"
   },
   {
    "duration": 9,
    "start_time": "2021-07-09T03:07:25.268Z"
   },
   {
    "duration": 9,
    "start_time": "2021-07-09T03:07:25.279Z"
   },
   {
    "duration": 9,
    "start_time": "2021-07-09T03:07:25.291Z"
   },
   {
    "duration": 54,
    "start_time": "2021-07-09T03:07:25.302Z"
   },
   {
    "duration": 1498,
    "start_time": "2021-07-09T03:07:38.741Z"
   },
   {
    "duration": 20,
    "start_time": "2021-07-09T03:07:40.242Z"
   },
   {
    "duration": 35,
    "start_time": "2021-07-09T03:07:40.269Z"
   },
   {
    "duration": 10,
    "start_time": "2021-07-09T03:07:40.307Z"
   },
   {
    "duration": 47,
    "start_time": "2021-07-09T03:07:40.320Z"
   },
   {
    "duration": 4,
    "start_time": "2021-07-09T03:07:40.369Z"
   },
   {
    "duration": 14,
    "start_time": "2021-07-09T03:07:40.377Z"
   },
   {
    "duration": 10,
    "start_time": "2021-07-09T03:07:40.395Z"
   },
   {
    "duration": 50,
    "start_time": "2021-07-09T03:07:40.408Z"
   },
   {
    "duration": 13,
    "start_time": "2021-07-09T03:07:40.460Z"
   },
   {
    "duration": 87,
    "start_time": "2021-07-09T03:07:40.475Z"
   },
   {
    "duration": 9,
    "start_time": "2021-07-09T03:07:40.565Z"
   },
   {
    "duration": 18,
    "start_time": "2021-07-09T03:07:40.576Z"
   },
   {
    "duration": 7,
    "start_time": "2021-07-09T03:07:40.597Z"
   },
   {
    "duration": 12,
    "start_time": "2021-07-09T03:07:40.606Z"
   },
   {
    "duration": 1504,
    "start_time": "2021-07-09T03:08:37.831Z"
   },
   {
    "duration": 20,
    "start_time": "2021-07-09T03:08:39.338Z"
   },
   {
    "duration": 20,
    "start_time": "2021-07-09T03:08:39.364Z"
   },
   {
    "duration": 8,
    "start_time": "2021-07-09T03:08:39.387Z"
   },
   {
    "duration": 67,
    "start_time": "2021-07-09T03:08:39.397Z"
   },
   {
    "duration": 4,
    "start_time": "2021-07-09T03:08:39.466Z"
   },
   {
    "duration": 10,
    "start_time": "2021-07-09T03:08:39.472Z"
   },
   {
    "duration": 11,
    "start_time": "2021-07-09T03:08:39.486Z"
   },
   {
    "duration": 56,
    "start_time": "2021-07-09T03:08:39.500Z"
   },
   {
    "duration": 10,
    "start_time": "2021-07-09T03:08:39.559Z"
   },
   {
    "duration": 89,
    "start_time": "2021-07-09T03:08:39.571Z"
   },
   {
    "duration": 9,
    "start_time": "2021-07-09T03:08:39.663Z"
   },
   {
    "duration": 10,
    "start_time": "2021-07-09T03:08:39.674Z"
   },
   {
    "duration": 8,
    "start_time": "2021-07-09T03:08:39.686Z"
   },
   {
    "duration": 11,
    "start_time": "2021-07-09T03:08:39.696Z"
   }
  ],
  "kernelspec": {
   "display_name": "Python 3",
   "language": "python",
   "name": "python3"
  },
  "language_info": {
   "codemirror_mode": {
    "name": "ipython",
    "version": 3
   },
   "file_extension": ".py",
   "mimetype": "text/x-python",
   "name": "python",
   "nbconvert_exporter": "python",
   "pygments_lexer": "ipython3",
   "version": "3.7.9"
  },
  "toc": {
   "base_numbering": 1,
   "nav_menu": {},
   "number_sections": true,
   "sideBar": true,
   "skip_h1_title": true,
   "title_cell": "Содержание",
   "title_sidebar": "Contents",
   "toc_cell": true,
   "toc_position": {},
   "toc_section_display": true,
   "toc_window_display": false
  }
 },
 "nbformat": 4,
 "nbformat_minor": 2
}
