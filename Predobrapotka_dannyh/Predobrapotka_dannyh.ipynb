{
 "cells": [
  {
   "cell_type": "markdown",
   "metadata": {},
   "source": [
    "## Исследование надёжности заёмщиков\n",
    "\n",
    "Заказчик — кредитный отдел банка. Нужно разобраться, влияет ли семейное положение и количество детей клиента на факт погашения кредита в срок. Входные данные от банка — статистика о платёжеспособности клиентов.\n"
   ]
  },
  {
   "cell_type": "code",
   "execution_count": 1,
   "metadata": {},
   "outputs": [
    {
     "name": "stdout",
     "output_type": "stream",
     "text": [
      "   children  days_employed  dob_years education  education_id  \\\n",
      "0         1   -8437.673028         42    высшее             0   \n",
      "1         1   -4024.803754         36   среднее             1   \n",
      "2         0   -5623.422610         33   Среднее             1   \n",
      "3         3   -4124.747207         32   среднее             1   \n",
      "4         0  340266.072047         53   среднее             1   \n",
      "5         0    -926.185831         27    высшее             0   \n",
      "6         0   -2879.202052         43    высшее             0   \n",
      "7         0    -152.779569         50   СРЕДНЕЕ             1   \n",
      "8         2   -6929.865299         35    ВЫСШЕЕ             0   \n",
      "9         0   -2188.756445         41   среднее             1   \n",
      "\n",
      "      family_status  family_status_id gender income_type  debt   total_income  \\\n",
      "0   женат / замужем                 0      F   сотрудник     0  253875.639453   \n",
      "1   женат / замужем                 0      F   сотрудник     0  112080.014102   \n",
      "2   женат / замужем                 0      M   сотрудник     0  145885.952297   \n",
      "3   женат / замужем                 0      M   сотрудник     0  267628.550329   \n",
      "4  гражданский брак                 1      F   пенсионер     0  158616.077870   \n",
      "5  гражданский брак                 1      M   компаньон     0  255763.565419   \n",
      "6   женат / замужем                 0      F   компаньон     0  240525.971920   \n",
      "7   женат / замужем                 0      M   сотрудник     0  135823.934197   \n",
      "8  гражданский брак                 1      F   сотрудник     0   95856.832424   \n",
      "9   женат / замужем                 0      M   сотрудник     0  144425.938277   \n",
      "\n",
      "                      purpose  \n",
      "0               покупка жилья  \n",
      "1     приобретение автомобиля  \n",
      "2               покупка жилья  \n",
      "3  дополнительное образование  \n",
      "4             сыграть свадьбу  \n",
      "5               покупка жилья  \n",
      "6           операции с жильем  \n",
      "7                 образование  \n",
      "8       на проведение свадьбы  \n",
      "9     покупка жилья для семьи  \n",
      "<class 'pandas.core.frame.DataFrame'>\n",
      "RangeIndex: 21525 entries, 0 to 21524\n",
      "Data columns (total 12 columns):\n",
      "children            21525 non-null int64\n",
      "days_employed       19351 non-null float64\n",
      "dob_years           21525 non-null int64\n",
      "education           21525 non-null object\n",
      "education_id        21525 non-null int64\n",
      "family_status       21525 non-null object\n",
      "family_status_id    21525 non-null int64\n",
      "gender              21525 non-null object\n",
      "income_type         21525 non-null object\n",
      "debt                21525 non-null int64\n",
      "total_income        19351 non-null float64\n",
      "purpose             21525 non-null object\n",
      "dtypes: float64(2), int64(5), object(5)\n",
      "memory usage: 2.0+ MB\n"
     ]
    },
    {
     "data": {
      "text/html": [
       "<div>\n",
       "<style scoped>\n",
       "    .dataframe tbody tr th:only-of-type {\n",
       "        vertical-align: middle;\n",
       "    }\n",
       "\n",
       "    .dataframe tbody tr th {\n",
       "        vertical-align: top;\n",
       "    }\n",
       "\n",
       "    .dataframe thead th {\n",
       "        text-align: right;\n",
       "    }\n",
       "</style>\n",
       "<table border=\"1\" class=\"dataframe\">\n",
       "  <thead>\n",
       "    <tr style=\"text-align: right;\">\n",
       "      <th></th>\n",
       "      <th>children</th>\n",
       "      <th>days_employed</th>\n",
       "      <th>dob_years</th>\n",
       "      <th>education_id</th>\n",
       "      <th>family_status_id</th>\n",
       "      <th>debt</th>\n",
       "      <th>total_income</th>\n",
       "    </tr>\n",
       "  </thead>\n",
       "  <tbody>\n",
       "    <tr>\n",
       "      <td>count</td>\n",
       "      <td>21525.000000</td>\n",
       "      <td>19351.000000</td>\n",
       "      <td>21525.000000</td>\n",
       "      <td>21525.000000</td>\n",
       "      <td>21525.000000</td>\n",
       "      <td>21525.000000</td>\n",
       "      <td>1.935100e+04</td>\n",
       "    </tr>\n",
       "    <tr>\n",
       "      <td>mean</td>\n",
       "      <td>0.538908</td>\n",
       "      <td>63046.497661</td>\n",
       "      <td>43.293380</td>\n",
       "      <td>0.817236</td>\n",
       "      <td>0.972544</td>\n",
       "      <td>0.080883</td>\n",
       "      <td>1.674223e+05</td>\n",
       "    </tr>\n",
       "    <tr>\n",
       "      <td>std</td>\n",
       "      <td>1.381587</td>\n",
       "      <td>140827.311974</td>\n",
       "      <td>12.574584</td>\n",
       "      <td>0.548138</td>\n",
       "      <td>1.420324</td>\n",
       "      <td>0.272661</td>\n",
       "      <td>1.029716e+05</td>\n",
       "    </tr>\n",
       "    <tr>\n",
       "      <td>min</td>\n",
       "      <td>-1.000000</td>\n",
       "      <td>-18388.949901</td>\n",
       "      <td>0.000000</td>\n",
       "      <td>0.000000</td>\n",
       "      <td>0.000000</td>\n",
       "      <td>0.000000</td>\n",
       "      <td>2.066726e+04</td>\n",
       "    </tr>\n",
       "    <tr>\n",
       "      <td>25%</td>\n",
       "      <td>0.000000</td>\n",
       "      <td>-2747.423625</td>\n",
       "      <td>33.000000</td>\n",
       "      <td>1.000000</td>\n",
       "      <td>0.000000</td>\n",
       "      <td>0.000000</td>\n",
       "      <td>1.030532e+05</td>\n",
       "    </tr>\n",
       "    <tr>\n",
       "      <td>50%</td>\n",
       "      <td>0.000000</td>\n",
       "      <td>-1203.369529</td>\n",
       "      <td>42.000000</td>\n",
       "      <td>1.000000</td>\n",
       "      <td>0.000000</td>\n",
       "      <td>0.000000</td>\n",
       "      <td>1.450179e+05</td>\n",
       "    </tr>\n",
       "    <tr>\n",
       "      <td>75%</td>\n",
       "      <td>1.000000</td>\n",
       "      <td>-291.095954</td>\n",
       "      <td>53.000000</td>\n",
       "      <td>1.000000</td>\n",
       "      <td>1.000000</td>\n",
       "      <td>0.000000</td>\n",
       "      <td>2.034351e+05</td>\n",
       "    </tr>\n",
       "    <tr>\n",
       "      <td>max</td>\n",
       "      <td>20.000000</td>\n",
       "      <td>401755.400475</td>\n",
       "      <td>75.000000</td>\n",
       "      <td>4.000000</td>\n",
       "      <td>4.000000</td>\n",
       "      <td>1.000000</td>\n",
       "      <td>2.265604e+06</td>\n",
       "    </tr>\n",
       "  </tbody>\n",
       "</table>\n",
       "</div>"
      ],
      "text/plain": [
       "           children  days_employed     dob_years  education_id  \\\n",
       "count  21525.000000   19351.000000  21525.000000  21525.000000   \n",
       "mean       0.538908   63046.497661     43.293380      0.817236   \n",
       "std        1.381587  140827.311974     12.574584      0.548138   \n",
       "min       -1.000000  -18388.949901      0.000000      0.000000   \n",
       "25%        0.000000   -2747.423625     33.000000      1.000000   \n",
       "50%        0.000000   -1203.369529     42.000000      1.000000   \n",
       "75%        1.000000    -291.095954     53.000000      1.000000   \n",
       "max       20.000000  401755.400475     75.000000      4.000000   \n",
       "\n",
       "       family_status_id          debt  total_income  \n",
       "count      21525.000000  21525.000000  1.935100e+04  \n",
       "mean           0.972544      0.080883  1.674223e+05  \n",
       "std            1.420324      0.272661  1.029716e+05  \n",
       "min            0.000000      0.000000  2.066726e+04  \n",
       "25%            0.000000      0.000000  1.030532e+05  \n",
       "50%            0.000000      0.000000  1.450179e+05  \n",
       "75%            1.000000      0.000000  2.034351e+05  \n",
       "max            4.000000      1.000000  2.265604e+06  "
      ]
     },
     "execution_count": 1,
     "metadata": {},
     "output_type": "execute_result"
    }
   ],
   "source": [
    "import pandas as pd\n",
    "data = pd.read_csv('/Users/eha19/OneDrive/Desktop/progect/data.csv')\n",
    "print(data.head(10))\n",
    "data.info()\n",
    "data.describe()"
   ]
  },
  {
   "cell_type": "markdown",
   "metadata": {},
   "source": [
    "### Вывод"
   ]
  },
  {
   "cell_type": "markdown",
   "metadata": {},
   "source": [
    "В таблице представлено 12 столбцов и 21525 строк. При выводе первых 10 столбцов видные некоторые ошибки в данных, например, разный регистр в столбце education или отрицательные значения в столбце days_employed. При просмотре информации о таблице видны пропущенные значения в столбцах days_employed и total_income, можно заметить, что число пропущенных значений в данных столбцах равно между собой."
   ]
  },
  {
   "cell_type": "markdown",
   "metadata": {},
   "source": [
    "### Шаг 2. Предобработка данных"
   ]
  },
  {
   "cell_type": "code",
   "execution_count": 2,
   "metadata": {},
   "outputs": [
    {
     "data": {
      "text/html": [
       "<div>\n",
       "<style scoped>\n",
       "    .dataframe tbody tr th:only-of-type {\n",
       "        vertical-align: middle;\n",
       "    }\n",
       "\n",
       "    .dataframe tbody tr th {\n",
       "        vertical-align: top;\n",
       "    }\n",
       "\n",
       "    .dataframe thead th {\n",
       "        text-align: right;\n",
       "    }\n",
       "</style>\n",
       "<table border=\"1\" class=\"dataframe\">\n",
       "  <thead>\n",
       "    <tr style=\"text-align: right;\">\n",
       "      <th></th>\n",
       "      <th>days_employed</th>\n",
       "      <th>total_income</th>\n",
       "      <th>dob_years</th>\n",
       "    </tr>\n",
       "  </thead>\n",
       "  <tbody>\n",
       "    <tr>\n",
       "      <td>count</td>\n",
       "      <td>19351.000000</td>\n",
       "      <td>1.935100e+04</td>\n",
       "      <td>21525.000000</td>\n",
       "    </tr>\n",
       "    <tr>\n",
       "      <td>mean</td>\n",
       "      <td>63046.497661</td>\n",
       "      <td>1.674223e+05</td>\n",
       "      <td>43.293380</td>\n",
       "    </tr>\n",
       "    <tr>\n",
       "      <td>std</td>\n",
       "      <td>140827.311974</td>\n",
       "      <td>1.029716e+05</td>\n",
       "      <td>12.574584</td>\n",
       "    </tr>\n",
       "    <tr>\n",
       "      <td>min</td>\n",
       "      <td>-18388.949901</td>\n",
       "      <td>2.066726e+04</td>\n",
       "      <td>0.000000</td>\n",
       "    </tr>\n",
       "    <tr>\n",
       "      <td>25%</td>\n",
       "      <td>-2747.423625</td>\n",
       "      <td>1.030532e+05</td>\n",
       "      <td>33.000000</td>\n",
       "    </tr>\n",
       "    <tr>\n",
       "      <td>50%</td>\n",
       "      <td>-1203.369529</td>\n",
       "      <td>1.450179e+05</td>\n",
       "      <td>42.000000</td>\n",
       "    </tr>\n",
       "    <tr>\n",
       "      <td>75%</td>\n",
       "      <td>-291.095954</td>\n",
       "      <td>2.034351e+05</td>\n",
       "      <td>53.000000</td>\n",
       "    </tr>\n",
       "    <tr>\n",
       "      <td>max</td>\n",
       "      <td>401755.400475</td>\n",
       "      <td>2.265604e+06</td>\n",
       "      <td>75.000000</td>\n",
       "    </tr>\n",
       "  </tbody>\n",
       "</table>\n",
       "</div>"
      ],
      "text/plain": [
       "       days_employed  total_income     dob_years\n",
       "count   19351.000000  1.935100e+04  21525.000000\n",
       "mean    63046.497661  1.674223e+05     43.293380\n",
       "std    140827.311974  1.029716e+05     12.574584\n",
       "min    -18388.949901  2.066726e+04      0.000000\n",
       "25%     -2747.423625  1.030532e+05     33.000000\n",
       "50%     -1203.369529  1.450179e+05     42.000000\n",
       "75%      -291.095954  2.034351e+05     53.000000\n",
       "max    401755.400475  2.265604e+06     75.000000"
      ]
     },
     "execution_count": 2,
     "metadata": {},
     "output_type": "execute_result"
    }
   ],
   "source": [
    "# КОД РЕВЬЮВЕРА\n",
    "\n",
    "data[['days_employed', 'total_income', 'dob_years']].describe()"
   ]
  },
  {
   "cell_type": "markdown",
   "metadata": {},
   "source": [
    "### Обработка пропусков"
   ]
  },
  {
   "cell_type": "code",
   "execution_count": 3,
   "metadata": {
    "scrolled": true
   },
   "outputs": [
    {
     "name": "stdout",
     "output_type": "stream",
     "text": [
      "children               0\n",
      "days_employed       2174\n",
      "dob_years              0\n",
      "education              0\n",
      "education_id           0\n",
      "family_status          0\n",
      "family_status_id       0\n",
      "gender                 0\n",
      "income_type            0\n",
      "debt                   0\n",
      "total_income        2174\n",
      "purpose                0\n",
      "dtype: int64\n",
      "                   count           mean           std            min  \\\n",
      "income_type                                                            \n",
      "безработный          2.0  366413.652744  40855.478519  337524.466835   \n",
      "в декрете            1.0   -3296.759962           NaN   -3296.759962   \n",
      "госслужащий       1459.0   -3328.308350   2652.713016  -15193.032201   \n",
      "компаньон         5085.0   -2055.165652   1950.764283  -17615.563266   \n",
      "пенсионер         3856.0  365025.963652  19909.115430  328728.720605   \n",
      "предприниматель      2.0    -520.848083      0.000000    -520.848083   \n",
      "сотрудник        11119.0   -2251.736421   2201.767262  -18388.949901   \n",
      "студент              1.0    -578.751554           NaN    -578.751554   \n",
      "\n",
      "                           25%            50%            75%            max  \n",
      "income_type                                                                  \n",
      "безработный      351969.059790  366413.652744  380858.245699  395302.838654  \n",
      "в декрете         -3296.759962   -3296.759962   -3296.759962   -3296.759962  \n",
      "госслужащий       -4454.221934   -2689.368353   -1376.607336     -39.954170  \n",
      "компаньон         -2672.323106   -1547.382223    -764.432082     -30.195337  \n",
      "пенсионер        348802.360364  365213.306266  380751.301140  401755.400475  \n",
      "предприниматель    -520.848083    -520.848083    -520.848083    -520.848083  \n",
      "сотрудник         -2895.108262   -1574.202821    -829.628950     -24.141633  \n",
      "студент            -578.751554    -578.751554    -578.751554    -578.751554  \n",
      "                   count       mean       std        min        25%  \\\n",
      "income_type                                                           \n",
      "безработный          2.0  41.828043  4.663867  38.530190  40.179116   \n",
      "в декрете            1.0   9.032219       NaN   9.032219   9.032219   \n",
      "госслужащий       1459.0   9.118653  7.267707   0.109463   3.771527   \n",
      "компаньон         5085.0   5.630591  5.344560   0.082727   2.094334   \n",
      "пенсионер         3856.0  41.669631  2.272730  37.526110  39.817621   \n",
      "предприниматель      2.0   1.426981  0.000000   1.426981   1.426981   \n",
      "сотрудник        11119.0   6.169141  6.032239   0.066141   2.272956   \n",
      "студент              1.0   1.585621       NaN   1.585621   1.585621   \n",
      "\n",
      "                       50%        75%        max  \n",
      "income_type                                       \n",
      "безработный      41.828043  43.476969  45.125895  \n",
      "в декрете         9.032219   9.032219   9.032219  \n",
      "госслужащий       7.368132  12.203348  41.624746  \n",
      "компаньон         4.239403   7.321433  48.261817  \n",
      "пенсионер        41.691017  43.464760  45.862489  \n",
      "предприниматель   1.426981   1.426981   1.426981  \n",
      "сотрудник         4.312884   7.931803  50.380685  \n",
      "студент           1.585621   1.585621   1.585621  \n",
      "children            0\n",
      "days_employed       0\n",
      "dob_years           0\n",
      "education           0\n",
      "education_id        0\n",
      "family_status       0\n",
      "family_status_id    0\n",
      "gender              0\n",
      "income_type         0\n",
      "debt                0\n",
      "total_income        0\n",
      "purpose             0\n",
      "years_employed      0\n",
      "dtype: int64\n"
     ]
    }
   ],
   "source": [
    "print(data.isnull().sum())\n",
    "exp_median = data.groupby('income_type')['days_employed'].transform('median')\n",
    "data['days_employed'] = data['days_employed'].fillna(exp_median)\n",
    "group_emloyed = data.groupby('income_type')['days_employed']\n",
    "salary_median = data.groupby('income_type')['total_income'].transform('median')\n",
    "data['total_income'] = data['total_income'].fillna(salary_median)\n",
    "data['dob_years'] = data['dob_years'].replace(0, data['dob_years'].median())\n",
    "print(group_emloyed.describe())\n",
    "def years_employed(days_employed):\n",
    "    if days_employed > 300000:\n",
    "        return days_employed / 8760\n",
    "    return abs(days_employed / 365)\n",
    "data['years_employed'] = data['days_employed'].apply(years_employed)\n",
    "group_emloyed_2 = data.groupby('income_type')['years_employed']\n",
    "print(group_emloyed_2.describe())\n",
    "print(data.isnull().sum())"
   ]
  },
  {
   "cell_type": "markdown",
   "metadata": {},
   "source": [
    "### Вывод"
   ]
  },
  {
   "cell_type": "markdown",
   "metadata": {},
   "source": [
    "Пропуска типа NaN обнаружены и заменены в столбцах days_employed и total_income. Пропущенные значения в столбцах days_employed и total_income совпадают построчно, скорее всего это связано с тем, что заемщик не предоставил данные о работе. Так же встречаются значения 0 в столбце dob_years, скорее всего заемщик не предоставил данные о возрасте. Считаю, в данном случае, верным не удалять пустые значения, а заменить их на медианные. В столбце days_employed часто встречаются отрицательные значения, предположу, что исправить их можно просто убрав минус. В столбце dob_years присутствуют нулевые значения возраста, они также заменены на медианные значения."
   ]
  },
  {
   "cell_type": "markdown",
   "metadata": {},
   "source": [
    "### Замена типа данных"
   ]
  },
  {
   "cell_type": "code",
   "execution_count": 4,
   "metadata": {},
   "outputs": [
    {
     "name": "stdout",
     "output_type": "stream",
     "text": [
      "<class 'pandas.core.frame.DataFrame'>\n",
      "RangeIndex: 21525 entries, 0 to 21524\n",
      "Data columns (total 13 columns):\n",
      "children            21525 non-null int64\n",
      "days_employed       21525 non-null int64\n",
      "dob_years           21525 non-null int64\n",
      "education           21525 non-null object\n",
      "education_id        21525 non-null int64\n",
      "family_status       21525 non-null object\n",
      "family_status_id    21525 non-null int64\n",
      "gender              21525 non-null object\n",
      "income_type         21525 non-null object\n",
      "debt                21525 non-null int64\n",
      "total_income        21525 non-null int64\n",
      "purpose             21525 non-null object\n",
      "years_employed      21525 non-null int64\n",
      "dtypes: int64(8), object(5)\n",
      "memory usage: 2.1+ MB\n"
     ]
    }
   ],
   "source": [
    "data['days_employed'] = data['days_employed'].astype('int64')\n",
    "data['dob_years'] = data['dob_years'].astype('int64')\n",
    "data['total_income'] = data['total_income'].astype('int64')\n",
    "data['years_employed'] = data['years_employed'].astype('int64')\n",
    "data.info()"
   ]
  },
  {
   "cell_type": "markdown",
   "metadata": {},
   "source": [
    "### Вывод"
   ]
  },
  {
   "cell_type": "markdown",
   "metadata": {},
   "source": [
    "Был присвоен целочисленный тип данных для столбцов, в каждом из них дробная часть не влияет на результат исследования. Использовался метод astype(), т.к. нужен был перевод в целочисленный тип данных"
   ]
  },
  {
   "cell_type": "markdown",
   "metadata": {},
   "source": [
    "### Обработка дубликатов"
   ]
  },
  {
   "cell_type": "code",
   "execution_count": 5,
   "metadata": {},
   "outputs": [
    {
     "name": "stdout",
     "output_type": "stream",
     "text": [
      " 0     14149\n",
      " 1      4818\n",
      " 2      2055\n",
      " 3       330\n",
      " 20       76\n",
      "-1        47\n",
      " 4        41\n",
      " 5         9\n",
      "Name: children, dtype: int64\n",
      "среднее                13750\n",
      "высшее                  4718\n",
      "СРЕДНЕЕ                  772\n",
      "Среднее                  711\n",
      "неоконченное высшее      668\n",
      "ВЫСШЕЕ                   274\n",
      "Высшее                   268\n",
      "начальное                250\n",
      "Неоконченное высшее       47\n",
      "НЕОКОНЧЕННОЕ ВЫСШЕЕ       29\n",
      "НАЧАЛЬНОЕ                 17\n",
      "Начальное                 15\n",
      "ученая степень             4\n",
      "Ученая степень             1\n",
      "УЧЕНАЯ СТЕПЕНЬ             1\n",
      "Name: education, dtype: int64\n",
      "1    15233\n",
      "0     5260\n",
      "2      744\n",
      "3      282\n",
      "4        6\n",
      "Name: education_id, dtype: int64\n",
      "женат / замужем          12380\n",
      "гражданский брак          4177\n",
      "Не женат / не замужем     2813\n",
      "в разводе                 1195\n",
      "вдовец / вдова             960\n",
      "Name: family_status, dtype: int64\n",
      "0    12380\n",
      "1     4177\n",
      "4     2813\n",
      "3     1195\n",
      "2      960\n",
      "Name: family_status_id, dtype: int64\n",
      "F      14236\n",
      "M       7288\n",
      "XNA        1\n",
      "Name: gender, dtype: int64\n",
      "сотрудник          11119\n",
      "компаньон           5085\n",
      "пенсионер           3856\n",
      "госслужащий         1459\n",
      "безработный            2\n",
      "предприниматель        2\n",
      "студент                1\n",
      "в декрете              1\n",
      "Name: income_type, dtype: int64\n",
      "0    19784\n",
      "1     1741\n",
      "Name: debt, dtype: int64\n",
      "свадьба                                   797\n",
      "на проведение свадьбы                     777\n",
      "сыграть свадьбу                           774\n",
      "операции с недвижимостью                  676\n",
      "покупка коммерческой недвижимости         664\n",
      "операции с жильем                         653\n",
      "покупка жилья для сдачи                   653\n",
      "операции с коммерческой недвижимостью     651\n",
      "жилье                                     647\n",
      "покупка жилья                             647\n",
      "покупка жилья для семьи                   641\n",
      "строительство собственной недвижимости    635\n",
      "недвижимость                              634\n",
      "операции со своей недвижимостью           630\n",
      "строительство жилой недвижимости          626\n",
      "покупка недвижимости                      624\n",
      "покупка своего жилья                      620\n",
      "строительство недвижимости                620\n",
      "ремонт жилью                              612\n",
      "покупка жилой недвижимости                607\n",
      "на покупку своего автомобиля              505\n",
      "заняться высшим образованием              496\n",
      "автомобиль                                495\n",
      "сделка с подержанным автомобилем          489\n",
      "свой автомобиль                           480\n",
      "на покупку подержанного автомобиля        479\n",
      "автомобили                                478\n",
      "на покупку автомобиля                     472\n",
      "дополнительное образование                462\n",
      "приобретение автомобиля                   462\n",
      "сделка с автомобилем                      455\n",
      "высшее образование                        453\n",
      "получение дополнительного образования     447\n",
      "образование                               447\n",
      "получение образования                     443\n",
      "профильное образование                    436\n",
      "получение высшего образования             426\n",
      "заняться образованием                     412\n",
      "Name: purpose, dtype: int64\n",
      "0\n",
      "50\n",
      "42    698\n",
      "35    617\n",
      "40    609\n",
      "41    607\n",
      "34    603\n",
      "38    598\n",
      "33    581\n",
      "39    573\n",
      "31    560\n",
      "36    555\n",
      "44    547\n",
      "29    545\n",
      "30    540\n",
      "48    538\n",
      "37    537\n",
      "50    514\n",
      "43    513\n",
      "32    510\n",
      "49    508\n",
      "28    503\n",
      "45    497\n",
      "27    493\n",
      "56    487\n",
      "52    484\n",
      "47    480\n",
      "54    479\n",
      "46    475\n",
      "58    461\n",
      "57    460\n",
      "53    459\n",
      "51    448\n",
      "59    444\n",
      "55    443\n",
      "26    408\n",
      "60    377\n",
      "25    357\n",
      "61    355\n",
      "62    352\n",
      "63    269\n",
      "64    265\n",
      "24    264\n",
      "23    254\n",
      "65    194\n",
      "66    183\n",
      "22    183\n",
      "67    167\n",
      "21    111\n",
      "68     99\n",
      "69     85\n",
      "70     65\n",
      "71     58\n",
      "20     51\n",
      "72     33\n",
      "19     14\n",
      "73      8\n",
      "74      6\n",
      "75      1\n",
      "Name: dob_years, dtype: int64\n",
      "20667\n",
      "2265604\n",
      "0    14149\n",
      "1     4865\n",
      "2     2131\n",
      "3      330\n",
      "4       41\n",
      "5        9\n",
      "Name: children, dtype: int64\n",
      "среднее                15233\n",
      "высшее                  5260\n",
      "неоконченное высшее      744\n",
      "начальное                282\n",
      "ученая степень             6\n",
      "Name: education, dtype: int64\n",
      "женат / замужем          12380\n",
      "гражданский брак          4177\n",
      "не женат / не замужем     2813\n",
      "в разводе                 1195\n",
      "вдовец / вдова             960\n",
      "Name: family_status, dtype: int64\n",
      "F    14237\n",
      "M     7288\n",
      "Name: gender, dtype: int64\n"
     ]
    }
   ],
   "source": [
    "print(data['children'].value_counts()) #(разобраться с -1 и 20)\n",
    "print(data['education'].value_counts()) # привести к одному формату\n",
    "print(data['education_id'].value_counts())# все верно\n",
    "print(data['family_status'].value_counts()) # все верно\n",
    "print(data['family_status_id'].value_counts()) # все верно\n",
    "print(data['gender'].value_counts()) #(1 с неопределенным полом)\n",
    "print(data['income_type'].value_counts())# все верно\n",
    "print(data['debt'].value_counts()) #(все верно)\n",
    "print(data['purpose'].value_counts()) #(объединить категории)\n",
    "print(data['years_employed'].min())\n",
    "print(data['years_employed'].max()) \n",
    "print(data['dob_years'].value_counts())\n",
    "print(data['total_income'].min())\n",
    "print(data['total_income'].max()) # значения в пределах нормы\n",
    "data['children'] = data['children'].replace(-1, 1)\n",
    "data['children'] = data['children'].replace(20, 2)\n",
    "data['education'] = data['education'].str.lower()\n",
    "data['family_status'] = data['family_status'].str.lower()\n",
    "data['gender'] = data['gender'].replace('XNA', 'F')\n",
    "#проверка:\n",
    "print(data['children'].value_counts())\n",
    "print(data['education'].value_counts())\n",
    "print(data['family_status'].value_counts())\n",
    "print(data['gender'].value_counts())"
   ]
  },
  {
   "cell_type": "code",
   "execution_count": 6,
   "metadata": {},
   "outputs": [
    {
     "name": "stdout",
     "output_type": "stream",
     "text": [
      "72\n",
      "0\n"
     ]
    }
   ],
   "source": [
    "print(data.duplicated().sum())\n",
    "data = data.drop_duplicates().reset_index(drop = True)\n",
    "print(data.duplicated().sum())"
   ]
  },
  {
   "cell_type": "markdown",
   "metadata": {},
   "source": [
    "### Вывод"
   ]
  },
  {
   "cell_type": "markdown",
   "metadata": {},
   "source": [
    "Для категориальных переменных (а также для столбца dob_years, т.к. общее количество значений там невелико) для поиска дубликатов применен метод value_counts(), т.к. результатов немного и информация получается в более удобным для обзора виде, чем при применении метода unique(), для количественных переменных брались минимальные и максимальные значения, т.к. формат каждого из таких столбцов int, то можно предположить, что все значения целочисленные, и оценить данные столбцы по крайним значениям. Дубликаты в столбце education заменены приведением всех значений к строчным буквам, в столбце family_status проведена аналогичная процедура. в остальных столбцах проведена замена значений, т.к. их немного данная операция применена напрямую к каждому значению. Дубликаты появились в столбце education, возможно, из-за неправильного ввода значений в строки, предположу что минусы появились при вводе тире. "
   ]
  },
  {
   "cell_type": "markdown",
   "metadata": {},
   "source": [
    "### Лемматизация"
   ]
  },
  {
   "cell_type": "code",
   "execution_count": 7,
   "metadata": {},
   "outputs": [
    {
     "name": "stdout",
     "output_type": "stream",
     "text": [
      "['покупка', ' ', 'жилье', '\\n']\n",
      "['приобретение', ' ', 'автомобиль', '\\n']\n",
      "['дополнительный', ' ', 'образование', '\\n']\n",
      "['сыграть', ' ', 'свадьба', '\\n']\n",
      "['операция', ' ', 'с', ' ', 'жилье', '\\n']\n",
      "['образование', '\\n']\n",
      "['на', ' ', 'проведение', ' ', 'свадьба', '\\n']\n",
      "['покупка', ' ', 'жилье', ' ', 'для', ' ', 'семья', '\\n']\n",
      "['покупка', ' ', 'недвижимость', '\\n']\n",
      "['покупка', ' ', 'коммерческий', ' ', 'недвижимость', '\\n']\n",
      "['покупка', ' ', 'жилой', ' ', 'недвижимость', '\\n']\n",
      "['строительство', ' ', 'собственный', ' ', 'недвижимость', '\\n']\n",
      "['недвижимость', '\\n']\n",
      "['строительство', ' ', 'недвижимость', '\\n']\n",
      "['на', ' ', 'покупка', ' ', 'подержать', ' ', 'автомобиль', '\\n']\n",
      "['на', ' ', 'покупка', ' ', 'свой', ' ', 'автомобиль', '\\n']\n",
      "['операция', ' ', 'с', ' ', 'коммерческий', ' ', 'недвижимость', '\\n']\n",
      "['строительство', ' ', 'жилой', ' ', 'недвижимость', '\\n']\n",
      "['жилье', '\\n']\n",
      "['операция', ' ', 'со', ' ', 'свой', ' ', 'недвижимость', '\\n']\n",
      "['автомобиль', '\\n']\n",
      "['заниматься', ' ', 'образование', '\\n']\n",
      "['сделка', ' ', 'с', ' ', 'подержанный', ' ', 'автомобиль', '\\n']\n",
      "['получение', ' ', 'образование', '\\n']\n",
      "['автомобиль', '\\n']\n",
      "['свадьба', '\\n']\n",
      "['получение', ' ', 'дополнительный', ' ', 'образование', '\\n']\n",
      "['покупка', ' ', 'свой', ' ', 'жилье', '\\n']\n",
      "['операция', ' ', 'с', ' ', 'недвижимость', '\\n']\n",
      "['получение', ' ', 'высокий', ' ', 'образование', '\\n']\n",
      "['свой', ' ', 'автомобиль', '\\n']\n",
      "['сделка', ' ', 'с', ' ', 'автомобиль', '\\n']\n",
      "['профильный', ' ', 'образование', '\\n']\n",
      "['высокий', ' ', 'образование', '\\n']\n",
      "['покупка', ' ', 'жилье', ' ', 'для', ' ', 'сдача', '\\n']\n",
      "['на', ' ', 'покупка', ' ', 'автомобиль', '\\n']\n",
      "['ремонт', ' ', 'жилье', '\\n']\n",
      "['заниматься', ' ', 'высокий', ' ', 'образование', '\\n']\n"
     ]
    }
   ],
   "source": [
    "from pymystem3 import Mystem\n",
    "m = Mystem() \n",
    "for i in data['purpose'].unique():\n",
    "    lemmas = m.lemmatize(i)\n",
    "    print(lemmas)"
   ]
  },
  {
   "cell_type": "markdown",
   "metadata": {},
   "source": [
    "### Вывод"
   ]
  },
  {
   "cell_type": "markdown",
   "metadata": {},
   "source": [
    "При получении лемм получилось увидеть 5 ключевых слов: жилье, недвижимость, свадьба, автомобиль, образование, из них можно составить 4 категории (жилье и недвижимость можно объединить в одну категорию) и привести каждое значение из столбца purpose к какой-либо категории."
   ]
  },
  {
   "cell_type": "markdown",
   "metadata": {},
   "source": [
    "### Категоризация данных"
   ]
  },
  {
   "cell_type": "code",
   "execution_count": null,
   "metadata": {},
   "outputs": [],
   "source": [
    "def purpose_group(purpose):\n",
    "    lemmas = m.lemmatize(purpose)\n",
    "    if 'недвижимость' in lemmas:\n",
    "        return 'операции с недвижимостью'\n",
    "    if 'жилье' in lemmas:\n",
    "        return 'операции с недвижимостью'\n",
    "    if 'свадьба' in lemmas:\n",
    "        return 'проведение свадьбы'\n",
    "    if 'образование' in lemmas:\n",
    "        return 'получение образования'\n",
    "    return 'сделка с автомобилем'\n",
    "data['purpose_group'] = data['purpose'].apply(purpose_group)\n",
    "print(data['purpose_group'].value_counts())    \n",
    "def children_group(children):\n",
    "    if children == 0:\n",
    "        return 'нет детей'\n",
    "    if children == 1:\n",
    "        return '1 ребенок'\n",
    "    if children == 2:\n",
    "        return '2 детей'\n",
    "    return '3 и более детей'\n",
    "data['children_group'] = data['children'].apply(children_group)\n",
    "print(data['children_group'].value_counts())\n",
    "def total_income_group(total_income):\n",
    "    if total_income < 100000:\n",
    "        return 'Доход менее 100 000 р.'\n",
    "    if total_income < 150000:\n",
    "        return 'Доход от 100 до 150 тысяч р.'\n",
    "    if total_income < 200000:\n",
    "        return 'Доход от 150 до 200 тысяч р.'\n",
    "    if total_income < 300000:\n",
    "        return 'Доход от 200 до 300 тысяч р.'\n",
    "    return 'Доход свыше 300 000 р.'\n",
    "data['total_income_group'] = data['total_income'].apply(total_income_group)\n",
    "print(data['total_income_group'].value_counts())    "
   ]
  },
  {
   "cell_type": "markdown",
   "metadata": {},
   "source": [
    "### Вывод"
   ]
  },
  {
   "cell_type": "markdown",
   "metadata": {},
   "source": [
    "Разобьем нужные нам столбцы на категории: purpose на 4 группы по ключевым словам, полученным при лемматизации, children: количество измерений с числом детей большим 3 невелико по сравнению с остальными пунктами, поэтому данные измерения можно объединить в одну категорию, столбец total_income разделим по размеру дохода, разделение на от 100 до 150 и от 150 до 200 связано с тем, что при объединении слишком большой процент всех значений оказывается в данной категории."
   ]
  },
  {
   "cell_type": "markdown",
   "metadata": {},
   "source": [
    "### Шаг 3. Ответьте на вопросы"
   ]
  },
  {
   "cell_type": "code",
   "execution_count": null,
   "metadata": {},
   "outputs": [],
   "source": [
    "import plotly.express as px\n",
    "\n",
    "def pivot(data, index):\n",
    "    pivot = data.pivot_table(index = index, values = 'debt', aggfunc = ['count', 'sum', 'mean']).reset_index()\n",
    "    pivot.columns = [index, 'Кол-во клиентов', 'Кол-во должников', '% невозврата']\n",
    "    display(pivot.sort_values('% невозврата', ascending = False))\n",
    "    \n",
    "    \n",
    "    \n",
    "    fig = px.bar(pivot, x = index, y = '% невозврата', color = '% невозврата', title = '% невозврата по ' + index)\n",
    "    fig.show()"
   ]
  },
  {
   "cell_type": "markdown",
   "metadata": {},
   "source": [
    "- Есть ли зависимость между наличием детей и возвратом кредита в срок?"
   ]
  },
  {
   "cell_type": "code",
   "execution_count": null,
   "metadata": {},
   "outputs": [],
   "source": [
    "pivot(data, 'children_group')"
   ]
  },
  {
   "cell_type": "markdown",
   "metadata": {},
   "source": [
    "### Вывод"
   ]
  },
  {
   "cell_type": "markdown",
   "metadata": {},
   "source": [
    "По полученным данным можно увидеть, что по мере увеличения количества детей до 2 доля невозвращенных в срок кредитов увеличивается, но при наличие 3 и более детей доля становится минимальной, возможно это связано с тем, что количество человек с большим количеством детей, берущих кредиты, весьма не велико и выборка нерепрезентативна). В целом такая зависимость наблюдается, если отбросить последнюю категорию."
   ]
  },
  {
   "cell_type": "markdown",
   "metadata": {},
   "source": [
    "- Есть ли зависимость между семейным положением и возвратом кредита в срок?"
   ]
  },
  {
   "cell_type": "code",
   "execution_count": null,
   "metadata": {},
   "outputs": [],
   "source": [
    "pivot(data, 'family_status')"
   ]
  },
  {
   "cell_type": "markdown",
   "metadata": {},
   "source": [
    "### Вывод"
   ]
  },
  {
   "cell_type": "markdown",
   "metadata": {},
   "source": [
    "В данном случае видно что доля невозврата среди категории никогда не состоящих в браке наиболее максимально, но не понятно, почему доля вдовцов и разведенных настолько меньше и даже меньше доли для людей находящихся в браке. По моему мнению, в данном случае это можно объснить тем, что в среднем разведенные и вдовцы/вдовы старше и имеют больший доход. По итогу можно сделать вывод о том что зависимость от семейного статуса есть, но она неочевидна."
   ]
  },
  {
   "cell_type": "code",
   "execution_count": null,
   "metadata": {},
   "outputs": [],
   "source": [
    "pivot(data, 'total_income_group')"
   ]
  },
  {
   "cell_type": "markdown",
   "metadata": {},
   "source": [
    "### Вывод"
   ]
  },
  {
   "cell_type": "markdown",
   "metadata": {},
   "source": [
    "Первым выводом является что разделять категорию доход от 100 до 200 тыс. р. было необязательным, т.к. доля невозврата в них практически идентична. В целом видно, что при большем доходе доля возвратов выше, максимальная доля невозвратов фиксируется в значении от 100 до 200 тыс. р. В целом это может быть связано с размерами кредитов. Намного более информативным было бы сравнение результатов по доле от дохода, ежемесячно выплачиваемого в счет погашения кредита. В целом зависимость можно охарактеризовать как то, что при доходе меньшем чем 200 000 руб. доля невозврата больше на 15-20%, чем при доходе выше 200 тыс."
   ]
  },
  {
   "cell_type": "markdown",
   "metadata": {},
   "source": [
    "- Как разные цели кредита влияют на его возврат в срок?"
   ]
  },
  {
   "cell_type": "code",
   "execution_count": null,
   "metadata": {},
   "outputs": [],
   "source": [
    "pivot(data, 'purpose_group')"
   ]
  },
  {
   "cell_type": "markdown",
   "metadata": {},
   "source": [
    "### Вывод"
   ]
  },
  {
   "cell_type": "markdown",
   "metadata": {},
   "source": [
    "Наиболее ожидаемым результатом было увидеть минимальную долю возвратов от кредитов на свадьбы, т.к. свадьба не ведет к повышению дохода, либо к получению материальной ценности, такой как автомобиль либо недвижимость и макимальную долю по операциям с недвижимостью. По итогу получаем, что кредиты сделки с автомобилем и получение образования чаще не возвращаются, чем кредиты на недвижимость и свадьбы. Кредиты с недвижимостью ожидаемо имеют наименьшую долю не возврата. В целом получена статистика, объяснить ее можно тем, что получение образования ведет к увеличению дохода только через несколько лет, покупка автомобиля в кредит в некоторых случаях осуществляется если автомобиль не соответствует доходу заемщика, в таких случаях возможен более частый невозврат средств."
   ]
  },
  {
   "cell_type": "markdown",
   "metadata": {},
   "source": [
    "### Шаг 4. Общий вывод"
   ]
  },
  {
   "cell_type": "markdown",
   "metadata": {},
   "source": [
    "В результате сравнивается общая доля непогашенных кредитов и доля для каждой из категорий, также для наглядности показано относительное сравнение категорий со средним для большей наглядности. В целом можно охарактеризовать, что при рассмотре зависимостей от данных категорий нет каких-либо особо крупных выпадений из общей статистики. Макимальное отличие от среднего составляет 20%, к тому же в 3 и 4 случаях категория с наибольшим количеством измерений оказывалась с наименьшей долей невозвратов, что тянуло значения средней доли вниз. Это также показывает, что чаще кредиты дают при тех условиях, когда доля возвратов наименьшая. В случае зависимости от уровня дохода, по-моему мнению она имеет небольшое влияние, т.к. кредит обычно берется, на то, на что у заемщика не хватает личных средств, соответственно чем больше доход, тем больше и размер кредита. В целом вывод в том, что по каждой рассматриваемой категории прослеживается определенное влияние, но оно не оказывается особо крупным."
   ]
  },
  {
   "cell_type": "code",
   "execution_count": null,
   "metadata": {},
   "outputs": [],
   "source": []
  }
 ],
 "metadata": {
  "kernelspec": {
   "display_name": "Python 3",
   "language": "python",
   "name": "python3"
  },
  "language_info": {
   "codemirror_mode": {
    "name": "ipython",
    "version": 3
   },
   "file_extension": ".py",
   "mimetype": "text/x-python",
   "name": "python",
   "nbconvert_exporter": "python",
   "pygments_lexer": "ipython3",
   "version": "3.7.9"
  },
  "toc": {
   "base_numbering": 1,
   "nav_menu": {},
   "number_sections": true,
   "sideBar": true,
   "skip_h1_title": false,
   "title_cell": "Table of Contents",
   "title_sidebar": "Contents",
   "toc_cell": false,
   "toc_position": {},
   "toc_section_display": true,
   "toc_window_display": false
  }
 },
 "nbformat": 4,
 "nbformat_minor": 2
}
